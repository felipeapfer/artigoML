{
 "cells": [
  {
   "cell_type": "code",
   "execution_count": 1,
   "metadata": {
    "collapsed": true
   },
   "outputs": [],
   "source": [
    "import numpy as np\n",
    "import matplotlib.pyplot as plt\n",
    "import pandas as pd\n",
    "import sqlite3\n",
    "import numpy as np\n",
    "from numpy import random\n",
    "database = 'database.sqlite'\n",
    "conn = sqlite3.connect(database)\n"
   ]
  },
  {
   "cell_type": "code",
   "execution_count": 2,
   "metadata": {
    "collapsed": false
   },
   "outputs": [
    {
     "data": {
      "text/html": [
       "<div>\n",
       "<table border=\"1\" class=\"dataframe\">\n",
       "  <thead>\n",
       "    <tr style=\"text-align: right;\">\n",
       "      <th></th>\n",
       "      <th>id</th>\n",
       "      <th>country_id</th>\n",
       "      <th>league_id</th>\n",
       "      <th>season</th>\n",
       "      <th>stage</th>\n",
       "      <th>date</th>\n",
       "      <th>match_api_id</th>\n",
       "      <th>home_team_api_id</th>\n",
       "      <th>away_team_api_id</th>\n",
       "      <th>home_team_goal</th>\n",
       "      <th>...</th>\n",
       "      <th>SJA</th>\n",
       "      <th>VCH</th>\n",
       "      <th>VCD</th>\n",
       "      <th>VCA</th>\n",
       "      <th>GBH</th>\n",
       "      <th>GBD</th>\n",
       "      <th>GBA</th>\n",
       "      <th>BSH</th>\n",
       "      <th>BSD</th>\n",
       "      <th>BSA</th>\n",
       "    </tr>\n",
       "  </thead>\n",
       "  <tbody>\n",
       "    <tr>\n",
       "      <th>0</th>\n",
       "      <td>146</td>\n",
       "      <td>1</td>\n",
       "      <td>1</td>\n",
       "      <td>2008/2009</td>\n",
       "      <td>24</td>\n",
       "      <td>2009-02-27 00:00:00</td>\n",
       "      <td>493017</td>\n",
       "      <td>8203</td>\n",
       "      <td>9987</td>\n",
       "      <td>2</td>\n",
       "      <td>...</td>\n",
       "      <td>2.30</td>\n",
       "      <td>2.65</td>\n",
       "      <td>3.25</td>\n",
       "      <td>2.35</td>\n",
       "      <td>2.90</td>\n",
       "      <td>3.25</td>\n",
       "      <td>2.30</td>\n",
       "      <td>2.80</td>\n",
       "      <td>3.20</td>\n",
       "      <td>2.25</td>\n",
       "    </tr>\n",
       "    <tr>\n",
       "      <th>1</th>\n",
       "      <td>154</td>\n",
       "      <td>1</td>\n",
       "      <td>1</td>\n",
       "      <td>2008/2009</td>\n",
       "      <td>25</td>\n",
       "      <td>2009-03-08 00:00:00</td>\n",
       "      <td>493025</td>\n",
       "      <td>9984</td>\n",
       "      <td>8342</td>\n",
       "      <td>1</td>\n",
       "      <td>...</td>\n",
       "      <td>2.25</td>\n",
       "      <td>2.65</td>\n",
       "      <td>3.20</td>\n",
       "      <td>2.35</td>\n",
       "      <td>2.90</td>\n",
       "      <td>3.20</td>\n",
       "      <td>2.30</td>\n",
       "      <td>2.62</td>\n",
       "      <td>3.20</td>\n",
       "      <td>2.38</td>\n",
       "    </tr>\n",
       "    <tr>\n",
       "      <th>2</th>\n",
       "      <td>156</td>\n",
       "      <td>1</td>\n",
       "      <td>1</td>\n",
       "      <td>2008/2009</td>\n",
       "      <td>25</td>\n",
       "      <td>2009-03-07 00:00:00</td>\n",
       "      <td>493027</td>\n",
       "      <td>8635</td>\n",
       "      <td>10000</td>\n",
       "      <td>2</td>\n",
       "      <td>...</td>\n",
       "      <td>8.50</td>\n",
       "      <td>1.30</td>\n",
       "      <td>4.35</td>\n",
       "      <td>8.00</td>\n",
       "      <td>1.35</td>\n",
       "      <td>4.33</td>\n",
       "      <td>8.50</td>\n",
       "      <td>1.36</td>\n",
       "      <td>4.20</td>\n",
       "      <td>7.00</td>\n",
       "    </tr>\n",
       "    <tr>\n",
       "      <th>3</th>\n",
       "      <td>163</td>\n",
       "      <td>1</td>\n",
       "      <td>1</td>\n",
       "      <td>2008/2009</td>\n",
       "      <td>26</td>\n",
       "      <td>2009-03-13 00:00:00</td>\n",
       "      <td>493034</td>\n",
       "      <td>8203</td>\n",
       "      <td>8635</td>\n",
       "      <td>2</td>\n",
       "      <td>...</td>\n",
       "      <td>1.73</td>\n",
       "      <td>4.35</td>\n",
       "      <td>3.30</td>\n",
       "      <td>1.75</td>\n",
       "      <td>4.50</td>\n",
       "      <td>3.40</td>\n",
       "      <td>1.75</td>\n",
       "      <td>4.20</td>\n",
       "      <td>3.30</td>\n",
       "      <td>1.75</td>\n",
       "    </tr>\n",
       "    <tr>\n",
       "      <th>4</th>\n",
       "      <td>169</td>\n",
       "      <td>1</td>\n",
       "      <td>1</td>\n",
       "      <td>2008/2009</td>\n",
       "      <td>26</td>\n",
       "      <td>2009-03-14 00:00:00</td>\n",
       "      <td>493040</td>\n",
       "      <td>10000</td>\n",
       "      <td>9999</td>\n",
       "      <td>0</td>\n",
       "      <td>...</td>\n",
       "      <td>5.00</td>\n",
       "      <td>1.65</td>\n",
       "      <td>3.50</td>\n",
       "      <td>4.50</td>\n",
       "      <td>1.65</td>\n",
       "      <td>3.50</td>\n",
       "      <td>5.00</td>\n",
       "      <td>1.70</td>\n",
       "      <td>3.40</td>\n",
       "      <td>4.33</td>\n",
       "    </tr>\n",
       "    <tr>\n",
       "      <th>5</th>\n",
       "      <td>174</td>\n",
       "      <td>1</td>\n",
       "      <td>1</td>\n",
       "      <td>2008/2009</td>\n",
       "      <td>27</td>\n",
       "      <td>2009-03-22 00:00:00</td>\n",
       "      <td>493045</td>\n",
       "      <td>9991</td>\n",
       "      <td>10000</td>\n",
       "      <td>1</td>\n",
       "      <td>...</td>\n",
       "      <td>4.75</td>\n",
       "      <td>1.60</td>\n",
       "      <td>3.40</td>\n",
       "      <td>5.00</td>\n",
       "      <td>1.65</td>\n",
       "      <td>3.40</td>\n",
       "      <td>5.00</td>\n",
       "      <td>1.62</td>\n",
       "      <td>3.50</td>\n",
       "      <td>5.00</td>\n",
       "    </tr>\n",
       "    <tr>\n",
       "      <th>6</th>\n",
       "      <td>177</td>\n",
       "      <td>1</td>\n",
       "      <td>1</td>\n",
       "      <td>2008/2009</td>\n",
       "      <td>27</td>\n",
       "      <td>2009-03-21 00:00:00</td>\n",
       "      <td>493048</td>\n",
       "      <td>9999</td>\n",
       "      <td>8203</td>\n",
       "      <td>1</td>\n",
       "      <td>...</td>\n",
       "      <td>2.75</td>\n",
       "      <td>2.25</td>\n",
       "      <td>3.25</td>\n",
       "      <td>2.80</td>\n",
       "      <td>2.10</td>\n",
       "      <td>3.25</td>\n",
       "      <td>3.15</td>\n",
       "      <td>2.25</td>\n",
       "      <td>3.20</td>\n",
       "      <td>2.75</td>\n",
       "    </tr>\n",
       "    <tr>\n",
       "      <th>7</th>\n",
       "      <td>190</td>\n",
       "      <td>1</td>\n",
       "      <td>1</td>\n",
       "      <td>2008/2009</td>\n",
       "      <td>29</td>\n",
       "      <td>2009-04-12 00:00:00</td>\n",
       "      <td>493061</td>\n",
       "      <td>8635</td>\n",
       "      <td>8342</td>\n",
       "      <td>1</td>\n",
       "      <td>...</td>\n",
       "      <td>4.75</td>\n",
       "      <td>1.65</td>\n",
       "      <td>3.40</td>\n",
       "      <td>5.00</td>\n",
       "      <td>1.70</td>\n",
       "      <td>3.40</td>\n",
       "      <td>4.50</td>\n",
       "      <td>1.73</td>\n",
       "      <td>3.40</td>\n",
       "      <td>4.20</td>\n",
       "    </tr>\n",
       "    <tr>\n",
       "      <th>8</th>\n",
       "      <td>191</td>\n",
       "      <td>1</td>\n",
       "      <td>1</td>\n",
       "      <td>2008/2009</td>\n",
       "      <td>29</td>\n",
       "      <td>2009-04-10 00:00:00</td>\n",
       "      <td>493062</td>\n",
       "      <td>9999</td>\n",
       "      <td>9987</td>\n",
       "      <td>1</td>\n",
       "      <td>...</td>\n",
       "      <td>2.15</td>\n",
       "      <td>2.80</td>\n",
       "      <td>3.25</td>\n",
       "      <td>2.25</td>\n",
       "      <td>3.20</td>\n",
       "      <td>3.20</td>\n",
       "      <td>2.10</td>\n",
       "      <td>2.80</td>\n",
       "      <td>3.20</td>\n",
       "      <td>2.25</td>\n",
       "    </tr>\n",
       "    <tr>\n",
       "      <th>9</th>\n",
       "      <td>220</td>\n",
       "      <td>1</td>\n",
       "      <td>1</td>\n",
       "      <td>2008/2009</td>\n",
       "      <td>31</td>\n",
       "      <td>2009-04-26 00:00:00</td>\n",
       "      <td>493082</td>\n",
       "      <td>9999</td>\n",
       "      <td>9991</td>\n",
       "      <td>1</td>\n",
       "      <td>...</td>\n",
       "      <td>2.20</td>\n",
       "      <td>3.20</td>\n",
       "      <td>3.20</td>\n",
       "      <td>2.10</td>\n",
       "      <td>3.00</td>\n",
       "      <td>3.25</td>\n",
       "      <td>2.15</td>\n",
       "      <td>2.88</td>\n",
       "      <td>3.25</td>\n",
       "      <td>2.20</td>\n",
       "    </tr>\n",
       "    <tr>\n",
       "      <th>10</th>\n",
       "      <td>227</td>\n",
       "      <td>1</td>\n",
       "      <td>1</td>\n",
       "      <td>2008/2009</td>\n",
       "      <td>32</td>\n",
       "      <td>2009-05-02 00:00:00</td>\n",
       "      <td>493089</td>\n",
       "      <td>10000</td>\n",
       "      <td>9985</td>\n",
       "      <td>0</td>\n",
       "      <td>...</td>\n",
       "      <td>1.62</td>\n",
       "      <td>5.00</td>\n",
       "      <td>3.50</td>\n",
       "      <td>1.60</td>\n",
       "      <td>5.25</td>\n",
       "      <td>3.50</td>\n",
       "      <td>1.60</td>\n",
       "      <td>5.00</td>\n",
       "      <td>3.60</td>\n",
       "      <td>1.57</td>\n",
       "    </tr>\n",
       "    <tr>\n",
       "      <th>11</th>\n",
       "      <td>230</td>\n",
       "      <td>1</td>\n",
       "      <td>1</td>\n",
       "      <td>2008/2009</td>\n",
       "      <td>32</td>\n",
       "      <td>2009-05-02 00:00:00</td>\n",
       "      <td>493092</td>\n",
       "      <td>9991</td>\n",
       "      <td>9984</td>\n",
       "      <td>2</td>\n",
       "      <td>...</td>\n",
       "      <td>8.50</td>\n",
       "      <td>1.35</td>\n",
       "      <td>4.00</td>\n",
       "      <td>8.50</td>\n",
       "      <td>1.35</td>\n",
       "      <td>4.50</td>\n",
       "      <td>7.00</td>\n",
       "      <td>1.33</td>\n",
       "      <td>4.50</td>\n",
       "      <td>7.50</td>\n",
       "    </tr>\n",
       "    <tr>\n",
       "      <th>12</th>\n",
       "      <td>232</td>\n",
       "      <td>1</td>\n",
       "      <td>1</td>\n",
       "      <td>2008/2009</td>\n",
       "      <td>32</td>\n",
       "      <td>2009-05-02 00:00:00</td>\n",
       "      <td>493094</td>\n",
       "      <td>10001</td>\n",
       "      <td>9999</td>\n",
       "      <td>1</td>\n",
       "      <td>...</td>\n",
       "      <td>5.50</td>\n",
       "      <td>1.55</td>\n",
       "      <td>3.50</td>\n",
       "      <td>5.50</td>\n",
       "      <td>1.57</td>\n",
       "      <td>3.60</td>\n",
       "      <td>5.25</td>\n",
       "      <td>1.57</td>\n",
       "      <td>3.60</td>\n",
       "      <td>5.00</td>\n",
       "    </tr>\n",
       "    <tr>\n",
       "      <th>13</th>\n",
       "      <td>235</td>\n",
       "      <td>1</td>\n",
       "      <td>1</td>\n",
       "      <td>2008/2009</td>\n",
       "      <td>33</td>\n",
       "      <td>2009-05-09 00:00:00</td>\n",
       "      <td>493097</td>\n",
       "      <td>9985</td>\n",
       "      <td>8342</td>\n",
       "      <td>2</td>\n",
       "      <td>...</td>\n",
       "      <td>7.50</td>\n",
       "      <td>1.45</td>\n",
       "      <td>3.80</td>\n",
       "      <td>6.50</td>\n",
       "      <td>1.47</td>\n",
       "      <td>3.75</td>\n",
       "      <td>6.50</td>\n",
       "      <td>1.50</td>\n",
       "      <td>3.75</td>\n",
       "      <td>5.50</td>\n",
       "    </tr>\n",
       "    <tr>\n",
       "      <th>14</th>\n",
       "      <td>241</td>\n",
       "      <td>1</td>\n",
       "      <td>1</td>\n",
       "      <td>2008/2009</td>\n",
       "      <td>33</td>\n",
       "      <td>2009-05-09 00:00:00</td>\n",
       "      <td>493103</td>\n",
       "      <td>8635</td>\n",
       "      <td>9999</td>\n",
       "      <td>3</td>\n",
       "      <td>...</td>\n",
       "      <td>16.00</td>\n",
       "      <td>1.14</td>\n",
       "      <td>6.50</td>\n",
       "      <td>13.00</td>\n",
       "      <td>1.15</td>\n",
       "      <td>6.50</td>\n",
       "      <td>13.00</td>\n",
       "      <td>1.17</td>\n",
       "      <td>6.00</td>\n",
       "      <td>13.00</td>\n",
       "    </tr>\n",
       "    <tr>\n",
       "      <th>15</th>\n",
       "      <td>243</td>\n",
       "      <td>1</td>\n",
       "      <td>1</td>\n",
       "      <td>2008/2009</td>\n",
       "      <td>33</td>\n",
       "      <td>2009-05-09 00:00:00</td>\n",
       "      <td>493105</td>\n",
       "      <td>9984</td>\n",
       "      <td>10001</td>\n",
       "      <td>2</td>\n",
       "      <td>...</td>\n",
       "      <td>2.63</td>\n",
       "      <td>2.60</td>\n",
       "      <td>3.25</td>\n",
       "      <td>2.40</td>\n",
       "      <td>2.50</td>\n",
       "      <td>3.30</td>\n",
       "      <td>2.50</td>\n",
       "      <td>2.50</td>\n",
       "      <td>3.20</td>\n",
       "      <td>2.50</td>\n",
       "    </tr>\n",
       "    <tr>\n",
       "      <th>16</th>\n",
       "      <td>244</td>\n",
       "      <td>1</td>\n",
       "      <td>1</td>\n",
       "      <td>2008/2009</td>\n",
       "      <td>34</td>\n",
       "      <td>2009-05-16 00:00:00</td>\n",
       "      <td>493106</td>\n",
       "      <td>9987</td>\n",
       "      <td>8635</td>\n",
       "      <td>0</td>\n",
       "      <td>...</td>\n",
       "      <td>1.45</td>\n",
       "      <td>6.50</td>\n",
       "      <td>4.00</td>\n",
       "      <td>1.44</td>\n",
       "      <td>6.50</td>\n",
       "      <td>3.75</td>\n",
       "      <td>1.45</td>\n",
       "      <td>7.00</td>\n",
       "      <td>4.00</td>\n",
       "      <td>1.40</td>\n",
       "    </tr>\n",
       "    <tr>\n",
       "      <th>17</th>\n",
       "      <td>245</td>\n",
       "      <td>1</td>\n",
       "      <td>1</td>\n",
       "      <td>2008/2009</td>\n",
       "      <td>34</td>\n",
       "      <td>2009-05-16 00:00:00</td>\n",
       "      <td>493107</td>\n",
       "      <td>9991</td>\n",
       "      <td>9985</td>\n",
       "      <td>0</td>\n",
       "      <td>...</td>\n",
       "      <td>1.70</td>\n",
       "      <td>4.50</td>\n",
       "      <td>3.60</td>\n",
       "      <td>1.65</td>\n",
       "      <td>4.50</td>\n",
       "      <td>3.60</td>\n",
       "      <td>1.65</td>\n",
       "      <td>4.50</td>\n",
       "      <td>3.50</td>\n",
       "      <td>1.67</td>\n",
       "    </tr>\n",
       "    <tr>\n",
       "      <th>18</th>\n",
       "      <td>309</td>\n",
       "      <td>1</td>\n",
       "      <td>1</td>\n",
       "      <td>2009/2010</td>\n",
       "      <td>1</td>\n",
       "      <td>2009-08-02 00:00:00</td>\n",
       "      <td>665321</td>\n",
       "      <td>9984</td>\n",
       "      <td>9991</td>\n",
       "      <td>1</td>\n",
       "      <td>...</td>\n",
       "      <td>2.30</td>\n",
       "      <td>2.62</td>\n",
       "      <td>3.25</td>\n",
       "      <td>2.40</td>\n",
       "      <td>2.70</td>\n",
       "      <td>3.20</td>\n",
       "      <td>2.40</td>\n",
       "      <td>2.88</td>\n",
       "      <td>3.10</td>\n",
       "      <td>2.30</td>\n",
       "    </tr>\n",
       "    <tr>\n",
       "      <th>19</th>\n",
       "      <td>310</td>\n",
       "      <td>1</td>\n",
       "      <td>1</td>\n",
       "      <td>2009/2010</td>\n",
       "      <td>1</td>\n",
       "      <td>2009-08-01 00:00:00</td>\n",
       "      <td>665322</td>\n",
       "      <td>9994</td>\n",
       "      <td>10000</td>\n",
       "      <td>1</td>\n",
       "      <td>...</td>\n",
       "      <td>3.30</td>\n",
       "      <td>2.00</td>\n",
       "      <td>3.25</td>\n",
       "      <td>3.40</td>\n",
       "      <td>2.10</td>\n",
       "      <td>3.30</td>\n",
       "      <td>3.10</td>\n",
       "      <td>2.25</td>\n",
       "      <td>3.20</td>\n",
       "      <td>2.80</td>\n",
       "    </tr>\n",
       "    <tr>\n",
       "      <th>20</th>\n",
       "      <td>311</td>\n",
       "      <td>1</td>\n",
       "      <td>1</td>\n",
       "      <td>2009/2010</td>\n",
       "      <td>1</td>\n",
       "      <td>2009-08-01 00:00:00</td>\n",
       "      <td>665323</td>\n",
       "      <td>8571</td>\n",
       "      <td>8635</td>\n",
       "      <td>0</td>\n",
       "      <td>...</td>\n",
       "      <td>1.57</td>\n",
       "      <td>5.50</td>\n",
       "      <td>3.60</td>\n",
       "      <td>1.57</td>\n",
       "      <td>5.25</td>\n",
       "      <td>3.50</td>\n",
       "      <td>1.60</td>\n",
       "      <td>5.50</td>\n",
       "      <td>3.60</td>\n",
       "      <td>1.53</td>\n",
       "    </tr>\n",
       "    <tr>\n",
       "      <th>21</th>\n",
       "      <td>314</td>\n",
       "      <td>1</td>\n",
       "      <td>1</td>\n",
       "      <td>2009/2010</td>\n",
       "      <td>10</td>\n",
       "      <td>2009-10-04 00:00:00</td>\n",
       "      <td>665411</td>\n",
       "      <td>8342</td>\n",
       "      <td>8635</td>\n",
       "      <td>4</td>\n",
       "      <td>...</td>\n",
       "      <td>2.75</td>\n",
       "      <td>2.40</td>\n",
       "      <td>3.25</td>\n",
       "      <td>2.62</td>\n",
       "      <td>2.45</td>\n",
       "      <td>3.20</td>\n",
       "      <td>2.70</td>\n",
       "      <td>2.38</td>\n",
       "      <td>3.20</td>\n",
       "      <td>2.62</td>\n",
       "    </tr>\n",
       "    <tr>\n",
       "      <th>22</th>\n",
       "      <td>318</td>\n",
       "      <td>1</td>\n",
       "      <td>1</td>\n",
       "      <td>2009/2010</td>\n",
       "      <td>10</td>\n",
       "      <td>2009-10-03 00:00:00</td>\n",
       "      <td>665417</td>\n",
       "      <td>8203</td>\n",
       "      <td>9994</td>\n",
       "      <td>2</td>\n",
       "      <td>...</td>\n",
       "      <td>4.00</td>\n",
       "      <td>1.85</td>\n",
       "      <td>3.30</td>\n",
       "      <td>3.75</td>\n",
       "      <td>1.95</td>\n",
       "      <td>3.25</td>\n",
       "      <td>3.75</td>\n",
       "      <td>1.91</td>\n",
       "      <td>3.25</td>\n",
       "      <td>3.60</td>\n",
       "    </tr>\n",
       "    <tr>\n",
       "      <th>23</th>\n",
       "      <td>320</td>\n",
       "      <td>1</td>\n",
       "      <td>1</td>\n",
       "      <td>2009/2010</td>\n",
       "      <td>10</td>\n",
       "      <td>2009-10-03 00:00:00</td>\n",
       "      <td>665421</td>\n",
       "      <td>9993</td>\n",
       "      <td>10001</td>\n",
       "      <td>3</td>\n",
       "      <td>...</td>\n",
       "      <td>4.50</td>\n",
       "      <td>1.73</td>\n",
       "      <td>3.40</td>\n",
       "      <td>4.33</td>\n",
       "      <td>1.75</td>\n",
       "      <td>3.40</td>\n",
       "      <td>4.50</td>\n",
       "      <td>1.75</td>\n",
       "      <td>3.30</td>\n",
       "      <td>4.20</td>\n",
       "    </tr>\n",
       "    <tr>\n",
       "      <th>24</th>\n",
       "      <td>321</td>\n",
       "      <td>1</td>\n",
       "      <td>1</td>\n",
       "      <td>2009/2010</td>\n",
       "      <td>11</td>\n",
       "      <td>2009-10-18 00:00:00</td>\n",
       "      <td>665425</td>\n",
       "      <td>8342</td>\n",
       "      <td>9991</td>\n",
       "      <td>1</td>\n",
       "      <td>...</td>\n",
       "      <td>4.75</td>\n",
       "      <td>1.70</td>\n",
       "      <td>3.50</td>\n",
       "      <td>4.00</td>\n",
       "      <td>1.60</td>\n",
       "      <td>3.50</td>\n",
       "      <td>5.25</td>\n",
       "      <td>1.67</td>\n",
       "      <td>3.40</td>\n",
       "      <td>4.75</td>\n",
       "    </tr>\n",
       "    <tr>\n",
       "      <th>25</th>\n",
       "      <td>323</td>\n",
       "      <td>1</td>\n",
       "      <td>1</td>\n",
       "      <td>2009/2010</td>\n",
       "      <td>11</td>\n",
       "      <td>2009-10-18 00:00:00</td>\n",
       "      <td>665427</td>\n",
       "      <td>9987</td>\n",
       "      <td>8203</td>\n",
       "      <td>1</td>\n",
       "      <td>...</td>\n",
       "      <td>4.33</td>\n",
       "      <td>1.75</td>\n",
       "      <td>3.40</td>\n",
       "      <td>4.33</td>\n",
       "      <td>1.83</td>\n",
       "      <td>3.30</td>\n",
       "      <td>4.00</td>\n",
       "      <td>1.83</td>\n",
       "      <td>3.30</td>\n",
       "      <td>3.80</td>\n",
       "    </tr>\n",
       "    <tr>\n",
       "      <th>26</th>\n",
       "      <td>324</td>\n",
       "      <td>1</td>\n",
       "      <td>1</td>\n",
       "      <td>2009/2010</td>\n",
       "      <td>11</td>\n",
       "      <td>2009-10-17 00:00:00</td>\n",
       "      <td>665429</td>\n",
       "      <td>10000</td>\n",
       "      <td>9993</td>\n",
       "      <td>4</td>\n",
       "      <td>...</td>\n",
       "      <td>3.60</td>\n",
       "      <td>1.90</td>\n",
       "      <td>3.30</td>\n",
       "      <td>3.60</td>\n",
       "      <td>2.05</td>\n",
       "      <td>3.25</td>\n",
       "      <td>3.30</td>\n",
       "      <td>2.00</td>\n",
       "      <td>3.25</td>\n",
       "      <td>3.30</td>\n",
       "    </tr>\n",
       "    <tr>\n",
       "      <th>27</th>\n",
       "      <td>325</td>\n",
       "      <td>1</td>\n",
       "      <td>1</td>\n",
       "      <td>2009/2010</td>\n",
       "      <td>11</td>\n",
       "      <td>2009-10-17 00:00:00</td>\n",
       "      <td>665430</td>\n",
       "      <td>9994</td>\n",
       "      <td>9984</td>\n",
       "      <td>1</td>\n",
       "      <td>...</td>\n",
       "      <td>3.40</td>\n",
       "      <td>2.00</td>\n",
       "      <td>3.25</td>\n",
       "      <td>3.40</td>\n",
       "      <td>2.10</td>\n",
       "      <td>3.20</td>\n",
       "      <td>3.20</td>\n",
       "      <td>2.05</td>\n",
       "      <td>3.25</td>\n",
       "      <td>3.20</td>\n",
       "    </tr>\n",
       "    <tr>\n",
       "      <th>28</th>\n",
       "      <td>327</td>\n",
       "      <td>1</td>\n",
       "      <td>1</td>\n",
       "      <td>2009/2010</td>\n",
       "      <td>11</td>\n",
       "      <td>2009-10-17 00:00:00</td>\n",
       "      <td>665435</td>\n",
       "      <td>10001</td>\n",
       "      <td>9985</td>\n",
       "      <td>2</td>\n",
       "      <td>...</td>\n",
       "      <td>1.67</td>\n",
       "      <td>5.50</td>\n",
       "      <td>3.40</td>\n",
       "      <td>1.60</td>\n",
       "      <td>5.00</td>\n",
       "      <td>3.40</td>\n",
       "      <td>1.65</td>\n",
       "      <td>4.75</td>\n",
       "      <td>3.40</td>\n",
       "      <td>1.67</td>\n",
       "    </tr>\n",
       "    <tr>\n",
       "      <th>29</th>\n",
       "      <td>328</td>\n",
       "      <td>1</td>\n",
       "      <td>1</td>\n",
       "      <td>2009/2010</td>\n",
       "      <td>12</td>\n",
       "      <td>2009-10-24 00:00:00</td>\n",
       "      <td>665438</td>\n",
       "      <td>9985</td>\n",
       "      <td>10000</td>\n",
       "      <td>1</td>\n",
       "      <td>...</td>\n",
       "      <td>6.50</td>\n",
       "      <td>1.44</td>\n",
       "      <td>3.75</td>\n",
       "      <td>6.50</td>\n",
       "      <td>1.40</td>\n",
       "      <td>4.00</td>\n",
       "      <td>7.50</td>\n",
       "      <td>1.44</td>\n",
       "      <td>3.75</td>\n",
       "      <td>6.50</td>\n",
       "    </tr>\n",
       "    <tr>\n",
       "      <th>...</th>\n",
       "      <td>...</td>\n",
       "      <td>...</td>\n",
       "      <td>...</td>\n",
       "      <td>...</td>\n",
       "      <td>...</td>\n",
       "      <td>...</td>\n",
       "      <td>...</td>\n",
       "      <td>...</td>\n",
       "      <td>...</td>\n",
       "      <td>...</td>\n",
       "      <td>...</td>\n",
       "      <td>...</td>\n",
       "      <td>...</td>\n",
       "      <td>...</td>\n",
       "      <td>...</td>\n",
       "      <td>...</td>\n",
       "      <td>...</td>\n",
       "      <td>...</td>\n",
       "      <td>...</td>\n",
       "      <td>...</td>\n",
       "      <td>...</td>\n",
       "    </tr>\n",
       "    <tr>\n",
       "      <th>19570</th>\n",
       "      <td>24492</td>\n",
       "      <td>21484</td>\n",
       "      <td>21484</td>\n",
       "      <td>2015/2016</td>\n",
       "      <td>6</td>\n",
       "      <td>2015-09-27 00:00:00</td>\n",
       "      <td>2030140</td>\n",
       "      <td>9783</td>\n",
       "      <td>8558</td>\n",
       "      <td>3</td>\n",
       "      <td>...</td>\n",
       "      <td>NaN</td>\n",
       "      <td>2.10</td>\n",
       "      <td>3.40</td>\n",
       "      <td>3.90</td>\n",
       "      <td>NaN</td>\n",
       "      <td>NaN</td>\n",
       "      <td>NaN</td>\n",
       "      <td>NaN</td>\n",
       "      <td>NaN</td>\n",
       "      <td>NaN</td>\n",
       "    </tr>\n",
       "    <tr>\n",
       "      <th>19571</th>\n",
       "      <td>24493</td>\n",
       "      <td>21484</td>\n",
       "      <td>21484</td>\n",
       "      <td>2015/2016</td>\n",
       "      <td>6</td>\n",
       "      <td>2015-09-27 00:00:00</td>\n",
       "      <td>2030141</td>\n",
       "      <td>9869</td>\n",
       "      <td>8603</td>\n",
       "      <td>1</td>\n",
       "      <td>...</td>\n",
       "      <td>NaN</td>\n",
       "      <td>2.30</td>\n",
       "      <td>3.30</td>\n",
       "      <td>3.40</td>\n",
       "      <td>NaN</td>\n",
       "      <td>NaN</td>\n",
       "      <td>NaN</td>\n",
       "      <td>NaN</td>\n",
       "      <td>NaN</td>\n",
       "      <td>NaN</td>\n",
       "    </tr>\n",
       "    <tr>\n",
       "      <th>19572</th>\n",
       "      <td>24494</td>\n",
       "      <td>21484</td>\n",
       "      <td>21484</td>\n",
       "      <td>2015/2016</td>\n",
       "      <td>7</td>\n",
       "      <td>2015-10-03 00:00:00</td>\n",
       "      <td>2030142</td>\n",
       "      <td>8302</td>\n",
       "      <td>8634</td>\n",
       "      <td>2</td>\n",
       "      <td>...</td>\n",
       "      <td>NaN</td>\n",
       "      <td>4.10</td>\n",
       "      <td>3.90</td>\n",
       "      <td>1.91</td>\n",
       "      <td>NaN</td>\n",
       "      <td>NaN</td>\n",
       "      <td>NaN</td>\n",
       "      <td>NaN</td>\n",
       "      <td>NaN</td>\n",
       "      <td>NaN</td>\n",
       "    </tr>\n",
       "    <tr>\n",
       "      <th>19573</th>\n",
       "      <td>24496</td>\n",
       "      <td>21484</td>\n",
       "      <td>21484</td>\n",
       "      <td>2015/2016</td>\n",
       "      <td>7</td>\n",
       "      <td>2015-10-02 00:00:00</td>\n",
       "      <td>2030144</td>\n",
       "      <td>9910</td>\n",
       "      <td>8305</td>\n",
       "      <td>0</td>\n",
       "      <td>...</td>\n",
       "      <td>NaN</td>\n",
       "      <td>1.50</td>\n",
       "      <td>4.50</td>\n",
       "      <td>7.50</td>\n",
       "      <td>NaN</td>\n",
       "      <td>NaN</td>\n",
       "      <td>NaN</td>\n",
       "      <td>NaN</td>\n",
       "      <td>NaN</td>\n",
       "      <td>NaN</td>\n",
       "    </tr>\n",
       "    <tr>\n",
       "      <th>19574</th>\n",
       "      <td>24497</td>\n",
       "      <td>21484</td>\n",
       "      <td>21484</td>\n",
       "      <td>2015/2016</td>\n",
       "      <td>7</td>\n",
       "      <td>2015-10-04 00:00:00</td>\n",
       "      <td>2030145</td>\n",
       "      <td>8581</td>\n",
       "      <td>10205</td>\n",
       "      <td>1</td>\n",
       "      <td>...</td>\n",
       "      <td>NaN</td>\n",
       "      <td>4.40</td>\n",
       "      <td>3.60</td>\n",
       "      <td>1.93</td>\n",
       "      <td>NaN</td>\n",
       "      <td>NaN</td>\n",
       "      <td>NaN</td>\n",
       "      <td>NaN</td>\n",
       "      <td>NaN</td>\n",
       "      <td>NaN</td>\n",
       "    </tr>\n",
       "    <tr>\n",
       "      <th>19575</th>\n",
       "      <td>24498</td>\n",
       "      <td>21484</td>\n",
       "      <td>21484</td>\n",
       "      <td>2015/2016</td>\n",
       "      <td>7</td>\n",
       "      <td>2015-10-04 00:00:00</td>\n",
       "      <td>2030146</td>\n",
       "      <td>9906</td>\n",
       "      <td>8633</td>\n",
       "      <td>1</td>\n",
       "      <td>...</td>\n",
       "      <td>NaN</td>\n",
       "      <td>3.13</td>\n",
       "      <td>3.40</td>\n",
       "      <td>2.45</td>\n",
       "      <td>NaN</td>\n",
       "      <td>NaN</td>\n",
       "      <td>NaN</td>\n",
       "      <td>NaN</td>\n",
       "      <td>NaN</td>\n",
       "      <td>NaN</td>\n",
       "    </tr>\n",
       "    <tr>\n",
       "      <th>19576</th>\n",
       "      <td>24499</td>\n",
       "      <td>21484</td>\n",
       "      <td>21484</td>\n",
       "      <td>2015/2016</td>\n",
       "      <td>7</td>\n",
       "      <td>2015-10-03 00:00:00</td>\n",
       "      <td>2030147</td>\n",
       "      <td>9864</td>\n",
       "      <td>8560</td>\n",
       "      <td>3</td>\n",
       "      <td>...</td>\n",
       "      <td>NaN</td>\n",
       "      <td>2.40</td>\n",
       "      <td>3.25</td>\n",
       "      <td>3.30</td>\n",
       "      <td>NaN</td>\n",
       "      <td>NaN</td>\n",
       "      <td>NaN</td>\n",
       "      <td>NaN</td>\n",
       "      <td>NaN</td>\n",
       "      <td>NaN</td>\n",
       "    </tr>\n",
       "    <tr>\n",
       "      <th>19577</th>\n",
       "      <td>24500</td>\n",
       "      <td>21484</td>\n",
       "      <td>21484</td>\n",
       "      <td>2015/2016</td>\n",
       "      <td>7</td>\n",
       "      <td>2015-10-04 00:00:00</td>\n",
       "      <td>2030148</td>\n",
       "      <td>8315</td>\n",
       "      <td>10267</td>\n",
       "      <td>3</td>\n",
       "      <td>...</td>\n",
       "      <td>NaN</td>\n",
       "      <td>2.38</td>\n",
       "      <td>3.40</td>\n",
       "      <td>3.25</td>\n",
       "      <td>NaN</td>\n",
       "      <td>NaN</td>\n",
       "      <td>NaN</td>\n",
       "      <td>NaN</td>\n",
       "      <td>NaN</td>\n",
       "      <td>NaN</td>\n",
       "    </tr>\n",
       "    <tr>\n",
       "      <th>19578</th>\n",
       "      <td>24501</td>\n",
       "      <td>21484</td>\n",
       "      <td>21484</td>\n",
       "      <td>2015/2016</td>\n",
       "      <td>7</td>\n",
       "      <td>2015-10-03 00:00:00</td>\n",
       "      <td>2030149</td>\n",
       "      <td>7878</td>\n",
       "      <td>9783</td>\n",
       "      <td>1</td>\n",
       "      <td>...</td>\n",
       "      <td>NaN</td>\n",
       "      <td>2.63</td>\n",
       "      <td>3.25</td>\n",
       "      <td>3.00</td>\n",
       "      <td>NaN</td>\n",
       "      <td>NaN</td>\n",
       "      <td>NaN</td>\n",
       "      <td>NaN</td>\n",
       "      <td>NaN</td>\n",
       "      <td>NaN</td>\n",
       "    </tr>\n",
       "    <tr>\n",
       "      <th>19579</th>\n",
       "      <td>24502</td>\n",
       "      <td>21484</td>\n",
       "      <td>21484</td>\n",
       "      <td>2015/2016</td>\n",
       "      <td>7</td>\n",
       "      <td>2015-10-03 00:00:00</td>\n",
       "      <td>2030150</td>\n",
       "      <td>8558</td>\n",
       "      <td>9869</td>\n",
       "      <td>1</td>\n",
       "      <td>...</td>\n",
       "      <td>NaN</td>\n",
       "      <td>2.00</td>\n",
       "      <td>3.40</td>\n",
       "      <td>4.30</td>\n",
       "      <td>NaN</td>\n",
       "      <td>NaN</td>\n",
       "      <td>NaN</td>\n",
       "      <td>NaN</td>\n",
       "      <td>NaN</td>\n",
       "      <td>NaN</td>\n",
       "    </tr>\n",
       "    <tr>\n",
       "      <th>19580</th>\n",
       "      <td>24503</td>\n",
       "      <td>21484</td>\n",
       "      <td>21484</td>\n",
       "      <td>2015/2016</td>\n",
       "      <td>7</td>\n",
       "      <td>2015-10-04 00:00:00</td>\n",
       "      <td>2030151</td>\n",
       "      <td>8370</td>\n",
       "      <td>8603</td>\n",
       "      <td>0</td>\n",
       "      <td>...</td>\n",
       "      <td>NaN</td>\n",
       "      <td>2.20</td>\n",
       "      <td>3.80</td>\n",
       "      <td>3.30</td>\n",
       "      <td>NaN</td>\n",
       "      <td>NaN</td>\n",
       "      <td>NaN</td>\n",
       "      <td>NaN</td>\n",
       "      <td>NaN</td>\n",
       "      <td>NaN</td>\n",
       "    </tr>\n",
       "    <tr>\n",
       "      <th>19581</th>\n",
       "      <td>24504</td>\n",
       "      <td>21484</td>\n",
       "      <td>21484</td>\n",
       "      <td>2015/2016</td>\n",
       "      <td>8</td>\n",
       "      <td>2015-10-17 00:00:00</td>\n",
       "      <td>2030152</td>\n",
       "      <td>8634</td>\n",
       "      <td>8370</td>\n",
       "      <td>5</td>\n",
       "      <td>...</td>\n",
       "      <td>NaN</td>\n",
       "      <td>1.15</td>\n",
       "      <td>9.50</td>\n",
       "      <td>19.00</td>\n",
       "      <td>NaN</td>\n",
       "      <td>NaN</td>\n",
       "      <td>NaN</td>\n",
       "      <td>NaN</td>\n",
       "      <td>NaN</td>\n",
       "      <td>NaN</td>\n",
       "    </tr>\n",
       "    <tr>\n",
       "      <th>19582</th>\n",
       "      <td>24505</td>\n",
       "      <td>21484</td>\n",
       "      <td>21484</td>\n",
       "      <td>2015/2016</td>\n",
       "      <td>8</td>\n",
       "      <td>2015-10-17 00:00:00</td>\n",
       "      <td>2030153</td>\n",
       "      <td>8372</td>\n",
       "      <td>8302</td>\n",
       "      <td>1</td>\n",
       "      <td>...</td>\n",
       "      <td>NaN</td>\n",
       "      <td>3.60</td>\n",
       "      <td>3.50</td>\n",
       "      <td>2.20</td>\n",
       "      <td>NaN</td>\n",
       "      <td>NaN</td>\n",
       "      <td>NaN</td>\n",
       "      <td>NaN</td>\n",
       "      <td>NaN</td>\n",
       "      <td>NaN</td>\n",
       "    </tr>\n",
       "    <tr>\n",
       "      <th>19583</th>\n",
       "      <td>24507</td>\n",
       "      <td>21484</td>\n",
       "      <td>21484</td>\n",
       "      <td>2015/2016</td>\n",
       "      <td>8</td>\n",
       "      <td>2015-10-18 00:00:00</td>\n",
       "      <td>2030155</td>\n",
       "      <td>10205</td>\n",
       "      <td>9910</td>\n",
       "      <td>1</td>\n",
       "      <td>...</td>\n",
       "      <td>NaN</td>\n",
       "      <td>2.05</td>\n",
       "      <td>3.70</td>\n",
       "      <td>3.75</td>\n",
       "      <td>NaN</td>\n",
       "      <td>NaN</td>\n",
       "      <td>NaN</td>\n",
       "      <td>NaN</td>\n",
       "      <td>NaN</td>\n",
       "      <td>NaN</td>\n",
       "    </tr>\n",
       "    <tr>\n",
       "      <th>19584</th>\n",
       "      <td>24508</td>\n",
       "      <td>21484</td>\n",
       "      <td>21484</td>\n",
       "      <td>2015/2016</td>\n",
       "      <td>8</td>\n",
       "      <td>2015-10-17 00:00:00</td>\n",
       "      <td>2030156</td>\n",
       "      <td>8633</td>\n",
       "      <td>8581</td>\n",
       "      <td>3</td>\n",
       "      <td>...</td>\n",
       "      <td>NaN</td>\n",
       "      <td>1.08</td>\n",
       "      <td>13.00</td>\n",
       "      <td>34.00</td>\n",
       "      <td>NaN</td>\n",
       "      <td>NaN</td>\n",
       "      <td>NaN</td>\n",
       "      <td>NaN</td>\n",
       "      <td>NaN</td>\n",
       "      <td>NaN</td>\n",
       "    </tr>\n",
       "    <tr>\n",
       "      <th>19585</th>\n",
       "      <td>24509</td>\n",
       "      <td>21484</td>\n",
       "      <td>21484</td>\n",
       "      <td>2015/2016</td>\n",
       "      <td>8</td>\n",
       "      <td>2015-10-18 00:00:00</td>\n",
       "      <td>2030157</td>\n",
       "      <td>8560</td>\n",
       "      <td>9906</td>\n",
       "      <td>0</td>\n",
       "      <td>...</td>\n",
       "      <td>NaN</td>\n",
       "      <td>4.30</td>\n",
       "      <td>3.30</td>\n",
       "      <td>2.05</td>\n",
       "      <td>NaN</td>\n",
       "      <td>NaN</td>\n",
       "      <td>NaN</td>\n",
       "      <td>NaN</td>\n",
       "      <td>NaN</td>\n",
       "      <td>NaN</td>\n",
       "    </tr>\n",
       "    <tr>\n",
       "      <th>19586</th>\n",
       "      <td>24510</td>\n",
       "      <td>21484</td>\n",
       "      <td>21484</td>\n",
       "      <td>2015/2016</td>\n",
       "      <td>8</td>\n",
       "      <td>2015-10-17 00:00:00</td>\n",
       "      <td>2030158</td>\n",
       "      <td>10267</td>\n",
       "      <td>9864</td>\n",
       "      <td>3</td>\n",
       "      <td>...</td>\n",
       "      <td>NaN</td>\n",
       "      <td>1.62</td>\n",
       "      <td>4.10</td>\n",
       "      <td>6.25</td>\n",
       "      <td>NaN</td>\n",
       "      <td>NaN</td>\n",
       "      <td>NaN</td>\n",
       "      <td>NaN</td>\n",
       "      <td>NaN</td>\n",
       "      <td>NaN</td>\n",
       "    </tr>\n",
       "    <tr>\n",
       "      <th>19587</th>\n",
       "      <td>24511</td>\n",
       "      <td>21484</td>\n",
       "      <td>21484</td>\n",
       "      <td>2015/2016</td>\n",
       "      <td>8</td>\n",
       "      <td>2015-10-18 00:00:00</td>\n",
       "      <td>2030159</td>\n",
       "      <td>9783</td>\n",
       "      <td>8315</td>\n",
       "      <td>2</td>\n",
       "      <td>...</td>\n",
       "      <td>NaN</td>\n",
       "      <td>2.70</td>\n",
       "      <td>3.25</td>\n",
       "      <td>2.88</td>\n",
       "      <td>NaN</td>\n",
       "      <td>NaN</td>\n",
       "      <td>NaN</td>\n",
       "      <td>NaN</td>\n",
       "      <td>NaN</td>\n",
       "      <td>NaN</td>\n",
       "    </tr>\n",
       "    <tr>\n",
       "      <th>19588</th>\n",
       "      <td>24512</td>\n",
       "      <td>21484</td>\n",
       "      <td>21484</td>\n",
       "      <td>2015/2016</td>\n",
       "      <td>8</td>\n",
       "      <td>2015-10-19 00:00:00</td>\n",
       "      <td>2030160</td>\n",
       "      <td>9869</td>\n",
       "      <td>7878</td>\n",
       "      <td>3</td>\n",
       "      <td>...</td>\n",
       "      <td>NaN</td>\n",
       "      <td>2.00</td>\n",
       "      <td>3.40</td>\n",
       "      <td>4.33</td>\n",
       "      <td>NaN</td>\n",
       "      <td>NaN</td>\n",
       "      <td>NaN</td>\n",
       "      <td>NaN</td>\n",
       "      <td>NaN</td>\n",
       "      <td>NaN</td>\n",
       "    </tr>\n",
       "    <tr>\n",
       "      <th>19589</th>\n",
       "      <td>24513</td>\n",
       "      <td>21484</td>\n",
       "      <td>21484</td>\n",
       "      <td>2015/2016</td>\n",
       "      <td>8</td>\n",
       "      <td>2015-10-17 00:00:00</td>\n",
       "      <td>2030161</td>\n",
       "      <td>8603</td>\n",
       "      <td>8558</td>\n",
       "      <td>1</td>\n",
       "      <td>...</td>\n",
       "      <td>NaN</td>\n",
       "      <td>2.05</td>\n",
       "      <td>3.50</td>\n",
       "      <td>4.00</td>\n",
       "      <td>NaN</td>\n",
       "      <td>NaN</td>\n",
       "      <td>NaN</td>\n",
       "      <td>NaN</td>\n",
       "      <td>NaN</td>\n",
       "      <td>NaN</td>\n",
       "    </tr>\n",
       "    <tr>\n",
       "      <th>19590</th>\n",
       "      <td>24514</td>\n",
       "      <td>21484</td>\n",
       "      <td>21484</td>\n",
       "      <td>2015/2016</td>\n",
       "      <td>9</td>\n",
       "      <td>2015-10-25 00:00:00</td>\n",
       "      <td>2030162</td>\n",
       "      <td>8634</td>\n",
       "      <td>8372</td>\n",
       "      <td>3</td>\n",
       "      <td>...</td>\n",
       "      <td>NaN</td>\n",
       "      <td>1.11</td>\n",
       "      <td>11.00</td>\n",
       "      <td>31.00</td>\n",
       "      <td>NaN</td>\n",
       "      <td>NaN</td>\n",
       "      <td>NaN</td>\n",
       "      <td>NaN</td>\n",
       "      <td>NaN</td>\n",
       "      <td>NaN</td>\n",
       "    </tr>\n",
       "    <tr>\n",
       "      <th>19591</th>\n",
       "      <td>24515</td>\n",
       "      <td>21484</td>\n",
       "      <td>21484</td>\n",
       "      <td>2015/2016</td>\n",
       "      <td>9</td>\n",
       "      <td>2015-10-24 00:00:00</td>\n",
       "      <td>2030163</td>\n",
       "      <td>8302</td>\n",
       "      <td>8305</td>\n",
       "      <td>5</td>\n",
       "      <td>...</td>\n",
       "      <td>NaN</td>\n",
       "      <td>1.50</td>\n",
       "      <td>4.60</td>\n",
       "      <td>7.50</td>\n",
       "      <td>NaN</td>\n",
       "      <td>NaN</td>\n",
       "      <td>NaN</td>\n",
       "      <td>NaN</td>\n",
       "      <td>NaN</td>\n",
       "      <td>NaN</td>\n",
       "    </tr>\n",
       "    <tr>\n",
       "      <th>19592</th>\n",
       "      <td>24516</td>\n",
       "      <td>21484</td>\n",
       "      <td>21484</td>\n",
       "      <td>2015/2016</td>\n",
       "      <td>9</td>\n",
       "      <td>2015-10-25 00:00:00</td>\n",
       "      <td>2030164</td>\n",
       "      <td>8306</td>\n",
       "      <td>10205</td>\n",
       "      <td>0</td>\n",
       "      <td>...</td>\n",
       "      <td>NaN</td>\n",
       "      <td>3.60</td>\n",
       "      <td>3.40</td>\n",
       "      <td>2.20</td>\n",
       "      <td>NaN</td>\n",
       "      <td>NaN</td>\n",
       "      <td>NaN</td>\n",
       "      <td>NaN</td>\n",
       "      <td>NaN</td>\n",
       "      <td>NaN</td>\n",
       "    </tr>\n",
       "    <tr>\n",
       "      <th>19593</th>\n",
       "      <td>24517</td>\n",
       "      <td>21484</td>\n",
       "      <td>21484</td>\n",
       "      <td>2015/2016</td>\n",
       "      <td>9</td>\n",
       "      <td>2015-10-24 00:00:00</td>\n",
       "      <td>2030165</td>\n",
       "      <td>9910</td>\n",
       "      <td>8633</td>\n",
       "      <td>1</td>\n",
       "      <td>...</td>\n",
       "      <td>NaN</td>\n",
       "      <td>3.90</td>\n",
       "      <td>4.00</td>\n",
       "      <td>1.93</td>\n",
       "      <td>NaN</td>\n",
       "      <td>NaN</td>\n",
       "      <td>NaN</td>\n",
       "      <td>NaN</td>\n",
       "      <td>NaN</td>\n",
       "      <td>NaN</td>\n",
       "    </tr>\n",
       "    <tr>\n",
       "      <th>19594</th>\n",
       "      <td>24518</td>\n",
       "      <td>21484</td>\n",
       "      <td>21484</td>\n",
       "      <td>2015/2016</td>\n",
       "      <td>9</td>\n",
       "      <td>2015-10-25 00:00:00</td>\n",
       "      <td>2030166</td>\n",
       "      <td>8581</td>\n",
       "      <td>8560</td>\n",
       "      <td>0</td>\n",
       "      <td>...</td>\n",
       "      <td>NaN</td>\n",
       "      <td>2.75</td>\n",
       "      <td>3.13</td>\n",
       "      <td>2.90</td>\n",
       "      <td>NaN</td>\n",
       "      <td>NaN</td>\n",
       "      <td>NaN</td>\n",
       "      <td>NaN</td>\n",
       "      <td>NaN</td>\n",
       "      <td>NaN</td>\n",
       "    </tr>\n",
       "    <tr>\n",
       "      <th>19595</th>\n",
       "      <td>24519</td>\n",
       "      <td>21484</td>\n",
       "      <td>21484</td>\n",
       "      <td>2015/2016</td>\n",
       "      <td>9</td>\n",
       "      <td>2015-10-25 00:00:00</td>\n",
       "      <td>2030167</td>\n",
       "      <td>9906</td>\n",
       "      <td>10267</td>\n",
       "      <td>2</td>\n",
       "      <td>...</td>\n",
       "      <td>NaN</td>\n",
       "      <td>1.57</td>\n",
       "      <td>4.00</td>\n",
       "      <td>7.00</td>\n",
       "      <td>NaN</td>\n",
       "      <td>NaN</td>\n",
       "      <td>NaN</td>\n",
       "      <td>NaN</td>\n",
       "      <td>NaN</td>\n",
       "      <td>NaN</td>\n",
       "    </tr>\n",
       "    <tr>\n",
       "      <th>19596</th>\n",
       "      <td>24520</td>\n",
       "      <td>21484</td>\n",
       "      <td>21484</td>\n",
       "      <td>2015/2016</td>\n",
       "      <td>9</td>\n",
       "      <td>2015-10-24 00:00:00</td>\n",
       "      <td>2030168</td>\n",
       "      <td>9864</td>\n",
       "      <td>9783</td>\n",
       "      <td>2</td>\n",
       "      <td>...</td>\n",
       "      <td>NaN</td>\n",
       "      <td>2.30</td>\n",
       "      <td>3.40</td>\n",
       "      <td>3.40</td>\n",
       "      <td>NaN</td>\n",
       "      <td>NaN</td>\n",
       "      <td>NaN</td>\n",
       "      <td>NaN</td>\n",
       "      <td>NaN</td>\n",
       "      <td>NaN</td>\n",
       "    </tr>\n",
       "    <tr>\n",
       "      <th>19597</th>\n",
       "      <td>24521</td>\n",
       "      <td>21484</td>\n",
       "      <td>21484</td>\n",
       "      <td>2015/2016</td>\n",
       "      <td>9</td>\n",
       "      <td>2015-10-26 00:00:00</td>\n",
       "      <td>2030169</td>\n",
       "      <td>8315</td>\n",
       "      <td>9869</td>\n",
       "      <td>3</td>\n",
       "      <td>...</td>\n",
       "      <td>NaN</td>\n",
       "      <td>1.55</td>\n",
       "      <td>4.20</td>\n",
       "      <td>7.00</td>\n",
       "      <td>NaN</td>\n",
       "      <td>NaN</td>\n",
       "      <td>NaN</td>\n",
       "      <td>NaN</td>\n",
       "      <td>NaN</td>\n",
       "      <td>NaN</td>\n",
       "    </tr>\n",
       "    <tr>\n",
       "      <th>19598</th>\n",
       "      <td>24522</td>\n",
       "      <td>21484</td>\n",
       "      <td>21484</td>\n",
       "      <td>2015/2016</td>\n",
       "      <td>9</td>\n",
       "      <td>2015-10-24 00:00:00</td>\n",
       "      <td>2030170</td>\n",
       "      <td>7878</td>\n",
       "      <td>8603</td>\n",
       "      <td>1</td>\n",
       "      <td>...</td>\n",
       "      <td>NaN</td>\n",
       "      <td>2.30</td>\n",
       "      <td>3.40</td>\n",
       "      <td>3.30</td>\n",
       "      <td>NaN</td>\n",
       "      <td>NaN</td>\n",
       "      <td>NaN</td>\n",
       "      <td>NaN</td>\n",
       "      <td>NaN</td>\n",
       "      <td>NaN</td>\n",
       "    </tr>\n",
       "    <tr>\n",
       "      <th>19599</th>\n",
       "      <td>24523</td>\n",
       "      <td>21484</td>\n",
       "      <td>21484</td>\n",
       "      <td>2015/2016</td>\n",
       "      <td>9</td>\n",
       "      <td>2015-10-23 00:00:00</td>\n",
       "      <td>2030171</td>\n",
       "      <td>8370</td>\n",
       "      <td>8558</td>\n",
       "      <td>3</td>\n",
       "      <td>...</td>\n",
       "      <td>NaN</td>\n",
       "      <td>2.20</td>\n",
       "      <td>3.60</td>\n",
       "      <td>3.50</td>\n",
       "      <td>NaN</td>\n",
       "      <td>NaN</td>\n",
       "      <td>NaN</td>\n",
       "      <td>NaN</td>\n",
       "      <td>NaN</td>\n",
       "      <td>NaN</td>\n",
       "    </tr>\n",
       "  </tbody>\n",
       "</table>\n",
       "<p>19600 rows × 115 columns</p>\n",
       "</div>"
      ],
      "text/plain": [
       "          id  country_id  league_id     season  stage                 date  \\\n",
       "0        146           1          1  2008/2009     24  2009-02-27 00:00:00   \n",
       "1        154           1          1  2008/2009     25  2009-03-08 00:00:00   \n",
       "2        156           1          1  2008/2009     25  2009-03-07 00:00:00   \n",
       "3        163           1          1  2008/2009     26  2009-03-13 00:00:00   \n",
       "4        169           1          1  2008/2009     26  2009-03-14 00:00:00   \n",
       "5        174           1          1  2008/2009     27  2009-03-22 00:00:00   \n",
       "6        177           1          1  2008/2009     27  2009-03-21 00:00:00   \n",
       "7        190           1          1  2008/2009     29  2009-04-12 00:00:00   \n",
       "8        191           1          1  2008/2009     29  2009-04-10 00:00:00   \n",
       "9        220           1          1  2008/2009     31  2009-04-26 00:00:00   \n",
       "10       227           1          1  2008/2009     32  2009-05-02 00:00:00   \n",
       "11       230           1          1  2008/2009     32  2009-05-02 00:00:00   \n",
       "12       232           1          1  2008/2009     32  2009-05-02 00:00:00   \n",
       "13       235           1          1  2008/2009     33  2009-05-09 00:00:00   \n",
       "14       241           1          1  2008/2009     33  2009-05-09 00:00:00   \n",
       "15       243           1          1  2008/2009     33  2009-05-09 00:00:00   \n",
       "16       244           1          1  2008/2009     34  2009-05-16 00:00:00   \n",
       "17       245           1          1  2008/2009     34  2009-05-16 00:00:00   \n",
       "18       309           1          1  2009/2010      1  2009-08-02 00:00:00   \n",
       "19       310           1          1  2009/2010      1  2009-08-01 00:00:00   \n",
       "20       311           1          1  2009/2010      1  2009-08-01 00:00:00   \n",
       "21       314           1          1  2009/2010     10  2009-10-04 00:00:00   \n",
       "22       318           1          1  2009/2010     10  2009-10-03 00:00:00   \n",
       "23       320           1          1  2009/2010     10  2009-10-03 00:00:00   \n",
       "24       321           1          1  2009/2010     11  2009-10-18 00:00:00   \n",
       "25       323           1          1  2009/2010     11  2009-10-18 00:00:00   \n",
       "26       324           1          1  2009/2010     11  2009-10-17 00:00:00   \n",
       "27       325           1          1  2009/2010     11  2009-10-17 00:00:00   \n",
       "28       327           1          1  2009/2010     11  2009-10-17 00:00:00   \n",
       "29       328           1          1  2009/2010     12  2009-10-24 00:00:00   \n",
       "...      ...         ...        ...        ...    ...                  ...   \n",
       "19570  24492       21484      21484  2015/2016      6  2015-09-27 00:00:00   \n",
       "19571  24493       21484      21484  2015/2016      6  2015-09-27 00:00:00   \n",
       "19572  24494       21484      21484  2015/2016      7  2015-10-03 00:00:00   \n",
       "19573  24496       21484      21484  2015/2016      7  2015-10-02 00:00:00   \n",
       "19574  24497       21484      21484  2015/2016      7  2015-10-04 00:00:00   \n",
       "19575  24498       21484      21484  2015/2016      7  2015-10-04 00:00:00   \n",
       "19576  24499       21484      21484  2015/2016      7  2015-10-03 00:00:00   \n",
       "19577  24500       21484      21484  2015/2016      7  2015-10-04 00:00:00   \n",
       "19578  24501       21484      21484  2015/2016      7  2015-10-03 00:00:00   \n",
       "19579  24502       21484      21484  2015/2016      7  2015-10-03 00:00:00   \n",
       "19580  24503       21484      21484  2015/2016      7  2015-10-04 00:00:00   \n",
       "19581  24504       21484      21484  2015/2016      8  2015-10-17 00:00:00   \n",
       "19582  24505       21484      21484  2015/2016      8  2015-10-17 00:00:00   \n",
       "19583  24507       21484      21484  2015/2016      8  2015-10-18 00:00:00   \n",
       "19584  24508       21484      21484  2015/2016      8  2015-10-17 00:00:00   \n",
       "19585  24509       21484      21484  2015/2016      8  2015-10-18 00:00:00   \n",
       "19586  24510       21484      21484  2015/2016      8  2015-10-17 00:00:00   \n",
       "19587  24511       21484      21484  2015/2016      8  2015-10-18 00:00:00   \n",
       "19588  24512       21484      21484  2015/2016      8  2015-10-19 00:00:00   \n",
       "19589  24513       21484      21484  2015/2016      8  2015-10-17 00:00:00   \n",
       "19590  24514       21484      21484  2015/2016      9  2015-10-25 00:00:00   \n",
       "19591  24515       21484      21484  2015/2016      9  2015-10-24 00:00:00   \n",
       "19592  24516       21484      21484  2015/2016      9  2015-10-25 00:00:00   \n",
       "19593  24517       21484      21484  2015/2016      9  2015-10-24 00:00:00   \n",
       "19594  24518       21484      21484  2015/2016      9  2015-10-25 00:00:00   \n",
       "19595  24519       21484      21484  2015/2016      9  2015-10-25 00:00:00   \n",
       "19596  24520       21484      21484  2015/2016      9  2015-10-24 00:00:00   \n",
       "19597  24521       21484      21484  2015/2016      9  2015-10-26 00:00:00   \n",
       "19598  24522       21484      21484  2015/2016      9  2015-10-24 00:00:00   \n",
       "19599  24523       21484      21484  2015/2016      9  2015-10-23 00:00:00   \n",
       "\n",
       "       match_api_id  home_team_api_id  away_team_api_id  home_team_goal  \\\n",
       "0            493017              8203              9987               2   \n",
       "1            493025              9984              8342               1   \n",
       "2            493027              8635             10000               2   \n",
       "3            493034              8203              8635               2   \n",
       "4            493040             10000              9999               0   \n",
       "5            493045              9991             10000               1   \n",
       "6            493048              9999              8203               1   \n",
       "7            493061              8635              8342               1   \n",
       "8            493062              9999              9987               1   \n",
       "9            493082              9999              9991               1   \n",
       "10           493089             10000              9985               0   \n",
       "11           493092              9991              9984               2   \n",
       "12           493094             10001              9999               1   \n",
       "13           493097              9985              8342               2   \n",
       "14           493103              8635              9999               3   \n",
       "15           493105              9984             10001               2   \n",
       "16           493106              9987              8635               0   \n",
       "17           493107              9991              9985               0   \n",
       "18           665321              9984              9991               1   \n",
       "19           665322              9994             10000               1   \n",
       "20           665323              8571              8635               0   \n",
       "21           665411              8342              8635               4   \n",
       "22           665417              8203              9994               2   \n",
       "23           665421              9993             10001               3   \n",
       "24           665425              8342              9991               1   \n",
       "25           665427              9987              8203               1   \n",
       "26           665429             10000              9993               4   \n",
       "27           665430              9994              9984               1   \n",
       "28           665435             10001              9985               2   \n",
       "29           665438              9985             10000               1   \n",
       "...             ...               ...               ...             ...   \n",
       "19570       2030140              9783              8558               3   \n",
       "19571       2030141              9869              8603               1   \n",
       "19572       2030142              8302              8634               2   \n",
       "19573       2030144              9910              8305               0   \n",
       "19574       2030145              8581             10205               1   \n",
       "19575       2030146              9906              8633               1   \n",
       "19576       2030147              9864              8560               3   \n",
       "19577       2030148              8315             10267               3   \n",
       "19578       2030149              7878              9783               1   \n",
       "19579       2030150              8558              9869               1   \n",
       "19580       2030151              8370              8603               0   \n",
       "19581       2030152              8634              8370               5   \n",
       "19582       2030153              8372              8302               1   \n",
       "19583       2030155             10205              9910               1   \n",
       "19584       2030156              8633              8581               3   \n",
       "19585       2030157              8560              9906               0   \n",
       "19586       2030158             10267              9864               3   \n",
       "19587       2030159              9783              8315               2   \n",
       "19588       2030160              9869              7878               3   \n",
       "19589       2030161              8603              8558               1   \n",
       "19590       2030162              8634              8372               3   \n",
       "19591       2030163              8302              8305               5   \n",
       "19592       2030164              8306             10205               0   \n",
       "19593       2030165              9910              8633               1   \n",
       "19594       2030166              8581              8560               0   \n",
       "19595       2030167              9906             10267               2   \n",
       "19596       2030168              9864              9783               2   \n",
       "19597       2030169              8315              9869               3   \n",
       "19598       2030170              7878              8603               1   \n",
       "19599       2030171              8370              8558               3   \n",
       "\n",
       "       ...      SJA   VCH    VCD    VCA   GBH   GBD    GBA   BSH   BSD    BSA  \n",
       "0      ...     2.30  2.65   3.25   2.35  2.90  3.25   2.30  2.80  3.20   2.25  \n",
       "1      ...     2.25  2.65   3.20   2.35  2.90  3.20   2.30  2.62  3.20   2.38  \n",
       "2      ...     8.50  1.30   4.35   8.00  1.35  4.33   8.50  1.36  4.20   7.00  \n",
       "3      ...     1.73  4.35   3.30   1.75  4.50  3.40   1.75  4.20  3.30   1.75  \n",
       "4      ...     5.00  1.65   3.50   4.50  1.65  3.50   5.00  1.70  3.40   4.33  \n",
       "5      ...     4.75  1.60   3.40   5.00  1.65  3.40   5.00  1.62  3.50   5.00  \n",
       "6      ...     2.75  2.25   3.25   2.80  2.10  3.25   3.15  2.25  3.20   2.75  \n",
       "7      ...     4.75  1.65   3.40   5.00  1.70  3.40   4.50  1.73  3.40   4.20  \n",
       "8      ...     2.15  2.80   3.25   2.25  3.20  3.20   2.10  2.80  3.20   2.25  \n",
       "9      ...     2.20  3.20   3.20   2.10  3.00  3.25   2.15  2.88  3.25   2.20  \n",
       "10     ...     1.62  5.00   3.50   1.60  5.25  3.50   1.60  5.00  3.60   1.57  \n",
       "11     ...     8.50  1.35   4.00   8.50  1.35  4.50   7.00  1.33  4.50   7.50  \n",
       "12     ...     5.50  1.55   3.50   5.50  1.57  3.60   5.25  1.57  3.60   5.00  \n",
       "13     ...     7.50  1.45   3.80   6.50  1.47  3.75   6.50  1.50  3.75   5.50  \n",
       "14     ...    16.00  1.14   6.50  13.00  1.15  6.50  13.00  1.17  6.00  13.00  \n",
       "15     ...     2.63  2.60   3.25   2.40  2.50  3.30   2.50  2.50  3.20   2.50  \n",
       "16     ...     1.45  6.50   4.00   1.44  6.50  3.75   1.45  7.00  4.00   1.40  \n",
       "17     ...     1.70  4.50   3.60   1.65  4.50  3.60   1.65  4.50  3.50   1.67  \n",
       "18     ...     2.30  2.62   3.25   2.40  2.70  3.20   2.40  2.88  3.10   2.30  \n",
       "19     ...     3.30  2.00   3.25   3.40  2.10  3.30   3.10  2.25  3.20   2.80  \n",
       "20     ...     1.57  5.50   3.60   1.57  5.25  3.50   1.60  5.50  3.60   1.53  \n",
       "21     ...     2.75  2.40   3.25   2.62  2.45  3.20   2.70  2.38  3.20   2.62  \n",
       "22     ...     4.00  1.85   3.30   3.75  1.95  3.25   3.75  1.91  3.25   3.60  \n",
       "23     ...     4.50  1.73   3.40   4.33  1.75  3.40   4.50  1.75  3.30   4.20  \n",
       "24     ...     4.75  1.70   3.50   4.00  1.60  3.50   5.25  1.67  3.40   4.75  \n",
       "25     ...     4.33  1.75   3.40   4.33  1.83  3.30   4.00  1.83  3.30   3.80  \n",
       "26     ...     3.60  1.90   3.30   3.60  2.05  3.25   3.30  2.00  3.25   3.30  \n",
       "27     ...     3.40  2.00   3.25   3.40  2.10  3.20   3.20  2.05  3.25   3.20  \n",
       "28     ...     1.67  5.50   3.40   1.60  5.00  3.40   1.65  4.75  3.40   1.67  \n",
       "29     ...     6.50  1.44   3.75   6.50  1.40  4.00   7.50  1.44  3.75   6.50  \n",
       "...    ...      ...   ...    ...    ...   ...   ...    ...   ...   ...    ...  \n",
       "19570  ...      NaN  2.10   3.40   3.90   NaN   NaN    NaN   NaN   NaN    NaN  \n",
       "19571  ...      NaN  2.30   3.30   3.40   NaN   NaN    NaN   NaN   NaN    NaN  \n",
       "19572  ...      NaN  4.10   3.90   1.91   NaN   NaN    NaN   NaN   NaN    NaN  \n",
       "19573  ...      NaN  1.50   4.50   7.50   NaN   NaN    NaN   NaN   NaN    NaN  \n",
       "19574  ...      NaN  4.40   3.60   1.93   NaN   NaN    NaN   NaN   NaN    NaN  \n",
       "19575  ...      NaN  3.13   3.40   2.45   NaN   NaN    NaN   NaN   NaN    NaN  \n",
       "19576  ...      NaN  2.40   3.25   3.30   NaN   NaN    NaN   NaN   NaN    NaN  \n",
       "19577  ...      NaN  2.38   3.40   3.25   NaN   NaN    NaN   NaN   NaN    NaN  \n",
       "19578  ...      NaN  2.63   3.25   3.00   NaN   NaN    NaN   NaN   NaN    NaN  \n",
       "19579  ...      NaN  2.00   3.40   4.30   NaN   NaN    NaN   NaN   NaN    NaN  \n",
       "19580  ...      NaN  2.20   3.80   3.30   NaN   NaN    NaN   NaN   NaN    NaN  \n",
       "19581  ...      NaN  1.15   9.50  19.00   NaN   NaN    NaN   NaN   NaN    NaN  \n",
       "19582  ...      NaN  3.60   3.50   2.20   NaN   NaN    NaN   NaN   NaN    NaN  \n",
       "19583  ...      NaN  2.05   3.70   3.75   NaN   NaN    NaN   NaN   NaN    NaN  \n",
       "19584  ...      NaN  1.08  13.00  34.00   NaN   NaN    NaN   NaN   NaN    NaN  \n",
       "19585  ...      NaN  4.30   3.30   2.05   NaN   NaN    NaN   NaN   NaN    NaN  \n",
       "19586  ...      NaN  1.62   4.10   6.25   NaN   NaN    NaN   NaN   NaN    NaN  \n",
       "19587  ...      NaN  2.70   3.25   2.88   NaN   NaN    NaN   NaN   NaN    NaN  \n",
       "19588  ...      NaN  2.00   3.40   4.33   NaN   NaN    NaN   NaN   NaN    NaN  \n",
       "19589  ...      NaN  2.05   3.50   4.00   NaN   NaN    NaN   NaN   NaN    NaN  \n",
       "19590  ...      NaN  1.11  11.00  31.00   NaN   NaN    NaN   NaN   NaN    NaN  \n",
       "19591  ...      NaN  1.50   4.60   7.50   NaN   NaN    NaN   NaN   NaN    NaN  \n",
       "19592  ...      NaN  3.60   3.40   2.20   NaN   NaN    NaN   NaN   NaN    NaN  \n",
       "19593  ...      NaN  3.90   4.00   1.93   NaN   NaN    NaN   NaN   NaN    NaN  \n",
       "19594  ...      NaN  2.75   3.13   2.90   NaN   NaN    NaN   NaN   NaN    NaN  \n",
       "19595  ...      NaN  1.57   4.00   7.00   NaN   NaN    NaN   NaN   NaN    NaN  \n",
       "19596  ...      NaN  2.30   3.40   3.40   NaN   NaN    NaN   NaN   NaN    NaN  \n",
       "19597  ...      NaN  1.55   4.20   7.00   NaN   NaN    NaN   NaN   NaN    NaN  \n",
       "19598  ...      NaN  2.30   3.40   3.30   NaN   NaN    NaN   NaN   NaN    NaN  \n",
       "19599  ...      NaN  2.20   3.60   3.50   NaN   NaN    NaN   NaN   NaN    NaN  \n",
       "\n",
       "[19600 rows x 115 columns]"
      ]
     },
     "execution_count": 2,
     "metadata": {},
     "output_type": "execute_result"
    }
   ],
   "source": [
    "query = \"\"\"select * from match where home_player_X1 is not null and 'home_player_Y1' is not null \n",
    "and  home_player_X2 is not null and 'home_player_Y2' is not null \n",
    "and  home_player_X3 is not null and home_player_Y3 is not null \n",
    "and  home_player_X4 is not null and home_player_Y4 is not null \n",
    "and  home_player_X5 is not null and home_player_Y5 is not null \n",
    "and  home_player_X6 is not null and home_player_Y6 is not null \n",
    "and  home_player_X7 is not null and home_player_Y7 is not null \n",
    "and  home_player_X8 is not null and home_player_Y8 is not null \n",
    "and  home_player_X9 is not null and home_player_Y9 is not null \n",
    "and  home_player_X10 is not null and home_player_Y10 is not null \n",
    "and  home_player_X11 is not null and home_player_Y11 is not null  \n",
    "and  away_player_X1 is not null and away_player_Y1 is not null \n",
    "and  away_player_X2 is not null and away_player_Y2 is not null \n",
    "and  away_player_X3 is not null and away_player_Y3 is not null \n",
    "and  away_player_X4 is not null and away_player_Y4 is not null \n",
    "and  away_player_X5 is not null and away_player_Y5 is not null \n",
    "and  away_player_X6 is not null and away_player_Y6 is not null \n",
    "and  away_player_X7 is not null and away_player_Y7 is not null \n",
    "and  away_player_X8 is not null and away_player_Y8 is not null \n",
    "and  away_player_X9 is not null and away_player_Y9 is not null \n",
    "and  away_player_X10 is not null and away_player_Y10 is not null \n",
    "and  away_player_X11 is not null and away_player_Y11 is not null \n",
    "and home_team_goal is not null and away_team_goal is not null\n",
    "and home_player_1 is not null \n",
    "and home_player_2 is not null  \n",
    "and home_player_3 is not null  \n",
    "and home_player_4 is not null  \n",
    "and home_player_5 is not null  \n",
    "and home_player_6 is not null  \n",
    "and home_player_7 is not null  \n",
    "and home_player_8 is not null \n",
    "and home_player_9 is not null  \n",
    "and home_player_10 is not null  \n",
    "and home_player_11 is not null  \n",
    "and away_player_1 is not null  \n",
    "and away_player_2 is not null  \n",
    "and away_player_3 is not null  \n",
    "and away_player_4 is not null  \n",
    "and away_player_5 is not null  \n",
    "and away_player_6 is not null  \n",
    "and away_player_7 is not null  \n",
    "and away_player_8 is not null  \n",
    "and away_player_9 is not null  \n",
    "and away_player_10 is not null  \n",
    "and away_player_11 is not null  \n",
    "and  B365H is not null and B365D is not null and B365A is not null;\"\"\"\n",
    "matches = pd.read_sql(query, conn)\n",
    "matches"
   ]
  },
  {
   "cell_type": "code",
   "execution_count": 3,
   "metadata": {
    "collapsed": false
   },
   "outputs": [
    {
     "data": {
      "text/html": [
       "<div>\n",
       "<table border=\"1\" class=\"dataframe\">\n",
       "  <thead>\n",
       "    <tr style=\"text-align: right;\">\n",
       "      <th></th>\n",
       "      <th>player_api_id</th>\n",
       "      <th>player_api_id</th>\n",
       "      <th>date_stat</th>\n",
       "    </tr>\n",
       "  </thead>\n",
       "  <tbody>\n",
       "    <tr>\n",
       "      <th>0</th>\n",
       "      <td>505942</td>\n",
       "      <td>505942</td>\n",
       "      <td>2016-02-18 00:00:00</td>\n",
       "    </tr>\n",
       "    <tr>\n",
       "      <th>1</th>\n",
       "      <td>505942</td>\n",
       "      <td>505942</td>\n",
       "      <td>2015-11-19 00:00:00</td>\n",
       "    </tr>\n",
       "    <tr>\n",
       "      <th>2</th>\n",
       "      <td>505942</td>\n",
       "      <td>505942</td>\n",
       "      <td>2015-09-21 00:00:00</td>\n",
       "    </tr>\n",
       "    <tr>\n",
       "      <th>3</th>\n",
       "      <td>505942</td>\n",
       "      <td>505942</td>\n",
       "      <td>2015-03-20 00:00:00</td>\n",
       "    </tr>\n",
       "    <tr>\n",
       "      <th>4</th>\n",
       "      <td>505942</td>\n",
       "      <td>505942</td>\n",
       "      <td>2007-02-22 00:00:00</td>\n",
       "    </tr>\n",
       "    <tr>\n",
       "      <th>5</th>\n",
       "      <td>155782</td>\n",
       "      <td>155782</td>\n",
       "      <td>2016-04-21 00:00:00</td>\n",
       "    </tr>\n",
       "    <tr>\n",
       "      <th>6</th>\n",
       "      <td>155782</td>\n",
       "      <td>155782</td>\n",
       "      <td>2016-04-07 00:00:00</td>\n",
       "    </tr>\n",
       "    <tr>\n",
       "      <th>7</th>\n",
       "      <td>155782</td>\n",
       "      <td>155782</td>\n",
       "      <td>2016-01-07 00:00:00</td>\n",
       "    </tr>\n",
       "    <tr>\n",
       "      <th>8</th>\n",
       "      <td>155782</td>\n",
       "      <td>155782</td>\n",
       "      <td>2015-12-24 00:00:00</td>\n",
       "    </tr>\n",
       "    <tr>\n",
       "      <th>9</th>\n",
       "      <td>155782</td>\n",
       "      <td>155782</td>\n",
       "      <td>2015-12-17 00:00:00</td>\n",
       "    </tr>\n",
       "    <tr>\n",
       "      <th>10</th>\n",
       "      <td>155782</td>\n",
       "      <td>155782</td>\n",
       "      <td>2015-10-16 00:00:00</td>\n",
       "    </tr>\n",
       "    <tr>\n",
       "      <th>11</th>\n",
       "      <td>155782</td>\n",
       "      <td>155782</td>\n",
       "      <td>2015-09-25 00:00:00</td>\n",
       "    </tr>\n",
       "    <tr>\n",
       "      <th>12</th>\n",
       "      <td>155782</td>\n",
       "      <td>155782</td>\n",
       "      <td>2015-09-21 00:00:00</td>\n",
       "    </tr>\n",
       "    <tr>\n",
       "      <th>13</th>\n",
       "      <td>155782</td>\n",
       "      <td>155782</td>\n",
       "      <td>2015-01-09 00:00:00</td>\n",
       "    </tr>\n",
       "    <tr>\n",
       "      <th>14</th>\n",
       "      <td>155782</td>\n",
       "      <td>155782</td>\n",
       "      <td>2014-12-05 00:00:00</td>\n",
       "    </tr>\n",
       "    <tr>\n",
       "      <th>15</th>\n",
       "      <td>155782</td>\n",
       "      <td>155782</td>\n",
       "      <td>2014-11-07 00:00:00</td>\n",
       "    </tr>\n",
       "    <tr>\n",
       "      <th>16</th>\n",
       "      <td>155782</td>\n",
       "      <td>155782</td>\n",
       "      <td>2014-09-18 00:00:00</td>\n",
       "    </tr>\n",
       "    <tr>\n",
       "      <th>17</th>\n",
       "      <td>155782</td>\n",
       "      <td>155782</td>\n",
       "      <td>2014-05-02 00:00:00</td>\n",
       "    </tr>\n",
       "    <tr>\n",
       "      <th>18</th>\n",
       "      <td>155782</td>\n",
       "      <td>155782</td>\n",
       "      <td>2014-04-04 00:00:00</td>\n",
       "    </tr>\n",
       "    <tr>\n",
       "      <th>19</th>\n",
       "      <td>155782</td>\n",
       "      <td>155782</td>\n",
       "      <td>2014-03-14 00:00:00</td>\n",
       "    </tr>\n",
       "    <tr>\n",
       "      <th>20</th>\n",
       "      <td>155782</td>\n",
       "      <td>155782</td>\n",
       "      <td>2013-12-13 00:00:00</td>\n",
       "    </tr>\n",
       "    <tr>\n",
       "      <th>21</th>\n",
       "      <td>155782</td>\n",
       "      <td>155782</td>\n",
       "      <td>2013-11-08 00:00:00</td>\n",
       "    </tr>\n",
       "    <tr>\n",
       "      <th>22</th>\n",
       "      <td>155782</td>\n",
       "      <td>155782</td>\n",
       "      <td>2013-10-04 00:00:00</td>\n",
       "    </tr>\n",
       "    <tr>\n",
       "      <th>23</th>\n",
       "      <td>155782</td>\n",
       "      <td>155782</td>\n",
       "      <td>2013-09-20 00:00:00</td>\n",
       "    </tr>\n",
       "    <tr>\n",
       "      <th>24</th>\n",
       "      <td>155782</td>\n",
       "      <td>155782</td>\n",
       "      <td>2013-05-03 00:00:00</td>\n",
       "    </tr>\n",
       "    <tr>\n",
       "      <th>25</th>\n",
       "      <td>155782</td>\n",
       "      <td>155782</td>\n",
       "      <td>2013-03-22 00:00:00</td>\n",
       "    </tr>\n",
       "    <tr>\n",
       "      <th>26</th>\n",
       "      <td>155782</td>\n",
       "      <td>155782</td>\n",
       "      <td>2013-03-15 00:00:00</td>\n",
       "    </tr>\n",
       "    <tr>\n",
       "      <th>27</th>\n",
       "      <td>155782</td>\n",
       "      <td>155782</td>\n",
       "      <td>2013-02-22 00:00:00</td>\n",
       "    </tr>\n",
       "    <tr>\n",
       "      <th>28</th>\n",
       "      <td>155782</td>\n",
       "      <td>155782</td>\n",
       "      <td>2013-02-15 00:00:00</td>\n",
       "    </tr>\n",
       "    <tr>\n",
       "      <th>29</th>\n",
       "      <td>155782</td>\n",
       "      <td>155782</td>\n",
       "      <td>2012-08-31 00:00:00</td>\n",
       "    </tr>\n",
       "    <tr>\n",
       "      <th>...</th>\n",
       "      <td>...</td>\n",
       "      <td>...</td>\n",
       "      <td>...</td>\n",
       "    </tr>\n",
       "    <tr>\n",
       "      <th>183223</th>\n",
       "      <td>108760</td>\n",
       "      <td>108760</td>\n",
       "      <td>2014-09-18 00:00:00</td>\n",
       "    </tr>\n",
       "    <tr>\n",
       "      <th>183224</th>\n",
       "      <td>108760</td>\n",
       "      <td>108760</td>\n",
       "      <td>2013-12-06 00:00:00</td>\n",
       "    </tr>\n",
       "    <tr>\n",
       "      <th>183225</th>\n",
       "      <td>108760</td>\n",
       "      <td>108760</td>\n",
       "      <td>2013-11-22 00:00:00</td>\n",
       "    </tr>\n",
       "    <tr>\n",
       "      <th>183226</th>\n",
       "      <td>108760</td>\n",
       "      <td>108760</td>\n",
       "      <td>2013-09-20 00:00:00</td>\n",
       "    </tr>\n",
       "    <tr>\n",
       "      <th>183227</th>\n",
       "      <td>108760</td>\n",
       "      <td>108760</td>\n",
       "      <td>2009-08-30 00:00:00</td>\n",
       "    </tr>\n",
       "    <tr>\n",
       "      <th>183228</th>\n",
       "      <td>108760</td>\n",
       "      <td>108760</td>\n",
       "      <td>2007-02-22 00:00:00</td>\n",
       "    </tr>\n",
       "    <tr>\n",
       "      <th>183229</th>\n",
       "      <td>39494</td>\n",
       "      <td>39494</td>\n",
       "      <td>2016-04-14 00:00:00</td>\n",
       "    </tr>\n",
       "    <tr>\n",
       "      <th>183230</th>\n",
       "      <td>39494</td>\n",
       "      <td>39494</td>\n",
       "      <td>2016-02-11 00:00:00</td>\n",
       "    </tr>\n",
       "    <tr>\n",
       "      <th>183231</th>\n",
       "      <td>39494</td>\n",
       "      <td>39494</td>\n",
       "      <td>2015-10-09 00:00:00</td>\n",
       "    </tr>\n",
       "    <tr>\n",
       "      <th>183232</th>\n",
       "      <td>39494</td>\n",
       "      <td>39494</td>\n",
       "      <td>2015-09-21 00:00:00</td>\n",
       "    </tr>\n",
       "    <tr>\n",
       "      <th>183233</th>\n",
       "      <td>39494</td>\n",
       "      <td>39494</td>\n",
       "      <td>2015-01-09 00:00:00</td>\n",
       "    </tr>\n",
       "    <tr>\n",
       "      <th>183234</th>\n",
       "      <td>39494</td>\n",
       "      <td>39494</td>\n",
       "      <td>2014-10-31 00:00:00</td>\n",
       "    </tr>\n",
       "    <tr>\n",
       "      <th>183235</th>\n",
       "      <td>39494</td>\n",
       "      <td>39494</td>\n",
       "      <td>2014-09-18 00:00:00</td>\n",
       "    </tr>\n",
       "    <tr>\n",
       "      <th>183236</th>\n",
       "      <td>39494</td>\n",
       "      <td>39494</td>\n",
       "      <td>2014-03-28 00:00:00</td>\n",
       "    </tr>\n",
       "    <tr>\n",
       "      <th>183237</th>\n",
       "      <td>39494</td>\n",
       "      <td>39494</td>\n",
       "      <td>2014-03-14 00:00:00</td>\n",
       "    </tr>\n",
       "    <tr>\n",
       "      <th>183238</th>\n",
       "      <td>39494</td>\n",
       "      <td>39494</td>\n",
       "      <td>2014-02-28 00:00:00</td>\n",
       "    </tr>\n",
       "    <tr>\n",
       "      <th>183239</th>\n",
       "      <td>39494</td>\n",
       "      <td>39494</td>\n",
       "      <td>2013-09-20 00:00:00</td>\n",
       "    </tr>\n",
       "    <tr>\n",
       "      <th>183240</th>\n",
       "      <td>39494</td>\n",
       "      <td>39494</td>\n",
       "      <td>2013-04-26 00:00:00</td>\n",
       "    </tr>\n",
       "    <tr>\n",
       "      <th>183241</th>\n",
       "      <td>39494</td>\n",
       "      <td>39494</td>\n",
       "      <td>2013-02-15 00:00:00</td>\n",
       "    </tr>\n",
       "    <tr>\n",
       "      <th>183242</th>\n",
       "      <td>39494</td>\n",
       "      <td>39494</td>\n",
       "      <td>2012-08-31 00:00:00</td>\n",
       "    </tr>\n",
       "    <tr>\n",
       "      <th>183243</th>\n",
       "      <td>39494</td>\n",
       "      <td>39494</td>\n",
       "      <td>2012-02-22 00:00:00</td>\n",
       "    </tr>\n",
       "    <tr>\n",
       "      <th>183244</th>\n",
       "      <td>39494</td>\n",
       "      <td>39494</td>\n",
       "      <td>2011-08-30 00:00:00</td>\n",
       "    </tr>\n",
       "    <tr>\n",
       "      <th>183245</th>\n",
       "      <td>39494</td>\n",
       "      <td>39494</td>\n",
       "      <td>2011-02-22 00:00:00</td>\n",
       "    </tr>\n",
       "    <tr>\n",
       "      <th>183246</th>\n",
       "      <td>39494</td>\n",
       "      <td>39494</td>\n",
       "      <td>2010-08-30 00:00:00</td>\n",
       "    </tr>\n",
       "    <tr>\n",
       "      <th>183247</th>\n",
       "      <td>39494</td>\n",
       "      <td>39494</td>\n",
       "      <td>2010-02-22 00:00:00</td>\n",
       "    </tr>\n",
       "    <tr>\n",
       "      <th>183248</th>\n",
       "      <td>39494</td>\n",
       "      <td>39494</td>\n",
       "      <td>2009-08-30 00:00:00</td>\n",
       "    </tr>\n",
       "    <tr>\n",
       "      <th>183249</th>\n",
       "      <td>39494</td>\n",
       "      <td>39494</td>\n",
       "      <td>2009-02-22 00:00:00</td>\n",
       "    </tr>\n",
       "    <tr>\n",
       "      <th>183250</th>\n",
       "      <td>39494</td>\n",
       "      <td>39494</td>\n",
       "      <td>2008-08-30 00:00:00</td>\n",
       "    </tr>\n",
       "    <tr>\n",
       "      <th>183251</th>\n",
       "      <td>39494</td>\n",
       "      <td>39494</td>\n",
       "      <td>2007-08-30 00:00:00</td>\n",
       "    </tr>\n",
       "    <tr>\n",
       "      <th>183252</th>\n",
       "      <td>39494</td>\n",
       "      <td>39494</td>\n",
       "      <td>2007-02-22 00:00:00</td>\n",
       "    </tr>\n",
       "  </tbody>\n",
       "</table>\n",
       "<p>183253 rows × 3 columns</p>\n",
       "</div>"
      ],
      "text/plain": [
       "        player_api_id  player_api_id            date_stat\n",
       "0              505942         505942  2016-02-18 00:00:00\n",
       "1              505942         505942  2015-11-19 00:00:00\n",
       "2              505942         505942  2015-09-21 00:00:00\n",
       "3              505942         505942  2015-03-20 00:00:00\n",
       "4              505942         505942  2007-02-22 00:00:00\n",
       "5              155782         155782  2016-04-21 00:00:00\n",
       "6              155782         155782  2016-04-07 00:00:00\n",
       "7              155782         155782  2016-01-07 00:00:00\n",
       "8              155782         155782  2015-12-24 00:00:00\n",
       "9              155782         155782  2015-12-17 00:00:00\n",
       "10             155782         155782  2015-10-16 00:00:00\n",
       "11             155782         155782  2015-09-25 00:00:00\n",
       "12             155782         155782  2015-09-21 00:00:00\n",
       "13             155782         155782  2015-01-09 00:00:00\n",
       "14             155782         155782  2014-12-05 00:00:00\n",
       "15             155782         155782  2014-11-07 00:00:00\n",
       "16             155782         155782  2014-09-18 00:00:00\n",
       "17             155782         155782  2014-05-02 00:00:00\n",
       "18             155782         155782  2014-04-04 00:00:00\n",
       "19             155782         155782  2014-03-14 00:00:00\n",
       "20             155782         155782  2013-12-13 00:00:00\n",
       "21             155782         155782  2013-11-08 00:00:00\n",
       "22             155782         155782  2013-10-04 00:00:00\n",
       "23             155782         155782  2013-09-20 00:00:00\n",
       "24             155782         155782  2013-05-03 00:00:00\n",
       "25             155782         155782  2013-03-22 00:00:00\n",
       "26             155782         155782  2013-03-15 00:00:00\n",
       "27             155782         155782  2013-02-22 00:00:00\n",
       "28             155782         155782  2013-02-15 00:00:00\n",
       "29             155782         155782  2012-08-31 00:00:00\n",
       "...               ...            ...                  ...\n",
       "183223         108760         108760  2014-09-18 00:00:00\n",
       "183224         108760         108760  2013-12-06 00:00:00\n",
       "183225         108760         108760  2013-11-22 00:00:00\n",
       "183226         108760         108760  2013-09-20 00:00:00\n",
       "183227         108760         108760  2009-08-30 00:00:00\n",
       "183228         108760         108760  2007-02-22 00:00:00\n",
       "183229          39494          39494  2016-04-14 00:00:00\n",
       "183230          39494          39494  2016-02-11 00:00:00\n",
       "183231          39494          39494  2015-10-09 00:00:00\n",
       "183232          39494          39494  2015-09-21 00:00:00\n",
       "183233          39494          39494  2015-01-09 00:00:00\n",
       "183234          39494          39494  2014-10-31 00:00:00\n",
       "183235          39494          39494  2014-09-18 00:00:00\n",
       "183236          39494          39494  2014-03-28 00:00:00\n",
       "183237          39494          39494  2014-03-14 00:00:00\n",
       "183238          39494          39494  2014-02-28 00:00:00\n",
       "183239          39494          39494  2013-09-20 00:00:00\n",
       "183240          39494          39494  2013-04-26 00:00:00\n",
       "183241          39494          39494  2013-02-15 00:00:00\n",
       "183242          39494          39494  2012-08-31 00:00:00\n",
       "183243          39494          39494  2012-02-22 00:00:00\n",
       "183244          39494          39494  2011-08-30 00:00:00\n",
       "183245          39494          39494  2011-02-22 00:00:00\n",
       "183246          39494          39494  2010-08-30 00:00:00\n",
       "183247          39494          39494  2010-02-22 00:00:00\n",
       "183248          39494          39494  2009-08-30 00:00:00\n",
       "183249          39494          39494  2009-02-22 00:00:00\n",
       "183250          39494          39494  2008-08-30 00:00:00\n",
       "183251          39494          39494  2007-08-30 00:00:00\n",
       "183252          39494          39494  2007-02-22 00:00:00\n",
       "\n",
       "[183253 rows x 3 columns]"
      ]
     },
     "execution_count": 3,
     "metadata": {},
     "output_type": "execute_result"
    }
   ],
   "source": [
    "query = \"\"\" select * from Player as p ,Player_Stats as s where p.player_api_id = s.player_api_id;\"\"\"\n",
    "player = pd.read_sql(query, conn)\n",
    "player[['player_api_id','date_stat']]"
   ]
  },
  {
   "cell_type": "code",
   "execution_count": 4,
   "metadata": {
    "collapsed": false
   },
   "outputs": [
    {
     "name": "stdout",
     "output_type": "stream",
     "text": [
      "['BWH' 'BWD' 'BWA' 'IWH' 'IWD' 'IWA' 'LBH' 'LBD' 'LBA' 'PSH' 'PSD' 'PSA'\n",
      " 'WHH' 'WHD' 'WHA' 'SJH' 'SJD' 'SJA' 'VCH' 'VCD' 'VCA' 'GBH' 'GBD' 'GBA'\n",
      " 'BSH' 'BSD']\n"
     ]
    },
    {
     "data": {
      "text/plain": [
       "array(['id', 'country_id', 'league_id', 'season', 'stage', 'date',\n",
       "       'match_api_id', 'home_team_api_id', 'away_team_api_id',\n",
       "       'home_team_goal', 'away_team_goal', 'home_player_X1',\n",
       "       'home_player_X2', 'home_player_X3', 'home_player_X4',\n",
       "       'home_player_X5', 'home_player_X6', 'home_player_X7',\n",
       "       'home_player_X8', 'home_player_X9', 'home_player_X10',\n",
       "       'home_player_X11', 'away_player_X1', 'away_player_X2',\n",
       "       'away_player_X3', 'away_player_X4', 'away_player_X5',\n",
       "       'away_player_X6', 'away_player_X7', 'away_player_X8',\n",
       "       'away_player_X9', 'away_player_X10', 'away_player_X11',\n",
       "       'home_player_Y1', 'home_player_Y2', 'home_player_Y3',\n",
       "       'home_player_Y4', 'home_player_Y5', 'home_player_Y6',\n",
       "       'home_player_Y7', 'home_player_Y8', 'home_player_Y9',\n",
       "       'home_player_Y10', 'home_player_Y11', 'away_player_Y1',\n",
       "       'away_player_Y2', 'away_player_Y3', 'away_player_Y4',\n",
       "       'away_player_Y5', 'away_player_Y6', 'away_player_Y7',\n",
       "       'away_player_Y8', 'away_player_Y9', 'away_player_Y10',\n",
       "       'away_player_Y11', 'home_player_1', 'home_player_2',\n",
       "       'home_player_3', 'home_player_4', 'home_player_5', 'home_player_6',\n",
       "       'home_player_7', 'home_player_8', 'home_player_9', 'home_player_10',\n",
       "       'home_player_11', 'away_player_1', 'away_player_2', 'away_player_3',\n",
       "       'away_player_4', 'away_player_5', 'away_player_6', 'away_player_7',\n",
       "       'away_player_8', 'away_player_9', 'away_player_10',\n",
       "       'away_player_11', 'goal', 'shoton', 'shotoff', 'foulcommit', 'card',\n",
       "       'cross', 'corner', 'possession', 'B365H', 'B365D', 'B365A'], dtype=object)"
      ]
     },
     "execution_count": 4,
     "metadata": {},
     "output_type": "execute_result"
    }
   ],
   "source": [
    "drop = matches.columns.values[-27:-1]\n",
    "print drop \n",
    "#Removing other betting houses odds\n",
    "matches = matches.drop(drop,1)\n",
    "matches= matches.drop('BSA',1)\n",
    "#Raw features\n",
    "matches.columns.values"
   ]
  },
  {
   "cell_type": "code",
   "execution_count": 5,
   "metadata": {
    "collapsed": false
   },
   "outputs": [
    {
     "data": {
      "text/plain": [
       "array(['id', 'country_id', 'league_id', 'season', 'stage', 'date',\n",
       "       'match_api_id', 'home_team_api_id', 'away_team_api_id',\n",
       "       'home_team_goal', 'away_team_goal', 'home_player_X1',\n",
       "       'home_player_X2', 'home_player_X3', 'home_player_X4',\n",
       "       'home_player_X5', 'home_player_X6', 'home_player_X7',\n",
       "       'home_player_X8', 'home_player_X9', 'home_player_X10',\n",
       "       'home_player_X11', 'away_player_X1', 'away_player_X2',\n",
       "       'away_player_X3', 'away_player_X4', 'away_player_X5',\n",
       "       'away_player_X6', 'away_player_X7', 'away_player_X8',\n",
       "       'away_player_X9', 'away_player_X10', 'away_player_X11',\n",
       "       'home_player_Y1', 'home_player_Y2', 'home_player_Y3',\n",
       "       'home_player_Y4', 'home_player_Y5', 'home_player_Y6',\n",
       "       'home_player_Y7', 'home_player_Y8', 'home_player_Y9',\n",
       "       'home_player_Y10', 'home_player_Y11', 'away_player_Y1',\n",
       "       'away_player_Y2', 'away_player_Y3', 'away_player_Y4',\n",
       "       'away_player_Y5', 'away_player_Y6', 'away_player_Y7',\n",
       "       'away_player_Y8', 'away_player_Y9', 'away_player_Y10',\n",
       "       'away_player_Y11', 'home_player_1', 'home_player_2',\n",
       "       'home_player_3', 'home_player_4', 'home_player_5', 'home_player_6',\n",
       "       'home_player_7', 'home_player_8', 'home_player_9', 'home_player_10',\n",
       "       'home_player_11', 'away_player_1', 'away_player_2', 'away_player_3',\n",
       "       'away_player_4', 'away_player_5', 'away_player_6', 'away_player_7',\n",
       "       'away_player_8', 'away_player_9', 'away_player_10',\n",
       "       'away_player_11', 'goal', 'shoton', 'shotoff', 'foulcommit', 'card',\n",
       "       'cross', 'corner', 'possession', 'B365H', 'B365D', 'B365A'], dtype=object)"
      ]
     },
     "execution_count": 5,
     "metadata": {},
     "output_type": "execute_result"
    }
   ],
   "source": [
    "matches.columns.values"
   ]
  },
  {
   "cell_type": "code",
   "execution_count": 6,
   "metadata": {
    "collapsed": false
   },
   "outputs": [],
   "source": [
    "matches= matches.drop(['goal', 'shoton', 'shotoff', 'foulcommit', 'card',\n",
    "       'cross', 'corner', 'possession'],1)"
   ]
  },
  {
   "cell_type": "code",
   "execution_count": 7,
   "metadata": {
    "collapsed": false
   },
   "outputs": [],
   "source": [
    "#Transforming date column into a date type\n",
    "matches['date']=pd.to_datetime(matches['date'], format='%Y-%m-%d %H:%M:%S.%f')\n",
    "#\n",
    "matches['date']=matches['date']-matches['date'].unique()[0]\n",
    "matches['date']=matches['date'].astype('timedelta64[D]')"
   ]
  },
  {
   "cell_type": "code",
   "execution_count": 8,
   "metadata": {
    "collapsed": false
   },
   "outputs": [],
   "source": [
    "#matches=matches.drop(['home_player_1', 'home_player_2','home_player_3', 'home_player_4', 'home_player_5', 'home_player_6',\n",
    "#       'home_player_7', 'home_player_8', 'home_player_9', 'home_player_10',\n",
    "#       'home_player_11', 'away_player_1', 'away_player_2', 'away_player_3',\n",
    "#       'away_player_4', 'away_player_5', 'away_player_6', 'away_player_7',\n",
    "#       'away_player_8', 'away_player_9', 'away_player_10',\n",
    "#       'away_player_11'])\n",
    "\n",
    "\n",
    "#Transforming season column into categorical value\n",
    "from sklearn import preprocessing \n",
    "le = preprocessing.LabelEncoder()\n",
    "matches['season'] = le.fit_transform(matches['season'].astype('str')) "
   ]
  },
  {
   "cell_type": "code",
   "execution_count": 9,
   "metadata": {
    "collapsed": false
   },
   "outputs": [
    {
     "data": {
      "text/plain": [
       "count    19600.000000\n",
       "mean         3.714541\n",
       "std          2.215884\n",
       "min          0.000000\n",
       "25%          2.000000\n",
       "50%          4.000000\n",
       "75%          6.000000\n",
       "max          7.000000\n",
       "Name: season, dtype: float64"
      ]
     },
     "execution_count": 9,
     "metadata": {},
     "output_type": "execute_result"
    }
   ],
   "source": [
    "matches['season'].describe()"
   ]
  },
  {
   "cell_type": "code",
   "execution_count": 10,
   "metadata": {
    "collapsed": false
   },
   "outputs": [
    {
     "data": {
      "text/plain": [
       "array(['id', 'country_id', 'league_id', 'season', 'stage', 'date',\n",
       "       'match_api_id', 'home_team_api_id', 'away_team_api_id',\n",
       "       'home_team_goal', 'away_team_goal', 'home_player_X1',\n",
       "       'home_player_X2', 'home_player_X3', 'home_player_X4',\n",
       "       'home_player_X5', 'home_player_X6', 'home_player_X7',\n",
       "       'home_player_X8', 'home_player_X9', 'home_player_X10',\n",
       "       'home_player_X11', 'away_player_X1', 'away_player_X2',\n",
       "       'away_player_X3', 'away_player_X4', 'away_player_X5',\n",
       "       'away_player_X6', 'away_player_X7', 'away_player_X8',\n",
       "       'away_player_X9', 'away_player_X10', 'away_player_X11',\n",
       "       'home_player_Y1', 'home_player_Y2', 'home_player_Y3',\n",
       "       'home_player_Y4', 'home_player_Y5', 'home_player_Y6',\n",
       "       'home_player_Y7', 'home_player_Y8', 'home_player_Y9',\n",
       "       'home_player_Y10', 'home_player_Y11', 'away_player_Y1',\n",
       "       'away_player_Y2', 'away_player_Y3', 'away_player_Y4',\n",
       "       'away_player_Y5', 'away_player_Y6', 'away_player_Y7',\n",
       "       'away_player_Y8', 'away_player_Y9', 'away_player_Y10',\n",
       "       'away_player_Y11', 'home_player_1', 'home_player_2',\n",
       "       'home_player_3', 'home_player_4', 'home_player_5', 'home_player_6',\n",
       "       'home_player_7', 'home_player_8', 'home_player_9', 'home_player_10',\n",
       "       'home_player_11', 'away_player_1', 'away_player_2', 'away_player_3',\n",
       "       'away_player_4', 'away_player_5', 'away_player_6', 'away_player_7',\n",
       "       'away_player_8', 'away_player_9', 'away_player_10',\n",
       "       'away_player_11', 'B365H', 'B365D', 'B365A'], dtype=object)"
      ]
     },
     "execution_count": 10,
     "metadata": {},
     "output_type": "execute_result"
    }
   ],
   "source": [
    "matches.columns.values"
   ]
  },
  {
   "cell_type": "code",
   "execution_count": null,
   "metadata": {
    "collapsed": false
   },
   "outputs": [],
   "source": []
  },
  {
   "cell_type": "code",
   "execution_count": 11,
   "metadata": {
    "collapsed": false
   },
   "outputs": [],
   "source": [
    "import graphlab as gl\n",
    "gl.canvas.set_target('ipynb')"
   ]
  },
  {
   "cell_type": "code",
   "execution_count": 12,
   "metadata": {
    "collapsed": false
   },
   "outputs": [],
   "source": [
    "#train_data,test_data = matches_without_ids.random_split(.9, seed=0)\n",
    "#matches['H']=(matches['home_team_goal']>matches['away_team_goal']).astype(int)\n",
    "#matches['A']=(matches['home_team_goal']<matches['away_team_goal']).astype(int)\n",
    "\n",
    "def determine_home_result(match):\n",
    "    if match['home_team_goal'] > match['away_team_goal']:\n",
    "        return 'H'\n",
    "    elif match['home_team_goal'] < match['away_team_goal']:\n",
    "        return 'A'\n",
    "    else:\n",
    "        return 'D'\n",
    "    \n",
    "    \n",
    "matches['Output']=matches.apply(determine_home_result, axis=1)"
   ]
  },
  {
   "cell_type": "code",
   "execution_count": 13,
   "metadata": {
    "collapsed": true
   },
   "outputs": [],
   "source": [
    "matches_without_ids = matches.drop(['home_player_1', 'home_player_2',\n",
    "       'home_player_3', 'home_player_4', 'home_player_5', 'home_player_6',\n",
    "       'home_player_7', 'home_player_8', 'home_player_9', 'home_player_10',\n",
    "       'home_player_11', 'away_player_1', 'away_player_2', 'away_player_3',\n",
    "       'away_player_4', 'away_player_5', 'away_player_6', 'away_player_7',\n",
    "       'away_player_8', 'away_player_9', 'away_player_10',\n",
    "       'away_player_11','id','home_team_goal','away_team_goal'],1)"
   ]
  },
  {
   "cell_type": "code",
   "execution_count": 14,
   "metadata": {
    "collapsed": false
   },
   "outputs": [
    {
     "data": {
      "text/plain": [
       "array(['country_id', 'league_id', 'season', 'stage', 'date',\n",
       "       'match_api_id', 'home_team_api_id', 'away_team_api_id',\n",
       "       'home_player_X1', 'home_player_X2', 'home_player_X3',\n",
       "       'home_player_X4', 'home_player_X5', 'home_player_X6',\n",
       "       'home_player_X7', 'home_player_X8', 'home_player_X9',\n",
       "       'home_player_X10', 'home_player_X11', 'away_player_X1',\n",
       "       'away_player_X2', 'away_player_X3', 'away_player_X4',\n",
       "       'away_player_X5', 'away_player_X6', 'away_player_X7',\n",
       "       'away_player_X8', 'away_player_X9', 'away_player_X10',\n",
       "       'away_player_X11', 'home_player_Y1', 'home_player_Y2',\n",
       "       'home_player_Y3', 'home_player_Y4', 'home_player_Y5',\n",
       "       'home_player_Y6', 'home_player_Y7', 'home_player_Y8',\n",
       "       'home_player_Y9', 'home_player_Y10', 'home_player_Y11',\n",
       "       'away_player_Y1', 'away_player_Y2', 'away_player_Y3',\n",
       "       'away_player_Y4', 'away_player_Y5', 'away_player_Y6',\n",
       "       'away_player_Y7', 'away_player_Y8', 'away_player_Y9',\n",
       "       'away_player_Y10', 'away_player_Y11', 'B365H', 'B365D', 'B365A',\n",
       "       'Output'], dtype=object)"
      ]
     },
     "execution_count": 14,
     "metadata": {},
     "output_type": "execute_result"
    }
   ],
   "source": [
    "matches_without_ids.columns.values"
   ]
  },
  {
   "cell_type": "code",
   "execution_count": 15,
   "metadata": {
    "collapsed": false
   },
   "outputs": [
    {
     "name": "stdout",
     "output_type": "stream",
     "text": [
      "This non-commercial license of GraphLab Create for academic use is assigned to felipeapfernandes@gmail.com and will expire on August 26, 2017.\n"
     ]
    },
    {
     "name": "stderr",
     "output_type": "stream",
     "text": [
      "[INFO] graphlab.cython.cy_server: GraphLab Create v2.1 started. Logging: /tmp/graphlab_server_1476546209.log\n"
     ]
    }
   ],
   "source": [
    "pure_data = gl.SFrame(matches_without_ids)\n",
    "train_data,test_data = pure_data.random_split(.8, seed=0)\n",
    "#train,valid=train_data.random_split(.8,seed=0)\n",
    "folds = gl.cross_validation.KFold(train_data, 5)"
   ]
  },
  {
   "cell_type": "code",
   "execution_count": 16,
   "metadata": {
    "collapsed": false
   },
   "outputs": [
    {
     "data": {
      "text/html": [
       "<pre>WARNING: Detected extremely low variance for feature(s) 'home_player_Y2', 'away_player_Y2', 'away_player_Y3' because all entries are nearly the same.\n",
       "Proceeding with model training using all features. If the model does not provide results of adequate quality, exclude the above mentioned feature(s) from the input dataset.</pre>"
      ],
      "text/plain": [
       "WARNING: Detected extremely low variance for feature(s) 'home_player_Y2', 'away_player_Y2', 'away_player_Y3' because all entries are nearly the same.\n",
       "Proceeding with model training using all features. If the model does not provide results of adequate quality, exclude the above mentioned feature(s) from the input dataset."
      ]
     },
     "metadata": {},
     "output_type": "display_data"
    },
    {
     "data": {
      "text/html": [
       "<pre>Logistic regression:</pre>"
      ],
      "text/plain": [
       "Logistic regression:"
      ]
     },
     "metadata": {},
     "output_type": "display_data"
    },
    {
     "data": {
      "text/html": [
       "<pre>--------------------------------------------------------</pre>"
      ],
      "text/plain": [
       "--------------------------------------------------------"
      ]
     },
     "metadata": {},
     "output_type": "display_data"
    },
    {
     "data": {
      "text/html": [
       "<pre>Number of examples          : 12597</pre>"
      ],
      "text/plain": [
       "Number of examples          : 12597"
      ]
     },
     "metadata": {},
     "output_type": "display_data"
    },
    {
     "data": {
      "text/html": [
       "<pre>Number of classes           : 3</pre>"
      ],
      "text/plain": [
       "Number of classes           : 3"
      ]
     },
     "metadata": {},
     "output_type": "display_data"
    },
    {
     "data": {
      "text/html": [
       "<pre>Number of feature columns   : 55</pre>"
      ],
      "text/plain": [
       "Number of feature columns   : 55"
      ]
     },
     "metadata": {},
     "output_type": "display_data"
    },
    {
     "data": {
      "text/html": [
       "<pre>Number of unpacked features : 55</pre>"
      ],
      "text/plain": [
       "Number of unpacked features : 55"
      ]
     },
     "metadata": {},
     "output_type": "display_data"
    },
    {
     "data": {
      "text/html": [
       "<pre>Number of coefficients    : 112</pre>"
      ],
      "text/plain": [
       "Number of coefficients    : 112"
      ]
     },
     "metadata": {},
     "output_type": "display_data"
    },
    {
     "data": {
      "text/html": [
       "<pre>Starting Newton Method</pre>"
      ],
      "text/plain": [
       "Starting Newton Method"
      ]
     },
     "metadata": {},
     "output_type": "display_data"
    },
    {
     "data": {
      "text/html": [
       "<pre>--------------------------------------------------------</pre>"
      ],
      "text/plain": [
       "--------------------------------------------------------"
      ]
     },
     "metadata": {},
     "output_type": "display_data"
    },
    {
     "data": {
      "text/html": [
       "<pre>+-----------+----------+--------------+-------------------+---------------------+</pre>"
      ],
      "text/plain": [
       "+-----------+----------+--------------+-------------------+---------------------+"
      ]
     },
     "metadata": {},
     "output_type": "display_data"
    },
    {
     "data": {
      "text/html": [
       "<pre>| Iteration | Passes   | Elapsed Time | Training-accuracy | Validation-accuracy |</pre>"
      ],
      "text/plain": [
       "| Iteration | Passes   | Elapsed Time | Training-accuracy | Validation-accuracy |"
      ]
     },
     "metadata": {},
     "output_type": "display_data"
    },
    {
     "data": {
      "text/html": [
       "<pre>+-----------+----------+--------------+-------------------+---------------------+</pre>"
      ],
      "text/plain": [
       "+-----------+----------+--------------+-------------------+---------------------+"
      ]
     },
     "metadata": {},
     "output_type": "display_data"
    },
    {
     "data": {
      "text/html": [
       "<pre>| 1         | 2        | 1.183762     | 0.529809          | 0.522540            |</pre>"
      ],
      "text/plain": [
       "| 1         | 2        | 1.183762     | 0.529809          | 0.522540            |"
      ]
     },
     "metadata": {},
     "output_type": "display_data"
    },
    {
     "data": {
      "text/html": [
       "<pre>| 2         | 3        | 1.291705     | 0.534175          | 0.526984            |</pre>"
      ],
      "text/plain": [
       "| 2         | 3        | 1.291705     | 0.534175          | 0.526984            |"
      ]
     },
     "metadata": {},
     "output_type": "display_data"
    },
    {
     "data": {
      "text/html": [
       "<pre>| 3         | 4        | 1.398602     | 0.533778          | 0.526984            |</pre>"
      ],
      "text/plain": [
       "| 3         | 4        | 1.398602     | 0.533778          | 0.526984            |"
      ]
     },
     "metadata": {},
     "output_type": "display_data"
    },
    {
     "data": {
      "text/html": [
       "<pre>| 4         | 5        | 1.526274     | 0.534016          | 0.527302            |</pre>"
      ],
      "text/plain": [
       "| 4         | 5        | 1.526274     | 0.534016          | 0.527302            |"
      ]
     },
     "metadata": {},
     "output_type": "display_data"
    },
    {
     "data": {
      "text/html": [
       "<pre>| 5         | 6        | 1.640237     | 0.534016          | 0.527302            |</pre>"
      ],
      "text/plain": [
       "| 5         | 6        | 1.640237     | 0.534016          | 0.527302            |"
      ]
     },
     "metadata": {},
     "output_type": "display_data"
    },
    {
     "data": {
      "text/html": [
       "<pre>+-----------+----------+--------------+-------------------+---------------------+</pre>"
      ],
      "text/plain": [
       "+-----------+----------+--------------+-------------------+---------------------+"
      ]
     },
     "metadata": {},
     "output_type": "display_data"
    },
    {
     "data": {
      "text/html": [
       "<pre>SUCCESS: Optimal solution found.</pre>"
      ],
      "text/plain": [
       "SUCCESS: Optimal solution found."
      ]
     },
     "metadata": {},
     "output_type": "display_data"
    },
    {
     "data": {
      "text/html": [
       "<pre></pre>"
      ],
      "text/plain": []
     },
     "metadata": {},
     "output_type": "display_data"
    },
    {
     "data": {
      "text/html": [
       "<pre>WARNING: Detected extremely low variance for feature(s) 'home_player_Y2', 'away_player_Y2', 'away_player_Y3', 'away_player_Y4' because all entries are nearly the same.\n",
       "Proceeding with model training using all features. If the model does not provide results of adequate quality, exclude the above mentioned feature(s) from the input dataset.</pre>"
      ],
      "text/plain": [
       "WARNING: Detected extremely low variance for feature(s) 'home_player_Y2', 'away_player_Y2', 'away_player_Y3', 'away_player_Y4' because all entries are nearly the same.\n",
       "Proceeding with model training using all features. If the model does not provide results of adequate quality, exclude the above mentioned feature(s) from the input dataset."
      ]
     },
     "metadata": {},
     "output_type": "display_data"
    },
    {
     "data": {
      "text/html": [
       "<pre>Logistic regression:</pre>"
      ],
      "text/plain": [
       "Logistic regression:"
      ]
     },
     "metadata": {},
     "output_type": "display_data"
    },
    {
     "data": {
      "text/html": [
       "<pre>--------------------------------------------------------</pre>"
      ],
      "text/plain": [
       "--------------------------------------------------------"
      ]
     },
     "metadata": {},
     "output_type": "display_data"
    },
    {
     "data": {
      "text/html": [
       "<pre>Number of examples          : 12597</pre>"
      ],
      "text/plain": [
       "Number of examples          : 12597"
      ]
     },
     "metadata": {},
     "output_type": "display_data"
    },
    {
     "data": {
      "text/html": [
       "<pre>Number of classes           : 3</pre>"
      ],
      "text/plain": [
       "Number of classes           : 3"
      ]
     },
     "metadata": {},
     "output_type": "display_data"
    },
    {
     "data": {
      "text/html": [
       "<pre>Number of feature columns   : 55</pre>"
      ],
      "text/plain": [
       "Number of feature columns   : 55"
      ]
     },
     "metadata": {},
     "output_type": "display_data"
    },
    {
     "data": {
      "text/html": [
       "<pre>Number of unpacked features : 55</pre>"
      ],
      "text/plain": [
       "Number of unpacked features : 55"
      ]
     },
     "metadata": {},
     "output_type": "display_data"
    },
    {
     "data": {
      "text/html": [
       "<pre>Number of coefficients    : 112</pre>"
      ],
      "text/plain": [
       "Number of coefficients    : 112"
      ]
     },
     "metadata": {},
     "output_type": "display_data"
    },
    {
     "data": {
      "text/html": [
       "<pre>Starting Newton Method</pre>"
      ],
      "text/plain": [
       "Starting Newton Method"
      ]
     },
     "metadata": {},
     "output_type": "display_data"
    },
    {
     "data": {
      "text/html": [
       "<pre>--------------------------------------------------------</pre>"
      ],
      "text/plain": [
       "--------------------------------------------------------"
      ]
     },
     "metadata": {},
     "output_type": "display_data"
    },
    {
     "data": {
      "text/html": [
       "<pre>+-----------+----------+--------------+-------------------+---------------------+</pre>"
      ],
      "text/plain": [
       "+-----------+----------+--------------+-------------------+---------------------+"
      ]
     },
     "metadata": {},
     "output_type": "display_data"
    },
    {
     "data": {
      "text/html": [
       "<pre>| Iteration | Passes   | Elapsed Time | Training-accuracy | Validation-accuracy |</pre>"
      ],
      "text/plain": [
       "| Iteration | Passes   | Elapsed Time | Training-accuracy | Validation-accuracy |"
      ]
     },
     "metadata": {},
     "output_type": "display_data"
    },
    {
     "data": {
      "text/html": [
       "<pre>+-----------+----------+--------------+-------------------+---------------------+</pre>"
      ],
      "text/plain": [
       "+-----------+----------+--------------+-------------------+---------------------+"
      ]
     },
     "metadata": {},
     "output_type": "display_data"
    },
    {
     "data": {
      "text/html": [
       "<pre>| 1         | 2        | 0.185095     | 0.535524          | 0.495873            |</pre>"
      ],
      "text/plain": [
       "| 1         | 2        | 0.185095     | 0.535524          | 0.495873            |"
      ]
     },
     "metadata": {},
     "output_type": "display_data"
    },
    {
     "data": {
      "text/html": [
       "<pre>| 2         | 3        | 0.315123     | 0.539811          | 0.500317            |</pre>"
      ],
      "text/plain": [
       "| 2         | 3        | 0.315123     | 0.539811          | 0.500317            |"
      ]
     },
     "metadata": {},
     "output_type": "display_data"
    },
    {
     "data": {
      "text/html": [
       "<pre>| 3         | 4        | 0.424920     | 0.540287          | 0.498413            |</pre>"
      ],
      "text/plain": [
       "| 3         | 4        | 0.424920     | 0.540287          | 0.498413            |"
      ]
     },
     "metadata": {},
     "output_type": "display_data"
    },
    {
     "data": {
      "text/html": [
       "<pre>| 4         | 5        | 0.534586     | 0.540208          | 0.499048            |</pre>"
      ],
      "text/plain": [
       "| 4         | 5        | 0.534586     | 0.540208          | 0.499048            |"
      ]
     },
     "metadata": {},
     "output_type": "display_data"
    },
    {
     "data": {
      "text/html": [
       "<pre>| 5         | 6        | 0.649053     | 0.540208          | 0.499048            |</pre>"
      ],
      "text/plain": [
       "| 5         | 6        | 0.649053     | 0.540208          | 0.499048            |"
      ]
     },
     "metadata": {},
     "output_type": "display_data"
    },
    {
     "data": {
      "text/html": [
       "<pre>+-----------+----------+--------------+-------------------+---------------------+</pre>"
      ],
      "text/plain": [
       "+-----------+----------+--------------+-------------------+---------------------+"
      ]
     },
     "metadata": {},
     "output_type": "display_data"
    },
    {
     "data": {
      "text/html": [
       "<pre>SUCCESS: Optimal solution found.</pre>"
      ],
      "text/plain": [
       "SUCCESS: Optimal solution found."
      ]
     },
     "metadata": {},
     "output_type": "display_data"
    },
    {
     "data": {
      "text/html": [
       "<pre></pre>"
      ],
      "text/plain": []
     },
     "metadata": {},
     "output_type": "display_data"
    },
    {
     "data": {
      "text/html": [
       "<pre>WARNING: Detected extremely low variance for feature(s) 'home_player_X1', 'home_player_Y1', 'home_player_Y2', 'home_player_Y3', 'away_player_Y2', 'away_player_Y3' because all entries are nearly the same.\n",
       "Proceeding with model training using all features. If the model does not provide results of adequate quality, exclude the above mentioned feature(s) from the input dataset.</pre>"
      ],
      "text/plain": [
       "WARNING: Detected extremely low variance for feature(s) 'home_player_X1', 'home_player_Y1', 'home_player_Y2', 'home_player_Y3', 'away_player_Y2', 'away_player_Y3' because all entries are nearly the same.\n",
       "Proceeding with model training using all features. If the model does not provide results of adequate quality, exclude the above mentioned feature(s) from the input dataset."
      ]
     },
     "metadata": {},
     "output_type": "display_data"
    },
    {
     "data": {
      "text/html": [
       "<pre>Logistic regression:</pre>"
      ],
      "text/plain": [
       "Logistic regression:"
      ]
     },
     "metadata": {},
     "output_type": "display_data"
    },
    {
     "data": {
      "text/html": [
       "<pre>--------------------------------------------------------</pre>"
      ],
      "text/plain": [
       "--------------------------------------------------------"
      ]
     },
     "metadata": {},
     "output_type": "display_data"
    },
    {
     "data": {
      "text/html": [
       "<pre>Number of examples          : 12598</pre>"
      ],
      "text/plain": [
       "Number of examples          : 12598"
      ]
     },
     "metadata": {},
     "output_type": "display_data"
    },
    {
     "data": {
      "text/html": [
       "<pre>Number of classes           : 3</pre>"
      ],
      "text/plain": [
       "Number of classes           : 3"
      ]
     },
     "metadata": {},
     "output_type": "display_data"
    },
    {
     "data": {
      "text/html": [
       "<pre>Number of feature columns   : 55</pre>"
      ],
      "text/plain": [
       "Number of feature columns   : 55"
      ]
     },
     "metadata": {},
     "output_type": "display_data"
    },
    {
     "data": {
      "text/html": [
       "<pre>Number of unpacked features : 55</pre>"
      ],
      "text/plain": [
       "Number of unpacked features : 55"
      ]
     },
     "metadata": {},
     "output_type": "display_data"
    },
    {
     "data": {
      "text/html": [
       "<pre>Number of coefficients    : 112</pre>"
      ],
      "text/plain": [
       "Number of coefficients    : 112"
      ]
     },
     "metadata": {},
     "output_type": "display_data"
    },
    {
     "data": {
      "text/html": [
       "<pre>Starting Newton Method</pre>"
      ],
      "text/plain": [
       "Starting Newton Method"
      ]
     },
     "metadata": {},
     "output_type": "display_data"
    },
    {
     "data": {
      "text/html": [
       "<pre>--------------------------------------------------------</pre>"
      ],
      "text/plain": [
       "--------------------------------------------------------"
      ]
     },
     "metadata": {},
     "output_type": "display_data"
    },
    {
     "data": {
      "text/html": [
       "<pre>+-----------+----------+--------------+-------------------+---------------------+</pre>"
      ],
      "text/plain": [
       "+-----------+----------+--------------+-------------------+---------------------+"
      ]
     },
     "metadata": {},
     "output_type": "display_data"
    },
    {
     "data": {
      "text/html": [
       "<pre>| Iteration | Passes   | Elapsed Time | Training-accuracy | Validation-accuracy |</pre>"
      ],
      "text/plain": [
       "| Iteration | Passes   | Elapsed Time | Training-accuracy | Validation-accuracy |"
      ]
     },
     "metadata": {},
     "output_type": "display_data"
    },
    {
     "data": {
      "text/html": [
       "<pre>+-----------+----------+--------------+-------------------+---------------------+</pre>"
      ],
      "text/plain": [
       "+-----------+----------+--------------+-------------------+---------------------+"
      ]
     },
     "metadata": {},
     "output_type": "display_data"
    },
    {
     "data": {
      "text/html": [
       "<pre>| 1         | 2        | 0.171700     | 0.530243          | 0.530010            |</pre>"
      ],
      "text/plain": [
       "| 1         | 2        | 0.171700     | 0.530243          | 0.530010            |"
      ]
     },
     "metadata": {},
     "output_type": "display_data"
    },
    {
     "data": {
      "text/html": [
       "<pre>| 2         | 3        | 0.290582     | 0.534688          | 0.527151            |</pre>"
      ],
      "text/plain": [
       "| 2         | 3        | 0.290582     | 0.534688          | 0.527151            |"
      ]
     },
     "metadata": {},
     "output_type": "display_data"
    },
    {
     "data": {
      "text/html": [
       "<pre>| 3         | 4        | 0.402009     | 0.535164          | 0.528422            |</pre>"
      ],
      "text/plain": [
       "| 3         | 4        | 0.402009     | 0.535164          | 0.528422            |"
      ]
     },
     "metadata": {},
     "output_type": "display_data"
    },
    {
     "data": {
      "text/html": [
       "<pre>| 4         | 5        | 0.520443     | 0.535085          | 0.528739            |</pre>"
      ],
      "text/plain": [
       "| 4         | 5        | 0.520443     | 0.535085          | 0.528739            |"
      ]
     },
     "metadata": {},
     "output_type": "display_data"
    },
    {
     "data": {
      "text/html": [
       "<pre>| 5         | 6        | 0.632263     | 0.535085          | 0.528739            |</pre>"
      ],
      "text/plain": [
       "| 5         | 6        | 0.632263     | 0.535085          | 0.528739            |"
      ]
     },
     "metadata": {},
     "output_type": "display_data"
    },
    {
     "data": {
      "text/html": [
       "<pre>+-----------+----------+--------------+-------------------+---------------------+</pre>"
      ],
      "text/plain": [
       "+-----------+----------+--------------+-------------------+---------------------+"
      ]
     },
     "metadata": {},
     "output_type": "display_data"
    },
    {
     "data": {
      "text/html": [
       "<pre>SUCCESS: Optimal solution found.</pre>"
      ],
      "text/plain": [
       "SUCCESS: Optimal solution found."
      ]
     },
     "metadata": {},
     "output_type": "display_data"
    },
    {
     "data": {
      "text/html": [
       "<pre></pre>"
      ],
      "text/plain": []
     },
     "metadata": {},
     "output_type": "display_data"
    },
    {
     "data": {
      "text/html": [
       "<pre>WARNING: Detected extremely low variance for feature(s) 'home_player_Y2', 'away_player_Y2', 'away_player_Y3' because all entries are nearly the same.\n",
       "Proceeding with model training using all features. If the model does not provide results of adequate quality, exclude the above mentioned feature(s) from the input dataset.</pre>"
      ],
      "text/plain": [
       "WARNING: Detected extremely low variance for feature(s) 'home_player_Y2', 'away_player_Y2', 'away_player_Y3' because all entries are nearly the same.\n",
       "Proceeding with model training using all features. If the model does not provide results of adequate quality, exclude the above mentioned feature(s) from the input dataset."
      ]
     },
     "metadata": {},
     "output_type": "display_data"
    },
    {
     "data": {
      "text/html": [
       "<pre>Logistic regression:</pre>"
      ],
      "text/plain": [
       "Logistic regression:"
      ]
     },
     "metadata": {},
     "output_type": "display_data"
    },
    {
     "data": {
      "text/html": [
       "<pre>--------------------------------------------------------</pre>"
      ],
      "text/plain": [
       "--------------------------------------------------------"
      ]
     },
     "metadata": {},
     "output_type": "display_data"
    },
    {
     "data": {
      "text/html": [
       "<pre>Number of examples          : 12598</pre>"
      ],
      "text/plain": [
       "Number of examples          : 12598"
      ]
     },
     "metadata": {},
     "output_type": "display_data"
    },
    {
     "data": {
      "text/html": [
       "<pre>Number of classes           : 3</pre>"
      ],
      "text/plain": [
       "Number of classes           : 3"
      ]
     },
     "metadata": {},
     "output_type": "display_data"
    },
    {
     "data": {
      "text/html": [
       "<pre>Number of feature columns   : 55</pre>"
      ],
      "text/plain": [
       "Number of feature columns   : 55"
      ]
     },
     "metadata": {},
     "output_type": "display_data"
    },
    {
     "data": {
      "text/html": [
       "<pre>Number of unpacked features : 55</pre>"
      ],
      "text/plain": [
       "Number of unpacked features : 55"
      ]
     },
     "metadata": {},
     "output_type": "display_data"
    },
    {
     "data": {
      "text/html": [
       "<pre>Number of coefficients    : 112</pre>"
      ],
      "text/plain": [
       "Number of coefficients    : 112"
      ]
     },
     "metadata": {},
     "output_type": "display_data"
    },
    {
     "data": {
      "text/html": [
       "<pre>Starting Newton Method</pre>"
      ],
      "text/plain": [
       "Starting Newton Method"
      ]
     },
     "metadata": {},
     "output_type": "display_data"
    },
    {
     "data": {
      "text/html": [
       "<pre>--------------------------------------------------------</pre>"
      ],
      "text/plain": [
       "--------------------------------------------------------"
      ]
     },
     "metadata": {},
     "output_type": "display_data"
    },
    {
     "data": {
      "text/html": [
       "<pre>+-----------+----------+--------------+-------------------+---------------------+</pre>"
      ],
      "text/plain": [
       "+-----------+----------+--------------+-------------------+---------------------+"
      ]
     },
     "metadata": {},
     "output_type": "display_data"
    },
    {
     "data": {
      "text/html": [
       "<pre>| Iteration | Passes   | Elapsed Time | Training-accuracy | Validation-accuracy |</pre>"
      ],
      "text/plain": [
       "| Iteration | Passes   | Elapsed Time | Training-accuracy | Validation-accuracy |"
      ]
     },
     "metadata": {},
     "output_type": "display_data"
    },
    {
     "data": {
      "text/html": [
       "<pre>+-----------+----------+--------------+-------------------+---------------------+</pre>"
      ],
      "text/plain": [
       "+-----------+----------+--------------+-------------------+---------------------+"
      ]
     },
     "metadata": {},
     "output_type": "display_data"
    },
    {
     "data": {
      "text/html": [
       "<pre>| 1         | 2        | 0.172361     | 0.526512          | 0.542394            |</pre>"
      ],
      "text/plain": [
       "| 1         | 2        | 0.172361     | 0.526512          | 0.542394            |"
      ]
     },
     "metadata": {},
     "output_type": "display_data"
    },
    {
     "data": {
      "text/html": [
       "<pre>| 2         | 3        | 0.285408     | 0.529767          | 0.543347            |</pre>"
      ],
      "text/plain": [
       "| 2         | 3        | 0.285408     | 0.529767          | 0.543347            |"
      ]
     },
     "metadata": {},
     "output_type": "display_data"
    },
    {
     "data": {
      "text/html": [
       "<pre>| 3         | 4        | 0.401147     | 0.530005          | 0.543347            |</pre>"
      ],
      "text/plain": [
       "| 3         | 4        | 0.401147     | 0.530005          | 0.543347            |"
      ]
     },
     "metadata": {},
     "output_type": "display_data"
    },
    {
     "data": {
      "text/html": [
       "<pre>| 4         | 5        | 0.524673     | 0.529687          | 0.543347            |</pre>"
      ],
      "text/plain": [
       "| 4         | 5        | 0.524673     | 0.529687          | 0.543347            |"
      ]
     },
     "metadata": {},
     "output_type": "display_data"
    },
    {
     "data": {
      "text/html": [
       "<pre>| 5         | 6        | 0.635208     | 0.529687          | 0.543347            |</pre>"
      ],
      "text/plain": [
       "| 5         | 6        | 0.635208     | 0.529687          | 0.543347            |"
      ]
     },
     "metadata": {},
     "output_type": "display_data"
    },
    {
     "data": {
      "text/html": [
       "<pre>+-----------+----------+--------------+-------------------+---------------------+</pre>"
      ],
      "text/plain": [
       "+-----------+----------+--------------+-------------------+---------------------+"
      ]
     },
     "metadata": {},
     "output_type": "display_data"
    },
    {
     "data": {
      "text/html": [
       "<pre>SUCCESS: Optimal solution found.</pre>"
      ],
      "text/plain": [
       "SUCCESS: Optimal solution found."
      ]
     },
     "metadata": {},
     "output_type": "display_data"
    },
    {
     "data": {
      "text/html": [
       "<pre></pre>"
      ],
      "text/plain": []
     },
     "metadata": {},
     "output_type": "display_data"
    },
    {
     "data": {
      "text/html": [
       "<pre>WARNING: Detected extremely low variance for feature(s) 'home_player_Y2', 'away_player_Y2', 'away_player_Y3' because all entries are nearly the same.\n",
       "Proceeding with model training using all features. If the model does not provide results of adequate quality, exclude the above mentioned feature(s) from the input dataset.</pre>"
      ],
      "text/plain": [
       "WARNING: Detected extremely low variance for feature(s) 'home_player_Y2', 'away_player_Y2', 'away_player_Y3' because all entries are nearly the same.\n",
       "Proceeding with model training using all features. If the model does not provide results of adequate quality, exclude the above mentioned feature(s) from the input dataset."
      ]
     },
     "metadata": {},
     "output_type": "display_data"
    },
    {
     "data": {
      "text/html": [
       "<pre>Logistic regression:</pre>"
      ],
      "text/plain": [
       "Logistic regression:"
      ]
     },
     "metadata": {},
     "output_type": "display_data"
    },
    {
     "data": {
      "text/html": [
       "<pre>--------------------------------------------------------</pre>"
      ],
      "text/plain": [
       "--------------------------------------------------------"
      ]
     },
     "metadata": {},
     "output_type": "display_data"
    },
    {
     "data": {
      "text/html": [
       "<pre>Number of examples          : 12598</pre>"
      ],
      "text/plain": [
       "Number of examples          : 12598"
      ]
     },
     "metadata": {},
     "output_type": "display_data"
    },
    {
     "data": {
      "text/html": [
       "<pre>Number of classes           : 3</pre>"
      ],
      "text/plain": [
       "Number of classes           : 3"
      ]
     },
     "metadata": {},
     "output_type": "display_data"
    },
    {
     "data": {
      "text/html": [
       "<pre>Number of feature columns   : 55</pre>"
      ],
      "text/plain": [
       "Number of feature columns   : 55"
      ]
     },
     "metadata": {},
     "output_type": "display_data"
    },
    {
     "data": {
      "text/html": [
       "<pre>Number of unpacked features : 55</pre>"
      ],
      "text/plain": [
       "Number of unpacked features : 55"
      ]
     },
     "metadata": {},
     "output_type": "display_data"
    },
    {
     "data": {
      "text/html": [
       "<pre>Number of coefficients    : 112</pre>"
      ],
      "text/plain": [
       "Number of coefficients    : 112"
      ]
     },
     "metadata": {},
     "output_type": "display_data"
    },
    {
     "data": {
      "text/html": [
       "<pre>Starting Newton Method</pre>"
      ],
      "text/plain": [
       "Starting Newton Method"
      ]
     },
     "metadata": {},
     "output_type": "display_data"
    },
    {
     "data": {
      "text/html": [
       "<pre>--------------------------------------------------------</pre>"
      ],
      "text/plain": [
       "--------------------------------------------------------"
      ]
     },
     "metadata": {},
     "output_type": "display_data"
    },
    {
     "data": {
      "text/html": [
       "<pre>+-----------+----------+--------------+-------------------+---------------------+</pre>"
      ],
      "text/plain": [
       "+-----------+----------+--------------+-------------------+---------------------+"
      ]
     },
     "metadata": {},
     "output_type": "display_data"
    },
    {
     "data": {
      "text/html": [
       "<pre>| Iteration | Passes   | Elapsed Time | Training-accuracy | Validation-accuracy |</pre>"
      ],
      "text/plain": [
       "| Iteration | Passes   | Elapsed Time | Training-accuracy | Validation-accuracy |"
      ]
     },
     "metadata": {},
     "output_type": "display_data"
    },
    {
     "data": {
      "text/html": [
       "<pre>+-----------+----------+--------------+-------------------+---------------------+</pre>"
      ],
      "text/plain": [
       "+-----------+----------+--------------+-------------------+---------------------+"
      ]
     },
     "metadata": {},
     "output_type": "display_data"
    },
    {
     "data": {
      "text/html": [
       "<pre>| 1         | 2        | 0.178313     | 0.526433          | 0.544935            |</pre>"
      ],
      "text/plain": [
       "| 1         | 2        | 0.178313     | 0.526433          | 0.544935            |"
      ]
     },
     "metadata": {},
     "output_type": "display_data"
    },
    {
     "data": {
      "text/html": [
       "<pre>| 2         | 3        | 0.292984     | 0.528655          | 0.544300            |</pre>"
      ],
      "text/plain": [
       "| 2         | 3        | 0.292984     | 0.528655          | 0.544300            |"
      ]
     },
     "metadata": {},
     "output_type": "display_data"
    },
    {
     "data": {
      "text/html": [
       "<pre>| 3         | 4        | 0.405852     | 0.528576          | 0.543982            |</pre>"
      ],
      "text/plain": [
       "| 3         | 4        | 0.405852     | 0.528576          | 0.543982            |"
      ]
     },
     "metadata": {},
     "output_type": "display_data"
    },
    {
     "data": {
      "text/html": [
       "<pre>| 4         | 5        | 0.514648     | 0.528497          | 0.543982            |</pre>"
      ],
      "text/plain": [
       "| 4         | 5        | 0.514648     | 0.528497          | 0.543982            |"
      ]
     },
     "metadata": {},
     "output_type": "display_data"
    },
    {
     "data": {
      "text/html": [
       "<pre>+-----------+----------+--------------+-------------------+---------------------+</pre>"
      ],
      "text/plain": [
       "+-----------+----------+--------------+-------------------+---------------------+"
      ]
     },
     "metadata": {},
     "output_type": "display_data"
    },
    {
     "data": {
      "text/html": [
       "<pre>SUCCESS: Optimal solution found.</pre>"
      ],
      "text/plain": [
       "SUCCESS: Optimal solution found."
      ]
     },
     "metadata": {},
     "output_type": "display_data"
    },
    {
     "data": {
      "text/html": [
       "<pre></pre>"
      ],
      "text/plain": []
     },
     "metadata": {},
     "output_type": "display_data"
    }
   ],
   "source": [
    "model_kfolds=[]\n",
    "for train,valid in folds:\n",
    "    #(train,valid) = folds[i]\n",
    "    model = gl.logistic_classifier.create(train,\n",
    "                                                   target='Output',\n",
    "                                                 features=['country_id', 'league_id', 'season', 'stage', 'date',\n",
    "       'match_api_id', 'home_team_api_id', 'away_team_api_id',\n",
    "       'home_player_X1', 'home_player_X2', 'home_player_X3',\n",
    "       'home_player_X4', 'home_player_X5', 'home_player_X6',\n",
    "       'home_player_X7', 'home_player_X8', 'home_player_X9',\n",
    "       'home_player_X10', 'home_player_X11', 'away_player_X1',\n",
    "       'away_player_X2', 'away_player_X3', 'away_player_X4',\n",
    "       'away_player_X5', 'away_player_X6', 'away_player_X7',\n",
    "       'away_player_X8', 'away_player_X9', 'away_player_X10',\n",
    "       'away_player_X11', 'home_player_Y1', 'home_player_Y2',\n",
    "       'home_player_Y3', 'home_player_Y4', 'home_player_Y5',\n",
    "       'home_player_Y6', 'home_player_Y7', 'home_player_Y8',\n",
    "       'home_player_Y9', 'home_player_Y10', 'home_player_Y11',\n",
    "       'away_player_Y1', 'away_player_Y2', 'away_player_Y3',\n",
    "       'away_player_Y4', 'away_player_Y5', 'away_player_Y6',\n",
    "       'away_player_Y7', 'away_player_Y8', 'away_player_Y9',\n",
    "       'away_player_Y10', 'away_player_Y11','B365H', 'B365D', 'B365A'],\n",
    "                                                validation_set=valid)\n",
    "    model_kfolds.append(model)\n",
    "    \n"
   ]
  },
  {
   "cell_type": "code",
   "execution_count": 17,
   "metadata": {
    "collapsed": false
   },
   "outputs": [],
   "source": [
    "#result=pure_model.evaluate(test_data)\n",
    "result=[]\n",
    "for model in model_kfolds:\n",
    "    result.append(model.evaluate(test_data))"
   ]
  },
  {
   "cell_type": "code",
   "execution_count": 18,
   "metadata": {
    "collapsed": false
   },
   "outputs": [
    {
     "data": {
      "text/plain": [
       "[{'accuracy': 0.5284194134440695,\n",
       "  'auc': 0.6526528046893878,\n",
       "  'confusion_matrix': Columns:\n",
       "  \ttarget_label\tstr\n",
       "  \tpredicted_label\tstr\n",
       "  \tcount\tint\n",
       "  \n",
       "  Rows: 9\n",
       "  \n",
       "  Data:\n",
       "  +--------------+-----------------+-------+\n",
       "  | target_label | predicted_label | count |\n",
       "  +--------------+-----------------+-------+\n",
       "  |      H       |        D        |   8   |\n",
       "  |      A       |        D        |   12  |\n",
       "  |      D       |        D        |   8   |\n",
       "  |      D       |        H        |  710  |\n",
       "  |      H       |        H        |  1495 |\n",
       "  |      H       |        A        |  249  |\n",
       "  |      D       |        A        |  252  |\n",
       "  |      A       |        A        |  533  |\n",
       "  |      A       |        H        |  586  |\n",
       "  +--------------+-----------------+-------+\n",
       "  [9 rows x 3 columns],\n",
       "  'f1_score': 0.3888554069777361,\n",
       "  'log_loss': 0.9841838473238556,\n",
       "  'precision': 0.4456128260263131,\n",
       "  'recall': 0.44427409759320313,\n",
       "  'roc_curve': Columns:\n",
       "  \tthreshold\tfloat\n",
       "  \tfpr\tfloat\n",
       "  \ttpr\tfloat\n",
       "  \tp\tint\n",
       "  \tn\tint\n",
       "  \tclass\tint\n",
       "  \n",
       "  Rows: 300003\n",
       "  \n",
       "  Data:\n",
       "  +-----------+----------------+-----+------+------+-------+\n",
       "  | threshold |      fpr       | tpr |  p   |  n   | class |\n",
       "  +-----------+----------------+-----+------+------+-------+\n",
       "  |    0.0    |      1.0       | 1.0 | 1131 | 2722 |   0   |\n",
       "  |   1e-05   | 0.999632623071 | 1.0 | 1131 | 2722 |   0   |\n",
       "  |   2e-05   | 0.999632623071 | 1.0 | 1131 | 2722 |   0   |\n",
       "  |   3e-05   | 0.999632623071 | 1.0 | 1131 | 2722 |   0   |\n",
       "  |   4e-05   | 0.999632623071 | 1.0 | 1131 | 2722 |   0   |\n",
       "  |   5e-05   | 0.999632623071 | 1.0 | 1131 | 2722 |   0   |\n",
       "  |   6e-05   | 0.999632623071 | 1.0 | 1131 | 2722 |   0   |\n",
       "  |   7e-05   | 0.999632623071 | 1.0 | 1131 | 2722 |   0   |\n",
       "  |   8e-05   | 0.999632623071 | 1.0 | 1131 | 2722 |   0   |\n",
       "  |   9e-05   | 0.999632623071 | 1.0 | 1131 | 2722 |   0   |\n",
       "  +-----------+----------------+-----+------+------+-------+\n",
       "  [300003 rows x 6 columns]\n",
       "  Note: Only the head of the SFrame is printed.\n",
       "  You can use print_rows(num_rows=m, num_columns=n) to print more rows and columns.},\n",
       " {'accuracy': 0.5242668050869452,\n",
       "  'auc': 0.6532557245341993,\n",
       "  'confusion_matrix': Columns:\n",
       "  \ttarget_label\tstr\n",
       "  \tpredicted_label\tstr\n",
       "  \tcount\tint\n",
       "  \n",
       "  Rows: 9\n",
       "  \n",
       "  Data:\n",
       "  +--------------+-----------------+-------+\n",
       "  | target_label | predicted_label | count |\n",
       "  +--------------+-----------------+-------+\n",
       "  |      A       |        D        |   8   |\n",
       "  |      D       |        D        |   6   |\n",
       "  |      H       |        D        |   11  |\n",
       "  |      H       |        H        |  1505 |\n",
       "  |      D       |        H        |  717  |\n",
       "  |      D       |        A        |  247  |\n",
       "  |      H       |        A        |  236  |\n",
       "  |      A       |        A        |  509  |\n",
       "  |      A       |        H        |  614  |\n",
       "  +--------------+-----------------+-------+\n",
       "  [9 rows x 3 columns],\n",
       "  'f1_score': 0.3825432379258673,\n",
       "  'log_loss': 0.983617354540887,\n",
       "  'precision': 0.42792728286091264,\n",
       "  'recall': 0.43841601350513004,\n",
       "  'roc_curve': Columns:\n",
       "  \tthreshold\tfloat\n",
       "  \tfpr\tfloat\n",
       "  \ttpr\tfloat\n",
       "  \tp\tint\n",
       "  \tn\tint\n",
       "  \tclass\tint\n",
       "  \n",
       "  Rows: 300003\n",
       "  \n",
       "  Data:\n",
       "  +-----------+----------------+-----+------+------+-------+\n",
       "  | threshold |      fpr       | tpr |  p   |  n   | class |\n",
       "  +-----------+----------------+-----+------+------+-------+\n",
       "  |    0.0    |      1.0       | 1.0 | 1131 | 2722 |   0   |\n",
       "  |   1e-05   |      1.0       | 1.0 | 1131 | 2722 |   0   |\n",
       "  |   2e-05   |      1.0       | 1.0 | 1131 | 2722 |   0   |\n",
       "  |   3e-05   | 0.999632623071 | 1.0 | 1131 | 2722 |   0   |\n",
       "  |   4e-05   | 0.999632623071 | 1.0 | 1131 | 2722 |   0   |\n",
       "  |   5e-05   | 0.999632623071 | 1.0 | 1131 | 2722 |   0   |\n",
       "  |   6e-05   | 0.999632623071 | 1.0 | 1131 | 2722 |   0   |\n",
       "  |   7e-05   | 0.999632623071 | 1.0 | 1131 | 2722 |   0   |\n",
       "  |   8e-05   | 0.999632623071 | 1.0 | 1131 | 2722 |   0   |\n",
       "  |   9e-05   | 0.999632623071 | 1.0 | 1131 | 2722 |   0   |\n",
       "  +-----------+----------------+-----+------+------+-------+\n",
       "  [300003 rows x 6 columns]\n",
       "  Note: Only the head of the SFrame is printed.\n",
       "  You can use print_rows(num_rows=m, num_columns=n) to print more rows and columns.},\n",
       " {'accuracy': 0.5258240332208669,\n",
       "  'auc': 0.6565211030211825,\n",
       "  'confusion_matrix': Columns:\n",
       "  \ttarget_label\tstr\n",
       "  \tpredicted_label\tstr\n",
       "  \tcount\tint\n",
       "  \n",
       "  Rows: 9\n",
       "  \n",
       "  Data:\n",
       "  +--------------+-----------------+-------+\n",
       "  | target_label | predicted_label | count |\n",
       "  +--------------+-----------------+-------+\n",
       "  |      H       |        D        |   27  |\n",
       "  |      A       |        D        |   22  |\n",
       "  |      D       |        D        |   19  |\n",
       "  |      D       |        H        |  697  |\n",
       "  |      H       |        H        |  1489 |\n",
       "  |      H       |        A        |  236  |\n",
       "  |      D       |        A        |  254  |\n",
       "  |      A       |        A        |  518  |\n",
       "  |      A       |        H        |  591  |\n",
       "  +--------------+-----------------+-------+\n",
       "  [9 rows x 3 columns],\n",
       "  'f1_score': 0.3928292116642802,\n",
       "  'log_loss': 0.9824502417796135,\n",
       "  'precision': 0.4431635956106925,\n",
       "  'recall': 0.4424917473204779,\n",
       "  'roc_curve': Columns:\n",
       "  \tthreshold\tfloat\n",
       "  \tfpr\tfloat\n",
       "  \ttpr\tfloat\n",
       "  \tp\tint\n",
       "  \tn\tint\n",
       "  \tclass\tint\n",
       "  \n",
       "  Rows: 300003\n",
       "  \n",
       "  Data:\n",
       "  +-----------+----------------+-----+------+------+-------+\n",
       "  | threshold |      fpr       | tpr |  p   |  n   | class |\n",
       "  +-----------+----------------+-----+------+------+-------+\n",
       "  |    0.0    |      1.0       | 1.0 | 1131 | 2722 |   0   |\n",
       "  |   1e-05   |      1.0       | 1.0 | 1131 | 2722 |   0   |\n",
       "  |   2e-05   | 0.999632623071 | 1.0 | 1131 | 2722 |   0   |\n",
       "  |   3e-05   | 0.999632623071 | 1.0 | 1131 | 2722 |   0   |\n",
       "  |   4e-05   | 0.999632623071 | 1.0 | 1131 | 2722 |   0   |\n",
       "  |   5e-05   | 0.999632623071 | 1.0 | 1131 | 2722 |   0   |\n",
       "  |   6e-05   | 0.999632623071 | 1.0 | 1131 | 2722 |   0   |\n",
       "  |   7e-05   | 0.999632623071 | 1.0 | 1131 | 2722 |   0   |\n",
       "  |   8e-05   | 0.999632623071 | 1.0 | 1131 | 2722 |   0   |\n",
       "  |   9e-05   | 0.999632623071 | 1.0 | 1131 | 2722 |   0   |\n",
       "  +-----------+----------------+-----+------+------+-------+\n",
       "  [300003 rows x 6 columns]\n",
       "  Note: Only the head of the SFrame is printed.\n",
       "  You can use print_rows(num_rows=m, num_columns=n) to print more rows and columns.},\n",
       " {'accuracy': 0.5263431092655074,\n",
       "  'auc': 0.6549354976301381,\n",
       "  'confusion_matrix': Columns:\n",
       "  \ttarget_label\tstr\n",
       "  \tpredicted_label\tstr\n",
       "  \tcount\tint\n",
       "  \n",
       "  Rows: 9\n",
       "  \n",
       "  Data:\n",
       "  +--------------+-----------------+-------+\n",
       "  | target_label | predicted_label | count |\n",
       "  +--------------+-----------------+-------+\n",
       "  |      H       |        D        |   18  |\n",
       "  |      A       |        D        |   18  |\n",
       "  |      D       |        D        |   21  |\n",
       "  |      D       |        H        |  724  |\n",
       "  |      H       |        H        |  1511 |\n",
       "  |      H       |        A        |  223  |\n",
       "  |      D       |        A        |  225  |\n",
       "  |      A       |        A        |  496  |\n",
       "  |      A       |        H        |  617  |\n",
       "  +--------------+-----------------+-------+\n",
       "  [9 rows x 3 columns],\n",
       "  'f1_score': 0.39178461790825175,\n",
       "  'log_loss': 0.9824630639160944,\n",
       "  'precision': 0.4745494760029844,\n",
       "  'recall': 0.4408807875672823,\n",
       "  'roc_curve': Columns:\n",
       "  \tthreshold\tfloat\n",
       "  \tfpr\tfloat\n",
       "  \ttpr\tfloat\n",
       "  \tp\tint\n",
       "  \tn\tint\n",
       "  \tclass\tint\n",
       "  \n",
       "  Rows: 300003\n",
       "  \n",
       "  Data:\n",
       "  +-----------+----------------+-----+------+------+-------+\n",
       "  | threshold |      fpr       | tpr |  p   |  n   | class |\n",
       "  +-----------+----------------+-----+------+------+-------+\n",
       "  |    0.0    |      1.0       | 1.0 | 1131 | 2722 |   0   |\n",
       "  |   1e-05   |      1.0       | 1.0 | 1131 | 2722 |   0   |\n",
       "  |   2e-05   |      1.0       | 1.0 | 1131 | 2722 |   0   |\n",
       "  |   3e-05   |      1.0       | 1.0 | 1131 | 2722 |   0   |\n",
       "  |   4e-05   |      1.0       | 1.0 | 1131 | 2722 |   0   |\n",
       "  |   5e-05   | 0.999632623071 | 1.0 | 1131 | 2722 |   0   |\n",
       "  |   6e-05   | 0.999632623071 | 1.0 | 1131 | 2722 |   0   |\n",
       "  |   7e-05   | 0.999632623071 | 1.0 | 1131 | 2722 |   0   |\n",
       "  |   8e-05   | 0.999632623071 | 1.0 | 1131 | 2722 |   0   |\n",
       "  |   9e-05   | 0.999632623071 | 1.0 | 1131 | 2722 |   0   |\n",
       "  +-----------+----------------+-----+------+------+-------+\n",
       "  [300003 rows x 6 columns]\n",
       "  Note: Only the head of the SFrame is printed.\n",
       "  You can use print_rows(num_rows=m, num_columns=n) to print more rows and columns.},\n",
       " {'accuracy': 0.5258240332208669,\n",
       "  'auc': 0.6528051553133635,\n",
       "  'confusion_matrix': Columns:\n",
       "  \ttarget_label\tstr\n",
       "  \tpredicted_label\tstr\n",
       "  \tcount\tint\n",
       "  \n",
       "  Rows: 9\n",
       "  \n",
       "  Data:\n",
       "  +--------------+-----------------+-------+\n",
       "  | target_label | predicted_label | count |\n",
       "  +--------------+-----------------+-------+\n",
       "  |      A       |        D        |   23  |\n",
       "  |      D       |        D        |   24  |\n",
       "  |      H       |        D        |   27  |\n",
       "  |      D       |        H        |  704  |\n",
       "  |      H       |        H        |  1484 |\n",
       "  |      H       |        A        |  241  |\n",
       "  |      D       |        A        |  242  |\n",
       "  |      A       |        A        |  518  |\n",
       "  |      A       |        H        |  590  |\n",
       "  +--------------+-----------------+-------+\n",
       "  [9 rows x 3 columns],\n",
       "  'f1_score': 0.3956977849680828,\n",
       "  'log_loss': 0.985605370988062,\n",
       "  'precision': 0.4586680353419015,\n",
       "  'recall': 0.44325866661938423,\n",
       "  'roc_curve': Columns:\n",
       "  \tthreshold\tfloat\n",
       "  \tfpr\tfloat\n",
       "  \ttpr\tfloat\n",
       "  \tp\tint\n",
       "  \tn\tint\n",
       "  \tclass\tint\n",
       "  \n",
       "  Rows: 300003\n",
       "  \n",
       "  Data:\n",
       "  +-----------+----------------+-----+------+------+-------+\n",
       "  | threshold |      fpr       | tpr |  p   |  n   | class |\n",
       "  +-----------+----------------+-----+------+------+-------+\n",
       "  |    0.0    |      1.0       | 1.0 | 1131 | 2722 |   0   |\n",
       "  |   1e-05   | 0.999632623071 | 1.0 | 1131 | 2722 |   0   |\n",
       "  |   2e-05   | 0.999632623071 | 1.0 | 1131 | 2722 |   0   |\n",
       "  |   3e-05   | 0.999632623071 | 1.0 | 1131 | 2722 |   0   |\n",
       "  |   4e-05   | 0.999632623071 | 1.0 | 1131 | 2722 |   0   |\n",
       "  |   5e-05   | 0.999632623071 | 1.0 | 1131 | 2722 |   0   |\n",
       "  |   6e-05   | 0.999632623071 | 1.0 | 1131 | 2722 |   0   |\n",
       "  |   7e-05   | 0.999632623071 | 1.0 | 1131 | 2722 |   0   |\n",
       "  |   8e-05   | 0.999632623071 | 1.0 | 1131 | 2722 |   0   |\n",
       "  |   9e-05   | 0.999632623071 | 1.0 | 1131 | 2722 |   0   |\n",
       "  +-----------+----------------+-----+------+------+-------+\n",
       "  [300003 rows x 6 columns]\n",
       "  Note: Only the head of the SFrame is printed.\n",
       "  You can use print_rows(num_rows=m, num_columns=n) to print more rows and columns.}]"
      ]
     },
     "execution_count": 18,
     "metadata": {},
     "output_type": "execute_result"
    }
   ],
   "source": [
    "#pure_model.show(view='Evaluation')\n",
    "result"
   ]
  },
  {
   "cell_type": "code",
   "execution_count": 19,
   "metadata": {
    "collapsed": true
   },
   "outputs": [],
   "source": [
    "top = model.predict_topk(test_data, output_type='probability', k = 3)"
   ]
  },
  {
   "cell_type": "code",
   "execution_count": 20,
   "metadata": {
    "collapsed": false,
    "scrolled": true
   },
   "outputs": [
    {
     "name": "stdout",
     "output_type": "stream",
     "text": [
      "+----+-------+----------------+\n",
      "| id | class |  probability   |\n",
      "+----+-------+----------------+\n",
      "| 0  |   H   | 0.576467886553 |\n",
      "| 0  |   D   | 0.234468528222 |\n",
      "| 0  |   A   | 0.189063585225 |\n",
      "| 1  |   H   | 0.388531413143 |\n",
      "| 1  |   A   | 0.356242476119 |\n",
      "| 1  |   D   | 0.255226110738 |\n",
      "| 2  |   H   | 0.483082240589 |\n",
      "| 2  |   D   | 0.272892422591 |\n",
      "| 2  |   A   | 0.24402533682  |\n",
      "| 3  |   H   | 0.502684594609 |\n",
      "+----+-------+----------------+\n",
      "[11559 rows x 3 columns]\n",
      "Note: Only the head of the SFrame is printed.\n",
      "You can use print_rows(num_rows=m, num_columns=n) to print more rows and columns.\n"
     ]
    }
   ],
   "source": [
    "print top"
   ]
  },
  {
   "cell_type": "code",
   "execution_count": 21,
   "metadata": {
    "collapsed": true
   },
   "outputs": [],
   "source": [
    "pred = model.predict(test_data)"
   ]
  },
  {
   "cell_type": "code",
   "execution_count": 22,
   "metadata": {
    "collapsed": false
   },
   "outputs": [
    {
     "data": {
      "text/plain": [
       "0.5258240332208669"
      ]
     },
     "execution_count": 22,
     "metadata": {},
     "output_type": "execute_result"
    }
   ],
   "source": [
    "(test_data['Output']==pred).sum()/(len(pred)*1.0)"
   ]
  },
  {
   "cell_type": "code",
   "execution_count": null,
   "metadata": {
    "collapsed": true
   },
   "outputs": [],
   "source": []
  },
  {
   "cell_type": "code",
   "execution_count": 23,
   "metadata": {
    "collapsed": true
   },
   "outputs": [],
   "source": [
    "import re\n",
    "def def_formations(matches_positions):\n",
    "    pos=matches_positions.to_dataframe()\n",
    "    form=[]\n",
    "    for index,row in pos.iterrows():\n",
    "        b= row.values\n",
    "        dfs = (b <= 3).sum()\n",
    "        mid1 = ((b >= 4) & (b<=6)).sum()\n",
    "        mid2 = ((b >= 7) & (b<=9)).sum()\n",
    "        atk1 = ((b >= 10)).sum()\n",
    "        formation=\"%d-%d-%d-%d\"%(dfs,mid1,mid2,atk1)\n",
    "        formation = re.sub('0-','',formation)\n",
    "        form.append(formation)\n",
    "    return form\n"
   ]
  },
  {
   "cell_type": "code",
   "execution_count": 24,
   "metadata": {
    "collapsed": false
   },
   "outputs": [],
   "source": [
    "positions_home= pure_data[['home_player_Y2',\n",
    "                     'home_player_Y3',\n",
    "                     'home_player_Y4',\n",
    "                     'home_player_Y5',\n",
    "                     'home_player_Y6',\n",
    "                     'home_player_Y7',\n",
    "                     'home_player_Y8',\n",
    "                     'home_player_Y9',\n",
    "                     'home_player_Y10',\n",
    "                     'home_player_Y11']]\n",
    "positions_away = pure_data[['away_player_Y2',\n",
    "                     'away_player_Y3',\n",
    "                     'away_player_Y4',\n",
    "                     'away_player_Y5',\n",
    "                     'away_player_Y6',\n",
    "                     'away_player_Y7',\n",
    "                     'away_player_Y8',\n",
    "                     'away_player_Y9',\n",
    "                     'away_player_Y10',\n",
    "                     'away_player_Y11']]\n",
    "formation_home=def_formations(positions_home)\n",
    "formation_away=def_formations(positions_away)"
   ]
  },
  {
   "cell_type": "code",
   "execution_count": 25,
   "metadata": {
    "collapsed": false
   },
   "outputs": [
    {
     "data": {
      "text/plain": [
       "dtype: str\n",
       "Rows: 19\n",
       "['3-2-3-2', '3-5-2', '4-2-2-2', '3-1-4-2', '3-4-3', '4-4-2', '4-1-2-3', '4-2-1-3', '3-3-3-1', '4-3-2-1', '4-1-4-1', '4-3-1-2', '4-5-1', '5-3-2', '4-1-3-2', '4-3-3', '4-2-3-1', '3-6-1', '5-4-1']"
      ]
     },
     "execution_count": 25,
     "metadata": {},
     "output_type": "execute_result"
    }
   ],
   "source": [
    "pure_data['formation_h']=formation_home\n",
    "pure_data['formation_a']=formation_away\n",
    "\n",
    "pure_data['formation_a'].unique()"
   ]
  },
  {
   "cell_type": "code",
   "execution_count": 26,
   "metadata": {
    "collapsed": true
   },
   "outputs": [],
   "source": [
    "data= pure_data"
   ]
  },
  {
   "cell_type": "code",
   "execution_count": 27,
   "metadata": {
    "collapsed": false
   },
   "outputs": [],
   "source": [
    "data=pure_data.to_dataframe().drop(['home_player_X1', 'home_player_X2', 'home_player_X3',\n",
    "       'home_player_X4', 'home_player_X5', 'home_player_X6',\n",
    "       'home_player_X7', 'home_player_X8', 'home_player_X9',\n",
    "       'home_player_X10', 'home_player_X11', 'away_player_X1',\n",
    "       'away_player_X2', 'away_player_X3', 'away_player_X4',\n",
    "       'away_player_X5', 'away_player_X6', 'away_player_X7',\n",
    "       'away_player_X8', 'away_player_X9', 'away_player_X10',\n",
    "       'away_player_X11', 'home_player_Y1', 'home_player_Y2',\n",
    "       'home_player_Y3', 'home_player_Y4', 'home_player_Y5',\n",
    "       'home_player_Y6', 'home_player_Y7', 'home_player_Y8',\n",
    "       'home_player_Y9', 'home_player_Y10', 'home_player_Y11',\n",
    "       'away_player_Y1', 'away_player_Y2', 'away_player_Y3',\n",
    "       'away_player_Y4', 'away_player_Y5', 'away_player_Y6',\n",
    "       'away_player_Y7', 'away_player_Y8', 'away_player_Y9',\n",
    "       'away_player_Y10', 'away_player_Y11'],1)"
   ]
  },
  {
   "cell_type": "code",
   "execution_count": 28,
   "metadata": {
    "collapsed": false
   },
   "outputs": [
    {
     "data": {
      "application/javascript": [
       "$(\"head\").append($(\"<link/>\").attr({\n",
       "  rel:  \"stylesheet\",\n",
       "  type: \"text/css\",\n",
       "  href: \"//cdnjs.cloudflare.com/ajax/libs/font-awesome/4.1.0/css/font-awesome.min.css\"\n",
       "}));\n",
       "$(\"head\").append($(\"<link/>\").attr({\n",
       "  rel:  \"stylesheet\",\n",
       "  type: \"text/css\",\n",
       "  href: \"https://static.turi.com/products/graphlab-create/2.1/canvas/css/canvas.css\"\n",
       "}));\n",
       "\n",
       "            (function(){\n",
       "\n",
       "                var e = null;\n",
       "                if (typeof element == 'undefined') {\n",
       "                    var scripts = document.getElementsByTagName('script');\n",
       "                    var thisScriptTag = scripts[scripts.length-1];\n",
       "                    var parentDiv = thisScriptTag.parentNode;\n",
       "                    e = document.createElement('div');\n",
       "                    parentDiv.appendChild(e);\n",
       "                } else {\n",
       "                    e = element[0];\n",
       "                }\n",
       "\n",
       "                if (typeof requirejs !== 'undefined') {\n",
       "                    // disable load timeout; ipython_app.js is large and can take a while to load.\n",
       "                    requirejs.config({waitSeconds: 0});\n",
       "                }\n",
       "\n",
       "                require(['https://static.turi.com/products/graphlab-create/2.1/canvas/js/ipython_app.js'], function(IPythonApp){\n",
       "                    var app = new IPythonApp();\n",
       "                    app.attachView('sframe','Summary', {\"ipython\": true, \"sketch\": {\"match_api_id\": {\"std\": 481431.060319974, \"complete\": true, \"min\": 483130.0, \"max\": 2216671.0, \"quantile\": [483130.0, 483365.0, 489117.0, 489324.0, 490140.0, 499514.0, 530143.0, 530651.0, 539768.0, 653950.0, 654413.0, 658676.0, 658926.0, 659143.0, 662434.0, 665721.0, 674453.0, 684719.0, 685180.0, 704548.0, 705341.0, 830063.0, 830476.0, 836494.0, 838632.0, 839890.0, 840135.0, 840346.0, 857027.0, 859679.0, 875565.0, 875885.0, 888298.0, 888512.0, 1019626.0, 1020203.0, 1024499.0, 1025102.0, 1028526.0, 1028939.0, 1030153.0, 1032733.0, 1042854.0, 1051685.0, 1051883.0, 1083018.0, 1083312.0, 1216904.0, 1217114.0, 1222911.0, 1224019.0, 1228236.0, 1229225.0, 1229441.0, 1239506.0, 1239703.0, 1256617.0, 1260098.0, 1260300.0, 1287126.0, 1287323.0, 1468312.0, 1468550.0, 1473189.0, 1474186.0, 1474424.0, 1474998.0, 1479083.0, 1479286.0, 1498355.0, 1506010.0, 1536540.0, 1536751.0, 1709736.0, 1709941.0, 1712457.0, 1712657.0, 1717991.0, 1724123.0, 1724323.0, 1726204.0, 1732904.0, 1748824.0, 1778086.0, 1778291.0, 1786065.0, 1786319.0, 1979938.0, 1983363.0, 1987032.0, 1988898.0, 1989796.0, 1990014.0, 1990910.0, 2002173.0, 2002431.0, 2016010.0, 2030210.0, 2030497.0, 2060444.0, 2216671.0], \"median\": 1224019.0, \"numeric\": true, \"num_unique\": 19612, \"num_undefined\": 0, \"var\": 231775865840.81445, \"progress\": 1.0, \"size\": 19600, \"frequent_items\": {\"838656\": {\"frequency\": 1, \"value\": 838656}, \"838657\": {\"frequency\": 1, \"value\": 838657}, \"838658\": {\"frequency\": 1, \"value\": 838658}, \"665603\": {\"frequency\": 1, \"value\": 665603}, \"665604\": {\"frequency\": 1, \"value\": 665604}, \"493061\": {\"frequency\": 1, \"value\": 493061}, \"493062\": {\"frequency\": 1, \"value\": 493062}, \"838664\": {\"frequency\": 1, \"value\": 838664}, \"838665\": {\"frequency\": 1, \"value\": 838665}, \"838667\": {\"frequency\": 1, \"value\": 838667}, \"838669\": {\"frequency\": 1, \"value\": 838669}, \"838671\": {\"frequency\": 1, \"value\": 838671}, \"838673\": {\"frequency\": 1, \"value\": 838673}, \"665619\": {\"frequency\": 1, \"value\": 665619}, \"838676\": {\"frequency\": 1, \"value\": 838676}, \"838680\": {\"frequency\": 1, \"value\": 838680}, \"838681\": {\"frequency\": 1, \"value\": 838681}, \"493082\": {\"frequency\": 1, \"value\": 493082}, \"838684\": {\"frequency\": 1, \"value\": 838684}, \"838686\": {\"frequency\": 1, \"value\": 838686}, \"838661\": {\"frequency\": 1, \"value\": 838661}, \"665632\": {\"frequency\": 1, \"value\": 665632}, \"493089\": {\"frequency\": 1, \"value\": 493089}, \"665634\": {\"frequency\": 1, \"value\": 665634}, \"493092\": {\"frequency\": 1, \"value\": 493092}, \"493094\": {\"frequency\": 1, \"value\": 493094}, \"665639\": {\"frequency\": 1, \"value\": 665639}, \"838696\": {\"frequency\": 1, \"value\": 838696}, \"665641\": {\"frequency\": 1, \"value\": 665641}, \"838699\": {\"frequency\": 1, \"value\": 838699}, \"838702\": {\"frequency\": 1, \"value\": 838702}, \"665647\": {\"frequency\": 1, \"value\": 665647}, \"493105\": {\"frequency\": 1, \"value\": 493105}, \"493106\": {\"frequency\": 1, \"value\": 493106}, \"493107\": {\"frequency\": 1, \"value\": 493107}, \"665653\": {\"frequency\": 1, \"value\": 665653}, \"665655\": {\"frequency\": 1, \"value\": 665655}, \"838712\": {\"frequency\": 1, \"value\": 838712}, \"665657\": {\"frequency\": 1, \"value\": 665657}, \"838714\": {\"frequency\": 1, \"value\": 838714}, \"665659\": {\"frequency\": 1, \"value\": 665659}, \"838716\": {\"frequency\": 1, \"value\": 838716}, \"838718\": {\"frequency\": 1, \"value\": 838718}, \"838720\": {\"frequency\": 1, \"value\": 838720}, \"838721\": {\"frequency\": 1, \"value\": 838721}, \"665666\": {\"frequency\": 1, \"value\": 665666}, \"665672\": {\"frequency\": 1, \"value\": 665672}, \"665674\": {\"frequency\": 1, \"value\": 665674}, \"665675\": {\"frequency\": 1, \"value\": 665675}, \"665679\": {\"frequency\": 1, \"value\": 665679}, \"665680\": {\"frequency\": 1, \"value\": 665680}, \"665681\": {\"frequency\": 1, \"value\": 665681}, \"665686\": {\"frequency\": 1, \"value\": 665686}, \"665687\": {\"frequency\": 1, \"value\": 665687}, \"665689\": {\"frequency\": 1, \"value\": 665689}, \"665695\": {\"frequency\": 1, \"value\": 665695}, \"665698\": {\"frequency\": 1, \"value\": 665698}, \"665699\": {\"frequency\": 1, \"value\": 665699}, \"665700\": {\"frequency\": 1, \"value\": 665700}, \"665702\": {\"frequency\": 1, \"value\": 665702}, \"665704\": {\"frequency\": 1, \"value\": 665704}, \"665712\": {\"frequency\": 2, \"value\": 665712}, \"838675\": {\"frequency\": 1, \"value\": 838675}, \"665719\": {\"frequency\": 1, \"value\": 665719}, \"665721\": {\"frequency\": 1, \"value\": 665721}, \"665727\": {\"frequency\": 1, \"value\": 665727}, \"665728\": {\"frequency\": 1, \"value\": 665728}, \"665729\": {\"frequency\": 1, \"value\": 665729}, \"665730\": {\"frequency\": 1, \"value\": 665730}, \"838654\": {\"frequency\": 1, \"value\": 838654}, \"665733\": {\"frequency\": 1, \"value\": 665733}, \"665737\": {\"frequency\": 1, \"value\": 665737}, \"665739\": {\"frequency\": 1, \"value\": 665739}, \"665741\": {\"frequency\": 1, \"value\": 665741}, \"665745\": {\"frequency\": 1, \"value\": 665745}, \"665749\": {\"frequency\": 1, \"value\": 665749}, \"665753\": {\"frequency\": 1, \"value\": 665753}, \"665626\": {\"frequency\": 1, \"value\": 665626}, \"838597\": {\"frequency\": 1, \"value\": 838597}, \"665763\": {\"frequency\": 1, \"value\": 665763}, \"665767\": {\"frequency\": 1, \"value\": 665767}, \"665771\": {\"frequency\": 1, \"value\": 665771}, \"665775\": {\"frequency\": 1, \"value\": 665775}, \"838688\": {\"frequency\": 1, \"value\": 838688}, \"838603\": {\"frequency\": 1, \"value\": 838603}, \"838689\": {\"frequency\": 1, \"value\": 838689}, \"838604\": {\"frequency\": 1, \"value\": 838604}, \"838692\": {\"frequency\": 1, \"value\": 838692}, \"838599\": {\"frequency\": 1, \"value\": 838599}, \"838694\": {\"frequency\": 1, \"value\": 838694}, \"665321\": {\"frequency\": 1, \"value\": 665321}, \"665322\": {\"frequency\": 1, \"value\": 665322}, \"838695\": {\"frequency\": 1, \"value\": 838695}, \"665326\": {\"frequency\": 1, \"value\": 665326}, \"665327\": {\"frequency\": 1, \"value\": 665327}, \"665329\": {\"frequency\": 1, \"value\": 665329}, \"665330\": {\"frequency\": 1, \"value\": 665330}, \"665332\": {\"frequency\": 1, \"value\": 665332}, \"665333\": {\"frequency\": 1, \"value\": 665333}, \"665334\": {\"frequency\": 1, \"value\": 665334}, \"493097\": {\"frequency\": 1, \"value\": 493097}, \"665337\": {\"frequency\": 1, \"value\": 665337}, \"665340\": {\"frequency\": 1, \"value\": 665340}, \"665342\": {\"frequency\": 1, \"value\": 665342}, \"665345\": {\"frequency\": 1, \"value\": 665345}, \"665346\": {\"frequency\": 1, \"value\": 665346}, \"665349\": {\"frequency\": 1, \"value\": 665349}, \"665352\": {\"frequency\": 1, \"value\": 665352}, \"665353\": {\"frequency\": 1, \"value\": 665353}, \"665354\": {\"frequency\": 1, \"value\": 665354}, \"665357\": {\"frequency\": 1, \"value\": 665357}, \"665360\": {\"frequency\": 1, \"value\": 665360}, \"665361\": {\"frequency\": 1, \"value\": 665361}, \"665362\": {\"frequency\": 1, \"value\": 665362}, \"665364\": {\"frequency\": 1, \"value\": 665364}, \"665368\": {\"frequency\": 1, \"value\": 665368}, \"665370\": {\"frequency\": 1, \"value\": 665370}, \"493103\": {\"frequency\": 1, \"value\": 493103}, \"665374\": {\"frequency\": 1, \"value\": 665374}, \"665376\": {\"frequency\": 1, \"value\": 665376}, \"665380\": {\"frequency\": 1, \"value\": 665380}, \"665633\": {\"frequency\": 1, \"value\": 665633}, \"665384\": {\"frequency\": 1, \"value\": 665384}, \"665385\": {\"frequency\": 1, \"value\": 665385}, \"665393\": {\"frequency\": 1, \"value\": 665393}, \"838707\": {\"frequency\": 1, \"value\": 838707}, \"665396\": {\"frequency\": 1, \"value\": 665396}, \"665402\": {\"frequency\": 1, \"value\": 665402}, \"665405\": {\"frequency\": 1, \"value\": 665405}, \"838709\": {\"frequency\": 1, \"value\": 838709}, \"665411\": {\"frequency\": 1, \"value\": 665411}, \"838468\": {\"frequency\": 1, \"value\": 838468}, \"838625\": {\"frequency\": 1, \"value\": 838625}, \"665417\": {\"frequency\": 1, \"value\": 665417}, \"838476\": {\"frequency\": 1, \"value\": 838476}, \"665421\": {\"frequency\": 1, \"value\": 665421}, \"838478\": {\"frequency\": 1, \"value\": 838478}, \"665425\": {\"frequency\": 1, \"value\": 665425}, \"838482\": {\"frequency\": 1, \"value\": 838482}, \"665427\": {\"frequency\": 1, \"value\": 665427}, \"665429\": {\"frequency\": 1, \"value\": 665429}, \"665430\": {\"frequency\": 1, \"value\": 665430}, \"838489\": {\"frequency\": 1, \"value\": 838489}, \"665435\": {\"frequency\": 1, \"value\": 665435}, \"665438\": {\"frequency\": 1, \"value\": 665438}, \"665443\": {\"frequency\": 1, \"value\": 665443}, \"665445\": {\"frequency\": 1, \"value\": 665445}, \"665323\": {\"frequency\": 1, \"value\": 665323}, \"838640\": {\"frequency\": 1, \"value\": 838640}, \"665757\": {\"frequency\": 1, \"value\": 665757}, \"838581\": {\"frequency\": 1, \"value\": 838581}, \"838582\": {\"frequency\": 1, \"value\": 838582}, \"838473\": {\"frequency\": 1, \"value\": 838473}, \"838585\": {\"frequency\": 1, \"value\": 838585}, \"838586\": {\"frequency\": 1, \"value\": 838586}, \"838587\": {\"frequency\": 1, \"value\": 838587}, \"838588\": {\"frequency\": 1, \"value\": 838588}, \"838590\": {\"frequency\": 1, \"value\": 838590}, \"838591\": {\"frequency\": 1, \"value\": 838591}, \"665536\": {\"frequency\": 1, \"value\": 665536}, \"838593\": {\"frequency\": 1, \"value\": 838593}, \"838594\": {\"frequency\": 1, \"value\": 838594}, \"838596\": {\"frequency\": 1, \"value\": 838596}, \"665541\": {\"frequency\": 1, \"value\": 665541}, \"838598\": {\"frequency\": 1, \"value\": 838598}, \"665543\": {\"frequency\": 1, \"value\": 665543}, \"838600\": {\"frequency\": 1, \"value\": 838600}, \"665335\": {\"frequency\": 1, \"value\": 665335}, \"665548\": {\"frequency\": 1, \"value\": 665548}, \"838605\": {\"frequency\": 1, \"value\": 838605}, \"838606\": {\"frequency\": 1, \"value\": 838606}, \"838607\": {\"frequency\": 1, \"value\": 838607}, \"665554\": {\"frequency\": 1, \"value\": 665554}, \"665556\": {\"frequency\": 1, \"value\": 665556}, \"493017\": {\"frequency\": 1, \"value\": 493017}, \"838621\": {\"frequency\": 1, \"value\": 838621}, \"838622\": {\"frequency\": 1, \"value\": 838622}, \"838623\": {\"frequency\": 1, \"value\": 838623}, \"493025\": {\"frequency\": 1, \"value\": 493025}, \"665570\": {\"frequency\": 1, \"value\": 665570}, \"493027\": {\"frequency\": 1, \"value\": 493027}, \"838481\": {\"frequency\": 1, \"value\": 838481}, \"665574\": {\"frequency\": 1, \"value\": 665574}, \"665575\": {\"frequency\": 1, \"value\": 665575}, \"838632\": {\"frequency\": 1, \"value\": 838632}, \"838652\": {\"frequency\": 1, \"value\": 838652}, \"493034\": {\"frequency\": 1, \"value\": 493034}, \"838636\": {\"frequency\": 1, \"value\": 838636}, \"838639\": {\"frequency\": 1, \"value\": 838639}, \"493040\": {\"frequency\": 1, \"value\": 493040}, \"665586\": {\"frequency\": 1, \"value\": 665586}, \"838644\": {\"frequency\": 1, \"value\": 838644}, \"493045\": {\"frequency\": 1, \"value\": 493045}, \"838646\": {\"frequency\": 1, \"value\": 838646}, \"665591\": {\"frequency\": 1, \"value\": 665591}, \"493048\": {\"frequency\": 1, \"value\": 493048}, \"838651\": {\"frequency\": 1, \"value\": 838651}, \"665596\": {\"frequency\": 1, \"value\": 665596}, \"665598\": {\"frequency\": 1, \"value\": 665598}}, \"mean\": 1238223.3913775496}, \"B365H\": {\"std\": 1.8147561322685084, \"complete\": true, \"min\": 1.04, \"max\": 26.0, \"quantile\": [1.04, 1.13, 1.17, 1.2, 1.2, 1.25, 1.25, 1.29, 1.3, 1.33, 1.36, 1.36, 1.4, 1.4, 1.44, 1.44, 1.5, 1.5, 1.53, 1.55, 1.57, 1.57, 1.62, 1.62, 1.67, 1.67, 1.7, 1.73, 1.73, 1.75, 1.8, 1.8, 1.8, 1.83, 1.83, 1.85, 1.91, 1.91, 1.91, 1.95, 1.95, 2.0, 2.0, 2.0, 2.0, 2.05, 2.05, 2.1, 2.1, 2.1, 2.1, 2.15, 2.2, 2.2, 2.2, 2.25, 2.25, 2.25, 2.3, 2.3, 2.3, 2.38, 2.38, 2.4, 2.4, 2.45, 2.5, 2.5, 2.5, 2.55, 2.6, 2.63, 2.7, 2.7, 2.75, 2.8, 2.88, 2.9, 3.0, 3.1, 3.1, 3.2, 3.25, 3.4, 3.5, 3.5, 3.6, 3.8, 4.0, 4.2, 4.33, 4.6, 5.0, 5.25, 5.5, 6.0, 7.0, 7.5, 8.5, 10.0, 26.0], \"median\": 2.1, \"numeric\": true, \"num_unique\": 121, \"num_undefined\": 0, \"var\": 3.2933398196061563, \"progress\": 1.0, \"size\": 19600, \"frequent_items\": {\"4.5\": {\"frequency\": 175, \"value\": 4.5}, \"1.75\": {\"frequency\": 271, \"value\": 1.75}, \"2.0\": {\"frequency\": 796, \"value\": 2.0}, \"3.0\": {\"frequency\": 324, \"value\": 3.0}, \"4.0\": {\"frequency\": 225, \"value\": 4.0}, \"5.0\": {\"frequency\": 197, \"value\": 5.0}, \"5.75\": {\"frequency\": 40, \"value\": 5.75}, \"7.0\": {\"frequency\": 155, \"value\": 7.0}, \"8.0\": {\"frequency\": 88, \"value\": 8.0}, \"9.0\": {\"frequency\": 93, \"value\": 9.0}, \"10.0\": {\"frequency\": 78, \"value\": 10.0}, \"11.0\": {\"frequency\": 42, \"value\": 11.0}, \"12.0\": {\"frequency\": 37, \"value\": 12.0}, \"13.0\": {\"frequency\": 54, \"value\": 13.0}, \"14.0\": {\"frequency\": 1, \"value\": 14.0}, \"15.0\": {\"frequency\": 35, \"value\": 15.0}, \"17.0\": {\"frequency\": 7, \"value\": 17.0}, \"19.0\": {\"frequency\": 5, \"value\": 19.0}, \"4.33\": {\"frequency\": 128, \"value\": 4.33}, \"21.0\": {\"frequency\": 3, \"value\": 21.0}, \"23.0\": {\"frequency\": 1, \"value\": 23.0}, \"2.95\": {\"frequency\": 1, \"value\": 2.95}, \"26.0\": {\"frequency\": 2, \"value\": 26.0}, \"4.8\": {\"frequency\": 2, \"value\": 4.8}, \"6.0\": {\"frequency\": 172, \"value\": 6.0}, \"1.67\": {\"frequency\": 351, \"value\": 1.67}, \"1.29\": {\"frequency\": 207, \"value\": 1.29}, \"7.5\": {\"frequency\": 107, \"value\": 7.5}, \"4.3\": {\"frequency\": 1, \"value\": 4.3}, \"3.8\": {\"frequency\": 124, \"value\": 3.8}, \"2.62\": {\"frequency\": 21, \"value\": 2.62}, \"1.25\": {\"frequency\": 256, \"value\": 1.25}, \"1.83\": {\"frequency\": 386, \"value\": 1.83}, \"3.5\": {\"frequency\": 218, \"value\": 3.5}, \"3.3\": {\"frequency\": 133, \"value\": 3.3}, \"2.25\": {\"frequency\": 505, \"value\": 2.25}, \"2.2\": {\"frequency\": 636, \"value\": 2.2}, \"3.7\": {\"frequency\": 3, \"value\": 3.7}, \"1.55\": {\"frequency\": 46, \"value\": 1.55}, \"3.6\": {\"frequency\": 186, \"value\": 3.6}, \"1.62\": {\"frequency\": 401, \"value\": 1.62}, \"3.2\": {\"frequency\": 211, \"value\": 3.2}, \"4.75\": {\"frequency\": 149, \"value\": 4.75}, \"1.3\": {\"frequency\": 155, \"value\": 1.3}, \"1.45\": {\"frequency\": 50, \"value\": 1.45}, \"1.6\": {\"frequency\": 67, \"value\": 1.6}, \"1.22\": {\"frequency\": 178, \"value\": 1.22}, \"2.88\": {\"frequency\": 187, \"value\": 2.88}, \"1.14\": {\"frequency\": 97, \"value\": 1.14}, \"9.5\": {\"frequency\": 33, \"value\": 9.5}, \"1.61\": {\"frequency\": 12, \"value\": 1.61}, \"1.91\": {\"frequency\": 651, \"value\": 1.91}, \"2.45\": {\"frequency\": 80, \"value\": 2.45}, \"1.16\": {\"frequency\": 2, \"value\": 1.16}, \"1.28\": {\"frequency\": 3, \"value\": 1.28}, \"1.18\": {\"frequency\": 81, \"value\": 1.18}, \"6.25\": {\"frequency\": 7, \"value\": 6.25}, \"5.8\": {\"frequency\": 1, \"value\": 5.8}, \"4.9\": {\"frequency\": 1, \"value\": 4.9}, \"2.9\": {\"frequency\": 180, \"value\": 2.9}, \"3.4\": {\"frequency\": 233, \"value\": 3.4}, \"1.1\": {\"frequency\": 42, \"value\": 1.1}, \"2.37\": {\"frequency\": 12, \"value\": 2.37}, \"4.6\": {\"frequency\": 9, \"value\": 4.6}, \"1.95\": {\"frequency\": 288, \"value\": 1.95}, \"3.75\": {\"frequency\": 158, \"value\": 3.75}, \"2.87\": {\"frequency\": 14, \"value\": 2.87}, \"1.72\": {\"frequency\": 16, \"value\": 1.72}, \"1.7\": {\"frequency\": 137, \"value\": 1.7}, \"1.04\": {\"frequency\": 3, \"value\": 1.04}, \"6.5\": {\"frequency\": 135, \"value\": 6.5}, \"2.63\": {\"frequency\": 238, \"value\": 2.63}, \"1.53\": {\"frequency\": 269, \"value\": 1.53}, \"1.38\": {\"frequency\": 2, \"value\": 1.38}, \"2.55\": {\"frequency\": 55, \"value\": 2.55}, \"2.1\": {\"frequency\": 859, \"value\": 2.1}, \"1.05\": {\"frequency\": 17, \"value\": 1.05}, \"1.15\": {\"frequency\": 1, \"value\": 1.15}, \"6.75\": {\"frequency\": 1, \"value\": 6.75}, \"1.5\": {\"frequency\": 328, \"value\": 1.5}, \"1.11\": {\"frequency\": 20, \"value\": 1.11}, \"1.07\": {\"frequency\": 12, \"value\": 1.07}, \"2.5\": {\"frequency\": 685, \"value\": 2.5}, \"1.9\": {\"frequency\": 25, \"value\": 1.9}, \"1.09\": {\"frequency\": 10, \"value\": 1.09}, \"1.8\": {\"frequency\": 426, \"value\": 1.8}, \"1.06\": {\"frequency\": 21, \"value\": 1.06}, \"1.36\": {\"frequency\": 299, \"value\": 1.36}, \"3.1\": {\"frequency\": 263, \"value\": 3.1}, \"2.3\": {\"frequency\": 535, \"value\": 2.3}, \"2.6\": {\"frequency\": 290, \"value\": 2.6}, \"1.48\": {\"frequency\": 1, \"value\": 1.48}, \"2.4\": {\"frequency\": 507, \"value\": 2.4}, \"1.13\": {\"frequency\": 69, \"value\": 1.13}, \"2.15\": {\"frequency\": 224, \"value\": 2.15}, \"1.65\": {\"frequency\": 61, \"value\": 1.65}, \"2.7\": {\"frequency\": 199, \"value\": 2.7}, \"1.4\": {\"frequency\": 374, \"value\": 1.4}, \"2.8\": {\"frequency\": 242, \"value\": 2.8}, \"4.1\": {\"frequency\": 5, \"value\": 4.1}, \"4.2\": {\"frequency\": 140, \"value\": 4.2}, \"1.57\": {\"frequency\": 398, \"value\": 1.57}, \"1.17\": {\"frequency\": 170, \"value\": 1.17}, \"1.44\": {\"frequency\": 500, \"value\": 1.44}, \"5.25\": {\"frequency\": 74, \"value\": 5.25}, \"2.65\": {\"frequency\": 5, \"value\": 2.65}, \"2.38\": {\"frequency\": 391, \"value\": 2.38}, \"1.08\": {\"frequency\": 33, \"value\": 1.08}, \"4.25\": {\"frequency\": 1, \"value\": 4.25}, \"1.66\": {\"frequency\": 14, \"value\": 1.66}, \"1.2\": {\"frequency\": 217, \"value\": 1.2}, \"3.25\": {\"frequency\": 150, \"value\": 3.25}, \"2.05\": {\"frequency\": 376, \"value\": 2.05}, \"1.85\": {\"frequency\": 220, \"value\": 1.85}, \"2.75\": {\"frequency\": 198, \"value\": 2.75}, \"8.5\": {\"frequency\": 68, \"value\": 8.5}, \"1.33\": {\"frequency\": 290, \"value\": 1.33}, \"1.73\": {\"frequency\": 394, \"value\": 1.73}, \"2.35\": {\"frequency\": 24, \"value\": 2.35}, \"3.9\": {\"frequency\": 13, \"value\": 3.9}, \"5.5\": {\"frequency\": 181, \"value\": 5.5}}, \"mean\": 2.643213775510206}, \"league_id\": {\"std\": 7150.495526943835, \"complete\": true, \"min\": 1.0, \"max\": 21484.0, \"quantile\": [1.0, 1.0, 1.0, 1.0, 1.0, 1.0, 1.0, 1729.0, 1729.0, 1729.0, 1729.0, 1729.0, 1729.0, 1729.0, 1729.0, 1729.0, 1729.0, 1729.0, 1729.0, 1729.0, 1729.0, 1729.0, 4735.0, 4735.0, 4735.0, 4735.0, 4735.0, 4735.0, 4735.0, 4735.0, 4735.0, 4735.0, 4735.0, 4735.0, 4735.0, 4735.0, 7775.0, 7775.0, 7775.0, 7775.0, 7775.0, 7775.0, 7775.0, 7775.0, 7775.0, 7775.0, 7775.0, 7775.0, 10223.0, 10223.0, 10223.0, 10223.0, 10223.0, 10223.0, 10223.0, 10223.0, 10223.0, 10223.0, 10223.0, 10223.0, 10223.0, 10223.0, 13240.0, 13240.0, 13240.0, 13240.0, 13240.0, 13240.0, 13240.0, 13240.0, 13240.0, 13240.0, 17608.0, 17608.0, 17608.0, 17608.0, 17608.0, 17608.0, 17608.0, 19660.0, 19660.0, 19660.0, 19660.0, 19660.0, 19660.0, 19660.0, 19660.0, 21484.0, 21484.0, 21484.0, 21484.0, 21484.0, 21484.0, 21484.0, 21484.0, 21484.0, 21484.0, 21484.0, 21484.0, 21484.0, 21484.0], \"median\": 10223.0, \"numeric\": true, \"num_unique\": 9, \"num_undefined\": 0, \"var\": 51129586.280843794, \"progress\": 1.0, \"size\": 19600, \"frequent_items\": {\"1\": {\"frequency\": 1192, \"value\": 1}, \"1729\": {\"frequency\": 2921, \"value\": 1729}, \"17608\": {\"frequency\": 1272, \"value\": 17608}, \"21484\": {\"frequency\": 2700, \"value\": 21484}, \"19660\": {\"frequency\": 1535, \"value\": 19660}, \"10223\": {\"frequency\": 2734, \"value\": 10223}, \"13240\": {\"frequency\": 2025, \"value\": 13240}, \"4735\": {\"frequency\": 2854, \"value\": 4735}, \"7775\": {\"frequency\": 2367, \"value\": 7775}}, \"mean\": 10322.024183673471}, \"season\": {\"std\": 2.215827295949951, \"complete\": true, \"min\": 0.0, \"max\": 7.0, \"quantile\": [0.0, 0.0, 0.0, 0.0, 0.0, 0.0, 0.0, 0.0, 0.0, 1.0, 1.0, 1.0, 1.0, 1.0, 1.0, 1.0, 1.0, 1.0, 1.0, 1.0, 1.0, 2.0, 2.0, 2.0, 2.0, 2.0, 2.0, 2.0, 2.0, 2.0, 2.0, 2.0, 2.0, 2.0, 3.0, 3.0, 3.0, 3.0, 3.0, 3.0, 3.0, 3.0, 3.0, 3.0, 3.0, 3.0, 3.0, 4.0, 4.0, 4.0, 4.0, 4.0, 4.0, 4.0, 4.0, 4.0, 4.0, 4.0, 4.0, 4.0, 4.0, 5.0, 5.0, 5.0, 5.0, 5.0, 5.0, 5.0, 5.0, 5.0, 5.0, 5.0, 5.0, 6.0, 6.0, 6.0, 6.0, 6.0, 6.0, 6.0, 6.0, 6.0, 6.0, 6.0, 6.0, 6.0, 6.0, 7.0, 7.0, 7.0, 7.0, 7.0, 7.0, 7.0, 7.0, 7.0, 7.0, 7.0, 7.0, 7.0, 7.0], \"median\": 4.0, \"numeric\": true, \"num_unique\": 8, \"num_undefined\": 0, \"var\": 4.909890605476873, \"progress\": 1.0, \"size\": 19600, \"frequent_items\": {\"0\": {\"frequency\": 1721, \"value\": 0}, \"1\": {\"frequency\": 2285, \"value\": 1}, \"2\": {\"frequency\": 2518, \"value\": 2}, \"3\": {\"frequency\": 2599, \"value\": 3}, \"4\": {\"frequency\": 2684, \"value\": 4}, \"5\": {\"frequency\": 2461, \"value\": 5}, \"6\": {\"frequency\": 2678, \"value\": 6}, \"7\": {\"frequency\": 2654, \"value\": 7}}, \"mean\": 3.7145408163265303}, \"home_team_api_id\": {\"std\": 13069.244652011603, \"complete\": true, \"min\": 1773.0, \"max\": 274581.0, \"quantile\": [1773.0, 6269.0, 6433.0, 7819.0, 7844.0, 7943.0, 8165.0, 8178.0, 8197.0, 8226.0, 8284.0, 8305.0, 8315.0, 8348.0, 8370.0, 8394.0, 8429.0, 8455.0, 8462.0, 8467.0, 8472.0, 8481.0, 8521.0, 8525.0, 8529.0, 8533.0, 8535.0, 8540.0, 8548.0, 8558.0, 8560.0, 8564.0, 8576.0, 8586.0, 8588.0, 8593.0, 8597.0, 8602.0, 8611.0, 8633.0, 8635.0, 8639.0, 8640.0, 8650.0, 8655.0, 8659.0, 8668.0, 8674.0, 8686.0, 8690.0, 8697.0, 8722.0, 9748.0, 9764.0, 9772.0, 9783.0, 9789.0, 9790.0, 9800.0, 9804.0, 9810.0, 9825.0, 9827.0, 9829.0, 9831.0, 9839.0, 9850.0, 9853.0, 9857.0, 9860.0, 9865.0, 9873.0, 9875.0, 9879.0, 9882.0, 9888.0, 9905.0, 9906.0, 9910.0, 9927.0, 9938.0, 9941.0, 9986.0, 9991.0, 9997.0, 10003.0, 10172.0, 10194.0, 10205.0, 10214.0, 10217.0, 10228.0, 10229.0, 10235.0, 10249.0, 10251.0, 10260.0, 10261.0, 10267.0, 10269.0, 274581.0], \"median\": 8697.0, \"numeric\": true, \"num_unique\": 253, \"num_undefined\": 0, \"var\": 170805155.7741339, \"progress\": 1.0, \"size\": 19600, \"frequent_items\": {\"10242\": {\"frequency\": 37, \"value\": 10242}, \"8197\": {\"frequency\": 38, \"value\": 8197}, \"10249\": {\"frequency\": 125, \"value\": 10249}, \"8203\": {\"frequency\": 74, \"value\": 8203}, \"10252\": {\"frequency\": 144, \"value\": 10252}, \"8194\": {\"frequency\": 17, \"value\": 8194}, \"8593\": {\"frequency\": 117, \"value\": 8593}, \"8721\": {\"frequency\": 134, \"value\": 8721}, \"9746\": {\"frequency\": 17, \"value\": 9746}, \"9747\": {\"frequency\": 57, \"value\": 9747}, \"10260\": {\"frequency\": 148, \"value\": 10260}, \"10261\": {\"frequency\": 129, \"value\": 10261}, \"10264\": {\"frequency\": 84, \"value\": 10264}, \"10267\": {\"frequency\": 142, \"value\": 10267}, \"10268\": {\"frequency\": 38, \"value\": 10268}, \"10269\": {\"frequency\": 132, \"value\": 10269}, \"9761\": {\"frequency\": 103, \"value\": 9761}, \"8226\": {\"frequency\": 132, \"value\": 8226}, \"208931\": {\"frequency\": 12, \"value\": 208931}, \"9764\": {\"frequency\": 45, \"value\": 9764}, \"9765\": {\"frequency\": 10, \"value\": 9765}, \"10278\": {\"frequency\": 9, \"value\": 10278}, \"9768\": {\"frequency\": 91, \"value\": 9768}, \"10281\": {\"frequency\": 68, \"value\": 10281}, \"8234\": {\"frequency\": 17, \"value\": 8234}, \"9771\": {\"frequency\": 17, \"value\": 9771}, \"9772\": {\"frequency\": 81, \"value\": 9772}, \"9773\": {\"frequency\": 87, \"value\": 9773}, \"9776\": {\"frequency\": 17, \"value\": 9776}, \"8457\": {\"frequency\": 19, \"value\": 8457}, \"9908\": {\"frequency\": 119, \"value\": 9908}, \"9788\": {\"frequency\": 130, \"value\": 9788}, \"9789\": {\"frequency\": 131, \"value\": 9789}, \"9790\": {\"frequency\": 133, \"value\": 9790}, \"9791\": {\"frequency\": 116, \"value\": 9791}, \"10251\": {\"frequency\": 90, \"value\": 10251}, \"9798\": {\"frequency\": 19, \"value\": 9798}, \"9800\": {\"frequency\": 109, \"value\": 9800}, \"4170\": {\"frequency\": 15, \"value\": 4170}, \"9803\": {\"frequency\": 87, \"value\": 9803}, \"9804\": {\"frequency\": 87, \"value\": 9804}, \"9807\": {\"frequency\": 43, \"value\": 9807}, \"9809\": {\"frequency\": 12, \"value\": 9809}, \"9810\": {\"frequency\": 111, \"value\": 9810}, \"8277\": {\"frequency\": 112, \"value\": 8277}, \"8633\": {\"frequency\": 137, \"value\": 8633}, \"9817\": {\"frequency\": 19, \"value\": 9817}, \"8284\": {\"frequency\": 46, \"value\": 8284}, \"9823\": {\"frequency\": 131, \"value\": 9823}, \"9825\": {\"frequency\": 145, \"value\": 9825}, \"9826\": {\"frequency\": 56, \"value\": 9826}, \"9827\": {\"frequency\": 148, \"value\": 9827}, \"9829\": {\"frequency\": 106, \"value\": 9829}, \"9830\": {\"frequency\": 63, \"value\": 9830}, \"8295\": {\"frequency\": 12, \"value\": 8295}, \"8636\": {\"frequency\": 137, \"value\": 8636}, \"9831\": {\"frequency\": 144, \"value\": 9831}, \"9836\": {\"frequency\": 18, \"value\": 9836}, \"9837\": {\"frequency\": 71, \"value\": 9837}, \"8302\": {\"frequency\": 146, \"value\": 8302}, \"9839\": {\"frequency\": 52, \"value\": 9839}, \"8305\": {\"frequency\": 136, \"value\": 8305}, \"7794\": {\"frequency\": 73, \"value\": 7794}, \"8467\": {\"frequency\": 116, \"value\": 8467}, \"9847\": {\"frequency\": 150, \"value\": 9847}, \"9748\": {\"frequency\": 146, \"value\": 9748}, \"9850\": {\"frequency\": 74, \"value\": 9850}, \"9851\": {\"frequency\": 146, \"value\": 9851}, \"9853\": {\"frequency\": 139, \"value\": 9853}, \"9855\": {\"frequency\": 38, \"value\": 9855}, \"9857\": {\"frequency\": 121, \"value\": 9857}, \"9858\": {\"frequency\": 3, \"value\": 9858}, \"2033\": {\"frequency\": 51, \"value\": 2033}, \"9860\": {\"frequency\": 121, \"value\": 9860}, \"9864\": {\"frequency\": 134, \"value\": 9864}, \"7788\": {\"frequency\": 49, \"value\": 7788}, \"7819\": {\"frequency\": 88, \"value\": 7819}, \"9868\": {\"frequency\": 8, \"value\": 9868}, \"9869\": {\"frequency\": 70, \"value\": 9869}, \"9873\": {\"frequency\": 108, \"value\": 9873}, \"9874\": {\"frequency\": 107, \"value\": 9874}, \"9875\": {\"frequency\": 143, \"value\": 9875}, \"9876\": {\"frequency\": 53, \"value\": 9876}, \"274581\": {\"frequency\": 25, \"value\": 274581}, \"8342\": {\"frequency\": 80, \"value\": 8342}, \"9879\": {\"frequency\": 108, \"value\": 9879}, \"8344\": {\"frequency\": 19, \"value\": 8344}, \"9882\": {\"frequency\": 89, \"value\": 9882}, \"8348\": {\"frequency\": 32, \"value\": 8348}, \"9885\": {\"frequency\": 143, \"value\": 9885}, \"8350\": {\"frequency\": 32, \"value\": 8350}, \"9888\": {\"frequency\": 53, \"value\": 9888}, \"7841\": {\"frequency\": 87, \"value\": 7841}, \"7842\": {\"frequency\": 53, \"value\": 7842}, \"9891\": {\"frequency\": 18, \"value\": 9891}, \"7844\": {\"frequency\": 76, \"value\": 7844}, \"8357\": {\"frequency\": 17, \"value\": 8357}, \"8358\": {\"frequency\": 102, \"value\": 8358}, \"8581\": {\"frequency\": 108, \"value\": 8581}, \"8306\": {\"frequency\": 15, \"value\": 8306}, \"9904\": {\"frequency\": 128, \"value\": 9904}, \"9905\": {\"frequency\": 119, \"value\": 9905}, \"9906\": {\"frequency\": 140, \"value\": 9906}, \"8371\": {\"frequency\": 98, \"value\": 8371}, \"8372\": {\"frequency\": 36, \"value\": 8372}, \"9910\": {\"frequency\": 72, \"value\": 9910}, \"9911\": {\"frequency\": 27, \"value\": 9911}, \"9912\": {\"frequency\": 15, \"value\": 9912}, \"7869\": {\"frequency\": 19, \"value\": 7869}, \"8388\": {\"frequency\": 6, \"value\": 8388}, \"9925\": {\"frequency\": 135, \"value\": 9925}, \"7878\": {\"frequency\": 91, \"value\": 7878}, \"9927\": {\"frequency\": 132, \"value\": 9927}, \"8394\": {\"frequency\": 61, \"value\": 8394}, \"8398\": {\"frequency\": 11, \"value\": 8398}, \"6351\": {\"frequency\": 14, \"value\": 6351}, \"9938\": {\"frequency\": 132, \"value\": 9938}, \"9941\": {\"frequency\": 139, \"value\": 9941}, \"8406\": {\"frequency\": 85, \"value\": 8406}, \"6367\": {\"frequency\": 15, \"value\": 6367}, \"8315\": {\"frequency\": 136, \"value\": 8315}, \"8426\": {\"frequency\": 48, \"value\": 8426}, \"8429\": {\"frequency\": 68, \"value\": 8429}, \"6269\": {\"frequency\": 13, \"value\": 6269}, \"6391\": {\"frequency\": 19, \"value\": 6391}, \"9976\": {\"frequency\": 35, \"value\": 9976}, \"9984\": {\"frequency\": 72, \"value\": 9984}, \"9985\": {\"frequency\": 76, \"value\": 9985}, \"9986\": {\"frequency\": 50, \"value\": 9986}, \"9987\": {\"frequency\": 78, \"value\": 9987}, \"9989\": {\"frequency\": 46, \"value\": 9989}, \"9991\": {\"frequency\": 80, \"value\": 9991}, \"8456\": {\"frequency\": 146, \"value\": 8456}, \"9993\": {\"frequency\": 49, \"value\": 9993}, \"9994\": {\"frequency\": 67, \"value\": 9994}, \"8460\": {\"frequency\": 17, \"value\": 8460}, \"6413\": {\"frequency\": 64, \"value\": 6413}, \"9998\": {\"frequency\": 25, \"value\": 9998}, \"9999\": {\"frequency\": 3, \"value\": 9999}, \"8464\": {\"frequency\": 93, \"value\": 8464}, \"10001\": {\"frequency\": 58, \"value\": 10001}, \"8466\": {\"frequency\": 75, \"value\": 8466}, \"10003\": {\"frequency\": 86, \"value\": 10003}, \"6421\": {\"frequency\": 3, \"value\": 6421}, \"8472\": {\"frequency\": 141, \"value\": 8472}, \"8475\": {\"frequency\": 41, \"value\": 8475}, \"10000\": {\"frequency\": 83, \"value\": 10000}, \"8479\": {\"frequency\": 10, \"value\": 8479}, \"8481\": {\"frequency\": 87, \"value\": 8481}, \"8483\": {\"frequency\": 18, \"value\": 8483}, \"8485\": {\"frequency\": 129, \"value\": 8485}, \"10214\": {\"frequency\": 74, \"value\": 10214}, \"6403\": {\"frequency\": 64, \"value\": 6403}, \"8722\": {\"frequency\": 100, \"value\": 8722}, \"9865\": {\"frequency\": 81, \"value\": 9865}, \"4064\": {\"frequency\": 14, \"value\": 4064}, \"9867\": {\"frequency\": 10, \"value\": 9867}, \"8521\": {\"frequency\": 54, \"value\": 8521}, \"9783\": {\"frequency\": 102, \"value\": 9783}, \"8524\": {\"frequency\": 124, \"value\": 8524}, \"8525\": {\"frequency\": 75, \"value\": 8525}, \"8526\": {\"frequency\": 38, \"value\": 8526}, \"8528\": {\"frequency\": 93, \"value\": 8528}, \"8529\": {\"frequency\": 126, \"value\": 8529}, \"8530\": {\"frequency\": 107, \"value\": 8530}, \"8533\": {\"frequency\": 131, \"value\": 8533}, \"8534\": {\"frequency\": 38, \"value\": 8534}, \"8535\": {\"frequency\": 137, \"value\": 8535}, \"188163\": {\"frequency\": 5, \"value\": 188163}, \"8537\": {\"frequency\": 36, \"value\": 8537}, \"8540\": {\"frequency\": 118, \"value\": 8540}, \"108893\": {\"frequency\": 12, \"value\": 108893}, \"8543\": {\"frequency\": 136, \"value\": 8543}, \"8548\": {\"frequency\": 72, \"value\": 8548}, \"8549\": {\"frequency\": 19, \"value\": 8549}, \"8550\": {\"frequency\": 18, \"value\": 8550}, \"8551\": {\"frequency\": 71, \"value\": 8551}, \"6433\": {\"frequency\": 34, \"value\": 6433}, \"10194\": {\"frequency\": 147, \"value\": 10194}, \"10215\": {\"frequency\": 87, \"value\": 10215}, \"8558\": {\"frequency\": 138, \"value\": 8558}, \"8559\": {\"frequency\": 70, \"value\": 8559}, \"8560\": {\"frequency\": 111, \"value\": 8560}, \"8564\": {\"frequency\": 141, \"value\": 8564}, \"8571\": {\"frequency\": 79, \"value\": 8571}, \"8573\": {\"frequency\": 30, \"value\": 8573}, \"10218\": {\"frequency\": 66, \"value\": 10218}, \"8576\": {\"frequency\": 56, \"value\": 8576}, \"8066\": {\"frequency\": 106, \"value\": 8066}, \"8462\": {\"frequency\": 37, \"value\": 8462}, \"158085\": {\"frequency\": 37, \"value\": 158085}, \"8583\": {\"frequency\": 71, \"value\": 8583}, \"8586\": {\"frequency\": 146, \"value\": 8586}, \"8588\": {\"frequency\": 56, \"value\": 8588}, \"1773\": {\"frequency\": 35, \"value\": 1773}, \"8592\": {\"frequency\": 146, \"value\": 8592}, \"9880\": {\"frequency\": 38, \"value\": 9880}, \"6547\": {\"frequency\": 5, \"value\": 6547}, \"8596\": {\"frequency\": 20, \"value\": 8596}, \"8597\": {\"frequency\": 130, \"value\": 8597}, \"9878\": {\"frequency\": 19, \"value\": 9878}, \"8600\": {\"frequency\": 144, \"value\": 8600}, \"8602\": {\"frequency\": 54, \"value\": 8602}, \"8603\": {\"frequency\": 88, \"value\": 8603}, \"8611\": {\"frequency\": 117, \"value\": 8611}, \"8262\": {\"frequency\": 17, \"value\": 8262}, \"8614\": {\"frequency\": 17, \"value\": 8614}, \"8177\": {\"frequency\": 99, \"value\": 8177}, \"8690\": {\"frequency\": 15, \"value\": 8690}, \"10167\": {\"frequency\": 109, \"value\": 10167}, \"8121\": {\"frequency\": 19, \"value\": 8121}, \"8634\": {\"frequency\": 131, \"value\": 8634}, \"8635\": {\"frequency\": 86, \"value\": 8635}, \"10172\": {\"frequency\": 55, \"value\": 10172}, \"8370\": {\"frequency\": 86, \"value\": 8370}, \"8639\": {\"frequency\": 143, \"value\": 8639}, \"8640\": {\"frequency\": 119, \"value\": 8640}, \"8649\": {\"frequency\": 62, \"value\": 8649}, \"8650\": {\"frequency\": 149, \"value\": 8650}, \"10189\": {\"frequency\": 132, \"value\": 10189}, \"8654\": {\"frequency\": 127, \"value\": 8654}, \"8655\": {\"frequency\": 69, \"value\": 8655}, \"7943\": {\"frequency\": 54, \"value\": 7943}, \"8658\": {\"frequency\": 37, \"value\": 8658}, \"8659\": {\"frequency\": 125, \"value\": 8659}, \"8661\": {\"frequency\": 85, \"value\": 8661}, \"10233\": {\"frequency\": 143, \"value\": 10233}, \"8152\": {\"frequency\": 17, \"value\": 8152}, \"8667\": {\"frequency\": 75, \"value\": 8667}, \"8668\": {\"frequency\": 147, \"value\": 8668}, \"10205\": {\"frequency\": 122, \"value\": 10205}, \"9997\": {\"frequency\": 41, \"value\": 9997}, \"8613\": {\"frequency\": 24, \"value\": 8613}, \"8455\": {\"frequency\": 151, \"value\": 8455}, \"8674\": {\"frequency\": 112, \"value\": 8674}, \"10211\": {\"frequency\": 36, \"value\": 10211}, \"10212\": {\"frequency\": 74, \"value\": 10212}, \"8165\": {\"frequency\": 85, \"value\": 8165}, \"8678\": {\"frequency\": 18, \"value\": 8678}, \"6631\": {\"frequency\": 15, \"value\": 6631}, \"10217\": {\"frequency\": 111, \"value\": 10217}, \"8682\": {\"frequency\": 26, \"value\": 8682}, \"10219\": {\"frequency\": 64, \"value\": 10219}, \"8686\": {\"frequency\": 140, \"value\": 8686}, \"8689\": {\"frequency\": 144, \"value\": 8689}, \"8178\": {\"frequency\": 133, \"value\": 8178}, \"10228\": {\"frequency\": 110, \"value\": 10228}, \"10229\": {\"frequency\": 118, \"value\": 10229}, \"4087\": {\"frequency\": 68, \"value\": 4087}, \"8696\": {\"frequency\": 66, \"value\": 8696}, \"8697\": {\"frequency\": 134, \"value\": 8697}, \"10235\": {\"frequency\": 117, \"value\": 10235}, \"10238\": {\"frequency\": 65, \"value\": 10238}, \"8191\": {\"frequency\": 37, \"value\": 8191}}, \"mean\": 9971.457755102023}, \"B365D\": {\"std\": 1.1255307815014417, \"complete\": true, \"min\": 1.4, \"max\": 17.0, \"quantile\": [1.4, 3.0, 3.0, 3.0, 3.0, 3.1, 3.1, 3.1, 3.1, 3.1, 3.2, 3.2, 3.2, 3.2, 3.2, 3.2, 3.2, 3.25, 3.25, 3.25, 3.25, 3.25, 3.25, 3.25, 3.3, 3.3, 3.3, 3.3, 3.3, 3.3, 3.3, 3.3, 3.3, 3.3, 3.3, 3.4, 3.4, 3.4, 3.4, 3.4, 3.4, 3.4, 3.4, 3.4, 3.4, 3.4, 3.4, 3.4, 3.4, 3.5, 3.5, 3.5, 3.5, 3.5, 3.5, 3.5, 3.5, 3.5, 3.6, 3.6, 3.6, 3.6, 3.6, 3.6, 3.6, 3.6, 3.75, 3.75, 3.75, 3.75, 3.75, 3.8, 3.8, 3.8, 3.9, 4.0, 4.0, 4.0, 4.0, 4.2, 4.2, 4.33, 4.33, 4.33, 4.5, 4.5, 4.5, 4.75, 4.75, 5.0, 5.0, 5.25, 5.5, 5.5, 6.0, 6.0, 6.5, 7.0, 7.0, 8.5, 17.0], \"median\": 3.5, \"numeric\": true, \"num_unique\": 71, \"num_undefined\": 0, \"var\": 1.266819540107246, \"progress\": 1.0, \"size\": 19600, \"frequent_items\": {\"4.5\": {\"frequency\": 528, \"value\": 4.5}, \"3.5\": {\"frequency\": 1885, \"value\": 3.5}, \"2.0\": {\"frequency\": 3, \"value\": 2.0}, \"3.0\": {\"frequency\": 665, \"value\": 3.0}, \"4.0\": {\"frequency\": 855, \"value\": 4.0}, \"5.0\": {\"frequency\": 473, \"value\": 5.0}, \"5.5\": {\"frequency\": 341, \"value\": 5.5}, \"7.0\": {\"frequency\": 221, \"value\": 7.0}, \"8.0\": {\"frequency\": 76, \"value\": 8.0}, \"9.0\": {\"frequency\": 58, \"value\": 9.0}, \"10.0\": {\"frequency\": 37, \"value\": 10.0}, \"11.0\": {\"frequency\": 38, \"value\": 11.0}, \"12.0\": {\"frequency\": 10, \"value\": 12.0}, \"13.0\": {\"frequency\": 18, \"value\": 13.0}, \"2.9\": {\"frequency\": 67, \"value\": 2.9}, \"15.0\": {\"frequency\": 12, \"value\": 15.0}, \"2.38\": {\"frequency\": 4, \"value\": 2.38}, \"17.0\": {\"frequency\": 2, \"value\": 17.0}, \"4.33\": {\"frequency\": 569, \"value\": 4.33}, \"3.3\": {\"frequency\": 2134, \"value\": 3.3}, \"2.3\": {\"frequency\": 2, \"value\": 2.3}, \"3.8\": {\"frequency\": 600, \"value\": 3.8}, \"4.6\": {\"frequency\": 26, \"value\": 4.6}, \"1.53\": {\"frequency\": 1, \"value\": 1.53}, \"9.5\": {\"frequency\": 4, \"value\": 9.5}, \"4.1\": {\"frequency\": 48, \"value\": 4.1}, \"2.4\": {\"frequency\": 4, \"value\": 2.4}, \"6.0\": {\"frequency\": 311, \"value\": 6.0}, \"4.75\": {\"frequency\": 382, \"value\": 4.75}, \"2.7\": {\"frequency\": 2, \"value\": 2.7}, \"5.2\": {\"frequency\": 1, \"value\": 5.2}, \"2.8\": {\"frequency\": 8, \"value\": 2.8}, \"1.75\": {\"frequency\": 1, \"value\": 1.75}, \"4.2\": {\"frequency\": 414, \"value\": 4.2}, \"4.25\": {\"frequency\": 4, \"value\": 4.25}, \"2.87\": {\"frequency\": 6, \"value\": 2.87}, \"1.5\": {\"frequency\": 1, \"value\": 1.5}, \"4.8\": {\"frequency\": 1, \"value\": 4.8}, \"2.63\": {\"frequency\": 4, \"value\": 2.63}, \"1.57\": {\"frequency\": 1, \"value\": 1.57}, \"4.4\": {\"frequency\": 4, \"value\": 4.4}, \"3.4\": {\"frequency\": 2669, \"value\": 3.4}, \"2.15\": {\"frequency\": 1, \"value\": 2.15}, \"1.8\": {\"frequency\": 1, \"value\": 1.8}, \"1.83\": {\"frequency\": 2, \"value\": 1.83}, \"2.88\": {\"frequency\": 28, \"value\": 2.88}, \"3.9\": {\"frequency\": 54, \"value\": 3.9}, \"5.25\": {\"frequency\": 167, \"value\": 5.25}, \"1.4\": {\"frequency\": 1, \"value\": 1.4}, \"5.75\": {\"frequency\": 81, \"value\": 5.75}, \"2.5\": {\"frequency\": 5, \"value\": 2.5}, \"1.62\": {\"frequency\": 2, \"value\": 1.62}, \"2.25\": {\"frequency\": 1, \"value\": 2.25}, \"6.25\": {\"frequency\": 7, \"value\": 6.25}, \"2.75\": {\"frequency\": 2, \"value\": 2.75}, \"8.5\": {\"frequency\": 34, \"value\": 8.5}, \"6.75\": {\"frequency\": 1, \"value\": 6.75}, \"3.7\": {\"frequency\": 52, \"value\": 3.7}, \"3.2\": {\"frequency\": 1367, \"value\": 3.2}, \"7.25\": {\"frequency\": 1, \"value\": 7.25}, \"3.25\": {\"frequency\": 1371, \"value\": 3.25}, \"3.1\": {\"frequency\": 1121, \"value\": 3.1}, \"1.73\": {\"frequency\": 1, \"value\": 1.73}, \"1.7\": {\"frequency\": 1, \"value\": 1.7}, \"2.62\": {\"frequency\": 1, \"value\": 2.62}, \"3.75\": {\"frequency\": 970, \"value\": 3.75}, \"3.6\": {\"frequency\": 1469, \"value\": 3.6}, \"2.05\": {\"frequency\": 1, \"value\": 2.05}, \"7.5\": {\"frequency\": 104, \"value\": 7.5}, \"2.1\": {\"frequency\": 4, \"value\": 2.1}, \"6.5\": {\"frequency\": 260, \"value\": 6.5}}, \"mean\": 3.854582653061224}, \"country_id\": {\"std\": 7150.495526943835, \"complete\": true, \"min\": 1.0, \"max\": 21484.0, \"quantile\": [1.0, 1.0, 1.0, 1.0, 1.0, 1.0, 1.0, 1729.0, 1729.0, 1729.0, 1729.0, 1729.0, 1729.0, 1729.0, 1729.0, 1729.0, 1729.0, 1729.0, 1729.0, 1729.0, 1729.0, 1729.0, 4735.0, 4735.0, 4735.0, 4735.0, 4735.0, 4735.0, 4735.0, 4735.0, 4735.0, 4735.0, 4735.0, 4735.0, 4735.0, 4735.0, 7775.0, 7775.0, 7775.0, 7775.0, 7775.0, 7775.0, 7775.0, 7775.0, 7775.0, 7775.0, 7775.0, 7775.0, 10223.0, 10223.0, 10223.0, 10223.0, 10223.0, 10223.0, 10223.0, 10223.0, 10223.0, 10223.0, 10223.0, 10223.0, 10223.0, 10223.0, 13240.0, 13240.0, 13240.0, 13240.0, 13240.0, 13240.0, 13240.0, 13240.0, 13240.0, 13240.0, 17608.0, 17608.0, 17608.0, 17608.0, 17608.0, 17608.0, 17608.0, 19660.0, 19660.0, 19660.0, 19660.0, 19660.0, 19660.0, 19660.0, 19660.0, 21484.0, 21484.0, 21484.0, 21484.0, 21484.0, 21484.0, 21484.0, 21484.0, 21484.0, 21484.0, 21484.0, 21484.0, 21484.0, 21484.0], \"median\": 10223.0, \"numeric\": true, \"num_unique\": 9, \"num_undefined\": 0, \"var\": 51129586.280843794, \"progress\": 1.0, \"size\": 19600, \"frequent_items\": {\"1\": {\"frequency\": 1192, \"value\": 1}, \"1729\": {\"frequency\": 2921, \"value\": 1729}, \"17608\": {\"frequency\": 1272, \"value\": 17608}, \"21484\": {\"frequency\": 2700, \"value\": 21484}, \"19660\": {\"frequency\": 1535, \"value\": 19660}, \"10223\": {\"frequency\": 2734, \"value\": 10223}, \"13240\": {\"frequency\": 2025, \"value\": 13240}, \"4735\": {\"frequency\": 2854, \"value\": 4735}, \"7775\": {\"frequency\": 2367, \"value\": 7775}}, \"mean\": 10322.024183673471}, \"away_team_api_id\": {\"std\": 13490.254154890836, \"complete\": true, \"min\": 1773.0, \"max\": 274581.0, \"quantile\": [1773.0, 6351.0, 6433.0, 7819.0, 7844.0, 7943.0, 8165.0, 8178.0, 8203.0, 8234.0, 8302.0, 8305.0, 8315.0, 8350.0, 8370.0, 8394.0, 8429.0, 8456.0, 8462.0, 8467.0, 8472.0, 8485.0, 8524.0, 8526.0, 8529.0, 8533.0, 8535.0, 8540.0, 8548.0, 8558.0, 8560.0, 8564.0, 8581.0, 8586.0, 8592.0, 8593.0, 8600.0, 8603.0, 8611.0, 8634.0, 8635.0, 8639.0, 8640.0, 8650.0, 8655.0, 8659.0, 8668.0, 8674.0, 8686.0, 8690.0, 8697.0, 8722.0, 9748.0, 9765.0, 9772.0, 9783.0, 9789.0, 9790.0, 9800.0, 9804.0, 9810.0, 9825.0, 9827.0, 9829.0, 9831.0, 9847.0, 9850.0, 9853.0, 9857.0, 9864.0, 9865.0, 9873.0, 9875.0, 9879.0, 9885.0, 9891.0, 9905.0, 9906.0, 9910.0, 9927.0, 9938.0, 9941.0, 9986.0, 9991.0, 9997.0, 10003.0, 10172.0, 10194.0, 10205.0, 10214.0, 10217.0, 10228.0, 10229.0, 10235.0, 10249.0, 10252.0, 10260.0, 10261.0, 10267.0, 10269.0, 274581.0], \"median\": 8697.0, \"numeric\": true, \"num_unique\": 253, \"num_undefined\": 0, \"var\": 181986957.16354945, \"progress\": 1.0, \"size\": 19600, \"frequent_items\": {\"10242\": {\"frequency\": 37, \"value\": 10242}, \"8197\": {\"frequency\": 38, \"value\": 8197}, \"10249\": {\"frequency\": 129, \"value\": 10249}, \"8203\": {\"frequency\": 81, \"value\": 8203}, \"10252\": {\"frequency\": 147, \"value\": 10252}, \"8194\": {\"frequency\": 17, \"value\": 8194}, \"8593\": {\"frequency\": 118, \"value\": 8593}, \"8721\": {\"frequency\": 129, \"value\": 8721}, \"9746\": {\"frequency\": 13, \"value\": 9746}, \"9747\": {\"frequency\": 57, \"value\": 9747}, \"10260\": {\"frequency\": 149, \"value\": 10260}, \"10261\": {\"frequency\": 129, \"value\": 10261}, \"10264\": {\"frequency\": 91, \"value\": 10264}, \"10267\": {\"frequency\": 140, \"value\": 10267}, \"10268\": {\"frequency\": 37, \"value\": 10268}, \"10269\": {\"frequency\": 134, \"value\": 10269}, \"9761\": {\"frequency\": 99, \"value\": 9761}, \"8226\": {\"frequency\": 133, \"value\": 8226}, \"208931\": {\"frequency\": 14, \"value\": 208931}, \"9764\": {\"frequency\": 44, \"value\": 9764}, \"9765\": {\"frequency\": 8, \"value\": 9765}, \"10278\": {\"frequency\": 8, \"value\": 10278}, \"9768\": {\"frequency\": 93, \"value\": 9768}, \"10281\": {\"frequency\": 68, \"value\": 10281}, \"8234\": {\"frequency\": 17, \"value\": 8234}, \"9771\": {\"frequency\": 18, \"value\": 9771}, \"9772\": {\"frequency\": 87, \"value\": 9772}, \"9773\": {\"frequency\": 93, \"value\": 9773}, \"9776\": {\"frequency\": 17, \"value\": 9776}, \"8457\": {\"frequency\": 18, \"value\": 8457}, \"9908\": {\"frequency\": 117, \"value\": 9908}, \"9788\": {\"frequency\": 126, \"value\": 9788}, \"9789\": {\"frequency\": 134, \"value\": 9789}, \"9790\": {\"frequency\": 131, \"value\": 9790}, \"9791\": {\"frequency\": 107, \"value\": 9791}, \"10251\": {\"frequency\": 86, \"value\": 10251}, \"9798\": {\"frequency\": 19, \"value\": 9798}, \"9800\": {\"frequency\": 111, \"value\": 9800}, \"4170\": {\"frequency\": 13, \"value\": 4170}, \"9803\": {\"frequency\": 89, \"value\": 9803}, \"9804\": {\"frequency\": 85, \"value\": 9804}, \"9807\": {\"frequency\": 42, \"value\": 9807}, \"9809\": {\"frequency\": 12, \"value\": 9809}, \"9810\": {\"frequency\": 108, \"value\": 9810}, \"8277\": {\"frequency\": 110, \"value\": 8277}, \"8633\": {\"frequency\": 144, \"value\": 8633}, \"9817\": {\"frequency\": 19, \"value\": 9817}, \"8284\": {\"frequency\": 46, \"value\": 8284}, \"9823\": {\"frequency\": 133, \"value\": 9823}, \"9825\": {\"frequency\": 149, \"value\": 9825}, \"9826\": {\"frequency\": 56, \"value\": 9826}, \"9827\": {\"frequency\": 148, \"value\": 9827}, \"9829\": {\"frequency\": 109, \"value\": 9829}, \"9830\": {\"frequency\": 64, \"value\": 9830}, \"8295\": {\"frequency\": 13, \"value\": 8295}, \"8636\": {\"frequency\": 137, \"value\": 8636}, \"9831\": {\"frequency\": 146, \"value\": 9831}, \"9836\": {\"frequency\": 19, \"value\": 9836}, \"9837\": {\"frequency\": 72, \"value\": 9837}, \"8302\": {\"frequency\": 139, \"value\": 8302}, \"9839\": {\"frequency\": 51, \"value\": 9839}, \"8305\": {\"frequency\": 132, \"value\": 8305}, \"7794\": {\"frequency\": 74, \"value\": 7794}, \"8467\": {\"frequency\": 119, \"value\": 8467}, \"9847\": {\"frequency\": 142, \"value\": 9847}, \"9748\": {\"frequency\": 142, \"value\": 9748}, \"9850\": {\"frequency\": 71, \"value\": 9850}, \"9851\": {\"frequency\": 146, \"value\": 9851}, \"9853\": {\"frequency\": 141, \"value\": 9853}, \"9855\": {\"frequency\": 35, \"value\": 9855}, \"9857\": {\"frequency\": 116, \"value\": 9857}, \"9858\": {\"frequency\": 7, \"value\": 9858}, \"2033\": {\"frequency\": 46, \"value\": 2033}, \"9860\": {\"frequency\": 119, \"value\": 9860}, \"9864\": {\"frequency\": 134, \"value\": 9864}, \"7788\": {\"frequency\": 51, \"value\": 7788}, \"7819\": {\"frequency\": 87, \"value\": 7819}, \"9868\": {\"frequency\": 8, \"value\": 9868}, \"9869\": {\"frequency\": 71, \"value\": 9869}, \"9873\": {\"frequency\": 105, \"value\": 9873}, \"9874\": {\"frequency\": 110, \"value\": 9874}, \"9875\": {\"frequency\": 142, \"value\": 9875}, \"9876\": {\"frequency\": 56, \"value\": 9876}, \"274581\": {\"frequency\": 26, \"value\": 274581}, \"8342\": {\"frequency\": 85, \"value\": 8342}, \"9879\": {\"frequency\": 111, \"value\": 9879}, \"8344\": {\"frequency\": 19, \"value\": 8344}, \"9882\": {\"frequency\": 92, \"value\": 9882}, \"8348\": {\"frequency\": 33, \"value\": 8348}, \"9885\": {\"frequency\": 143, \"value\": 9885}, \"8350\": {\"frequency\": 34, \"value\": 8350}, \"9888\": {\"frequency\": 54, \"value\": 9888}, \"7841\": {\"frequency\": 86, \"value\": 7841}, \"7842\": {\"frequency\": 53, \"value\": 7842}, \"9891\": {\"frequency\": 18, \"value\": 9891}, \"7844\": {\"frequency\": 70, \"value\": 7844}, \"8357\": {\"frequency\": 17, \"value\": 8357}, \"8358\": {\"frequency\": 102, \"value\": 8358}, \"8581\": {\"frequency\": 108, \"value\": 8581}, \"8306\": {\"frequency\": 16, \"value\": 8306}, \"9904\": {\"frequency\": 130, \"value\": 9904}, \"9905\": {\"frequency\": 119, \"value\": 9905}, \"9906\": {\"frequency\": 144, \"value\": 9906}, \"8371\": {\"frequency\": 101, \"value\": 8371}, \"8372\": {\"frequency\": 37, \"value\": 8372}, \"9910\": {\"frequency\": 75, \"value\": 9910}, \"9911\": {\"frequency\": 30, \"value\": 9911}, \"9912\": {\"frequency\": 17, \"value\": 9912}, \"7869\": {\"frequency\": 18, \"value\": 7869}, \"8388\": {\"frequency\": 6, \"value\": 8388}, \"9925\": {\"frequency\": 135, \"value\": 9925}, \"7878\": {\"frequency\": 90, \"value\": 7878}, \"9927\": {\"frequency\": 131, \"value\": 9927}, \"8394\": {\"frequency\": 61, \"value\": 8394}, \"8398\": {\"frequency\": 12, \"value\": 8398}, \"6351\": {\"frequency\": 15, \"value\": 6351}, \"9938\": {\"frequency\": 131, \"value\": 9938}, \"9941\": {\"frequency\": 142, \"value\": 9941}, \"8406\": {\"frequency\": 85, \"value\": 8406}, \"6367\": {\"frequency\": 14, \"value\": 6367}, \"8315\": {\"frequency\": 139, \"value\": 8315}, \"8426\": {\"frequency\": 48, \"value\": 8426}, \"8429\": {\"frequency\": 70, \"value\": 8429}, \"6269\": {\"frequency\": 14, \"value\": 6269}, \"6391\": {\"frequency\": 19, \"value\": 6391}, \"9976\": {\"frequency\": 35, \"value\": 9976}, \"9984\": {\"frequency\": 64, \"value\": 9984}, \"9985\": {\"frequency\": 84, \"value\": 9985}, \"9986\": {\"frequency\": 48, \"value\": 9986}, \"9987\": {\"frequency\": 76, \"value\": 9987}, \"9989\": {\"frequency\": 47, \"value\": 9989}, \"9991\": {\"frequency\": 77, \"value\": 9991}, \"8456\": {\"frequency\": 142, \"value\": 8456}, \"9993\": {\"frequency\": 48, \"value\": 9993}, \"9994\": {\"frequency\": 74, \"value\": 9994}, \"8460\": {\"frequency\": 17, \"value\": 8460}, \"6413\": {\"frequency\": 66, \"value\": 6413}, \"9998\": {\"frequency\": 27, \"value\": 9998}, \"9999\": {\"frequency\": 8, \"value\": 9999}, \"8464\": {\"frequency\": 84, \"value\": 8464}, \"10001\": {\"frequency\": 57, \"value\": 10001}, \"8466\": {\"frequency\": 76, \"value\": 8466}, \"10003\": {\"frequency\": 83, \"value\": 10003}, \"6421\": {\"frequency\": 2, \"value\": 6421}, \"8472\": {\"frequency\": 139, \"value\": 8472}, \"8475\": {\"frequency\": 42, \"value\": 8475}, \"10000\": {\"frequency\": 72, \"value\": 10000}, \"8479\": {\"frequency\": 8, \"value\": 8479}, \"8481\": {\"frequency\": 91, \"value\": 8481}, \"8483\": {\"frequency\": 18, \"value\": 8483}, \"8485\": {\"frequency\": 133, \"value\": 8485}, \"10214\": {\"frequency\": 79, \"value\": 10214}, \"6403\": {\"frequency\": 63, \"value\": 6403}, \"8722\": {\"frequency\": 99, \"value\": 8722}, \"9865\": {\"frequency\": 85, \"value\": 9865}, \"4064\": {\"frequency\": 9, \"value\": 4064}, \"9867\": {\"frequency\": 9, \"value\": 9867}, \"8521\": {\"frequency\": 56, \"value\": 8521}, \"9783\": {\"frequency\": 104, \"value\": 9783}, \"8524\": {\"frequency\": 125, \"value\": 8524}, \"8525\": {\"frequency\": 74, \"value\": 8525}, \"8526\": {\"frequency\": 41, \"value\": 8526}, \"8528\": {\"frequency\": 91, \"value\": 8528}, \"8529\": {\"frequency\": 125, \"value\": 8529}, \"8530\": {\"frequency\": 102, \"value\": 8530}, \"8533\": {\"frequency\": 136, \"value\": 8533}, \"8534\": {\"frequency\": 35, \"value\": 8534}, \"8535\": {\"frequency\": 144, \"value\": 8535}, \"188163\": {\"frequency\": 7, \"value\": 188163}, \"8537\": {\"frequency\": 36, \"value\": 8537}, \"8540\": {\"frequency\": 120, \"value\": 8540}, \"108893\": {\"frequency\": 15, \"value\": 108893}, \"8543\": {\"frequency\": 130, \"value\": 8543}, \"8548\": {\"frequency\": 65, \"value\": 8548}, \"8549\": {\"frequency\": 18, \"value\": 8549}, \"8550\": {\"frequency\": 16, \"value\": 8550}, \"8551\": {\"frequency\": 70, \"value\": 8551}, \"6433\": {\"frequency\": 34, \"value\": 6433}, \"10194\": {\"frequency\": 149, \"value\": 10194}, \"10215\": {\"frequency\": 85, \"value\": 10215}, \"8558\": {\"frequency\": 133, \"value\": 8558}, \"8559\": {\"frequency\": 74, \"value\": 8559}, \"8560\": {\"frequency\": 111, \"value\": 8560}, \"8564\": {\"frequency\": 145, \"value\": 8564}, \"8571\": {\"frequency\": 76, \"value\": 8571}, \"8573\": {\"frequency\": 30, \"value\": 8573}, \"10218\": {\"frequency\": 63, \"value\": 10218}, \"8576\": {\"frequency\": 56, \"value\": 8576}, \"8066\": {\"frequency\": 108, \"value\": 8066}, \"8462\": {\"frequency\": 38, \"value\": 8462}, \"158085\": {\"frequency\": 36, \"value\": 158085}, \"8583\": {\"frequency\": 72, \"value\": 8583}, \"8586\": {\"frequency\": 151, \"value\": 8586}, \"8588\": {\"frequency\": 51, \"value\": 8588}, \"1773\": {\"frequency\": 32, \"value\": 1773}, \"8592\": {\"frequency\": 147, \"value\": 8592}, \"9880\": {\"frequency\": 41, \"value\": 9880}, \"6547\": {\"frequency\": 6, \"value\": 6547}, \"8596\": {\"frequency\": 21, \"value\": 8596}, \"8597\": {\"frequency\": 127, \"value\": 8597}, \"9878\": {\"frequency\": 19, \"value\": 9878}, \"8600\": {\"frequency\": 143, \"value\": 8600}, \"8602\": {\"frequency\": 53, \"value\": 8602}, \"8603\": {\"frequency\": 88, \"value\": 8603}, \"8611\": {\"frequency\": 120, \"value\": 8611}, \"8262\": {\"frequency\": 17, \"value\": 8262}, \"8614\": {\"frequency\": 18, \"value\": 8614}, \"8177\": {\"frequency\": 97, \"value\": 8177}, \"8690\": {\"frequency\": 13, \"value\": 8690}, \"10167\": {\"frequency\": 107, \"value\": 10167}, \"8121\": {\"frequency\": 19, \"value\": 8121}, \"8634\": {\"frequency\": 139, \"value\": 8634}, \"8635\": {\"frequency\": 80, \"value\": 8635}, \"10172\": {\"frequency\": 54, \"value\": 10172}, \"8370\": {\"frequency\": 83, \"value\": 8370}, \"8639\": {\"frequency\": 146, \"value\": 8639}, \"8640\": {\"frequency\": 122, \"value\": 8640}, \"8649\": {\"frequency\": 67, \"value\": 8649}, \"8650\": {\"frequency\": 149, \"value\": 8650}, \"10189\": {\"frequency\": 135, \"value\": 10189}, \"8654\": {\"frequency\": 124, \"value\": 8654}, \"8655\": {\"frequency\": 71, \"value\": 8655}, \"7943\": {\"frequency\": 52, \"value\": 7943}, \"8658\": {\"frequency\": 36, \"value\": 8658}, \"8659\": {\"frequency\": 121, \"value\": 8659}, \"8661\": {\"frequency\": 80, \"value\": 8661}, \"10233\": {\"frequency\": 133, \"value\": 10233}, \"8152\": {\"frequency\": 17, \"value\": 8152}, \"8667\": {\"frequency\": 75, \"value\": 8667}, \"8668\": {\"frequency\": 149, \"value\": 8668}, \"10205\": {\"frequency\": 116, \"value\": 10205}, \"9997\": {\"frequency\": 43, \"value\": 9997}, \"8613\": {\"frequency\": 26, \"value\": 8613}, \"8455\": {\"frequency\": 147, \"value\": 8455}, \"8674\": {\"frequency\": 116, \"value\": 8674}, \"10211\": {\"frequency\": 36, \"value\": 10211}, \"10212\": {\"frequency\": 77, \"value\": 10212}, \"8165\": {\"frequency\": 85, \"value\": 8165}, \"8678\": {\"frequency\": 19, \"value\": 8678}, \"6631\": {\"frequency\": 14, \"value\": 6631}, \"10217\": {\"frequency\": 116, \"value\": 10217}, \"8682\": {\"frequency\": 27, \"value\": 8682}, \"10219\": {\"frequency\": 67, \"value\": 10219}, \"8686\": {\"frequency\": 145, \"value\": 8686}, \"8689\": {\"frequency\": 143, \"value\": 8689}, \"8178\": {\"frequency\": 132, \"value\": 8178}, \"10228\": {\"frequency\": 108, \"value\": 10228}, \"10229\": {\"frequency\": 120, \"value\": 10229}, \"4087\": {\"frequency\": 65, \"value\": 4087}, \"8696\": {\"frequency\": 68, \"value\": 8696}, \"8697\": {\"frequency\": 130, \"value\": 8697}, \"10235\": {\"frequency\": 120, \"value\": 10235}, \"10238\": {\"frequency\": 56, \"value\": 10238}, \"8191\": {\"frequency\": 37, \"value\": 8191}}, \"mean\": 10037.285663265311}, \"B365A\": {\"std\": 3.740128322914008, \"complete\": true, \"min\": 1.08, \"max\": 51.0, \"quantile\": [1.08, 1.29, 1.36, 1.44, 1.5, 1.55, 1.6, 1.67, 1.73, 1.75, 1.83, 1.9, 1.91, 2.0, 2.05, 2.1, 2.1, 2.2, 2.2, 2.25, 2.3, 2.38, 2.38, 2.4, 2.5, 2.5, 2.6, 2.6, 2.63, 2.7, 2.75, 2.8, 2.8, 2.88, 2.88, 2.9, 3.0, 3.0, 3.0, 3.1, 3.1, 3.2, 3.2, 3.2, 3.25, 3.3, 3.3, 3.4, 3.4, 3.5, 3.5, 3.5, 3.6, 3.6, 3.6, 3.75, 3.75, 3.75, 3.8, 3.8, 4.0, 4.0, 4.0, 4.2, 4.2, 4.33, 4.33, 4.5, 4.5, 4.5, 4.75, 4.75, 5.0, 5.0, 5.0, 5.25, 5.5, 5.5, 5.75, 6.0, 6.0, 6.5, 6.5, 7.0, 7.0, 7.0, 7.5, 8.0, 8.0, 8.5, 9.0, 9.5, 10.0, 11.0, 11.0, 12.0, 13.0, 15.0, 17.0, 19.0, 51.0], \"median\": 3.5, \"numeric\": true, \"num_unique\": 114, \"num_undefined\": 0, \"var\": 13.98855987186355, \"progress\": 1.0, \"size\": 19600, \"frequent_items\": {\"1.75\": {\"frequency\": 104, \"value\": 1.75}, \"4.75\": {\"frequency\": 414, \"value\": 4.75}, \"2.0\": {\"frequency\": 256, \"value\": 2.0}, \"3.0\": {\"frequency\": 575, \"value\": 3.0}, \"4.0\": {\"frequency\": 685, \"value\": 4.0}, \"5.0\": {\"frequency\": 531, \"value\": 5.0}, \"2.25\": {\"frequency\": 242, \"value\": 2.25}, \"7.0\": {\"frequency\": 427, \"value\": 7.0}, \"8.0\": {\"frequency\": 311, \"value\": 8.0}, \"9.0\": {\"frequency\": 276, \"value\": 9.0}, \"10.0\": {\"frequency\": 262, \"value\": 10.0}, \"11.0\": {\"frequency\": 226, \"value\": 11.0}, \"12.0\": {\"frequency\": 200, \"value\": 12.0}, \"13.0\": {\"frequency\": 264, \"value\": 13.0}, \"14.0\": {\"frequency\": 10, \"value\": 14.0}, \"15.0\": {\"frequency\": 254, \"value\": 15.0}, \"16.0\": {\"frequency\": 23, \"value\": 16.0}, \"17.0\": {\"frequency\": 141, \"value\": 17.0}, \"18.0\": {\"frequency\": 4, \"value\": 18.0}, \"19.0\": {\"frequency\": 85, \"value\": 19.0}, \"4.33\": {\"frequency\": 401, \"value\": 4.33}, \"21.0\": {\"frequency\": 74, \"value\": 21.0}, \"23.0\": {\"frequency\": 29, \"value\": 23.0}, \"5.5\": {\"frequency\": 495, \"value\": 5.5}, \"26.0\": {\"frequency\": 47, \"value\": 26.0}, \"29.0\": {\"frequency\": 21, \"value\": 29.0}, \"34.0\": {\"frequency\": 16, \"value\": 34.0}, \"6.0\": {\"frequency\": 498, \"value\": 6.0}, \"1.17\": {\"frequency\": 14, \"value\": 1.17}, \"1.29\": {\"frequency\": 60, \"value\": 1.29}, \"41.0\": {\"frequency\": 2, \"value\": 41.0}, \"2.8\": {\"frequency\": 371, \"value\": 2.8}, \"51.0\": {\"frequency\": 1, \"value\": 51.0}, \"5.75\": {\"frequency\": 83, \"value\": 5.75}, \"2.62\": {\"frequency\": 11, \"value\": 2.62}, \"1.5\": {\"frequency\": 111, \"value\": 1.5}, \"1.33\": {\"frequency\": 91, \"value\": 1.33}, \"3.5\": {\"frequency\": 527, \"value\": 3.5}, \"3.75\": {\"frequency\": 535, \"value\": 3.75}, \"9.5\": {\"frequency\": 110, \"value\": 9.5}, \"2.2\": {\"frequency\": 262, \"value\": 2.2}, \"4.4\": {\"frequency\": 2, \"value\": 4.4}, \"1.8\": {\"frequency\": 148, \"value\": 1.8}, \"1.62\": {\"frequency\": 136, \"value\": 1.62}, \"2.7\": {\"frequency\": 228, \"value\": 2.7}, \"6.5\": {\"frequency\": 359, \"value\": 6.5}, \"1.95\": {\"frequency\": 82, \"value\": 1.95}, \"1.85\": {\"frequency\": 93, \"value\": 1.85}, \"1.22\": {\"frequency\": 40, \"value\": 1.22}, \"2.38\": {\"frequency\": 231, \"value\": 2.38}, \"1.14\": {\"frequency\": 6, \"value\": 1.14}, \"10.5\": {\"frequency\": 7, \"value\": 10.5}, \"1.61\": {\"frequency\": 4, \"value\": 1.61}, \"1.91\": {\"frequency\": 211, \"value\": 1.91}, \"2.45\": {\"frequency\": 36, \"value\": 2.45}, \"1.18\": {\"frequency\": 16, \"value\": 1.18}, \"6.25\": {\"frequency\": 25, \"value\": 6.25}, \"4.8\": {\"frequency\": 5, \"value\": 4.8}, \"2.15\": {\"frequency\": 110, \"value\": 2.15}, \"3.2\": {\"frequency\": 429, \"value\": 3.2}, \"4.1\": {\"frequency\": 16, \"value\": 4.1}, \"1.45\": {\"frequency\": 17, \"value\": 1.45}, \"2.37\": {\"frequency\": 14, \"value\": 2.37}, \"1.72\": {\"frequency\": 5, \"value\": 1.72}, \"1.6\": {\"frequency\": 28, \"value\": 1.6}, \"1.7\": {\"frequency\": 61, \"value\": 1.7}, \"3.4\": {\"frequency\": 550, \"value\": 3.4}, \"4.5\": {\"frequency\": 478, \"value\": 4.5}, \"2.88\": {\"frequency\": 327, \"value\": 2.88}, \"1.53\": {\"frequency\": 115, \"value\": 1.53}, \"3.3\": {\"frequency\": 304, \"value\": 3.3}, \"2.6\": {\"frequency\": 219, \"value\": 2.6}, \"1.3\": {\"frequency\": 41, \"value\": 1.3}, \"6.75\": {\"frequency\": 5, \"value\": 6.75}, \"1.25\": {\"frequency\": 55, \"value\": 1.25}, \"1.57\": {\"frequency\": 160, \"value\": 1.57}, \"2.5\": {\"frequency\": 411, \"value\": 2.5}, \"1.65\": {\"frequency\": 24, \"value\": 1.65}, \"3.8\": {\"frequency\": 326, \"value\": 3.8}, \"1.55\": {\"frequency\": 19, \"value\": 1.55}, \"2.1\": {\"frequency\": 330, \"value\": 2.1}, \"2.87\": {\"frequency\": 20, \"value\": 2.87}, \"1.36\": {\"frequency\": 94, \"value\": 1.36}, \"3.1\": {\"frequency\": 480, \"value\": 3.1}, \"2.3\": {\"frequency\": 274, \"value\": 2.3}, \"3.6\": {\"frequency\": 559, \"value\": 3.6}, \"2.4\": {\"frequency\": 288, \"value\": 2.4}, \"1.13\": {\"frequency\": 1, \"value\": 1.13}, \"2.9\": {\"frequency\": 257, \"value\": 2.9}, \"1.9\": {\"frequency\": 6, \"value\": 1.9}, \"1.4\": {\"frequency\": 125, \"value\": 1.4}, \"2.55\": {\"frequency\": 39, \"value\": 2.55}, \"4.6\": {\"frequency\": 36, \"value\": 4.6}, \"4.2\": {\"frequency\": 377, \"value\": 4.2}, \"3.7\": {\"frequency\": 18, \"value\": 3.7}, \"1.67\": {\"frequency\": 129, \"value\": 1.67}, \"1.44\": {\"frequency\": 146, \"value\": 1.44}, \"5.25\": {\"frequency\": 198, \"value\": 5.25}, \"2.65\": {\"frequency\": 6, \"value\": 2.65}, \"2.63\": {\"frequency\": 167, \"value\": 2.63}, \"1.08\": {\"frequency\": 2, \"value\": 1.08}, \"4.25\": {\"frequency\": 2, \"value\": 4.25}, \"1.66\": {\"frequency\": 3, \"value\": 1.66}, \"1.2\": {\"frequency\": 36, \"value\": 1.2}, \"3.25\": {\"frequency\": 292, \"value\": 3.25}, \"2.05\": {\"frequency\": 136, \"value\": 2.05}, \"1.1\": {\"frequency\": 2, \"value\": 1.1}, \"2.75\": {\"frequency\": 265, \"value\": 2.75}, \"8.5\": {\"frequency\": 223, \"value\": 8.5}, \"1.83\": {\"frequency\": 126, \"value\": 1.83}, \"1.73\": {\"frequency\": 151, \"value\": 1.73}, \"2.35\": {\"frequency\": 9, \"value\": 2.35}, \"3.9\": {\"frequency\": 56, \"value\": 3.9}, \"7.5\": {\"frequency\": 355, \"value\": 7.5}}, \"mean\": 4.666891326530618}, \"formation_a\": {\"complete\": true, \"numeric\": false, \"num_unique\": 19, \"num_undefined\": 0, \"progress\": 1.0, \"frequent_items\": {\"4-2-1-3\": {\"frequency\": 31, \"value\": \"4-2-1-3\"}, \"4-1-4-1\": {\"frequency\": 925, \"value\": \"4-1-4-1\"}, \"4-2-3-1\": {\"frequency\": 5224, \"value\": \"4-2-3-1\"}, \"3-5-2\": {\"frequency\": 713, \"value\": \"3-5-2\"}, \"4-3-3\": {\"frequency\": 3781, \"value\": \"4-3-3\"}, \"4-1-2-3\": {\"frequency\": 73, \"value\": \"4-1-2-3\"}, \"4-5-1\": {\"frequency\": 1599, \"value\": \"4-5-1\"}, \"3-3-3-1\": {\"frequency\": 10, \"value\": \"3-3-3-1\"}, \"3-1-4-2\": {\"frequency\": 1, \"value\": \"3-1-4-2\"}, \"3-6-1\": {\"frequency\": 276, \"value\": \"3-6-1\"}, \"5-3-2\": {\"frequency\": 169, \"value\": \"5-3-2\"}, \"4-3-2-1\": {\"frequency\": 228, \"value\": \"4-3-2-1\"}, \"3-2-3-2\": {\"frequency\": 14, \"value\": \"3-2-3-2\"}, \"5-4-1\": {\"frequency\": 118, \"value\": \"5-4-1\"}, \"3-4-3\": {\"frequency\": 202, \"value\": \"3-4-3\"}, \"4-3-1-2\": {\"frequency\": 536, \"value\": \"4-3-1-2\"}, \"4-1-3-2\": {\"frequency\": 638, \"value\": \"4-1-3-2\"}, \"4-2-2-2\": {\"frequency\": 521, \"value\": \"4-2-2-2\"}, \"4-4-2\": {\"frequency\": 4541, \"value\": \"4-4-2\"}}, \"size\": 19600}, \"date\": {\"std\": 811.2726069781148, \"complete\": true, \"min\": -202.0, \"max\": 2636.0, \"quantile\": [-202.0, -156.0, -122.0, -96.0, -63.0, -20.0, 8.0, 43.0, 71.0, 163.0, 198.0, 218.0, 246.0, 274.0, 295.0, 330.0, 350.0, 372.0, 390.0, 411.0, 432.0, 547.0, 569.0, 596.0, 611.0, 631.0, 652.0, 681.0, 705.0, 723.0, 743.0, 770.0, 791.0, 807.0, 905.0, 933.0, 947.0, 974.0, 1002.0, 1018.0, 1051.0, 1072.0, 1088.0, 1108.0, 1128.0, 1149.0, 1163.0, 1269.0, 1296.0, 1311.0, 1339.0, 1353.0, 1373.0, 1388.0, 1416.0, 1436.0, 1457.0, 1472.0, 1500.0, 1521.0, 1542.0, 1640.0, 1668.0, 1695.0, 1710.0, 1738.0, 1758.0, 1787.0, 1808.0, 1829.0, 1850.0, 1865.0, 1891.0, 1993.0, 2024.0, 2038.0, 2060.0, 2080.0, 2104.0, 2122.0, 2150.0, 2171.0, 2186.0, 2206.0, 2230.0, 2249.0, 2270.0, 2361.0, 2388.0, 2403.0, 2430.0, 2445.0, 2472.0, 2487.0, 2515.0, 2535.0, 2556.0, 2570.0, 2598.0, 2614.0, 2636.0], \"median\": 1339.0, \"numeric\": true, \"num_unique\": 1489, \"num_undefined\": 0, \"var\": 658163.2428330667, \"progress\": 1.0, \"size\": 19600, \"frequent_items\": {\"0.0\": {\"frequency\": 3, \"value\": 0.0}, \"1.0\": {\"frequency\": 22, \"value\": 1.0}, \"2.0\": {\"frequency\": 25, \"value\": 2.0}, \"4.0\": {\"frequency\": 2, \"value\": 4.0}, \"5.0\": {\"frequency\": 9, \"value\": 5.0}, \"7.0\": {\"frequency\": 2, \"value\": 7.0}, \"8.0\": {\"frequency\": 20, \"value\": 8.0}, \"9.0\": {\"frequency\": 20, \"value\": 9.0}, \"12.0\": {\"frequency\": 1, \"value\": 12.0}, \"14.0\": {\"frequency\": 2, \"value\": 14.0}, \"15.0\": {\"frequency\": 29, \"value\": 15.0}, \"16.0\": {\"frequency\": 20, \"value\": 16.0}, \"17.0\": {\"frequency\": 1, \"value\": 17.0}, \"21.0\": {\"frequency\": 1, \"value\": 21.0}, \"22.0\": {\"frequency\": 25, \"value\": 22.0}, \"23.0\": {\"frequency\": 22, \"value\": 23.0}, \"35.0\": {\"frequency\": 2, \"value\": 35.0}, \"36.0\": {\"frequency\": 28, \"value\": 36.0}, \"37.0\": {\"frequency\": 18, \"value\": 37.0}, \"40.0\": {\"frequency\": 1, \"value\": 40.0}, \"42.0\": {\"frequency\": 2, \"value\": 42.0}, \"43.0\": {\"frequency\": 35, \"value\": 43.0}, \"44.0\": {\"frequency\": 14, \"value\": 44.0}, \"49.0\": {\"frequency\": 2, \"value\": 49.0}, \"50.0\": {\"frequency\": 25, \"value\": 50.0}, \"51.0\": {\"frequency\": 19, \"value\": 51.0}, \"53.0\": {\"frequency\": 3, \"value\": 53.0}, \"54.0\": {\"frequency\": 5, \"value\": 54.0}, \"55.0\": {\"frequency\": 3, \"value\": 55.0}, \"56.0\": {\"frequency\": 2, \"value\": 56.0}, \"57.0\": {\"frequency\": 18, \"value\": 57.0}, \"58.0\": {\"frequency\": 23, \"value\": 58.0}, \"59.0\": {\"frequency\": 1, \"value\": 59.0}, \"63.0\": {\"frequency\": 2, \"value\": 63.0}, \"64.0\": {\"frequency\": 26, \"value\": 64.0}, \"65.0\": {\"frequency\": 25, \"value\": 65.0}, \"66.0\": {\"frequency\": 1, \"value\": 66.0}, \"69.0\": {\"frequency\": 1, \"value\": 69.0}, \"70.0\": {\"frequency\": 1, \"value\": 70.0}, \"71.0\": {\"frequency\": 16, \"value\": 71.0}, \"72.0\": {\"frequency\": 24, \"value\": 72.0}, \"73.0\": {\"frequency\": 1, \"value\": 73.0}, \"74.0\": {\"frequency\": 7, \"value\": 74.0}, \"75.0\": {\"frequency\": 14, \"value\": 75.0}, \"78.0\": {\"frequency\": 30, \"value\": 78.0}, \"79.0\": {\"frequency\": 13, \"value\": 79.0}, \"82.0\": {\"frequency\": 1, \"value\": 82.0}, \"85.0\": {\"frequency\": 21, \"value\": 85.0}, \"86.0\": {\"frequency\": 19, \"value\": 86.0}, \"92.0\": {\"frequency\": 12, \"value\": 92.0}, \"93.0\": {\"frequency\": 6, \"value\": 93.0}, \"155.0\": {\"frequency\": 5, \"value\": 155.0}, \"156.0\": {\"frequency\": 5, \"value\": 156.0}, \"161.0\": {\"frequency\": 3, \"value\": 161.0}, \"162.0\": {\"frequency\": 16, \"value\": 162.0}, \"163.0\": {\"frequency\": 9, \"value\": 163.0}, \"169.0\": {\"frequency\": 30, \"value\": 169.0}, \"170.0\": {\"frequency\": 12, \"value\": 170.0}, \"172.0\": {\"frequency\": 2, \"value\": 172.0}, \"173.0\": {\"frequency\": 4, \"value\": 173.0}, \"175.0\": {\"frequency\": 2, \"value\": 175.0}, \"176.0\": {\"frequency\": 28, \"value\": 176.0}, \"177.0\": {\"frequency\": 23, \"value\": 177.0}, \"178.0\": {\"frequency\": 1, \"value\": 178.0}, \"182.0\": {\"frequency\": 3, \"value\": 182.0}, \"183.0\": {\"frequency\": 27, \"value\": 183.0}, \"184.0\": {\"frequency\": 30, \"value\": 184.0}, \"185.0\": {\"frequency\": 1, \"value\": 185.0}, \"197.0\": {\"frequency\": 33, \"value\": 197.0}, \"198.0\": {\"frequency\": 31, \"value\": 198.0}, \"200.0\": {\"frequency\": 1, \"value\": 200.0}, \"203.0\": {\"frequency\": 1, \"value\": 203.0}, \"204.0\": {\"frequency\": 31, \"value\": 204.0}, \"205.0\": {\"frequency\": 30, \"value\": 205.0}, \"207.0\": {\"frequency\": 2, \"value\": 207.0}, \"208.0\": {\"frequency\": 15, \"value\": 208.0}, \"209.0\": {\"frequency\": 2, \"value\": 209.0}, \"210.0\": {\"frequency\": 2, \"value\": 210.0}, \"211.0\": {\"frequency\": 34, \"value\": 211.0}, \"212.0\": {\"frequency\": 21, \"value\": 212.0}, \"213.0\": {\"frequency\": 3, \"value\": 213.0}, \"215.0\": {\"frequency\": 1, \"value\": 215.0}, \"217.0\": {\"frequency\": 2, \"value\": 217.0}, \"218.0\": {\"frequency\": 30, \"value\": 218.0}, \"219.0\": {\"frequency\": 28, \"value\": 219.0}, \"220.0\": {\"frequency\": 1, \"value\": 220.0}, \"227.0\": {\"frequency\": 1, \"value\": 227.0}, \"232.0\": {\"frequency\": 36, \"value\": 232.0}, \"233.0\": {\"frequency\": 26, \"value\": 233.0}, \"234.0\": {\"frequency\": 1, \"value\": 234.0}, \"238.0\": {\"frequency\": 2, \"value\": 238.0}, \"239.0\": {\"frequency\": 31, \"value\": 239.0}, \"240.0\": {\"frequency\": 28, \"value\": 240.0}, \"241.0\": {\"frequency\": 1, \"value\": 241.0}, \"242.0\": {\"frequency\": 1, \"value\": 242.0}, \"243.0\": {\"frequency\": 8, \"value\": 243.0}, \"245.0\": {\"frequency\": 1, \"value\": 245.0}, \"246.0\": {\"frequency\": 38, \"value\": 246.0}, \"247.0\": {\"frequency\": 24, \"value\": 247.0}, \"248.0\": {\"frequency\": 1, \"value\": 248.0}, \"250.0\": {\"frequency\": 1, \"value\": 250.0}, \"252.0\": {\"frequency\": 2, \"value\": 252.0}, \"253.0\": {\"frequency\": 32, \"value\": 253.0}, \"254.0\": {\"frequency\": 29, \"value\": 254.0}, \"255.0\": {\"frequency\": 1, \"value\": 255.0}, \"266.0\": {\"frequency\": 1, \"value\": 266.0}, \"267.0\": {\"frequency\": 32, \"value\": 267.0}, \"268.0\": {\"frequency\": 23, \"value\": 268.0}, \"271.0\": {\"frequency\": 2, \"value\": 271.0}, \"273.0\": {\"frequency\": 3, \"value\": 273.0}, \"274.0\": {\"frequency\": 32, \"value\": 274.0}, \"275.0\": {\"frequency\": 26, \"value\": 275.0}, \"276.0\": {\"frequency\": 1, \"value\": 276.0}, \"280.0\": {\"frequency\": 5, \"value\": 280.0}, \"281.0\": {\"frequency\": 31, \"value\": 281.0}, \"282.0\": {\"frequency\": 28, \"value\": 282.0}, \"283.0\": {\"frequency\": 1, \"value\": 283.0}, \"286.0\": {\"frequency\": 2, \"value\": 286.0}, \"287.0\": {\"frequency\": 2, \"value\": 287.0}, \"288.0\": {\"frequency\": 34, \"value\": 288.0}, \"289.0\": {\"frequency\": 25, \"value\": 289.0}, \"291.0\": {\"frequency\": 5, \"value\": 291.0}, \"292.0\": {\"frequency\": 9, \"value\": 292.0}, \"294.0\": {\"frequency\": 3, \"value\": 294.0}, \"295.0\": {\"frequency\": 25, \"value\": 295.0}, \"296.0\": {\"frequency\": 22, \"value\": 296.0}, \"297.0\": {\"frequency\": 1, \"value\": 297.0}, \"298.0\": {\"frequency\": 1, \"value\": 298.0}, \"299.0\": {\"frequency\": 8, \"value\": 299.0}, \"302.0\": {\"frequency\": 12, \"value\": 302.0}, \"303.0\": {\"frequency\": 4, \"value\": 303.0}, \"304.0\": {\"frequency\": 6, \"value\": 304.0}, \"305.0\": {\"frequency\": 3, \"value\": 305.0}, \"306.0\": {\"frequency\": 6, \"value\": 306.0}, \"309.0\": {\"frequency\": 4, \"value\": 309.0}, \"310.0\": {\"frequency\": 7, \"value\": 310.0}, \"312.0\": {\"frequency\": 1, \"value\": 312.0}, \"313.0\": {\"frequency\": 10, \"value\": 313.0}, \"316.0\": {\"frequency\": 7, \"value\": 316.0}, \"317.0\": {\"frequency\": 16, \"value\": 317.0}, \"318.0\": {\"frequency\": 1, \"value\": 318.0}, \"319.0\": {\"frequency\": 1, \"value\": 319.0}, \"320.0\": {\"frequency\": 2, \"value\": 320.0}, \"322.0\": {\"frequency\": 1, \"value\": 322.0}, \"323.0\": {\"frequency\": 30, \"value\": 323.0}, \"324.0\": {\"frequency\": 25, \"value\": 324.0}, \"326.0\": {\"frequency\": 2, \"value\": 326.0}, \"327.0\": {\"frequency\": 13, \"value\": 327.0}, \"329.0\": {\"frequency\": 2, \"value\": 329.0}, \"330.0\": {\"frequency\": 22, \"value\": 330.0}, \"331.0\": {\"frequency\": 21, \"value\": 331.0}, \"333.0\": {\"frequency\": 4, \"value\": 333.0}, \"334.0\": {\"frequency\": 9, \"value\": 334.0}, \"336.0\": {\"frequency\": 4, \"value\": 336.0}, \"337.0\": {\"frequency\": 37, \"value\": 337.0}, \"338.0\": {\"frequency\": 23, \"value\": 338.0}, \"339.0\": {\"frequency\": 1, \"value\": 339.0}, \"340.0\": {\"frequency\": 5, \"value\": 340.0}, \"341.0\": {\"frequency\": 9, \"value\": 341.0}, \"342.0\": {\"frequency\": 1, \"value\": 342.0}, \"343.0\": {\"frequency\": 2, \"value\": 343.0}, \"344.0\": {\"frequency\": 34, \"value\": 344.0}, \"345.0\": {\"frequency\": 27, \"value\": 345.0}, \"347.0\": {\"frequency\": 4, \"value\": 347.0}, \"348.0\": {\"frequency\": 11, \"value\": 348.0}, \"350.0\": {\"frequency\": 4, \"value\": 350.0}, \"351.0\": {\"frequency\": 23, \"value\": 351.0}, \"352.0\": {\"frequency\": 25, \"value\": 352.0}, \"354.0\": {\"frequency\": 1, \"value\": 354.0}, \"355.0\": {\"frequency\": 2, \"value\": 355.0}, \"357.0\": {\"frequency\": 3, \"value\": 357.0}, \"358.0\": {\"frequency\": 31, \"value\": 358.0}, \"359.0\": {\"frequency\": 32, \"value\": 359.0}, \"360.0\": {\"frequency\": 1, \"value\": 360.0}, \"361.0\": {\"frequency\": 1, \"value\": 361.0}, \"362.0\": {\"frequency\": 2, \"value\": 362.0}, \"364.0\": {\"frequency\": 2, \"value\": 364.0}, \"365.0\": {\"frequency\": 32, \"value\": 365.0}, \"366.0\": {\"frequency\": 29, \"value\": 366.0}, \"372.0\": {\"frequency\": 29, \"value\": 372.0}, \"373.0\": {\"frequency\": 26, \"value\": 373.0}, \"374.0\": {\"frequency\": 3, \"value\": 374.0}, \"375.0\": {\"frequency\": 2, \"value\": 375.0}, \"376.0\": {\"frequency\": 2, \"value\": 376.0}, \"378.0\": {\"frequency\": 3, \"value\": 378.0}, \"379.0\": {\"frequency\": 29, \"value\": 379.0}, \"380.0\": {\"frequency\": 28, \"value\": 380.0}, \"381.0\": {\"frequency\": 2, \"value\": 381.0}, \"382.0\": {\"frequency\": 2, \"value\": 382.0}, \"385.0\": {\"frequency\": 2, \"value\": 385.0}, \"386.0\": {\"frequency\": 33, \"value\": 386.0}, \"387.0\": {\"frequency\": 25, \"value\": 387.0}, \"389.0\": {\"frequency\": 3, \"value\": 389.0}, \"390.0\": {\"frequency\": 19, \"value\": 390.0}, \"391.0\": {\"frequency\": 3, \"value\": 391.0}, \"392.0\": {\"frequency\": 3, \"value\": 392.0}, \"393.0\": {\"frequency\": 28, \"value\": 393.0}, \"394.0\": {\"frequency\": 28, \"value\": 394.0}, \"395.0\": {\"frequency\": 3, \"value\": 395.0}, \"396.0\": {\"frequency\": 1, \"value\": 396.0}, \"397.0\": {\"frequency\": 2, \"value\": 397.0}, \"399.0\": {\"frequency\": 1, \"value\": 399.0}, \"400.0\": {\"frequency\": 39, \"value\": 400.0}, \"401.0\": {\"frequency\": 17, \"value\": 401.0}, \"402.0\": {\"frequency\": 2, \"value\": 402.0}, \"404.0\": {\"frequency\": 2, \"value\": 404.0}, \"406.0\": {\"frequency\": 2, \"value\": 406.0}, \"407.0\": {\"frequency\": 24, \"value\": 407.0}, \"408.0\": {\"frequency\": 26, \"value\": 408.0}, \"410.0\": {\"frequency\": 8, \"value\": 410.0}, \"411.0\": {\"frequency\": 15, \"value\": 411.0}, \"412.0\": {\"frequency\": 2, \"value\": 412.0}, \"413.0\": {\"frequency\": 3, \"value\": 413.0}, \"414.0\": {\"frequency\": 25, \"value\": 414.0}, \"415.0\": {\"frequency\": 28, \"value\": 415.0}, \"416.0\": {\"frequency\": 2, \"value\": 416.0}, \"418.0\": {\"frequency\": 1, \"value\": 418.0}, \"420.0\": {\"frequency\": 2, \"value\": 420.0}, \"421.0\": {\"frequency\": 25, \"value\": 421.0}, \"422.0\": {\"frequency\": 24, \"value\": 422.0}, \"424.0\": {\"frequency\": 2, \"value\": 424.0}, \"425.0\": {\"frequency\": 1, \"value\": 425.0}, \"427.0\": {\"frequency\": 1, \"value\": 427.0}, \"428.0\": {\"frequency\": 25, \"value\": 428.0}, \"429.0\": {\"frequency\": 29, \"value\": 429.0}, \"430.0\": {\"frequency\": 2, \"value\": 430.0}, \"431.0\": {\"frequency\": 3, \"value\": 431.0}, \"432.0\": {\"frequency\": 21, \"value\": 432.0}, \"435.0\": {\"frequency\": 27, \"value\": 435.0}, \"436.0\": {\"frequency\": 21, \"value\": 436.0}, \"439.0\": {\"frequency\": 1, \"value\": 439.0}, \"442.0\": {\"frequency\": 11, \"value\": 442.0}, \"443.0\": {\"frequency\": 7, \"value\": 443.0}, \"519.0\": {\"frequency\": 2, \"value\": 519.0}, \"520.0\": {\"frequency\": 1, \"value\": 520.0}, \"526.0\": {\"frequency\": 13, \"value\": 526.0}, \"527.0\": {\"frequency\": 6, \"value\": 527.0}, \"533.0\": {\"frequency\": 24, \"value\": 533.0}, \"534.0\": {\"frequency\": 13, \"value\": 534.0}, \"535.0\": {\"frequency\": 1, \"value\": 535.0}, \"536.0\": {\"frequency\": 1, \"value\": 536.0}, \"539.0\": {\"frequency\": 3, \"value\": 539.0}, \"540.0\": {\"frequency\": 28, \"value\": 540.0}, \"541.0\": {\"frequency\": 19, \"value\": 541.0}, \"542.0\": {\"frequency\": 2, \"value\": 542.0}, \"546.0\": {\"frequency\": 2, \"value\": 546.0}, \"547.0\": {\"frequency\": 31, \"value\": 547.0}, \"548.0\": {\"frequency\": 34, \"value\": 548.0}, \"549.0\": {\"frequency\": 2, \"value\": 549.0}, \"560.0\": {\"frequency\": 3, \"value\": 560.0}, \"561.0\": {\"frequency\": 44, \"value\": 561.0}, \"562.0\": {\"frequency\": 22, \"value\": 562.0}, \"563.0\": {\"frequency\": 3, \"value\": 563.0}, \"567.0\": {\"frequency\": 4, \"value\": 567.0}, \"568.0\": {\"frequency\": 34, \"value\": 568.0}, \"569.0\": {\"frequency\": 30, \"value\": 569.0}, \"570.0\": {\"frequency\": 2, \"value\": 570.0}, \"571.0\": {\"frequency\": 7, \"value\": 571.0}, \"572.0\": {\"frequency\": 23, \"value\": 572.0}, \"573.0\": {\"frequency\": 4, \"value\": 573.0}, \"574.0\": {\"frequency\": 1, \"value\": 574.0}, \"575.0\": {\"frequency\": 40, \"value\": 575.0}, \"576.0\": {\"frequency\": 26, \"value\": 576.0}, \"577.0\": {\"frequency\": 1, \"value\": 577.0}, \"581.0\": {\"frequency\": 3, \"value\": 581.0}, \"582.0\": {\"frequency\": 35, \"value\": 582.0}, \"583.0\": {\"frequency\": 31, \"value\": 583.0}, \"584.0\": {\"frequency\": 2, \"value\": 584.0}, \"595.0\": {\"frequency\": 2, \"value\": 595.0}, \"596.0\": {\"frequency\": 37, \"value\": 596.0}, \"597.0\": {\"frequency\": 27, \"value\": 597.0}, \"598.0\": {\"frequency\": 1, \"value\": 598.0}, \"602.0\": {\"frequency\": 3, \"value\": 602.0}, \"603.0\": {\"frequency\": 33, \"value\": 603.0}, \"604.0\": {\"frequency\": 33, \"value\": 604.0}, \"605.0\": {\"frequency\": 2, \"value\": 605.0}, \"606.0\": {\"frequency\": 1, \"value\": 606.0}, \"607.0\": {\"frequency\": 7, \"value\": 607.0}, \"609.0\": {\"frequency\": 3, \"value\": 609.0}, \"610.0\": {\"frequency\": 36, \"value\": 610.0}, \"611.0\": {\"frequency\": 25, \"value\": 611.0}, \"612.0\": {\"frequency\": 1, \"value\": 612.0}, \"613.0\": {\"frequency\": 1, \"value\": 613.0}, \"616.0\": {\"frequency\": 3, \"value\": 616.0}, \"617.0\": {\"frequency\": 31, \"value\": 617.0}, \"618.0\": {\"frequency\": 35, \"value\": 618.0}, \"619.0\": {\"frequency\": 2, \"value\": 619.0}, \"620.0\": {\"frequency\": 3, \"value\": 620.0}, \"621.0\": {\"frequency\": 18, \"value\": 621.0}, \"622.0\": {\"frequency\": 1, \"value\": 622.0}, \"623.0\": {\"frequency\": 2, \"value\": 623.0}, \"624.0\": {\"frequency\": 36, \"value\": 624.0}, \"625.0\": {\"frequency\": 30, \"value\": 625.0}, \"631.0\": {\"frequency\": 41, \"value\": 631.0}, \"632.0\": {\"frequency\": 23, \"value\": 632.0}, \"633.0\": {\"frequency\": 2, \"value\": 633.0}, \"635.0\": {\"frequency\": 2, \"value\": 635.0}, \"637.0\": {\"frequency\": 4, \"value\": 637.0}, \"638.0\": {\"frequency\": 37, \"value\": 638.0}, \"639.0\": {\"frequency\": 25, \"value\": 639.0}, \"640.0\": {\"frequency\": 1, \"value\": 640.0}, \"642.0\": {\"frequency\": 2, \"value\": 642.0}, \"644.0\": {\"frequency\": 4, \"value\": 644.0}, \"645.0\": {\"frequency\": 28, \"value\": 645.0}, \"646.0\": {\"frequency\": 26, \"value\": 646.0}, \"647.0\": {\"frequency\": 3, \"value\": 647.0}, \"649.0\": {\"frequency\": 1, \"value\": 649.0}, \"651.0\": {\"frequency\": 3, \"value\": 651.0}, \"652.0\": {\"frequency\": 34, \"value\": 652.0}, \"653.0\": {\"frequency\": 23, \"value\": 653.0}, \"654.0\": {\"frequency\": 2, \"value\": 654.0}, \"655.0\": {\"frequency\": 2, \"value\": 655.0}, \"656.0\": {\"frequency\": 1, \"value\": 656.0}, \"658.0\": {\"frequency\": 3, \"value\": 658.0}, \"659.0\": {\"frequency\": 30, \"value\": 659.0}, \"660.0\": {\"frequency\": 16, \"value\": 660.0}, \"661.0\": {\"frequency\": 2, \"value\": 661.0}, \"662.0\": {\"frequency\": 2, \"value\": 662.0}, \"663.0\": {\"frequency\": 9, \"value\": 663.0}, \"667.0\": {\"frequency\": 13, \"value\": 667.0}, \"668.0\": {\"frequency\": 1, \"value\": 668.0}, \"669.0\": {\"frequency\": 7, \"value\": 669.0}, \"670.0\": {\"frequency\": 10, \"value\": 670.0}, \"671.0\": {\"frequency\": 2, \"value\": 671.0}, \"673.0\": {\"frequency\": 11, \"value\": 673.0}, \"674.0\": {\"frequency\": 8, \"value\": 674.0}, \"675.0\": {\"frequency\": 5, \"value\": 675.0}, \"676.0\": {\"frequency\": 2, \"value\": 676.0}, \"677.0\": {\"frequency\": 7, \"value\": 677.0}, \"678.0\": {\"frequency\": 9, \"value\": 678.0}, \"680.0\": {\"frequency\": 4, \"value\": 680.0}, \"681.0\": {\"frequency\": 16, \"value\": 681.0}, \"684.0\": {\"frequency\": 2, \"value\": 684.0}, \"686.0\": {\"frequency\": 2, \"value\": 686.0}, \"687.0\": {\"frequency\": 33, \"value\": 687.0}, \"688.0\": {\"frequency\": 18, \"value\": 688.0}, \"689.0\": {\"frequency\": 1, \"value\": 689.0}, \"690.0\": {\"frequency\": 4, \"value\": 690.0}, \"691.0\": {\"frequency\": 6, \"value\": 691.0}, \"693.0\": {\"frequency\": 3, \"value\": 693.0}, \"694.0\": {\"frequency\": 37, \"value\": 694.0}, \"695.0\": {\"frequency\": 20, \"value\": 695.0}, \"696.0\": {\"frequency\": 2, \"value\": 696.0}, \"697.0\": {\"frequency\": 2, \"value\": 697.0}, \"698.0\": {\"frequency\": 7, \"value\": 698.0}, \"700.0\": {\"frequency\": 2, \"value\": 700.0}, \"701.0\": {\"frequency\": 28, \"value\": 701.0}, \"702.0\": {\"frequency\": 20, \"value\": 702.0}, \"703.0\": {\"frequency\": 1, \"value\": 703.0}, \"704.0\": {\"frequency\": 6, \"value\": 704.0}, \"705.0\": {\"frequency\": 19, \"value\": 705.0}, \"706.0\": {\"frequency\": 1, \"value\": 706.0}, \"707.0\": {\"frequency\": 4, \"value\": 707.0}, \"708.0\": {\"frequency\": 36, \"value\": 708.0}, \"709.0\": {\"frequency\": 26, \"value\": 709.0}, \"715.0\": {\"frequency\": 39, \"value\": 715.0}, \"716.0\": {\"frequency\": 27, \"value\": 716.0}, \"717.0\": {\"frequency\": 3, \"value\": 717.0}, \"718.0\": {\"frequency\": 2, \"value\": 718.0}, \"719.0\": {\"frequency\": 5, \"value\": 719.0}, \"721.0\": {\"frequency\": 3, \"value\": 721.0}, \"722.0\": {\"frequency\": 26, \"value\": 722.0}, \"723.0\": {\"frequency\": 30, \"value\": 723.0}, \"724.0\": {\"frequency\": 2, \"value\": 724.0}, \"725.0\": {\"frequency\": 3, \"value\": 725.0}, \"726.0\": {\"frequency\": 4, \"value\": 726.0}, \"728.0\": {\"frequency\": 2, \"value\": 728.0}, \"729.0\": {\"frequency\": 33, \"value\": 729.0}, \"730.0\": {\"frequency\": 27, \"value\": 730.0}, \"731.0\": {\"frequency\": 4, \"value\": 731.0}, \"732.0\": {\"frequency\": 5, \"value\": 732.0}, \"733.0\": {\"frequency\": 6, \"value\": 733.0}, \"734.0\": {\"frequency\": 2, \"value\": 734.0}, \"735.0\": {\"frequency\": 4, \"value\": 735.0}, \"736.0\": {\"frequency\": 37, \"value\": 736.0}, \"737.0\": {\"frequency\": 30, \"value\": 737.0}, \"738.0\": {\"frequency\": 5, \"value\": 738.0}, \"740.0\": {\"frequency\": 1, \"value\": 740.0}, \"741.0\": {\"frequency\": 1, \"value\": 741.0}, \"742.0\": {\"frequency\": 5, \"value\": 742.0}, \"743.0\": {\"frequency\": 25, \"value\": 743.0}, \"744.0\": {\"frequency\": 27, \"value\": 744.0}, \"745.0\": {\"frequency\": 1, \"value\": 745.0}, \"747.0\": {\"frequency\": 1, \"value\": 747.0}, \"749.0\": {\"frequency\": 3, \"value\": 749.0}, \"750.0\": {\"frequency\": 34, \"value\": 750.0}, \"751.0\": {\"frequency\": 34, \"value\": 751.0}, \"752.0\": {\"frequency\": 2, \"value\": 752.0}, \"758.0\": {\"frequency\": 1, \"value\": 758.0}, \"763.0\": {\"frequency\": 2, \"value\": 763.0}, \"764.0\": {\"frequency\": 35, \"value\": 764.0}, \"765.0\": {\"frequency\": 28, \"value\": 765.0}, \"766.0\": {\"frequency\": 2, \"value\": 766.0}, \"767.0\": {\"frequency\": 1, \"value\": 767.0}, \"768.0\": {\"frequency\": 3, \"value\": 768.0}, \"770.0\": {\"frequency\": 2, \"value\": 770.0}, \"771.0\": {\"frequency\": 34, \"value\": 771.0}, \"772.0\": {\"frequency\": 28, \"value\": 772.0}, \"773.0\": {\"frequency\": 2, \"value\": 773.0}, \"774.0\": {\"frequency\": 1, \"value\": 774.0}, \"775.0\": {\"frequency\": 1, \"value\": 775.0}, \"777.0\": {\"frequency\": 2, \"value\": 777.0}, \"778.0\": {\"frequency\": 31, \"value\": 778.0}, \"779.0\": {\"frequency\": 21, \"value\": 779.0}, \"780.0\": {\"frequency\": 2, \"value\": 780.0}, \"781.0\": {\"frequency\": 2, \"value\": 781.0}, \"782.0\": {\"frequency\": 3, \"value\": 782.0}, \"783.0\": {\"frequency\": 1, \"value\": 783.0}, \"784.0\": {\"frequency\": 1, \"value\": 784.0}, \"785.0\": {\"frequency\": 32, \"value\": 785.0}, \"786.0\": {\"frequency\": 22, \"value\": 786.0}, \"787.0\": {\"frequency\": 3, \"value\": 787.0}, \"788.0\": {\"frequency\": 1, \"value\": 788.0}, \"789.0\": {\"frequency\": 3, \"value\": 789.0}, \"791.0\": {\"frequency\": 2, \"value\": 791.0}, \"792.0\": {\"frequency\": 27, \"value\": 792.0}, \"793.0\": {\"frequency\": 32, \"value\": 793.0}, \"794.0\": {\"frequency\": 3, \"value\": 794.0}, \"796.0\": {\"frequency\": 1, \"value\": 796.0}, \"799.0\": {\"frequency\": 36, \"value\": 799.0}, \"800.0\": {\"frequency\": 18, \"value\": 800.0}, \"801.0\": {\"frequency\": 2, \"value\": 801.0}, \"802.0\": {\"frequency\": 9, \"value\": 802.0}, \"803.0\": {\"frequency\": 16, \"value\": 803.0}, \"806.0\": {\"frequency\": 18, \"value\": 806.0}, \"807.0\": {\"frequency\": 36, \"value\": 807.0}, \"808.0\": {\"frequency\": 1, \"value\": 808.0}, \"809.0\": {\"frequency\": 1, \"value\": 809.0}, \"810.0\": {\"frequency\": 2, \"value\": 810.0}, \"813.0\": {\"frequency\": 19, \"value\": 813.0}, \"814.0\": {\"frequency\": 19, \"value\": 814.0}, \"821.0\": {\"frequency\": 8, \"value\": 821.0}, \"876.0\": {\"frequency\": 2, \"value\": 876.0}, \"877.0\": {\"frequency\": 2, \"value\": 877.0}, \"878.0\": {\"frequency\": 1, \"value\": 878.0}, \"883.0\": {\"frequency\": 8, \"value\": 883.0}, \"884.0\": {\"frequency\": 2, \"value\": 884.0}, \"889.0\": {\"frequency\": 1, \"value\": 889.0}, \"890.0\": {\"frequency\": 19, \"value\": 890.0}, \"891.0\": {\"frequency\": 12, \"value\": 891.0}, \"897.0\": {\"frequency\": 34, \"value\": 897.0}, \"898.0\": {\"frequency\": 14, \"value\": 898.0}, \"899.0\": {\"frequency\": 2, \"value\": 899.0}, \"903.0\": {\"frequency\": 4, \"value\": 903.0}, \"904.0\": {\"frequency\": 29, \"value\": 904.0}, \"905.0\": {\"frequency\": 22, \"value\": 905.0}, \"906.0\": {\"frequency\": 2, \"value\": 906.0}, \"910.0\": {\"frequency\": 2, \"value\": 910.0}, \"911.0\": {\"frequency\": 33, \"value\": 911.0}, \"912.0\": {\"frequency\": 28, \"value\": 912.0}, \"913.0\": {\"frequency\": 2, \"value\": 913.0}, \"921.0\": {\"frequency\": 1, \"value\": 921.0}, \"924.0\": {\"frequency\": 2, \"value\": 924.0}, \"925.0\": {\"frequency\": 37, \"value\": 925.0}, \"926.0\": {\"frequency\": 29, \"value\": 926.0}, \"927.0\": {\"frequency\": 3, \"value\": 927.0}, \"931.0\": {\"frequency\": 2, \"value\": 931.0}, \"932.0\": {\"frequency\": 40, \"value\": 932.0}, \"933.0\": {\"frequency\": 32, \"value\": 933.0}, \"934.0\": {\"frequency\": 1, \"value\": 934.0}, \"935.0\": {\"frequency\": 5, \"value\": 935.0}, \"936.0\": {\"frequency\": 20, \"value\": 936.0}, \"937.0\": {\"frequency\": 3, \"value\": 937.0}, \"938.0\": {\"frequency\": 2, \"value\": 938.0}, \"939.0\": {\"frequency\": 45, \"value\": 939.0}, \"940.0\": {\"frequency\": 26, \"value\": 940.0}, \"941.0\": {\"frequency\": 3, \"value\": 941.0}, \"942.0\": {\"frequency\": 1, \"value\": 942.0}, \"943.0\": {\"frequency\": 1, \"value\": 943.0}, \"945.0\": {\"frequency\": 4, \"value\": 945.0}, \"946.0\": {\"frequency\": 36, \"value\": 946.0}, \"947.0\": {\"frequency\": 31, \"value\": 947.0}, \"959.0\": {\"frequency\": 1, \"value\": 959.0}, \"960.0\": {\"frequency\": 42, \"value\": 960.0}, \"961.0\": {\"frequency\": 23, \"value\": 961.0}, \"962.0\": {\"frequency\": 1, \"value\": 962.0}, \"966.0\": {\"frequency\": 2, \"value\": 966.0}, \"967.0\": {\"frequency\": 34, \"value\": 967.0}, \"968.0\": {\"frequency\": 33, \"value\": 968.0}, \"970.0\": {\"frequency\": 3, \"value\": 970.0}, \"971.0\": {\"frequency\": 12, \"value\": 971.0}, \"972.0\": {\"frequency\": 3, \"value\": 972.0}, \"973.0\": {\"frequency\": 2, \"value\": 973.0}, \"974.0\": {\"frequency\": 43, \"value\": 974.0}, \"975.0\": {\"frequency\": 28, \"value\": 975.0}, \"976.0\": {\"frequency\": 2, \"value\": 976.0}, \"977.0\": {\"frequency\": 1, \"value\": 977.0}, \"980.0\": {\"frequency\": 3, \"value\": 980.0}, \"981.0\": {\"frequency\": 30, \"value\": 981.0}, \"982.0\": {\"frequency\": 36, \"value\": 982.0}, \"994.0\": {\"frequency\": 4, \"value\": 994.0}, \"995.0\": {\"frequency\": 37, \"value\": 995.0}, \"996.0\": {\"frequency\": 23, \"value\": 996.0}, \"997.0\": {\"frequency\": 2, \"value\": 997.0}, \"999.0\": {\"frequency\": 1, \"value\": 999.0}, \"1001.0\": {\"frequency\": 5, \"value\": 1001.0}, \"1002.0\": {\"frequency\": 44, \"value\": 1002.0}, \"1003.0\": {\"frequency\": 25, \"value\": 1003.0}, \"1004.0\": {\"frequency\": 2, \"value\": 1004.0}, \"1005.0\": {\"frequency\": 1, \"value\": 1005.0}, \"1008.0\": {\"frequency\": 5, \"value\": 1008.0}, \"1009.0\": {\"frequency\": 35, \"value\": 1009.0}, \"1010.0\": {\"frequency\": 25, \"value\": 1010.0}, \"1011.0\": {\"frequency\": 2, \"value\": 1011.0}, \"1013.0\": {\"frequency\": 2, \"value\": 1013.0}, \"1015.0\": {\"frequency\": 3, \"value\": 1015.0}, \"1016.0\": {\"frequency\": 38, \"value\": 1016.0}, \"1017.0\": {\"frequency\": 26, \"value\": 1017.0}, \"1018.0\": {\"frequency\": 2, \"value\": 1018.0}, \"1019.0\": {\"frequency\": 3, \"value\": 1019.0}, \"1022.0\": {\"frequency\": 3, \"value\": 1022.0}, \"1023.0\": {\"frequency\": 36, \"value\": 1023.0}, \"1024.0\": {\"frequency\": 30, \"value\": 1024.0}, \"1025.0\": {\"frequency\": 1, \"value\": 1025.0}, \"1026.0\": {\"frequency\": 5, \"value\": 1026.0}, \"1027.0\": {\"frequency\": 21, \"value\": 1027.0}, \"1028.0\": {\"frequency\": 1, \"value\": 1028.0}, \"1030.0\": {\"frequency\": 6, \"value\": 1030.0}, \"1032.0\": {\"frequency\": 13, \"value\": 1032.0}, \"1033.0\": {\"frequency\": 3, \"value\": 1033.0}, \"1034.0\": {\"frequency\": 5, \"value\": 1034.0}, \"1036.0\": {\"frequency\": 1, \"value\": 1036.0}, \"1037.0\": {\"frequency\": 6, \"value\": 1037.0}, \"1038.0\": {\"frequency\": 2, \"value\": 1038.0}, \"1039.0\": {\"frequency\": 9, \"value\": 1039.0}, \"1040.0\": {\"frequency\": 2, \"value\": 1040.0}, \"1041.0\": {\"frequency\": 2, \"value\": 1041.0}, \"1044.0\": {\"frequency\": 8, \"value\": 1044.0}, \"1045.0\": {\"frequency\": 14, \"value\": 1045.0}, \"1046.0\": {\"frequency\": 1, \"value\": 1046.0}, \"1048.0\": {\"frequency\": 1, \"value\": 1048.0}, \"1050.0\": {\"frequency\": 1, \"value\": 1050.0}, \"1051.0\": {\"frequency\": 33, \"value\": 1051.0}, \"1052.0\": {\"frequency\": 20, \"value\": 1052.0}, \"1053.0\": {\"frequency\": 2, \"value\": 1053.0}, \"1057.0\": {\"frequency\": 3, \"value\": 1057.0}, \"1058.0\": {\"frequency\": 33, \"value\": 1058.0}, \"1059.0\": {\"frequency\": 27, \"value\": 1059.0}, \"1060.0\": {\"frequency\": 2, \"value\": 1060.0}, \"1061.0\": {\"frequency\": 2, \"value\": 1061.0}, \"1062.0\": {\"frequency\": 6, \"value\": 1062.0}, \"1063.0\": {\"frequency\": 1, \"value\": 1063.0}, \"1064.0\": {\"frequency\": 3, \"value\": 1064.0}, \"1065.0\": {\"frequency\": 34, \"value\": 1065.0}, \"1066.0\": {\"frequency\": 28, \"value\": 1066.0}, \"1067.0\": {\"frequency\": 2, \"value\": 1067.0}, \"1068.0\": {\"frequency\": 5, \"value\": 1068.0}, \"1069.0\": {\"frequency\": 9, \"value\": 1069.0}, \"1070.0\": {\"frequency\": 1, \"value\": 1070.0}, \"1071.0\": {\"frequency\": 2, \"value\": 1071.0}, \"1072.0\": {\"frequency\": 32, \"value\": 1072.0}, \"1073.0\": {\"frequency\": 22, \"value\": 1073.0}, \"1074.0\": {\"frequency\": 2, \"value\": 1074.0}, \"1075.0\": {\"frequency\": 1, \"value\": 1075.0}, \"1076.0\": {\"frequency\": 3, \"value\": 1076.0}, \"1077.0\": {\"frequency\": 1, \"value\": 1077.0}, \"1078.0\": {\"frequency\": 3, \"value\": 1078.0}, \"1079.0\": {\"frequency\": 41, \"value\": 1079.0}, \"1080.0\": {\"frequency\": 24, \"value\": 1080.0}, \"1081.0\": {\"frequency\": 3, \"value\": 1081.0}, \"1083.0\": {\"frequency\": 1, \"value\": 1083.0}, \"1085.0\": {\"frequency\": 4, \"value\": 1085.0}, \"1086.0\": {\"frequency\": 29, \"value\": 1086.0}, \"1087.0\": {\"frequency\": 32, \"value\": 1087.0}, \"1088.0\": {\"frequency\": 2, \"value\": 1088.0}, \"1089.0\": {\"frequency\": 2, \"value\": 1089.0}, \"1090.0\": {\"frequency\": 6, \"value\": 1090.0}, \"1092.0\": {\"frequency\": 3, \"value\": 1092.0}, \"1093.0\": {\"frequency\": 39, \"value\": 1093.0}, \"1094.0\": {\"frequency\": 35, \"value\": 1094.0}, \"1095.0\": {\"frequency\": 1, \"value\": 1095.0}, \"1099.0\": {\"frequency\": 1, \"value\": 1099.0}, \"1100.0\": {\"frequency\": 41, \"value\": 1100.0}, \"1101.0\": {\"frequency\": 24, \"value\": 1101.0}, \"1102.0\": {\"frequency\": 3, \"value\": 1102.0}, \"1103.0\": {\"frequency\": 1, \"value\": 1103.0}, \"1106.0\": {\"frequency\": 5, \"value\": 1106.0}, \"1107.0\": {\"frequency\": 29, \"value\": 1107.0}, \"1108.0\": {\"frequency\": 23, \"value\": 1108.0}, \"1109.0\": {\"frequency\": 2, \"value\": 1109.0}, \"1110.0\": {\"frequency\": 1, \"value\": 1110.0}, \"1113.0\": {\"frequency\": 4, \"value\": 1113.0}, \"1114.0\": {\"frequency\": 29, \"value\": 1114.0}, \"1115.0\": {\"frequency\": 35, \"value\": 1115.0}, \"1116.0\": {\"frequency\": 2, \"value\": 1116.0}, \"1117.0\": {\"frequency\": 3, \"value\": 1117.0}, \"1118.0\": {\"frequency\": 17, \"value\": 1118.0}, \"1119.0\": {\"frequency\": 3, \"value\": 1119.0}, \"1120.0\": {\"frequency\": 3, \"value\": 1120.0}, \"1121.0\": {\"frequency\": 29, \"value\": 1121.0}, \"1122.0\": {\"frequency\": 25, \"value\": 1122.0}, \"1123.0\": {\"frequency\": 3, \"value\": 1123.0}, \"1125.0\": {\"frequency\": 1, \"value\": 1125.0}, \"1127.0\": {\"frequency\": 3, \"value\": 1127.0}, \"1128.0\": {\"frequency\": 28, \"value\": 1128.0}, \"1129.0\": {\"frequency\": 22, \"value\": 1129.0}, \"1130.0\": {\"frequency\": 1, \"value\": 1130.0}, \"1134.0\": {\"frequency\": 2, \"value\": 1134.0}, \"1135.0\": {\"frequency\": 41, \"value\": 1135.0}, \"1136.0\": {\"frequency\": 11, \"value\": 1136.0}, \"1137.0\": {\"frequency\": 2, \"value\": 1137.0}, \"1138.0\": {\"frequency\": 10, \"value\": 1138.0}, \"1139.0\": {\"frequency\": 24, \"value\": 1139.0}, \"1140.0\": {\"frequency\": 7, \"value\": 1140.0}, \"1141.0\": {\"frequency\": 1, \"value\": 1141.0}, \"1142.0\": {\"frequency\": 16, \"value\": 1142.0}, \"1143.0\": {\"frequency\": 22, \"value\": 1143.0}, \"1144.0\": {\"frequency\": 3, \"value\": 1144.0}, \"1146.0\": {\"frequency\": 2, \"value\": 1146.0}, \"1148.0\": {\"frequency\": 3, \"value\": 1148.0}, \"1149.0\": {\"frequency\": 37, \"value\": 1149.0}, \"1150.0\": {\"frequency\": 27, \"value\": 1150.0}, \"1151.0\": {\"frequency\": 2, \"value\": 1151.0}, \"1152.0\": {\"frequency\": 3, \"value\": 1152.0}, \"1153.0\": {\"frequency\": 7, \"value\": 1153.0}, \"1155.0\": {\"frequency\": 4, \"value\": 1155.0}, \"1156.0\": {\"frequency\": 33, \"value\": 1156.0}, \"1157.0\": {\"frequency\": 29, \"value\": 1157.0}, \"1158.0\": {\"frequency\": 2, \"value\": 1158.0}, \"1159.0\": {\"frequency\": 9, \"value\": 1159.0}, \"1160.0\": {\"frequency\": 37, \"value\": 1160.0}, \"1161.0\": {\"frequency\": 1, \"value\": 1161.0}, \"1163.0\": {\"frequency\": 31, \"value\": 1163.0}, \"1164.0\": {\"frequency\": 27, \"value\": 1164.0}, \"1165.0\": {\"frequency\": 9, \"value\": 1165.0}, \"1166.0\": {\"frequency\": 1, \"value\": 1166.0}, \"1168.0\": {\"frequency\": 1, \"value\": 1168.0}, \"1170.0\": {\"frequency\": 11, \"value\": 1170.0}, \"1171.0\": {\"frequency\": 39, \"value\": 1171.0}, \"1178.0\": {\"frequency\": 10, \"value\": 1178.0}, \"1247.0\": {\"frequency\": 4, \"value\": 1247.0}, \"1248.0\": {\"frequency\": 3, \"value\": 1248.0}, \"1253.0\": {\"frequency\": 1, \"value\": 1253.0}, \"1254.0\": {\"frequency\": 9, \"value\": 1254.0}, \"1255.0\": {\"frequency\": 3, \"value\": 1255.0}, \"1260.0\": {\"frequency\": 1, \"value\": 1260.0}, \"1261.0\": {\"frequency\": 18, \"value\": 1261.0}, \"1262.0\": {\"frequency\": 10, \"value\": 1262.0}, \"1267.0\": {\"frequency\": 1, \"value\": 1267.0}, \"1268.0\": {\"frequency\": 31, \"value\": 1268.0}, \"1269.0\": {\"frequency\": 18, \"value\": 1269.0}, \"1270.0\": {\"frequency\": 4, \"value\": 1270.0}, \"1272.0\": {\"frequency\": 1, \"value\": 1272.0}, \"1274.0\": {\"frequency\": 3, \"value\": 1274.0}, \"1275.0\": {\"frequency\": 36, \"value\": 1275.0}, \"1276.0\": {\"frequency\": 26, \"value\": 1276.0}, \"1277.0\": {\"frequency\": 3, \"value\": 1277.0}, \"1281.0\": {\"frequency\": 2, \"value\": 1281.0}, \"1282.0\": {\"frequency\": 36, \"value\": 1282.0}, \"1283.0\": {\"frequency\": 34, \"value\": 1283.0}, \"1295.0\": {\"frequency\": 5, \"value\": 1295.0}, \"1296.0\": {\"frequency\": 40, \"value\": 1296.0}, \"1297.0\": {\"frequency\": 25, \"value\": 1297.0}, \"1298.0\": {\"frequency\": 2, \"value\": 1298.0}, \"1302.0\": {\"frequency\": 5, \"value\": 1302.0}, \"1303.0\": {\"frequency\": 38, \"value\": 1303.0}, \"1304.0\": {\"frequency\": 32, \"value\": 1304.0}, \"1305.0\": {\"frequency\": 4, \"value\": 1305.0}, \"1306.0\": {\"frequency\": 5, \"value\": 1306.0}, \"1307.0\": {\"frequency\": 14, \"value\": 1307.0}, \"1308.0\": {\"frequency\": 1, \"value\": 1308.0}, \"1309.0\": {\"frequency\": 4, \"value\": 1309.0}, \"1310.0\": {\"frequency\": 43, \"value\": 1310.0}, \"1311.0\": {\"frequency\": 27, \"value\": 1311.0}, \"1312.0\": {\"frequency\": 2, \"value\": 1312.0}, \"1316.0\": {\"frequency\": 6, \"value\": 1316.0}, \"1317.0\": {\"frequency\": 35, \"value\": 1317.0}, \"1318.0\": {\"frequency\": 33, \"value\": 1318.0}, \"1319.0\": {\"frequency\": 1, \"value\": 1319.0}, \"1330.0\": {\"frequency\": 4, \"value\": 1330.0}, \"1331.0\": {\"frequency\": 39, \"value\": 1331.0}, \"1332.0\": {\"frequency\": 26, \"value\": 1332.0}, \"1333.0\": {\"frequency\": 1, \"value\": 1333.0}, \"1337.0\": {\"frequency\": 6, \"value\": 1337.0}, \"1338.0\": {\"frequency\": 35, \"value\": 1338.0}, \"1339.0\": {\"frequency\": 32, \"value\": 1339.0}, \"1340.0\": {\"frequency\": 1, \"value\": 1340.0}, \"1341.0\": {\"frequency\": 2, \"value\": 1341.0}, \"1342.0\": {\"frequency\": 15, \"value\": 1342.0}, \"1343.0\": {\"frequency\": 1, \"value\": 1343.0}, \"1344.0\": {\"frequency\": 4, \"value\": 1344.0}, \"1345.0\": {\"frequency\": 39, \"value\": 1345.0}, \"1346.0\": {\"frequency\": 31, \"value\": 1346.0}, \"1347.0\": {\"frequency\": 2, \"value\": 1347.0}, \"1349.0\": {\"frequency\": 2, \"value\": 1349.0}, \"1351.0\": {\"frequency\": 5, \"value\": 1351.0}, \"1352.0\": {\"frequency\": 36, \"value\": 1352.0}, \"1353.0\": {\"frequency\": 35, \"value\": 1353.0}, \"1354.0\": {\"frequency\": 1, \"value\": 1354.0}, \"1358.0\": {\"frequency\": 2, \"value\": 1358.0}, \"1359.0\": {\"frequency\": 39, \"value\": 1359.0}, \"1360.0\": {\"frequency\": 26, \"value\": 1360.0}, \"1361.0\": {\"frequency\": 3, \"value\": 1361.0}, \"1365.0\": {\"frequency\": 6, \"value\": 1365.0}, \"1366.0\": {\"frequency\": 37, \"value\": 1366.0}, \"1367.0\": {\"frequency\": 29, \"value\": 1367.0}, \"1368.0\": {\"frequency\": 3, \"value\": 1368.0}, \"1369.0\": {\"frequency\": 11, \"value\": 1369.0}, \"1370.0\": {\"frequency\": 16, \"value\": 1370.0}, \"1372.0\": {\"frequency\": 5, \"value\": 1372.0}, \"1373.0\": {\"frequency\": 35, \"value\": 1373.0}, \"1374.0\": {\"frequency\": 24, \"value\": 1374.0}, \"1375.0\": {\"frequency\": 2, \"value\": 1375.0}, \"1379.0\": {\"frequency\": 6, \"value\": 1379.0}, \"1380.0\": {\"frequency\": 37, \"value\": 1380.0}, \"1381.0\": {\"frequency\": 28, \"value\": 1381.0}, \"1382.0\": {\"frequency\": 6, \"value\": 1382.0}, \"1383.0\": {\"frequency\": 4, \"value\": 1383.0}, \"1384.0\": {\"frequency\": 6, \"value\": 1384.0}, \"1385.0\": {\"frequency\": 1, \"value\": 1385.0}, \"1386.0\": {\"frequency\": 3, \"value\": 1386.0}, \"1387.0\": {\"frequency\": 43, \"value\": 1387.0}, \"1388.0\": {\"frequency\": 25, \"value\": 1388.0}, \"1389.0\": {\"frequency\": 3, \"value\": 1389.0}, \"1392.0\": {\"frequency\": 3, \"value\": 1392.0}, \"1393.0\": {\"frequency\": 8, \"value\": 1393.0}, \"1394.0\": {\"frequency\": 39, \"value\": 1394.0}, \"1395.0\": {\"frequency\": 13, \"value\": 1395.0}, \"1398.0\": {\"frequency\": 20, \"value\": 1398.0}, \"1399.0\": {\"frequency\": 2, \"value\": 1399.0}, \"1401.0\": {\"frequency\": 12, \"value\": 1401.0}, \"1402.0\": {\"frequency\": 3, \"value\": 1402.0}, \"1404.0\": {\"frequency\": 7, \"value\": 1404.0}, \"1405.0\": {\"frequency\": 6, \"value\": 1405.0}, \"1406.0\": {\"frequency\": 1, \"value\": 1406.0}, \"1407.0\": {\"frequency\": 1, \"value\": 1407.0}, \"1408.0\": {\"frequency\": 9, \"value\": 1408.0}, \"1409.0\": {\"frequency\": 14, \"value\": 1409.0}, \"1410.0\": {\"frequency\": 1, \"value\": 1410.0}, \"1414.0\": {\"frequency\": 3, \"value\": 1414.0}, \"1415.0\": {\"frequency\": 20, \"value\": 1415.0}, \"1416.0\": {\"frequency\": 21, \"value\": 1416.0}, \"1417.0\": {\"frequency\": 2, \"value\": 1417.0}, \"1419.0\": {\"frequency\": 1, \"value\": 1419.0}, \"1421.0\": {\"frequency\": 5, \"value\": 1421.0}, \"1422.0\": {\"frequency\": 38, \"value\": 1422.0}, \"1423.0\": {\"frequency\": 25, \"value\": 1423.0}, \"1424.0\": {\"frequency\": 3, \"value\": 1424.0}, \"1425.0\": {\"frequency\": 1, \"value\": 1425.0}, \"1426.0\": {\"frequency\": 2, \"value\": 1426.0}, \"1428.0\": {\"frequency\": 5, \"value\": 1428.0}, \"1429.0\": {\"frequency\": 24, \"value\": 1429.0}, \"1430.0\": {\"frequency\": 29, \"value\": 1430.0}, \"1431.0\": {\"frequency\": 2, \"value\": 1431.0}, \"1432.0\": {\"frequency\": 4, \"value\": 1432.0}, \"1433.0\": {\"frequency\": 10, \"value\": 1433.0}, \"1435.0\": {\"frequency\": 5, \"value\": 1435.0}, \"1436.0\": {\"frequency\": 36, \"value\": 1436.0}, \"1437.0\": {\"frequency\": 28, \"value\": 1437.0}, \"1439.0\": {\"frequency\": 1, \"value\": 1439.0}, \"1442.0\": {\"frequency\": 2, \"value\": 1442.0}, \"1443.0\": {\"frequency\": 41, \"value\": 1443.0}, \"1444.0\": {\"frequency\": 27, \"value\": 1444.0}, \"1445.0\": {\"frequency\": 4, \"value\": 1445.0}, \"1447.0\": {\"frequency\": 1, \"value\": 1447.0}, \"1449.0\": {\"frequency\": 8, \"value\": 1449.0}, \"1450.0\": {\"frequency\": 32, \"value\": 1450.0}, \"1451.0\": {\"frequency\": 26, \"value\": 1451.0}, \"1452.0\": {\"frequency\": 2, \"value\": 1452.0}, \"1453.0\": {\"frequency\": 2, \"value\": 1453.0}, \"1454.0\": {\"frequency\": 1, \"value\": 1454.0}, \"1456.0\": {\"frequency\": 5, \"value\": 1456.0}, \"1457.0\": {\"frequency\": 34, \"value\": 1457.0}, \"1458.0\": {\"frequency\": 26, \"value\": 1458.0}, \"1459.0\": {\"frequency\": 5, \"value\": 1459.0}, \"1460.0\": {\"frequency\": 2, \"value\": 1460.0}, \"1461.0\": {\"frequency\": 6, \"value\": 1461.0}, \"1462.0\": {\"frequency\": 1, \"value\": 1462.0}, \"1463.0\": {\"frequency\": 5, \"value\": 1463.0}, \"1464.0\": {\"frequency\": 32, \"value\": 1464.0}, \"1465.0\": {\"frequency\": 26, \"value\": 1465.0}, \"1466.0\": {\"frequency\": 4, \"value\": 1466.0}, \"1467.0\": {\"frequency\": 1, \"value\": 1467.0}, \"1468.0\": {\"frequency\": 1, \"value\": 1468.0}, \"1470.0\": {\"frequency\": 6, \"value\": 1470.0}, \"1471.0\": {\"frequency\": 36, \"value\": 1471.0}, \"1472.0\": {\"frequency\": 27, \"value\": 1472.0}, \"1473.0\": {\"frequency\": 2, \"value\": 1473.0}, \"1477.0\": {\"frequency\": 6, \"value\": 1477.0}, \"1478.0\": {\"frequency\": 36, \"value\": 1478.0}, \"1479.0\": {\"frequency\": 31, \"value\": 1479.0}, \"1491.0\": {\"frequency\": 2, \"value\": 1491.0}, \"1492.0\": {\"frequency\": 46, \"value\": 1492.0}, \"1493.0\": {\"frequency\": 16, \"value\": 1493.0}, \"1494.0\": {\"frequency\": 5, \"value\": 1494.0}, \"1496.0\": {\"frequency\": 2, \"value\": 1496.0}, \"1498.0\": {\"frequency\": 6, \"value\": 1498.0}, \"1499.0\": {\"frequency\": 31, \"value\": 1499.0}, \"1500.0\": {\"frequency\": 28, \"value\": 1500.0}, \"1501.0\": {\"frequency\": 4, \"value\": 1501.0}, \"1505.0\": {\"frequency\": 4, \"value\": 1505.0}, \"1506.0\": {\"frequency\": 26, \"value\": 1506.0}, \"1507.0\": {\"frequency\": 22, \"value\": 1507.0}, \"1508.0\": {\"frequency\": 2, \"value\": 1508.0}, \"1509.0\": {\"frequency\": 1, \"value\": 1509.0}, \"1510.0\": {\"frequency\": 3, \"value\": 1510.0}, \"1512.0\": {\"frequency\": 6, \"value\": 1512.0}, \"1513.0\": {\"frequency\": 27, \"value\": 1513.0}, \"1514.0\": {\"frequency\": 29, \"value\": 1514.0}, \"1515.0\": {\"frequency\": 3, \"value\": 1515.0}, \"1517.0\": {\"frequency\": 2, \"value\": 1517.0}, \"1519.0\": {\"frequency\": 6, \"value\": 1519.0}, \"1520.0\": {\"frequency\": 32, \"value\": 1520.0}, \"1521.0\": {\"frequency\": 27, \"value\": 1521.0}, \"1522.0\": {\"frequency\": 3, \"value\": 1522.0}, \"1526.0\": {\"frequency\": 4, \"value\": 1526.0}, \"1527.0\": {\"frequency\": 27, \"value\": 1527.0}, \"1528.0\": {\"frequency\": 32, \"value\": 1528.0}, \"1529.0\": {\"frequency\": 3, \"value\": 1529.0}, \"1530.0\": {\"frequency\": 3, \"value\": 1530.0}, \"1531.0\": {\"frequency\": 11, \"value\": 1531.0}, \"1534.0\": {\"frequency\": 31, \"value\": 1534.0}, \"1535.0\": {\"frequency\": 30, \"value\": 1535.0}, \"1536.0\": {\"frequency\": 1, \"value\": 1536.0}, \"1537.0\": {\"frequency\": 2, \"value\": 1537.0}, \"1541.0\": {\"frequency\": 23, \"value\": 1541.0}, \"1542.0\": {\"frequency\": 31, \"value\": 1542.0}, \"1543.0\": {\"frequency\": 1, \"value\": 1543.0}, \"1549.0\": {\"frequency\": 18, \"value\": 1549.0}, \"1555.0\": {\"frequency\": 9, \"value\": 1555.0}, \"1618.0\": {\"frequency\": 7, \"value\": 1618.0}, \"1619.0\": {\"frequency\": 5, \"value\": 1619.0}, \"1624.0\": {\"frequency\": 1, \"value\": 1624.0}, \"1625.0\": {\"frequency\": 19, \"value\": 1625.0}, \"1626.0\": {\"frequency\": 10, \"value\": 1626.0}, \"1631.0\": {\"frequency\": 2, \"value\": 1631.0}, \"1632.0\": {\"frequency\": 30, \"value\": 1632.0}, \"1633.0\": {\"frequency\": 18, \"value\": 1633.0}, \"1634.0\": {\"frequency\": 4, \"value\": 1634.0}, \"1636.0\": {\"frequency\": 1, \"value\": 1636.0}, \"1638.0\": {\"frequency\": 5, \"value\": 1638.0}, \"1639.0\": {\"frequency\": 32, \"value\": 1639.0}, \"1640.0\": {\"frequency\": 24, \"value\": 1640.0}, \"1641.0\": {\"frequency\": 4, \"value\": 1641.0}, \"1642.0\": {\"frequency\": 1, \"value\": 1642.0}, \"1645.0\": {\"frequency\": 3, \"value\": 1645.0}, \"1646.0\": {\"frequency\": 32, \"value\": 1646.0}, \"1647.0\": {\"frequency\": 27, \"value\": 1647.0}, \"1648.0\": {\"frequency\": 1, \"value\": 1648.0}, \"1659.0\": {\"frequency\": 2, \"value\": 1659.0}, \"1660.0\": {\"frequency\": 37, \"value\": 1660.0}, \"1661.0\": {\"frequency\": 24, \"value\": 1661.0}, \"1662.0\": {\"frequency\": 4, \"value\": 1662.0}, \"1666.0\": {\"frequency\": 5, \"value\": 1666.0}, \"1667.0\": {\"frequency\": 36, \"value\": 1667.0}, \"1668.0\": {\"frequency\": 28, \"value\": 1668.0}, \"1669.0\": {\"frequency\": 2, \"value\": 1669.0}, \"1670.0\": {\"frequency\": 7, \"value\": 1670.0}, \"1671.0\": {\"frequency\": 18, \"value\": 1671.0}, \"1672.0\": {\"frequency\": 5, \"value\": 1672.0}, \"1673.0\": {\"frequency\": 3, \"value\": 1673.0}, \"1674.0\": {\"frequency\": 40, \"value\": 1674.0}, \"1675.0\": {\"frequency\": 22, \"value\": 1675.0}, \"1676.0\": {\"frequency\": 5, \"value\": 1676.0}, \"1678.0\": {\"frequency\": 1, \"value\": 1678.0}, \"1680.0\": {\"frequency\": 6, \"value\": 1680.0}, \"1681.0\": {\"frequency\": 33, \"value\": 1681.0}, \"1682.0\": {\"frequency\": 28, \"value\": 1682.0}, \"1683.0\": {\"frequency\": 2, \"value\": 1683.0}, \"1694.0\": {\"frequency\": 4, \"value\": 1694.0}, \"1695.0\": {\"frequency\": 35, \"value\": 1695.0}, \"1696.0\": {\"frequency\": 20, \"value\": 1696.0}, \"1697.0\": {\"frequency\": 3, \"value\": 1697.0}, \"1701.0\": {\"frequency\": 4, \"value\": 1701.0}, \"1702.0\": {\"frequency\": 32, \"value\": 1702.0}, \"1703.0\": {\"frequency\": 28, \"value\": 1703.0}, \"1704.0\": {\"frequency\": 2, \"value\": 1704.0}, \"1705.0\": {\"frequency\": 3, \"value\": 1705.0}, \"1706.0\": {\"frequency\": 11, \"value\": 1706.0}, \"1707.0\": {\"frequency\": 5, \"value\": 1707.0}, \"1708.0\": {\"frequency\": 4, \"value\": 1708.0}, \"1709.0\": {\"frequency\": 35, \"value\": 1709.0}, \"1710.0\": {\"frequency\": 23, \"value\": 1710.0}, \"1711.0\": {\"frequency\": 3, \"value\": 1711.0}, \"1715.0\": {\"frequency\": 5, \"value\": 1715.0}, \"1716.0\": {\"frequency\": 34, \"value\": 1716.0}, \"1717.0\": {\"frequency\": 24, \"value\": 1717.0}, \"1724.0\": {\"frequency\": 1, \"value\": 1724.0}, \"1729.0\": {\"frequency\": 3, \"value\": 1729.0}, \"1730.0\": {\"frequency\": 37, \"value\": 1730.0}, \"1731.0\": {\"frequency\": 24, \"value\": 1731.0}, \"1732.0\": {\"frequency\": 4, \"value\": 1732.0}, \"1736.0\": {\"frequency\": 6, \"value\": 1736.0}, \"1737.0\": {\"frequency\": 29, \"value\": 1737.0}, \"1738.0\": {\"frequency\": 25, \"value\": 1738.0}, \"1739.0\": {\"frequency\": 3, \"value\": 1739.0}, \"1740.0\": {\"frequency\": 4, \"value\": 1740.0}, \"1741.0\": {\"frequency\": 17, \"value\": 1741.0}, \"1742.0\": {\"frequency\": 1, \"value\": 1742.0}, \"1743.0\": {\"frequency\": 6, \"value\": 1743.0}, \"1744.0\": {\"frequency\": 29, \"value\": 1744.0}, \"1745.0\": {\"frequency\": 20, \"value\": 1745.0}, \"1746.0\": {\"frequency\": 2, \"value\": 1746.0}, \"1750.0\": {\"frequency\": 5, \"value\": 1750.0}, \"1751.0\": {\"frequency\": 31, \"value\": 1751.0}, \"1752.0\": {\"frequency\": 27, \"value\": 1752.0}, \"1753.0\": {\"frequency\": 4, \"value\": 1753.0}, \"1756.0\": {\"frequency\": 1, \"value\": 1756.0}, \"1757.0\": {\"frequency\": 6, \"value\": 1757.0}, \"1758.0\": {\"frequency\": 37, \"value\": 1758.0}, \"1759.0\": {\"frequency\": 23, \"value\": 1759.0}, \"1760.0\": {\"frequency\": 1, \"value\": 1760.0}, \"1763.0\": {\"frequency\": 16, \"value\": 1763.0}, \"1765.0\": {\"frequency\": 6, \"value\": 1765.0}, \"1766.0\": {\"frequency\": 10, \"value\": 1766.0}, \"1769.0\": {\"frequency\": 14, \"value\": 1769.0}, \"1770.0\": {\"frequency\": 2, \"value\": 1770.0}, \"1772.0\": {\"frequency\": 5, \"value\": 1772.0}, \"1773.0\": {\"frequency\": 11, \"value\": 1773.0}, \"1774.0\": {\"frequency\": 8, \"value\": 1774.0}, \"1776.0\": {\"frequency\": 1, \"value\": 1776.0}, \"1778.0\": {\"frequency\": 4, \"value\": 1778.0}, \"1779.0\": {\"frequency\": 24, \"value\": 1779.0}, \"1780.0\": {\"frequency\": 19, \"value\": 1780.0}, \"1781.0\": {\"frequency\": 3, \"value\": 1781.0}, \"1785.0\": {\"frequency\": 4, \"value\": 1785.0}, \"1786.0\": {\"frequency\": 28, \"value\": 1786.0}, \"1787.0\": {\"frequency\": 25, \"value\": 1787.0}, \"1788.0\": {\"frequency\": 3, \"value\": 1788.0}, \"1789.0\": {\"frequency\": 1, \"value\": 1789.0}, \"1792.0\": {\"frequency\": 4, \"value\": 1792.0}, \"1793.0\": {\"frequency\": 24, \"value\": 1793.0}, \"1794.0\": {\"frequency\": 20, \"value\": 1794.0}, \"1795.0\": {\"frequency\": 1, \"value\": 1795.0}, \"1796.0\": {\"frequency\": 6, \"value\": 1796.0}, \"1797.0\": {\"frequency\": 8, \"value\": 1797.0}, \"1799.0\": {\"frequency\": 5, \"value\": 1799.0}, \"1800.0\": {\"frequency\": 34, \"value\": 1800.0}, \"1801.0\": {\"frequency\": 23, \"value\": 1801.0}, \"1802.0\": {\"frequency\": 3, \"value\": 1802.0}, \"1803.0\": {\"frequency\": 3, \"value\": 1803.0}, \"1804.0\": {\"frequency\": 4, \"value\": 1804.0}, \"1805.0\": {\"frequency\": 2, \"value\": 1805.0}, \"1806.0\": {\"frequency\": 4, \"value\": 1806.0}, \"1807.0\": {\"frequency\": 31, \"value\": 1807.0}, \"1808.0\": {\"frequency\": 22, \"value\": 1808.0}, \"1809.0\": {\"frequency\": 2, \"value\": 1809.0}, \"1810.0\": {\"frequency\": 6, \"value\": 1810.0}, \"1811.0\": {\"frequency\": 5, \"value\": 1811.0}, \"1813.0\": {\"frequency\": 5, \"value\": 1813.0}, \"1814.0\": {\"frequency\": 26, \"value\": 1814.0}, \"1815.0\": {\"frequency\": 22, \"value\": 1815.0}, \"1816.0\": {\"frequency\": 3, \"value\": 1816.0}, \"1820.0\": {\"frequency\": 6, \"value\": 1820.0}, \"1821.0\": {\"frequency\": 33, \"value\": 1821.0}, \"1822.0\": {\"frequency\": 23, \"value\": 1822.0}, \"1823.0\": {\"frequency\": 4, \"value\": 1823.0}, \"1824.0\": {\"frequency\": 4, \"value\": 1824.0}, \"1827.0\": {\"frequency\": 3, \"value\": 1827.0}, \"1828.0\": {\"frequency\": 32, \"value\": 1828.0}, \"1829.0\": {\"frequency\": 29, \"value\": 1829.0}, \"1830.0\": {\"frequency\": 1, \"value\": 1830.0}, \"1834.0\": {\"frequency\": 2, \"value\": 1834.0}, \"1835.0\": {\"frequency\": 31, \"value\": 1835.0}, \"1836.0\": {\"frequency\": 23, \"value\": 1836.0}, \"1837.0\": {\"frequency\": 3, \"value\": 1837.0}, \"1839.0\": {\"frequency\": 1, \"value\": 1839.0}, \"1841.0\": {\"frequency\": 5, \"value\": 1841.0}, \"1842.0\": {\"frequency\": 33, \"value\": 1842.0}, \"1843.0\": {\"frequency\": 25, \"value\": 1843.0}, \"1844.0\": {\"frequency\": 4, \"value\": 1844.0}, \"1846.0\": {\"frequency\": 1, \"value\": 1846.0}, \"1848.0\": {\"frequency\": 4, \"value\": 1848.0}, \"1849.0\": {\"frequency\": 34, \"value\": 1849.0}, \"1850.0\": {\"frequency\": 22, \"value\": 1850.0}, \"1851.0\": {\"frequency\": 2, \"value\": 1851.0}, \"1852.0\": {\"frequency\": 12, \"value\": 1852.0}, \"1853.0\": {\"frequency\": 21, \"value\": 1853.0}, \"1854.0\": {\"frequency\": 5, \"value\": 1854.0}, \"1855.0\": {\"frequency\": 3, \"value\": 1855.0}, \"1856.0\": {\"frequency\": 34, \"value\": 1856.0}, \"1857.0\": {\"frequency\": 27, \"value\": 1857.0}, \"1858.0\": {\"frequency\": 5, \"value\": 1858.0}, \"1859.0\": {\"frequency\": 1, \"value\": 1859.0}, \"1860.0\": {\"frequency\": 7, \"value\": 1860.0}, \"1862.0\": {\"frequency\": 6, \"value\": 1862.0}, \"1863.0\": {\"frequency\": 34, \"value\": 1863.0}, \"1864.0\": {\"frequency\": 23, \"value\": 1864.0}, \"1865.0\": {\"frequency\": 6, \"value\": 1865.0}, \"1869.0\": {\"frequency\": 5, \"value\": 1869.0}, \"1870.0\": {\"frequency\": 30, \"value\": 1870.0}, \"1871.0\": {\"frequency\": 23, \"value\": 1871.0}, \"1872.0\": {\"frequency\": 2, \"value\": 1872.0}, \"1873.0\": {\"frequency\": 1, \"value\": 1873.0}, \"1874.0\": {\"frequency\": 2, \"value\": 1874.0}, \"1875.0\": {\"frequency\": 2, \"value\": 1875.0}, \"1876.0\": {\"frequency\": 3, \"value\": 1876.0}, \"1877.0\": {\"frequency\": 32, \"value\": 1877.0}, \"1878.0\": {\"frequency\": 16, \"value\": 1878.0}, \"1879.0\": {\"frequency\": 4, \"value\": 1879.0}, \"1881.0\": {\"frequency\": 2, \"value\": 1881.0}, \"1883.0\": {\"frequency\": 5, \"value\": 1883.0}, \"1884.0\": {\"frequency\": 27, \"value\": 1884.0}, \"1885.0\": {\"frequency\": 28, \"value\": 1885.0}, \"1886.0\": {\"frequency\": 3, \"value\": 1886.0}, \"1890.0\": {\"frequency\": 2, \"value\": 1890.0}, \"1891.0\": {\"frequency\": 34, \"value\": 1891.0}, \"1892.0\": {\"frequency\": 25, \"value\": 1892.0}, \"1893.0\": {\"frequency\": 4, \"value\": 1893.0}, \"1894.0\": {\"frequency\": 4, \"value\": 1894.0}, \"1895.0\": {\"frequency\": 8, \"value\": 1895.0}, \"1898.0\": {\"frequency\": 30, \"value\": 1898.0}, \"1899.0\": {\"frequency\": 29, \"value\": 1899.0}, \"1904.0\": {\"frequency\": 1, \"value\": 1904.0}, \"1905.0\": {\"frequency\": 13, \"value\": 1905.0}, \"1906.0\": {\"frequency\": 15, \"value\": 1906.0}, \"1975.0\": {\"frequency\": 3, \"value\": 1975.0}, \"1976.0\": {\"frequency\": 3, \"value\": 1976.0}, \"1981.0\": {\"frequency\": 1, \"value\": 1981.0}, \"1982.0\": {\"frequency\": 4, \"value\": 1982.0}, \"1983.0\": {\"frequency\": 2, \"value\": 1983.0}, \"1988.0\": {\"frequency\": 1, \"value\": 1988.0}, \"1989.0\": {\"frequency\": 16, \"value\": 1989.0}, \"1990.0\": {\"frequency\": 9, \"value\": 1990.0}, \"1993.0\": {\"frequency\": 5, \"value\": 1993.0}, \"1995.0\": {\"frequency\": 4, \"value\": 1995.0}, \"1996.0\": {\"frequency\": 26, \"value\": 1996.0}, \"1997.0\": {\"frequency\": 14, \"value\": 1997.0}, \"1998.0\": {\"frequency\": 2, \"value\": 1998.0}, \"2002.0\": {\"frequency\": 3, \"value\": 2002.0}, \"2003.0\": {\"frequency\": 34, \"value\": 2003.0}, \"2004.0\": {\"frequency\": 19, \"value\": 2004.0}, \"2005.0\": {\"frequency\": 4, \"value\": 2005.0}, \"2009.0\": {\"frequency\": 6, \"value\": 2009.0}, \"2010.0\": {\"frequency\": 37, \"value\": 2010.0}, \"2011.0\": {\"frequency\": 30, \"value\": 2011.0}, \"2023.0\": {\"frequency\": 3, \"value\": 2023.0}, \"2024.0\": {\"frequency\": 43, \"value\": 2024.0}, \"2025.0\": {\"frequency\": 24, \"value\": 2025.0}, \"2026.0\": {\"frequency\": 3, \"value\": 2026.0}, \"2030.0\": {\"frequency\": 6, \"value\": 2030.0}, \"2031.0\": {\"frequency\": 33, \"value\": 2031.0}, \"2032.0\": {\"frequency\": 34, \"value\": 2032.0}, \"2033.0\": {\"frequency\": 2, \"value\": 2033.0}, \"2034.0\": {\"frequency\": 9, \"value\": 2034.0}, \"2035.0\": {\"frequency\": 26, \"value\": 2035.0}, \"2036.0\": {\"frequency\": 4, \"value\": 2036.0}, \"2037.0\": {\"frequency\": 3, \"value\": 2037.0}, \"2038.0\": {\"frequency\": 43, \"value\": 2038.0}, \"2039.0\": {\"frequency\": 25, \"value\": 2039.0}, \"2040.0\": {\"frequency\": 4, \"value\": 2040.0}, \"2041.0\": {\"frequency\": 1, \"value\": 2041.0}, \"2044.0\": {\"frequency\": 6, \"value\": 2044.0}, \"2045.0\": {\"frequency\": 33, \"value\": 2045.0}, \"2046.0\": {\"frequency\": 36, \"value\": 2046.0}, \"2058.0\": {\"frequency\": 2, \"value\": 2058.0}, \"2059.0\": {\"frequency\": 40, \"value\": 2059.0}, \"2060.0\": {\"frequency\": 24, \"value\": 2060.0}, \"2061.0\": {\"frequency\": 3, \"value\": 2061.0}, \"2065.0\": {\"frequency\": 5, \"value\": 2065.0}, \"2066.0\": {\"frequency\": 38, \"value\": 2066.0}, \"2067.0\": {\"frequency\": 32, \"value\": 2067.0}, \"2068.0\": {\"frequency\": 2, \"value\": 2068.0}, \"2069.0\": {\"frequency\": 3, \"value\": 2069.0}, \"2070.0\": {\"frequency\": 10, \"value\": 2070.0}, \"2071.0\": {\"frequency\": 2, \"value\": 2071.0}, \"2072.0\": {\"frequency\": 6, \"value\": 2072.0}, \"2073.0\": {\"frequency\": 38, \"value\": 2073.0}, \"2074.0\": {\"frequency\": 27, \"value\": 2074.0}, \"2075.0\": {\"frequency\": 6, \"value\": 2075.0}, \"2079.0\": {\"frequency\": 7, \"value\": 2079.0}, \"2080.0\": {\"frequency\": 34, \"value\": 2080.0}, \"2081.0\": {\"frequency\": 34, \"value\": 2081.0}, \"2082.0\": {\"frequency\": 1, \"value\": 2082.0}, \"2093.0\": {\"frequency\": 2, \"value\": 2093.0}, \"2094.0\": {\"frequency\": 36, \"value\": 2094.0}, \"2095.0\": {\"frequency\": 25, \"value\": 2095.0}, \"2096.0\": {\"frequency\": 3, \"value\": 2096.0}, \"2100.0\": {\"frequency\": 5, \"value\": 2100.0}, \"2101.0\": {\"frequency\": 35, \"value\": 2101.0}, \"2102.0\": {\"frequency\": 27, \"value\": 2102.0}, \"2103.0\": {\"frequency\": 1, \"value\": 2103.0}, \"2104.0\": {\"frequency\": 8, \"value\": 2104.0}, \"2105.0\": {\"frequency\": 11, \"value\": 2105.0}, \"2106.0\": {\"frequency\": 1, \"value\": 2106.0}, \"2107.0\": {\"frequency\": 6, \"value\": 2107.0}, \"2108.0\": {\"frequency\": 40, \"value\": 2108.0}, \"2109.0\": {\"frequency\": 23, \"value\": 2109.0}, \"2110.0\": {\"frequency\": 5, \"value\": 2110.0}, \"2114.0\": {\"frequency\": 5, \"value\": 2114.0}, \"2115.0\": {\"frequency\": 40, \"value\": 2115.0}, \"2116.0\": {\"frequency\": 29, \"value\": 2116.0}, \"2117.0\": {\"frequency\": 4, \"value\": 2117.0}, \"2118.0\": {\"frequency\": 4, \"value\": 2118.0}, \"2119.0\": {\"frequency\": 6, \"value\": 2119.0}, \"2120.0\": {\"frequency\": 2, \"value\": 2120.0}, \"2121.0\": {\"frequency\": 4, \"value\": 2121.0}, \"2122.0\": {\"frequency\": 36, \"value\": 2122.0}, \"2123.0\": {\"frequency\": 27, \"value\": 2123.0}, \"2124.0\": {\"frequency\": 3, \"value\": 2124.0}, \"2128.0\": {\"frequency\": 15, \"value\": 2128.0}, \"2129.0\": {\"frequency\": 7, \"value\": 2129.0}, \"2130.0\": {\"frequency\": 10, \"value\": 2130.0}, \"2134.0\": {\"frequency\": 15, \"value\": 2134.0}, \"2135.0\": {\"frequency\": 1, \"value\": 2135.0}, \"2136.0\": {\"frequency\": 8, \"value\": 2136.0}, \"2137.0\": {\"frequency\": 9, \"value\": 2137.0}, \"2138.0\": {\"frequency\": 2, \"value\": 2138.0}, \"2139.0\": {\"frequency\": 9, \"value\": 2139.0}, \"2140.0\": {\"frequency\": 1, \"value\": 2140.0}, \"2142.0\": {\"frequency\": 2, \"value\": 2142.0}, \"2143.0\": {\"frequency\": 23, \"value\": 2143.0}, \"2144.0\": {\"frequency\": 18, \"value\": 2144.0}, \"2145.0\": {\"frequency\": 1, \"value\": 2145.0}, \"2149.0\": {\"frequency\": 4, \"value\": 2149.0}, \"2150.0\": {\"frequency\": 30, \"value\": 2150.0}, \"2151.0\": {\"frequency\": 30, \"value\": 2151.0}, \"2152.0\": {\"frequency\": 1, \"value\": 2152.0}, \"2153.0\": {\"frequency\": 1, \"value\": 2153.0}, \"2154.0\": {\"frequency\": 4, \"value\": 2154.0}, \"2156.0\": {\"frequency\": 4, \"value\": 2156.0}, \"2157.0\": {\"frequency\": 21, \"value\": 2157.0}, \"2158.0\": {\"frequency\": 27, \"value\": 2158.0}, \"2159.0\": {\"frequency\": 3, \"value\": 2159.0}, \"2163.0\": {\"frequency\": 7, \"value\": 2163.0}, \"2164.0\": {\"frequency\": 34, \"value\": 2164.0}, \"2165.0\": {\"frequency\": 27, \"value\": 2165.0}, \"2166.0\": {\"frequency\": 1, \"value\": 2166.0}, \"2167.0\": {\"frequency\": 7, \"value\": 2167.0}, \"2168.0\": {\"frequency\": 11, \"value\": 2168.0}, \"2169.0\": {\"frequency\": 2, \"value\": 2169.0}, \"2170.0\": {\"frequency\": 3, \"value\": 2170.0}, \"2171.0\": {\"frequency\": 36, \"value\": 2171.0}, \"2172.0\": {\"frequency\": 30, \"value\": 2172.0}, \"2173.0\": {\"frequency\": 3, \"value\": 2173.0}, \"2174.0\": {\"frequency\": 4, \"value\": 2174.0}, \"2175.0\": {\"frequency\": 8, \"value\": 2175.0}, \"2177.0\": {\"frequency\": 5, \"value\": 2177.0}, \"2178.0\": {\"frequency\": 30, \"value\": 2178.0}, \"2179.0\": {\"frequency\": 27, \"value\": 2179.0}, \"2180.0\": {\"frequency\": 2, \"value\": 2180.0}, \"2184.0\": {\"frequency\": 7, \"value\": 2184.0}, \"2185.0\": {\"frequency\": 35, \"value\": 2185.0}, \"2186.0\": {\"frequency\": 28, \"value\": 2186.0}, \"2187.0\": {\"frequency\": 4, \"value\": 2187.0}, \"2188.0\": {\"frequency\": 1, \"value\": 2188.0}, \"2191.0\": {\"frequency\": 6, \"value\": 2191.0}, \"2192.0\": {\"frequency\": 38, \"value\": 2192.0}, \"2193.0\": {\"frequency\": 27, \"value\": 2193.0}, \"2194.0\": {\"frequency\": 3, \"value\": 2194.0}, \"2195.0\": {\"frequency\": 3, \"value\": 2195.0}, \"2196.0\": {\"frequency\": 9, \"value\": 2196.0}, \"2198.0\": {\"frequency\": 5, \"value\": 2198.0}, \"2199.0\": {\"frequency\": 32, \"value\": 2199.0}, \"2200.0\": {\"frequency\": 24, \"value\": 2200.0}, \"2201.0\": {\"frequency\": 4, \"value\": 2201.0}, \"2205.0\": {\"frequency\": 7, \"value\": 2205.0}, \"2206.0\": {\"frequency\": 32, \"value\": 2206.0}, \"2207.0\": {\"frequency\": 34, \"value\": 2207.0}, \"2208.0\": {\"frequency\": 4, \"value\": 2208.0}, \"2212.0\": {\"frequency\": 6, \"value\": 2212.0}, \"2213.0\": {\"frequency\": 37, \"value\": 2213.0}, \"2214.0\": {\"frequency\": 27, \"value\": 2214.0}, \"2226.0\": {\"frequency\": 6, \"value\": 2226.0}, \"2227.0\": {\"frequency\": 46, \"value\": 2227.0}, \"2228.0\": {\"frequency\": 15, \"value\": 2228.0}, \"2229.0\": {\"frequency\": 2, \"value\": 2229.0}, \"2230.0\": {\"frequency\": 7, \"value\": 2230.0}, \"2231.0\": {\"frequency\": 7, \"value\": 2231.0}, \"2232.0\": {\"frequency\": 3, \"value\": 2232.0}, \"2233.0\": {\"frequency\": 4, \"value\": 2233.0}, \"2234.0\": {\"frequency\": 32, \"value\": 2234.0}, \"2235.0\": {\"frequency\": 28, \"value\": 2235.0}, \"2236.0\": {\"frequency\": 4, \"value\": 2236.0}, \"2238.0\": {\"frequency\": 3, \"value\": 2238.0}, \"2240.0\": {\"frequency\": 5, \"value\": 2240.0}, \"2241.0\": {\"frequency\": 28, \"value\": 2241.0}, \"2242.0\": {\"frequency\": 24, \"value\": 2242.0}, \"2243.0\": {\"frequency\": 3, \"value\": 2243.0}, \"2245.0\": {\"frequency\": 1, \"value\": 2245.0}, \"2247.0\": {\"frequency\": 5, \"value\": 2247.0}, \"2248.0\": {\"frequency\": 35, \"value\": 2248.0}, \"2249.0\": {\"frequency\": 27, \"value\": 2249.0}, \"2250.0\": {\"frequency\": 1, \"value\": 2250.0}, \"2251.0\": {\"frequency\": 5, \"value\": 2251.0}, \"2252.0\": {\"frequency\": 13, \"value\": 2252.0}, \"2253.0\": {\"frequency\": 2, \"value\": 2253.0}, \"2254.0\": {\"frequency\": 3, \"value\": 2254.0}, \"2255.0\": {\"frequency\": 32, \"value\": 2255.0}, \"2256.0\": {\"frequency\": 16, \"value\": 2256.0}, \"2257.0\": {\"frequency\": 5, \"value\": 2257.0}, \"2258.0\": {\"frequency\": 1, \"value\": 2258.0}, \"2259.0\": {\"frequency\": 1, \"value\": 2259.0}, \"2261.0\": {\"frequency\": 4, \"value\": 2261.0}, \"2262.0\": {\"frequency\": 31, \"value\": 2262.0}, \"2263.0\": {\"frequency\": 27, \"value\": 2263.0}, \"2264.0\": {\"frequency\": 4, \"value\": 2264.0}, \"2268.0\": {\"frequency\": 1, \"value\": 2268.0}, \"2269.0\": {\"frequency\": 28, \"value\": 2269.0}, \"2270.0\": {\"frequency\": 29, \"value\": 2270.0}, \"2271.0\": {\"frequency\": 3, \"value\": 2271.0}, \"2273.0\": {\"frequency\": 1, \"value\": 2273.0}, \"2275.0\": {\"frequency\": 1, \"value\": 2275.0}, \"2276.0\": {\"frequency\": 37, \"value\": 2276.0}, \"2277.0\": {\"frequency\": 19, \"value\": 2277.0}, \"2278.0\": {\"frequency\": 1, \"value\": 2278.0}, \"2283.0\": {\"frequency\": 2, \"value\": 2283.0}, \"2284.0\": {\"frequency\": 7, \"value\": 2284.0}, \"2339.0\": {\"frequency\": 4, \"value\": 2339.0}, \"2340.0\": {\"frequency\": 3, \"value\": 2340.0}, \"2345.0\": {\"frequency\": 1, \"value\": 2345.0}, \"2346.0\": {\"frequency\": 7, \"value\": 2346.0}, \"2347.0\": {\"frequency\": 5, \"value\": 2347.0}, \"2352.0\": {\"frequency\": 1, \"value\": 2352.0}, \"2353.0\": {\"frequency\": 19, \"value\": 2353.0}, \"2354.0\": {\"frequency\": 12, \"value\": 2354.0}, \"2355.0\": {\"frequency\": 1, \"value\": 2355.0}, \"2356.0\": {\"frequency\": 4, \"value\": 2356.0}, \"2357.0\": {\"frequency\": 4, \"value\": 2357.0}, \"2359.0\": {\"frequency\": 4, \"value\": 2359.0}, \"2360.0\": {\"frequency\": 32, \"value\": 2360.0}, \"2361.0\": {\"frequency\": 16, \"value\": 2361.0}, \"2362.0\": {\"frequency\": 2, \"value\": 2362.0}, \"2366.0\": {\"frequency\": 5, \"value\": 2366.0}, \"2367.0\": {\"frequency\": 35, \"value\": 2367.0}, \"2368.0\": {\"frequency\": 30, \"value\": 2368.0}, \"2369.0\": {\"frequency\": 3, \"value\": 2369.0}, \"2373.0\": {\"frequency\": 4, \"value\": 2373.0}, \"2374.0\": {\"frequency\": 41, \"value\": 2374.0}, \"2375.0\": {\"frequency\": 27, \"value\": 2375.0}, \"2376.0\": {\"frequency\": 2, \"value\": 2376.0}, \"2387.0\": {\"frequency\": 5, \"value\": 2387.0}, \"2388.0\": {\"frequency\": 41, \"value\": 2388.0}, \"2389.0\": {\"frequency\": 26, \"value\": 2389.0}, \"2390.0\": {\"frequency\": 2, \"value\": 2390.0}, \"2391.0\": {\"frequency\": 1, \"value\": 2391.0}, \"2394.0\": {\"frequency\": 5, \"value\": 2394.0}, \"2395.0\": {\"frequency\": 33, \"value\": 2395.0}, \"2396.0\": {\"frequency\": 31, \"value\": 2396.0}, \"2397.0\": {\"frequency\": 3, \"value\": 2397.0}, \"2398.0\": {\"frequency\": 10, \"value\": 2398.0}, \"2399.0\": {\"frequency\": 23, \"value\": 2399.0}, \"2400.0\": {\"frequency\": 3, \"value\": 2400.0}, \"2401.0\": {\"frequency\": 5, \"value\": 2401.0}, \"2402.0\": {\"frequency\": 39, \"value\": 2402.0}, \"2403.0\": {\"frequency\": 27, \"value\": 2403.0}, \"2404.0\": {\"frequency\": 3, \"value\": 2404.0}, \"2408.0\": {\"frequency\": 5, \"value\": 2408.0}, \"2409.0\": {\"frequency\": 38, \"value\": 2409.0}, \"2410.0\": {\"frequency\": 31, \"value\": 2410.0}, \"2422.0\": {\"frequency\": 4, \"value\": 2422.0}, \"2423.0\": {\"frequency\": 37, \"value\": 2423.0}, \"2424.0\": {\"frequency\": 22, \"value\": 2424.0}, \"2425.0\": {\"frequency\": 2, \"value\": 2425.0}, \"2429.0\": {\"frequency\": 7, \"value\": 2429.0}, \"2430.0\": {\"frequency\": 35, \"value\": 2430.0}, \"2431.0\": {\"frequency\": 31, \"value\": 2431.0}, \"2432.0\": {\"frequency\": 2, \"value\": 2432.0}, \"2433.0\": {\"frequency\": 4, \"value\": 2433.0}, \"2434.0\": {\"frequency\": 12, \"value\": 2434.0}, \"2435.0\": {\"frequency\": 1, \"value\": 2435.0}, \"2436.0\": {\"frequency\": 5, \"value\": 2436.0}, \"2437.0\": {\"frequency\": 40, \"value\": 2437.0}, \"2438.0\": {\"frequency\": 28, \"value\": 2438.0}, \"2439.0\": {\"frequency\": 3, \"value\": 2439.0}, \"2443.0\": {\"frequency\": 6, \"value\": 2443.0}, \"2444.0\": {\"frequency\": 38, \"value\": 2444.0}, \"2445.0\": {\"frequency\": 32, \"value\": 2445.0}, \"2446.0\": {\"frequency\": 1, \"value\": 2446.0}, \"2457.0\": {\"frequency\": 3, \"value\": 2457.0}, \"2458.0\": {\"frequency\": 36, \"value\": 2458.0}, \"2459.0\": {\"frequency\": 25, \"value\": 2459.0}, \"2460.0\": {\"frequency\": 2, \"value\": 2460.0}, \"2464.0\": {\"frequency\": 7, \"value\": 2464.0}, \"2465.0\": {\"frequency\": 35, \"value\": 2465.0}, \"2466.0\": {\"frequency\": 30, \"value\": 2466.0}, \"2467.0\": {\"frequency\": 4, \"value\": 2467.0}, \"2468.0\": {\"frequency\": 2, \"value\": 2468.0}, \"2469.0\": {\"frequency\": 6, \"value\": 2469.0}, \"2470.0\": {\"frequency\": 1, \"value\": 2470.0}, \"2471.0\": {\"frequency\": 6, \"value\": 2471.0}, \"2472.0\": {\"frequency\": 39, \"value\": 2472.0}, \"2473.0\": {\"frequency\": 26, \"value\": 2473.0}, \"2474.0\": {\"frequency\": 3, \"value\": 2474.0}, \"2478.0\": {\"frequency\": 5, \"value\": 2478.0}, \"2479.0\": {\"frequency\": 38, \"value\": 2479.0}, \"2480.0\": {\"frequency\": 27, \"value\": 2480.0}, \"2481.0\": {\"frequency\": 4, \"value\": 2481.0}, \"2482.0\": {\"frequency\": 1, \"value\": 2482.0}, \"2485.0\": {\"frequency\": 4, \"value\": 2485.0}, \"2486.0\": {\"frequency\": 38, \"value\": 2486.0}, \"2487.0\": {\"frequency\": 33, \"value\": 2487.0}, \"2488.0\": {\"frequency\": 3, \"value\": 2488.0}, \"2489.0\": {\"frequency\": 1, \"value\": 2489.0}, \"2490.0\": {\"frequency\": 1, \"value\": 2490.0}, \"2493.0\": {\"frequency\": 16, \"value\": 2493.0}, \"2494.0\": {\"frequency\": 4, \"value\": 2494.0}, \"2495.0\": {\"frequency\": 8, \"value\": 2495.0}, \"2496.0\": {\"frequency\": 1, \"value\": 2496.0}, \"2497.0\": {\"frequency\": 13, \"value\": 2497.0}, \"2498.0\": {\"frequency\": 1, \"value\": 2498.0}, \"2500.0\": {\"frequency\": 23, \"value\": 2500.0}, \"2501.0\": {\"frequency\": 8, \"value\": 2501.0}, \"2502.0\": {\"frequency\": 1, \"value\": 2502.0}, \"2504.0\": {\"frequency\": 18, \"value\": 2504.0}, \"2506.0\": {\"frequency\": 1, \"value\": 2506.0}, \"2507.0\": {\"frequency\": 14, \"value\": 2507.0}, \"2508.0\": {\"frequency\": 18, \"value\": 2508.0}, \"2509.0\": {\"frequency\": 2, \"value\": 2509.0}, \"2510.0\": {\"frequency\": 3, \"value\": 2510.0}, \"2511.0\": {\"frequency\": 7, \"value\": 2511.0}, \"2513.0\": {\"frequency\": 5, \"value\": 2513.0}, \"2514.0\": {\"frequency\": 31, \"value\": 2514.0}, \"2515.0\": {\"frequency\": 24, \"value\": 2515.0}, \"2516.0\": {\"frequency\": 3, \"value\": 2516.0}, \"2517.0\": {\"frequency\": 1, \"value\": 2517.0}, \"2518.0\": {\"frequency\": 1, \"value\": 2518.0}, \"2520.0\": {\"frequency\": 6, \"value\": 2520.0}, \"2521.0\": {\"frequency\": 36, \"value\": 2521.0}, \"2522.0\": {\"frequency\": 28, \"value\": 2522.0}, \"2523.0\": {\"frequency\": 2, \"value\": 2523.0}, \"2524.0\": {\"frequency\": 2, \"value\": 2524.0}, \"2525.0\": {\"frequency\": 4, \"value\": 2525.0}, \"2526.0\": {\"frequency\": 1, \"value\": 2526.0}, \"2527.0\": {\"frequency\": 5, \"value\": 2527.0}, \"2528.0\": {\"frequency\": 29, \"value\": 2528.0}, \"2529.0\": {\"frequency\": 23, \"value\": 2529.0}, \"2530.0\": {\"frequency\": 2, \"value\": 2530.0}, \"2531.0\": {\"frequency\": 12, \"value\": 2531.0}, \"2532.0\": {\"frequency\": 17, \"value\": 2532.0}, \"2534.0\": {\"frequency\": 5, \"value\": 2534.0}, \"2535.0\": {\"frequency\": 34, \"value\": 2535.0}, \"2536.0\": {\"frequency\": 24, \"value\": 2536.0}, \"2537.0\": {\"frequency\": 3, \"value\": 2537.0}, \"2539.0\": {\"frequency\": 1, \"value\": 2539.0}, \"2540.0\": {\"frequency\": 1, \"value\": 2540.0}, \"2541.0\": {\"frequency\": 7, \"value\": 2541.0}, \"2542.0\": {\"frequency\": 36, \"value\": 2542.0}, \"2543.0\": {\"frequency\": 25, \"value\": 2543.0}, \"2544.0\": {\"frequency\": 2, \"value\": 2544.0}, \"2545.0\": {\"frequency\": 1, \"value\": 2545.0}, \"2546.0\": {\"frequency\": 1, \"value\": 2546.0}, \"2548.0\": {\"frequency\": 7, \"value\": 2548.0}, \"2549.0\": {\"frequency\": 26, \"value\": 2549.0}, \"2550.0\": {\"frequency\": 26, \"value\": 2550.0}, \"2551.0\": {\"frequency\": 2, \"value\": 2551.0}, \"2552.0\": {\"frequency\": 1, \"value\": 2552.0}, \"2555.0\": {\"frequency\": 6, \"value\": 2555.0}, \"2556.0\": {\"frequency\": 35, \"value\": 2556.0}, \"2557.0\": {\"frequency\": 25, \"value\": 2557.0}, \"2558.0\": {\"frequency\": 3, \"value\": 2558.0}, \"2559.0\": {\"frequency\": 10, \"value\": 2559.0}, \"2560.0\": {\"frequency\": 19, \"value\": 2560.0}, \"2561.0\": {\"frequency\": 3, \"value\": 2561.0}, \"2562.0\": {\"frequency\": 5, \"value\": 2562.0}, \"2563.0\": {\"frequency\": 39, \"value\": 2563.0}, \"2564.0\": {\"frequency\": 27, \"value\": 2564.0}, \"2565.0\": {\"frequency\": 2, \"value\": 2565.0}, \"2566.0\": {\"frequency\": 1, \"value\": 2566.0}, \"2567.0\": {\"frequency\": 2, \"value\": 2567.0}, \"2569.0\": {\"frequency\": 7, \"value\": 2569.0}, \"2570.0\": {\"frequency\": 28, \"value\": 2570.0}, \"2571.0\": {\"frequency\": 33, \"value\": 2571.0}, \"2572.0\": {\"frequency\": 2, \"value\": 2572.0}, \"2574.0\": {\"frequency\": 1, \"value\": 2574.0}, \"2576.0\": {\"frequency\": 5, \"value\": 2576.0}, \"2577.0\": {\"frequency\": 34, \"value\": 2577.0}, \"2578.0\": {\"frequency\": 28, \"value\": 2578.0}, \"2590.0\": {\"frequency\": 4, \"value\": 2590.0}, \"2591.0\": {\"frequency\": 36, \"value\": 2591.0}, \"2592.0\": {\"frequency\": 25, \"value\": 2592.0}, \"2593.0\": {\"frequency\": 3, \"value\": 2593.0}, \"2594.0\": {\"frequency\": 2, \"value\": 2594.0}, \"2597.0\": {\"frequency\": 5, \"value\": 2597.0}, \"2598.0\": {\"frequency\": 37, \"value\": 2598.0}, \"2599.0\": {\"frequency\": 24, \"value\": 2599.0}, \"2600.0\": {\"frequency\": 3, \"value\": 2600.0}, \"2602.0\": {\"frequency\": 1, \"value\": 2602.0}, \"2604.0\": {\"frequency\": 4, \"value\": 2604.0}, \"2605.0\": {\"frequency\": 30, \"value\": 2605.0}, \"2606.0\": {\"frequency\": 27, \"value\": 2606.0}, \"2607.0\": {\"frequency\": 1, \"value\": 2607.0}, \"2608.0\": {\"frequency\": 6, \"value\": 2608.0}, \"2609.0\": {\"frequency\": 19, \"value\": 2609.0}, \"2610.0\": {\"frequency\": 5, \"value\": 2610.0}, \"2611.0\": {\"frequency\": 5, \"value\": 2611.0}, \"2612.0\": {\"frequency\": 18, \"value\": 2612.0}, \"2613.0\": {\"frequency\": 25, \"value\": 2613.0}, \"2614.0\": {\"frequency\": 4, \"value\": 2614.0}, \"2616.0\": {\"frequency\": 1, \"value\": 2616.0}, \"2618.0\": {\"frequency\": 5, \"value\": 2618.0}, \"2619.0\": {\"frequency\": 33, \"value\": 2619.0}, \"2620.0\": {\"frequency\": 25, \"value\": 2620.0}, \"2621.0\": {\"frequency\": 5, \"value\": 2621.0}, \"2626.0\": {\"frequency\": 34, \"value\": 2626.0}, \"2627.0\": {\"frequency\": 33, \"value\": 2627.0}, \"2628.0\": {\"frequency\": 1, \"value\": 2628.0}, \"2629.0\": {\"frequency\": 1, \"value\": 2629.0}, \"2630.0\": {\"frequency\": 7, \"value\": 2630.0}, \"2631.0\": {\"frequency\": 1, \"value\": 2631.0}, \"2632.0\": {\"frequency\": 1, \"value\": 2632.0}, \"2633.0\": {\"frequency\": 30, \"value\": 2633.0}, \"2634.0\": {\"frequency\": 22, \"value\": 2634.0}, \"2636.0\": {\"frequency\": 1, \"value\": 2636.0}, \"-202.0\": {\"frequency\": 8, \"value\": -202.0}, \"-201.0\": {\"frequency\": 2, \"value\": -201.0}, \"-195.0\": {\"frequency\": 15, \"value\": -195.0}, \"-194.0\": {\"frequency\": 7, \"value\": -194.0}, \"-188.0\": {\"frequency\": 18, \"value\": -188.0}, \"-187.0\": {\"frequency\": 6, \"value\": -187.0}, \"-186.0\": {\"frequency\": 1, \"value\": -186.0}, \"-181.0\": {\"frequency\": 22, \"value\": -181.0}, \"-180.0\": {\"frequency\": 17, \"value\": -180.0}, \"-167.0\": {\"frequency\": 27, \"value\": -167.0}, \"-166.0\": {\"frequency\": 18, \"value\": -166.0}, \"-165.0\": {\"frequency\": 1, \"value\": -165.0}, \"-160.0\": {\"frequency\": 20, \"value\": -160.0}, \"-159.0\": {\"frequency\": 26, \"value\": -159.0}, \"-156.0\": {\"frequency\": 15, \"value\": -156.0}, \"-155.0\": {\"frequency\": 1, \"value\": -155.0}, \"-154.0\": {\"frequency\": 1, \"value\": -154.0}, \"-153.0\": {\"frequency\": 22, \"value\": -153.0}, \"-152.0\": {\"frequency\": 22, \"value\": -152.0}, \"-147.0\": {\"frequency\": 1, \"value\": -147.0}, \"-146.0\": {\"frequency\": 23, \"value\": -146.0}, \"-145.0\": {\"frequency\": 24, \"value\": -145.0}, \"-132.0\": {\"frequency\": 22, \"value\": -132.0}, \"-131.0\": {\"frequency\": 21, \"value\": -131.0}, \"-130.0\": {\"frequency\": 1, \"value\": -130.0}, \"-128.0\": {\"frequency\": 1, \"value\": -128.0}, \"-126.0\": {\"frequency\": 1, \"value\": -126.0}, \"-125.0\": {\"frequency\": 20, \"value\": -125.0}, \"-124.0\": {\"frequency\": 24, \"value\": -124.0}, \"-122.0\": {\"frequency\": 4, \"value\": -122.0}, \"-121.0\": {\"frequency\": 24, \"value\": -121.0}, \"-119.0\": {\"frequency\": 1, \"value\": -119.0}, \"-118.0\": {\"frequency\": 28, \"value\": -118.0}, \"-117.0\": {\"frequency\": 15, \"value\": -117.0}, \"-116.0\": {\"frequency\": 1, \"value\": -116.0}, \"-115.0\": {\"frequency\": 1, \"value\": -115.0}, \"-112.0\": {\"frequency\": 1, \"value\": -112.0}, \"-111.0\": {\"frequency\": 22, \"value\": -111.0}, \"-110.0\": {\"frequency\": 22, \"value\": -110.0}, \"-108.0\": {\"frequency\": 1, \"value\": -108.0}, \"-107.0\": {\"frequency\": 4, \"value\": -107.0}, \"-106.0\": {\"frequency\": 1, \"value\": -106.0}, \"-104.0\": {\"frequency\": 24, \"value\": -104.0}, \"-103.0\": {\"frequency\": 18, \"value\": -103.0}, \"-98.0\": {\"frequency\": 1, \"value\": -98.0}, \"-97.0\": {\"frequency\": 26, \"value\": -97.0}, \"-96.0\": {\"frequency\": 17, \"value\": -96.0}, \"-95.0\": {\"frequency\": 1, \"value\": -95.0}, \"-91.0\": {\"frequency\": 1, \"value\": -91.0}, \"-90.0\": {\"frequency\": 21, \"value\": -90.0}, \"-89.0\": {\"frequency\": 19, \"value\": -89.0}, \"-88.0\": {\"frequency\": 1, \"value\": -88.0}, \"-84.0\": {\"frequency\": 2, \"value\": -84.0}, \"-83.0\": {\"frequency\": 18, \"value\": -83.0}, \"-82.0\": {\"frequency\": 23, \"value\": -82.0}, \"-81.0\": {\"frequency\": 1, \"value\": -81.0}, \"-79.0\": {\"frequency\": 1, \"value\": -79.0}, \"-77.0\": {\"frequency\": 1, \"value\": -77.0}, \"-76.0\": {\"frequency\": 28, \"value\": -76.0}, \"-75.0\": {\"frequency\": 18, \"value\": -75.0}, \"-74.0\": {\"frequency\": 1, \"value\": -74.0}, \"-69.0\": {\"frequency\": 20, \"value\": -69.0}, \"-68.0\": {\"frequency\": 21, \"value\": -68.0}, \"-67.0\": {\"frequency\": 1, \"value\": -67.0}, \"-63.0\": {\"frequency\": 10, \"value\": -63.0}, \"-62.0\": {\"frequency\": 3, \"value\": -62.0}, \"-61.0\": {\"frequency\": 8, \"value\": -61.0}, \"-60.0\": {\"frequency\": 1, \"value\": -60.0}, \"-59.0\": {\"frequency\": 1, \"value\": -59.0}, \"-55.0\": {\"frequency\": 6, \"value\": -55.0}, \"-54.0\": {\"frequency\": 8, \"value\": -54.0}, \"-51.0\": {\"frequency\": 1, \"value\": -51.0}, \"-48.0\": {\"frequency\": 14, \"value\": -48.0}, \"-47.0\": {\"frequency\": 19, \"value\": -47.0}, \"-45.0\": {\"frequency\": 1, \"value\": -45.0}, \"-44.0\": {\"frequency\": 2, \"value\": -44.0}, \"-41.0\": {\"frequency\": 18, \"value\": -41.0}, \"-40.0\": {\"frequency\": 19, \"value\": -40.0}, \"-39.0\": {\"frequency\": 1, \"value\": -39.0}, \"-34.0\": {\"frequency\": 5, \"value\": -34.0}, \"-33.0\": {\"frequency\": 14, \"value\": -33.0}, \"-31.0\": {\"frequency\": 4, \"value\": -31.0}, \"-30.0\": {\"frequency\": 14, \"value\": -30.0}, \"-28.0\": {\"frequency\": 1, \"value\": -28.0}, \"-27.0\": {\"frequency\": 26, \"value\": -27.0}, \"-26.0\": {\"frequency\": 17, \"value\": -26.0}, \"-25.0\": {\"frequency\": 1, \"value\": -25.0}, \"-21.0\": {\"frequency\": 1, \"value\": -21.0}, \"-20.0\": {\"frequency\": 23, \"value\": -20.0}, \"-19.0\": {\"frequency\": 19, \"value\": -19.0}, \"-13.0\": {\"frequency\": 16, \"value\": -13.0}, \"-12.0\": {\"frequency\": 19, \"value\": -12.0}, \"-10.0\": {\"frequency\": 2, \"value\": -10.0}, \"-9.0\": {\"frequency\": 1, \"value\": -9.0}, \"-7.0\": {\"frequency\": 1, \"value\": -7.0}, \"-6.0\": {\"frequency\": 25, \"value\": -6.0}, \"-5.0\": {\"frequency\": 18, \"value\": -5.0}, \"-4.0\": {\"frequency\": 1, \"value\": -4.0}}, \"mean\": 1301.0437244897944}, \"Output\": {\"complete\": true, \"numeric\": false, \"num_unique\": 3, \"num_undefined\": 0, \"progress\": 1.0, \"frequent_items\": {\"A\": {\"frequency\": 5654, \"value\": \"A\"}, \"H\": {\"frequency\": 8996, \"value\": \"H\"}, \"D\": {\"frequency\": 4950, \"value\": \"D\"}}, \"size\": 19600}, \"formation_h\": {\"complete\": true, \"numeric\": false, \"num_unique\": 19, \"num_undefined\": 0, \"progress\": 1.0, \"frequent_items\": {\"4-1-4-1\": {\"frequency\": 849, \"value\": \"4-1-4-1\"}, \"4-3-2-1\": {\"frequency\": 209, \"value\": \"4-3-2-1\"}, \"4-2-3-1\": {\"frequency\": 5223, \"value\": \"4-2-3-1\"}, \"4-3-3\": {\"frequency\": 3772, \"value\": \"4-3-3\"}, \"4-1-2-3\": {\"frequency\": 62, \"value\": \"4-1-2-3\"}, \"3-4-3\": {\"frequency\": 217, \"value\": \"3-4-3\"}, \"3-3-3-1\": {\"frequency\": 7, \"value\": \"3-3-3-1\"}, \"5-2-2-1\": {\"frequency\": 1, \"value\": \"5-2-2-1\"}, \"3-6-1\": {\"frequency\": 247, \"value\": \"3-6-1\"}, \"5-3-2\": {\"frequency\": 163, \"value\": \"5-3-2\"}, \"3-2-3-2\": {\"frequency\": 12, \"value\": \"3-2-3-2\"}, \"3-5-2\": {\"frequency\": 709, \"value\": \"3-5-2\"}, \"4-5-1\": {\"frequency\": 1405, \"value\": \"4-5-1\"}, \"4-3-1-2\": {\"frequency\": 578, \"value\": \"4-3-1-2\"}, \"4-1-3-2\": {\"frequency\": 686, \"value\": \"4-1-3-2\"}, \"4-2-2-2\": {\"frequency\": 529, \"value\": \"4-2-2-2\"}, \"4-4-2\": {\"frequency\": 4841, \"value\": \"4-4-2\"}, \"4-2-1-3\": {\"frequency\": 32, \"value\": \"4-2-1-3\"}, \"5-4-1\": {\"frequency\": 58, \"value\": \"5-4-1\"}}, \"size\": 19600}, \"stage\": {\"std\": 10.473136079108707, \"complete\": true, \"min\": 1.0, \"max\": 38.0, \"quantile\": [1.0, 1.0, 1.0, 2.0, 2.0, 2.0, 3.0, 3.0, 4.0, 4.0, 4.0, 5.0, 5.0, 5.0, 6.0, 6.0, 6.0, 7.0, 7.0, 8.0, 8.0, 8.0, 9.0, 9.0, 9.0, 10.0, 10.0, 10.0, 11.0, 11.0, 11.0, 12.0, 12.0, 13.0, 13.0, 13.0, 14.0, 14.0, 14.0, 15.0, 15.0, 15.0, 16.0, 16.0, 16.0, 17.0, 17.0, 18.0, 18.0, 18.0, 19.0, 19.0, 19.0, 20.0, 20.0, 20.0, 21.0, 21.0, 21.0, 22.0, 22.0, 23.0, 23.0, 23.0, 24.0, 24.0, 24.0, 25.0, 25.0, 25.0, 26.0, 26.0, 26.0, 27.0, 27.0, 27.0, 28.0, 28.0, 29.0, 29.0, 29.0, 30.0, 30.0, 30.0, 31.0, 31.0, 32.0, 32.0, 32.0, 33.0, 33.0, 34.0, 34.0, 34.0, 35.0, 35.0, 36.0, 37.0, 37.0, 38.0, 38.0], \"median\": 19.0, \"numeric\": true, \"num_unique\": 38, \"num_undefined\": 0, \"var\": 109.68657933152849, \"progress\": 1.0, \"size\": 19600, \"frequent_items\": {\"1\": {\"frequency\": 469, \"value\": 1}, \"2\": {\"frequency\": 532, \"value\": 2}, \"3\": {\"frequency\": 538, \"value\": 3}, \"4\": {\"frequency\": 547, \"value\": 4}, \"5\": {\"frequency\": 540, \"value\": 5}, \"6\": {\"frequency\": 554, \"value\": 6}, \"7\": {\"frequency\": 543, \"value\": 7}, \"8\": {\"frequency\": 543, \"value\": 8}, \"9\": {\"frequency\": 544, \"value\": 9}, \"10\": {\"frequency\": 547, \"value\": 10}, \"11\": {\"frequency\": 554, \"value\": 11}, \"12\": {\"frequency\": 547, \"value\": 12}, \"13\": {\"frequency\": 545, \"value\": 13}, \"14\": {\"frequency\": 541, \"value\": 14}, \"15\": {\"frequency\": 548, \"value\": 15}, \"16\": {\"frequency\": 550, \"value\": 16}, \"17\": {\"frequency\": 555, \"value\": 17}, \"18\": {\"frequency\": 554, \"value\": 18}, \"19\": {\"frequency\": 555, \"value\": 19}, \"20\": {\"frequency\": 552, \"value\": 20}, \"21\": {\"frequency\": 545, \"value\": 21}, \"22\": {\"frequency\": 541, \"value\": 22}, \"23\": {\"frequency\": 554, \"value\": 23}, \"24\": {\"frequency\": 551, \"value\": 24}, \"25\": {\"frequency\": 562, \"value\": 25}, \"26\": {\"frequency\": 552, \"value\": 26}, \"27\": {\"frequency\": 559, \"value\": 27}, \"28\": {\"frequency\": 553, \"value\": 28}, \"29\": {\"frequency\": 558, \"value\": 29}, \"30\": {\"frequency\": 539, \"value\": 30}, \"31\": {\"frequency\": 481, \"value\": 31}, \"32\": {\"frequency\": 488, \"value\": 32}, \"33\": {\"frequency\": 472, \"value\": 33}, \"34\": {\"frequency\": 485, \"value\": 34}, \"35\": {\"frequency\": 331, \"value\": 35}, \"36\": {\"frequency\": 334, \"value\": 36}, \"37\": {\"frequency\": 329, \"value\": 37}, \"38\": {\"frequency\": 308, \"value\": 38}}, \"mean\": 18.669489795918356}}, \"selected_variable\": {\"name\": [\"data\"], \"descriptives\": {\"rows\": 19600, \"columns\": 14}, \"view_component\": \"Summary\", \"view_file\": \"sframe\", \"view_params\": {\"y\": null, \"x\": null, \"columns\": [\"country_id\", \"league_id\", \"season\", \"stage\", \"date\", \"match_api_id\", \"home_team_api_id\", \"away_team_api_id\", \"B365H\", \"B365D\", \"B365A\", \"Output\", \"formation_h\", \"formation_a\"], \"view\": null}, \"view_components\": [\"Summary\", \"Table\", \"Bar Chart\", \"BoxWhisker Plot\", \"Line Chart\", \"Scatter Plot\", \"Heat Map\", \"Plots\"], \"type\": \"SFrame\", \"columns\": [{\"dtype\": \"int\", \"name\": \"country_id\"}, {\"dtype\": \"int\", \"name\": \"league_id\"}, {\"dtype\": \"int\", \"name\": \"season\"}, {\"dtype\": \"int\", \"name\": \"stage\"}, {\"dtype\": \"float\", \"name\": \"date\"}, {\"dtype\": \"int\", \"name\": \"match_api_id\"}, {\"dtype\": \"int\", \"name\": \"home_team_api_id\"}, {\"dtype\": \"int\", \"name\": \"away_team_api_id\"}, {\"dtype\": \"float\", \"name\": \"B365H\"}, {\"dtype\": \"float\", \"name\": \"B365D\"}, {\"dtype\": \"float\", \"name\": \"B365A\"}, {\"dtype\": \"str\", \"name\": \"Output\"}, {\"dtype\": \"str\", \"name\": \"formation_h\"}, {\"dtype\": \"str\", \"name\": \"formation_a\"}], \"column_identifiers\": [\"match_api_id\", \"B365H\", \"league_id\", \"season\", \"home_team_api_id\", \"B365D\", \"country_id\", \"away_team_api_id\", \"B365A\", \"formation_a\", \"date\", \"Output\", \"formation_h\", \"stage\"]}, \"columns\": [{\"dtype\": \"int\", \"name\": \"country_id\"}, {\"dtype\": \"int\", \"name\": \"league_id\"}, {\"dtype\": \"int\", \"name\": \"season\"}, {\"dtype\": \"int\", \"name\": \"stage\"}, {\"dtype\": \"float\", \"name\": \"date\"}, {\"dtype\": \"int\", \"name\": \"match_api_id\"}, {\"dtype\": \"int\", \"name\": \"home_team_api_id\"}, {\"dtype\": \"int\", \"name\": \"away_team_api_id\"}, {\"dtype\": \"float\", \"name\": \"B365H\"}, {\"dtype\": \"float\", \"name\": \"B365D\"}, {\"dtype\": \"float\", \"name\": \"B365A\"}, {\"dtype\": \"str\", \"name\": \"Output\"}, {\"dtype\": \"str\", \"name\": \"formation_h\"}, {\"dtype\": \"str\", \"name\": \"formation_a\"}]}, e);\n",
       "                });\n",
       "            })();\n",
       "        "
      ]
     },
     "metadata": {},
     "output_type": "display_data"
    }
   ],
   "source": [
    "data = gl.SFrame(data)\n",
    "data.show()"
   ]
  },
  {
   "cell_type": "code",
   "execution_count": 29,
   "metadata": {
    "collapsed": false
   },
   "outputs": [
    {
     "data": {
      "text/html": [
       "<pre>Logistic regression:</pre>"
      ],
      "text/plain": [
       "Logistic regression:"
      ]
     },
     "metadata": {},
     "output_type": "display_data"
    },
    {
     "data": {
      "text/html": [
       "<pre>--------------------------------------------------------</pre>"
      ],
      "text/plain": [
       "--------------------------------------------------------"
      ]
     },
     "metadata": {},
     "output_type": "display_data"
    },
    {
     "data": {
      "text/html": [
       "<pre>Number of examples          : 12674</pre>"
      ],
      "text/plain": [
       "Number of examples          : 12674"
      ]
     },
     "metadata": {},
     "output_type": "display_data"
    },
    {
     "data": {
      "text/html": [
       "<pre>Number of classes           : 3</pre>"
      ],
      "text/plain": [
       "Number of classes           : 3"
      ]
     },
     "metadata": {},
     "output_type": "display_data"
    },
    {
     "data": {
      "text/html": [
       "<pre>Number of feature columns   : 13</pre>"
      ],
      "text/plain": [
       "Number of feature columns   : 13"
      ]
     },
     "metadata": {},
     "output_type": "display_data"
    },
    {
     "data": {
      "text/html": [
       "<pre>Number of unpacked features : 13</pre>"
      ],
      "text/plain": [
       "Number of unpacked features : 13"
      ]
     },
     "metadata": {},
     "output_type": "display_data"
    },
    {
     "data": {
      "text/html": [
       "<pre>Number of coefficients    : 96</pre>"
      ],
      "text/plain": [
       "Number of coefficients    : 96"
      ]
     },
     "metadata": {},
     "output_type": "display_data"
    },
    {
     "data": {
      "text/html": [
       "<pre>Starting Newton Method</pre>"
      ],
      "text/plain": [
       "Starting Newton Method"
      ]
     },
     "metadata": {},
     "output_type": "display_data"
    },
    {
     "data": {
      "text/html": [
       "<pre>--------------------------------------------------------</pre>"
      ],
      "text/plain": [
       "--------------------------------------------------------"
      ]
     },
     "metadata": {},
     "output_type": "display_data"
    },
    {
     "data": {
      "text/html": [
       "<pre>+-----------+----------+--------------+-------------------+---------------------+</pre>"
      ],
      "text/plain": [
       "+-----------+----------+--------------+-------------------+---------------------+"
      ]
     },
     "metadata": {},
     "output_type": "display_data"
    },
    {
     "data": {
      "text/html": [
       "<pre>| Iteration | Passes   | Elapsed Time | Training-accuracy | Validation-accuracy |</pre>"
      ],
      "text/plain": [
       "| Iteration | Passes   | Elapsed Time | Training-accuracy | Validation-accuracy |"
      ]
     },
     "metadata": {},
     "output_type": "display_data"
    },
    {
     "data": {
      "text/html": [
       "<pre>+-----------+----------+--------------+-------------------+---------------------+</pre>"
      ],
      "text/plain": [
       "+-----------+----------+--------------+-------------------+---------------------+"
      ]
     },
     "metadata": {},
     "output_type": "display_data"
    },
    {
     "data": {
      "text/html": [
       "<pre>| 1         | 2        | 0.089409     | 0.530614          | 0.526196            |</pre>"
      ],
      "text/plain": [
       "| 1         | 2        | 0.089409     | 0.530614          | 0.526196            |"
      ]
     },
     "metadata": {},
     "output_type": "display_data"
    },
    {
     "data": {
      "text/html": [
       "<pre>| 2         | 3        | 0.149522     | 0.534007          | 0.529450            |</pre>"
      ],
      "text/plain": [
       "| 2         | 3        | 0.149522     | 0.534007          | 0.529450            |"
      ]
     },
     "metadata": {},
     "output_type": "display_data"
    },
    {
     "data": {
      "text/html": [
       "<pre>| 3         | 4        | 0.209564     | 0.533139          | 0.530426            |</pre>"
      ],
      "text/plain": [
       "| 3         | 4        | 0.209564     | 0.533139          | 0.530426            |"
      ]
     },
     "metadata": {},
     "output_type": "display_data"
    },
    {
     "data": {
      "text/html": [
       "<pre>| 4         | 5        | 0.270951     | 0.533297          | 0.530101            |</pre>"
      ],
      "text/plain": [
       "| 4         | 5        | 0.270951     | 0.533297          | 0.530101            |"
      ]
     },
     "metadata": {},
     "output_type": "display_data"
    },
    {
     "data": {
      "text/html": [
       "<pre>| 5         | 6        | 0.332927     | 0.533297          | 0.530101            |</pre>"
      ],
      "text/plain": [
       "| 5         | 6        | 0.332927     | 0.533297          | 0.530101            |"
      ]
     },
     "metadata": {},
     "output_type": "display_data"
    },
    {
     "data": {
      "text/html": [
       "<pre>| 6         | 7        | 0.393710     | 0.533297          | 0.530101            |</pre>"
      ],
      "text/plain": [
       "| 6         | 7        | 0.393710     | 0.533297          | 0.530101            |"
      ]
     },
     "metadata": {},
     "output_type": "display_data"
    },
    {
     "data": {
      "text/html": [
       "<pre>+-----------+----------+--------------+-------------------+---------------------+</pre>"
      ],
      "text/plain": [
       "+-----------+----------+--------------+-------------------+---------------------+"
      ]
     },
     "metadata": {},
     "output_type": "display_data"
    }
   ],
   "source": [
    "train_data,test_data = data.random_split(.8, seed=0)\n",
    "train,valid=train_data.random_split(.8,seed=0)\n",
    "model = gl.logistic_classifier.create(train,target='Output',\n",
    "                                      features=['country_id','league_id','season','stage','date','match_api_id',\n",
    "                                                'home_team_api_id','away_team_api_id','B365H','B365D','B365A',\n",
    "                                                'formation_h','formation_a'], validation_set=valid)\n",
    "                                      \n",
    "                                      "
   ]
  },
  {
   "cell_type": "code",
   "execution_count": 30,
   "metadata": {
    "collapsed": false
   },
   "outputs": [
    {
     "data": {
      "text/html": [
       "<pre>SUCCESS: Optimal solution found.</pre>"
      ],
      "text/plain": [
       "SUCCESS: Optimal solution found."
      ]
     },
     "metadata": {},
     "output_type": "display_data"
    },
    {
     "data": {
      "text/html": [
       "<pre></pre>"
      ],
      "text/plain": []
     },
     "metadata": {},
     "output_type": "display_data"
    },
    {
     "data": {
      "text/plain": [
       "{'accuracy': 0.5315338697119127,\n",
       " 'auc': 0.6526445952145282,\n",
       " 'confusion_matrix': Columns:\n",
       " \ttarget_label\tstr\n",
       " \tpredicted_label\tstr\n",
       " \tcount\tint\n",
       " \n",
       " Rows: 9\n",
       " \n",
       " Data:\n",
       " +--------------+-----------------+-------+\n",
       " | target_label | predicted_label | count |\n",
       " +--------------+-----------------+-------+\n",
       " |      H       |        D        |   13  |\n",
       " |      A       |        D        |   15  |\n",
       " |      D       |        D        |   18  |\n",
       " |      H       |        H        |  1511 |\n",
       " |      D       |        H        |  708  |\n",
       " |      D       |        A        |  244  |\n",
       " |      H       |        A        |  228  |\n",
       " |      A       |        A        |  519  |\n",
       " |      A       |        H        |  597  |\n",
       " +--------------+-----------------+-------+\n",
       " [9 rows x 3 columns],\n",
       " 'f1_score': 0.39538430285888615,\n",
       " 'log_loss': 0.9864334331563913,\n",
       " 'precision': 0.4838648243862084,\n",
       " 'recall': 0.4466285216833064,\n",
       " 'roc_curve': Columns:\n",
       " \tthreshold\tfloat\n",
       " \tfpr\tfloat\n",
       " \ttpr\tfloat\n",
       " \tp\tint\n",
       " \tn\tint\n",
       " \tclass\tint\n",
       " \n",
       " Rows: 300003\n",
       " \n",
       " Data:\n",
       " +-----------+----------------+-----+------+------+-------+\n",
       " | threshold |      fpr       | tpr |  p   |  n   | class |\n",
       " +-----------+----------------+-----+------+------+-------+\n",
       " |    0.0    |      1.0       | 1.0 | 1131 | 2722 |   0   |\n",
       " |   1e-05   |      1.0       | 1.0 | 1131 | 2722 |   0   |\n",
       " |   2e-05   | 0.999632623071 | 1.0 | 1131 | 2722 |   0   |\n",
       " |   3e-05   | 0.999632623071 | 1.0 | 1131 | 2722 |   0   |\n",
       " |   4e-05   | 0.999632623071 | 1.0 | 1131 | 2722 |   0   |\n",
       " |   5e-05   | 0.999265246143 | 1.0 | 1131 | 2722 |   0   |\n",
       " |   6e-05   | 0.999265246143 | 1.0 | 1131 | 2722 |   0   |\n",
       " |   7e-05   | 0.999265246143 | 1.0 | 1131 | 2722 |   0   |\n",
       " |   8e-05   | 0.999265246143 | 1.0 | 1131 | 2722 |   0   |\n",
       " |   9e-05   | 0.999265246143 | 1.0 | 1131 | 2722 |   0   |\n",
       " +-----------+----------------+-----+------+------+-------+\n",
       " [300003 rows x 6 columns]\n",
       " Note: Only the head of the SFrame is printed.\n",
       " You can use print_rows(num_rows=m, num_columns=n) to print more rows and columns.}"
      ]
     },
     "execution_count": 30,
     "metadata": {},
     "output_type": "execute_result"
    }
   ],
   "source": [
    "model.evaluate(test_data)"
   ]
  },
  {
   "cell_type": "code",
   "execution_count": 31,
   "metadata": {
    "collapsed": false
   },
   "outputs": [
    {
     "data": {
      "text/plain": [
       "0.5315338697119127"
      ]
     },
     "execution_count": 31,
     "metadata": {},
     "output_type": "execute_result"
    }
   ],
   "source": [
    "pred = model.predict(test_data)\n",
    "(test_data['Output']==pred).sum()/(len(pred)*1.0)"
   ]
  },
  {
   "cell_type": "markdown",
   "metadata": {},
   "source": [
    "# Feature Engineering"
   ]
  },
  {
   "cell_type": "code",
   "execution_count": 40,
   "metadata": {
    "collapsed": false
   },
   "outputs": [
    {
     "data": {
      "text/html": [
       "<div>\n",
       "<table border=\"1\" class=\"dataframe\">\n",
       "  <thead>\n",
       "    <tr style=\"text-align: right;\">\n",
       "      <th></th>\n",
       "      <th>country_id</th>\n",
       "      <th>league_id</th>\n",
       "      <th>season</th>\n",
       "      <th>stage</th>\n",
       "      <th>date</th>\n",
       "      <th>match_api_id</th>\n",
       "      <th>home_team_api_id</th>\n",
       "      <th>away_team_api_id</th>\n",
       "      <th>B365H</th>\n",
       "      <th>B365D</th>\n",
       "      <th>B365A</th>\n",
       "      <th>Output</th>\n",
       "      <th>formation_h</th>\n",
       "      <th>formation_a</th>\n",
       "    </tr>\n",
       "  </thead>\n",
       "  <tbody>\n",
       "    <tr>\n",
       "      <th>0</th>\n",
       "      <td>1</td>\n",
       "      <td>1</td>\n",
       "      <td>0</td>\n",
       "      <td>24</td>\n",
       "      <td>0.0</td>\n",
       "      <td>493017</td>\n",
       "      <td>8203</td>\n",
       "      <td>9987</td>\n",
       "      <td>3.00</td>\n",
       "      <td>3.40</td>\n",
       "      <td>2.30</td>\n",
       "      <td>H</td>\n",
       "      <td>4-4-2</td>\n",
       "      <td>4-4-2</td>\n",
       "    </tr>\n",
       "    <tr>\n",
       "      <th>1</th>\n",
       "      <td>1</td>\n",
       "      <td>1</td>\n",
       "      <td>0</td>\n",
       "      <td>25</td>\n",
       "      <td>9.0</td>\n",
       "      <td>493025</td>\n",
       "      <td>9984</td>\n",
       "      <td>8342</td>\n",
       "      <td>2.80</td>\n",
       "      <td>3.20</td>\n",
       "      <td>2.37</td>\n",
       "      <td>A</td>\n",
       "      <td>4-4-2</td>\n",
       "      <td>4-4-2</td>\n",
       "    </tr>\n",
       "    <tr>\n",
       "      <th>2</th>\n",
       "      <td>1</td>\n",
       "      <td>1</td>\n",
       "      <td>0</td>\n",
       "      <td>25</td>\n",
       "      <td>8.0</td>\n",
       "      <td>493027</td>\n",
       "      <td>8635</td>\n",
       "      <td>10000</td>\n",
       "      <td>1.40</td>\n",
       "      <td>4.50</td>\n",
       "      <td>8.00</td>\n",
       "      <td>H</td>\n",
       "      <td>4-4-2</td>\n",
       "      <td>4-4-2</td>\n",
       "    </tr>\n",
       "    <tr>\n",
       "      <th>3</th>\n",
       "      <td>1</td>\n",
       "      <td>1</td>\n",
       "      <td>0</td>\n",
       "      <td>26</td>\n",
       "      <td>14.0</td>\n",
       "      <td>493034</td>\n",
       "      <td>8203</td>\n",
       "      <td>8635</td>\n",
       "      <td>4.50</td>\n",
       "      <td>3.60</td>\n",
       "      <td>1.75</td>\n",
       "      <td>H</td>\n",
       "      <td>4-4-2</td>\n",
       "      <td>4-4-2</td>\n",
       "    </tr>\n",
       "    <tr>\n",
       "      <th>4</th>\n",
       "      <td>1</td>\n",
       "      <td>1</td>\n",
       "      <td>0</td>\n",
       "      <td>26</td>\n",
       "      <td>15.0</td>\n",
       "      <td>493040</td>\n",
       "      <td>10000</td>\n",
       "      <td>9999</td>\n",
       "      <td>1.75</td>\n",
       "      <td>3.50</td>\n",
       "      <td>4.75</td>\n",
       "      <td>D</td>\n",
       "      <td>4-4-2</td>\n",
       "      <td>4-4-2</td>\n",
       "    </tr>\n",
       "    <tr>\n",
       "      <th>5</th>\n",
       "      <td>1</td>\n",
       "      <td>1</td>\n",
       "      <td>0</td>\n",
       "      <td>27</td>\n",
       "      <td>23.0</td>\n",
       "      <td>493045</td>\n",
       "      <td>9991</td>\n",
       "      <td>10000</td>\n",
       "      <td>1.65</td>\n",
       "      <td>3.60</td>\n",
       "      <td>4.75</td>\n",
       "      <td>H</td>\n",
       "      <td>4-4-2</td>\n",
       "      <td>4-4-2</td>\n",
       "    </tr>\n",
       "    <tr>\n",
       "      <th>6</th>\n",
       "      <td>1</td>\n",
       "      <td>1</td>\n",
       "      <td>0</td>\n",
       "      <td>27</td>\n",
       "      <td>22.0</td>\n",
       "      <td>493048</td>\n",
       "      <td>9999</td>\n",
       "      <td>8203</td>\n",
       "      <td>2.20</td>\n",
       "      <td>3.30</td>\n",
       "      <td>3.00</td>\n",
       "      <td>H</td>\n",
       "      <td>4-4-2</td>\n",
       "      <td>4-4-2</td>\n",
       "    </tr>\n",
       "    <tr>\n",
       "      <th>7</th>\n",
       "      <td>1</td>\n",
       "      <td>1</td>\n",
       "      <td>0</td>\n",
       "      <td>29</td>\n",
       "      <td>44.0</td>\n",
       "      <td>493061</td>\n",
       "      <td>8635</td>\n",
       "      <td>8342</td>\n",
       "      <td>1.67</td>\n",
       "      <td>3.50</td>\n",
       "      <td>5.00</td>\n",
       "      <td>H</td>\n",
       "      <td>4-4-2</td>\n",
       "      <td>4-4-2</td>\n",
       "    </tr>\n",
       "    <tr>\n",
       "      <th>8</th>\n",
       "      <td>1</td>\n",
       "      <td>1</td>\n",
       "      <td>0</td>\n",
       "      <td>29</td>\n",
       "      <td>42.0</td>\n",
       "      <td>493062</td>\n",
       "      <td>9999</td>\n",
       "      <td>9987</td>\n",
       "      <td>3.20</td>\n",
       "      <td>3.25</td>\n",
       "      <td>2.25</td>\n",
       "      <td>H</td>\n",
       "      <td>4-4-2</td>\n",
       "      <td>4-4-2</td>\n",
       "    </tr>\n",
       "    <tr>\n",
       "      <th>9</th>\n",
       "      <td>1</td>\n",
       "      <td>1</td>\n",
       "      <td>0</td>\n",
       "      <td>31</td>\n",
       "      <td>58.0</td>\n",
       "      <td>493082</td>\n",
       "      <td>9999</td>\n",
       "      <td>9991</td>\n",
       "      <td>3.20</td>\n",
       "      <td>3.30</td>\n",
       "      <td>2.10</td>\n",
       "      <td>A</td>\n",
       "      <td>4-4-2</td>\n",
       "      <td>4-4-2</td>\n",
       "    </tr>\n",
       "    <tr>\n",
       "      <th>10</th>\n",
       "      <td>1</td>\n",
       "      <td>1</td>\n",
       "      <td>0</td>\n",
       "      <td>32</td>\n",
       "      <td>64.0</td>\n",
       "      <td>493089</td>\n",
       "      <td>10000</td>\n",
       "      <td>9985</td>\n",
       "      <td>5.50</td>\n",
       "      <td>3.60</td>\n",
       "      <td>1.57</td>\n",
       "      <td>D</td>\n",
       "      <td>4-4-2</td>\n",
       "      <td>4-4-2</td>\n",
       "    </tr>\n",
       "    <tr>\n",
       "      <th>11</th>\n",
       "      <td>1</td>\n",
       "      <td>1</td>\n",
       "      <td>0</td>\n",
       "      <td>32</td>\n",
       "      <td>64.0</td>\n",
       "      <td>493092</td>\n",
       "      <td>9991</td>\n",
       "      <td>9984</td>\n",
       "      <td>1.36</td>\n",
       "      <td>4.33</td>\n",
       "      <td>7.50</td>\n",
       "      <td>H</td>\n",
       "      <td>4-4-2</td>\n",
       "      <td>4-4-2</td>\n",
       "    </tr>\n",
       "    <tr>\n",
       "      <th>12</th>\n",
       "      <td>1</td>\n",
       "      <td>1</td>\n",
       "      <td>0</td>\n",
       "      <td>32</td>\n",
       "      <td>64.0</td>\n",
       "      <td>493094</td>\n",
       "      <td>10001</td>\n",
       "      <td>9999</td>\n",
       "      <td>1.57</td>\n",
       "      <td>3.60</td>\n",
       "      <td>5.50</td>\n",
       "      <td>H</td>\n",
       "      <td>4-4-2</td>\n",
       "      <td>4-4-2</td>\n",
       "    </tr>\n",
       "    <tr>\n",
       "      <th>13</th>\n",
       "      <td>1</td>\n",
       "      <td>1</td>\n",
       "      <td>0</td>\n",
       "      <td>33</td>\n",
       "      <td>71.0</td>\n",
       "      <td>493097</td>\n",
       "      <td>9985</td>\n",
       "      <td>8342</td>\n",
       "      <td>1.44</td>\n",
       "      <td>4.33</td>\n",
       "      <td>7.00</td>\n",
       "      <td>H</td>\n",
       "      <td>4-4-2</td>\n",
       "      <td>4-4-2</td>\n",
       "    </tr>\n",
       "    <tr>\n",
       "      <th>14</th>\n",
       "      <td>1</td>\n",
       "      <td>1</td>\n",
       "      <td>0</td>\n",
       "      <td>33</td>\n",
       "      <td>71.0</td>\n",
       "      <td>493103</td>\n",
       "      <td>8635</td>\n",
       "      <td>9999</td>\n",
       "      <td>1.14</td>\n",
       "      <td>7.50</td>\n",
       "      <td>19.00</td>\n",
       "      <td>H</td>\n",
       "      <td>4-4-2</td>\n",
       "      <td>4-4-2</td>\n",
       "    </tr>\n",
       "    <tr>\n",
       "      <th>15</th>\n",
       "      <td>1</td>\n",
       "      <td>1</td>\n",
       "      <td>0</td>\n",
       "      <td>33</td>\n",
       "      <td>71.0</td>\n",
       "      <td>493105</td>\n",
       "      <td>9984</td>\n",
       "      <td>10001</td>\n",
       "      <td>2.62</td>\n",
       "      <td>3.30</td>\n",
       "      <td>2.62</td>\n",
       "      <td>H</td>\n",
       "      <td>4-4-2</td>\n",
       "      <td>4-4-2</td>\n",
       "    </tr>\n",
       "    <tr>\n",
       "      <th>16</th>\n",
       "      <td>1</td>\n",
       "      <td>1</td>\n",
       "      <td>0</td>\n",
       "      <td>34</td>\n",
       "      <td>78.0</td>\n",
       "      <td>493106</td>\n",
       "      <td>9987</td>\n",
       "      <td>8635</td>\n",
       "      <td>8.00</td>\n",
       "      <td>4.00</td>\n",
       "      <td>1.40</td>\n",
       "      <td>A</td>\n",
       "      <td>4-4-2</td>\n",
       "      <td>4-4-2</td>\n",
       "    </tr>\n",
       "    <tr>\n",
       "      <th>17</th>\n",
       "      <td>1</td>\n",
       "      <td>1</td>\n",
       "      <td>0</td>\n",
       "      <td>34</td>\n",
       "      <td>78.0</td>\n",
       "      <td>493107</td>\n",
       "      <td>9991</td>\n",
       "      <td>9985</td>\n",
       "      <td>4.33</td>\n",
       "      <td>3.80</td>\n",
       "      <td>1.67</td>\n",
       "      <td>A</td>\n",
       "      <td>4-4-2</td>\n",
       "      <td>4-4-2</td>\n",
       "    </tr>\n",
       "    <tr>\n",
       "      <th>18</th>\n",
       "      <td>1</td>\n",
       "      <td>1</td>\n",
       "      <td>1</td>\n",
       "      <td>1</td>\n",
       "      <td>156.0</td>\n",
       "      <td>665321</td>\n",
       "      <td>9984</td>\n",
       "      <td>9991</td>\n",
       "      <td>2.88</td>\n",
       "      <td>3.30</td>\n",
       "      <td>2.25</td>\n",
       "      <td>A</td>\n",
       "      <td>4-4-2</td>\n",
       "      <td>4-4-2</td>\n",
       "    </tr>\n",
       "    <tr>\n",
       "      <th>19</th>\n",
       "      <td>1</td>\n",
       "      <td>1</td>\n",
       "      <td>1</td>\n",
       "      <td>1</td>\n",
       "      <td>155.0</td>\n",
       "      <td>665322</td>\n",
       "      <td>9994</td>\n",
       "      <td>10000</td>\n",
       "      <td>2.30</td>\n",
       "      <td>3.30</td>\n",
       "      <td>2.88</td>\n",
       "      <td>D</td>\n",
       "      <td>4-4-2</td>\n",
       "      <td>4-4-2</td>\n",
       "    </tr>\n",
       "    <tr>\n",
       "      <th>20</th>\n",
       "      <td>1</td>\n",
       "      <td>1</td>\n",
       "      <td>1</td>\n",
       "      <td>1</td>\n",
       "      <td>155.0</td>\n",
       "      <td>665323</td>\n",
       "      <td>8571</td>\n",
       "      <td>8635</td>\n",
       "      <td>5.75</td>\n",
       "      <td>3.60</td>\n",
       "      <td>1.57</td>\n",
       "      <td>A</td>\n",
       "      <td>4-4-2</td>\n",
       "      <td>4-4-2</td>\n",
       "    </tr>\n",
       "    <tr>\n",
       "      <th>21</th>\n",
       "      <td>1</td>\n",
       "      <td>1</td>\n",
       "      <td>1</td>\n",
       "      <td>10</td>\n",
       "      <td>219.0</td>\n",
       "      <td>665411</td>\n",
       "      <td>8342</td>\n",
       "      <td>8635</td>\n",
       "      <td>2.50</td>\n",
       "      <td>3.25</td>\n",
       "      <td>2.60</td>\n",
       "      <td>H</td>\n",
       "      <td>4-4-2</td>\n",
       "      <td>4-4-2</td>\n",
       "    </tr>\n",
       "    <tr>\n",
       "      <th>22</th>\n",
       "      <td>1</td>\n",
       "      <td>1</td>\n",
       "      <td>1</td>\n",
       "      <td>10</td>\n",
       "      <td>218.0</td>\n",
       "      <td>665417</td>\n",
       "      <td>8203</td>\n",
       "      <td>9994</td>\n",
       "      <td>1.91</td>\n",
       "      <td>3.30</td>\n",
       "      <td>4.20</td>\n",
       "      <td>H</td>\n",
       "      <td>4-4-2</td>\n",
       "      <td>4-4-2</td>\n",
       "    </tr>\n",
       "    <tr>\n",
       "      <th>23</th>\n",
       "      <td>1</td>\n",
       "      <td>1</td>\n",
       "      <td>1</td>\n",
       "      <td>10</td>\n",
       "      <td>218.0</td>\n",
       "      <td>665421</td>\n",
       "      <td>9993</td>\n",
       "      <td>10001</td>\n",
       "      <td>1.73</td>\n",
       "      <td>3.50</td>\n",
       "      <td>5.00</td>\n",
       "      <td>H</td>\n",
       "      <td>4-4-2</td>\n",
       "      <td>4-4-2</td>\n",
       "    </tr>\n",
       "    <tr>\n",
       "      <th>24</th>\n",
       "      <td>1</td>\n",
       "      <td>1</td>\n",
       "      <td>1</td>\n",
       "      <td>11</td>\n",
       "      <td>233.0</td>\n",
       "      <td>665425</td>\n",
       "      <td>8342</td>\n",
       "      <td>9991</td>\n",
       "      <td>1.70</td>\n",
       "      <td>3.40</td>\n",
       "      <td>4.75</td>\n",
       "      <td>H</td>\n",
       "      <td>4-4-2</td>\n",
       "      <td>4-4-2</td>\n",
       "    </tr>\n",
       "    <tr>\n",
       "      <th>25</th>\n",
       "      <td>1</td>\n",
       "      <td>1</td>\n",
       "      <td>1</td>\n",
       "      <td>11</td>\n",
       "      <td>233.0</td>\n",
       "      <td>665427</td>\n",
       "      <td>9987</td>\n",
       "      <td>8203</td>\n",
       "      <td>1.85</td>\n",
       "      <td>3.30</td>\n",
       "      <td>4.00</td>\n",
       "      <td>A</td>\n",
       "      <td>4-4-2</td>\n",
       "      <td>4-4-2</td>\n",
       "    </tr>\n",
       "    <tr>\n",
       "      <th>26</th>\n",
       "      <td>1</td>\n",
       "      <td>1</td>\n",
       "      <td>1</td>\n",
       "      <td>11</td>\n",
       "      <td>232.0</td>\n",
       "      <td>665429</td>\n",
       "      <td>10000</td>\n",
       "      <td>9993</td>\n",
       "      <td>1.91</td>\n",
       "      <td>3.30</td>\n",
       "      <td>3.80</td>\n",
       "      <td>H</td>\n",
       "      <td>4-4-2</td>\n",
       "      <td>4-4-2</td>\n",
       "    </tr>\n",
       "    <tr>\n",
       "      <th>27</th>\n",
       "      <td>1</td>\n",
       "      <td>1</td>\n",
       "      <td>1</td>\n",
       "      <td>11</td>\n",
       "      <td>232.0</td>\n",
       "      <td>665430</td>\n",
       "      <td>9994</td>\n",
       "      <td>9984</td>\n",
       "      <td>2.10</td>\n",
       "      <td>3.20</td>\n",
       "      <td>3.30</td>\n",
       "      <td>D</td>\n",
       "      <td>4-4-2</td>\n",
       "      <td>4-4-2</td>\n",
       "    </tr>\n",
       "    <tr>\n",
       "      <th>28</th>\n",
       "      <td>1</td>\n",
       "      <td>1</td>\n",
       "      <td>1</td>\n",
       "      <td>11</td>\n",
       "      <td>232.0</td>\n",
       "      <td>665435</td>\n",
       "      <td>10001</td>\n",
       "      <td>9985</td>\n",
       "      <td>5.50</td>\n",
       "      <td>3.50</td>\n",
       "      <td>1.60</td>\n",
       "      <td>H</td>\n",
       "      <td>4-4-2</td>\n",
       "      <td>4-4-2</td>\n",
       "    </tr>\n",
       "    <tr>\n",
       "      <th>29</th>\n",
       "      <td>1</td>\n",
       "      <td>1</td>\n",
       "      <td>1</td>\n",
       "      <td>12</td>\n",
       "      <td>239.0</td>\n",
       "      <td>665438</td>\n",
       "      <td>9985</td>\n",
       "      <td>10000</td>\n",
       "      <td>1.50</td>\n",
       "      <td>4.00</td>\n",
       "      <td>7.00</td>\n",
       "      <td>D</td>\n",
       "      <td>4-4-2</td>\n",
       "      <td>4-4-2</td>\n",
       "    </tr>\n",
       "    <tr>\n",
       "      <th>...</th>\n",
       "      <td>...</td>\n",
       "      <td>...</td>\n",
       "      <td>...</td>\n",
       "      <td>...</td>\n",
       "      <td>...</td>\n",
       "      <td>...</td>\n",
       "      <td>...</td>\n",
       "      <td>...</td>\n",
       "      <td>...</td>\n",
       "      <td>...</td>\n",
       "      <td>...</td>\n",
       "      <td>...</td>\n",
       "      <td>...</td>\n",
       "      <td>...</td>\n",
       "    </tr>\n",
       "    <tr>\n",
       "      <th>19570</th>\n",
       "      <td>21484</td>\n",
       "      <td>21484</td>\n",
       "      <td>7</td>\n",
       "      <td>6</td>\n",
       "      <td>2403.0</td>\n",
       "      <td>2030140</td>\n",
       "      <td>9783</td>\n",
       "      <td>8558</td>\n",
       "      <td>2.10</td>\n",
       "      <td>3.30</td>\n",
       "      <td>3.75</td>\n",
       "      <td>H</td>\n",
       "      <td>4-4-2</td>\n",
       "      <td>4-4-2</td>\n",
       "    </tr>\n",
       "    <tr>\n",
       "      <th>19571</th>\n",
       "      <td>21484</td>\n",
       "      <td>21484</td>\n",
       "      <td>7</td>\n",
       "      <td>6</td>\n",
       "      <td>2403.0</td>\n",
       "      <td>2030141</td>\n",
       "      <td>9869</td>\n",
       "      <td>8603</td>\n",
       "      <td>2.30</td>\n",
       "      <td>3.20</td>\n",
       "      <td>3.30</td>\n",
       "      <td>A</td>\n",
       "      <td>4-4-2</td>\n",
       "      <td>4-2-3-1</td>\n",
       "    </tr>\n",
       "    <tr>\n",
       "      <th>19572</th>\n",
       "      <td>21484</td>\n",
       "      <td>21484</td>\n",
       "      <td>7</td>\n",
       "      <td>7</td>\n",
       "      <td>2409.0</td>\n",
       "      <td>2030142</td>\n",
       "      <td>8302</td>\n",
       "      <td>8634</td>\n",
       "      <td>4.00</td>\n",
       "      <td>3.60</td>\n",
       "      <td>1.91</td>\n",
       "      <td>H</td>\n",
       "      <td>4-2-3-1</td>\n",
       "      <td>4-3-3</td>\n",
       "    </tr>\n",
       "    <tr>\n",
       "      <th>19573</th>\n",
       "      <td>21484</td>\n",
       "      <td>21484</td>\n",
       "      <td>7</td>\n",
       "      <td>7</td>\n",
       "      <td>2408.0</td>\n",
       "      <td>2030144</td>\n",
       "      <td>9910</td>\n",
       "      <td>8305</td>\n",
       "      <td>1.44</td>\n",
       "      <td>4.50</td>\n",
       "      <td>7.50</td>\n",
       "      <td>D</td>\n",
       "      <td>4-3-3</td>\n",
       "      <td>4-2-3-1</td>\n",
       "    </tr>\n",
       "    <tr>\n",
       "      <th>19574</th>\n",
       "      <td>21484</td>\n",
       "      <td>21484</td>\n",
       "      <td>7</td>\n",
       "      <td>7</td>\n",
       "      <td>2410.0</td>\n",
       "      <td>2030145</td>\n",
       "      <td>8581</td>\n",
       "      <td>10205</td>\n",
       "      <td>4.33</td>\n",
       "      <td>3.40</td>\n",
       "      <td>1.91</td>\n",
       "      <td>H</td>\n",
       "      <td>5-3-2</td>\n",
       "      <td>4-4-2</td>\n",
       "    </tr>\n",
       "    <tr>\n",
       "      <th>19575</th>\n",
       "      <td>21484</td>\n",
       "      <td>21484</td>\n",
       "      <td>7</td>\n",
       "      <td>7</td>\n",
       "      <td>2410.0</td>\n",
       "      <td>2030146</td>\n",
       "      <td>9906</td>\n",
       "      <td>8633</td>\n",
       "      <td>3.20</td>\n",
       "      <td>3.30</td>\n",
       "      <td>2.30</td>\n",
       "      <td>D</td>\n",
       "      <td>4-4-2</td>\n",
       "      <td>4-3-3</td>\n",
       "    </tr>\n",
       "    <tr>\n",
       "      <th>19576</th>\n",
       "      <td>21484</td>\n",
       "      <td>21484</td>\n",
       "      <td>7</td>\n",
       "      <td>7</td>\n",
       "      <td>2409.0</td>\n",
       "      <td>2030147</td>\n",
       "      <td>9864</td>\n",
       "      <td>8560</td>\n",
       "      <td>2.38</td>\n",
       "      <td>3.10</td>\n",
       "      <td>3.30</td>\n",
       "      <td>H</td>\n",
       "      <td>4-2-3-1</td>\n",
       "      <td>4-2-3-1</td>\n",
       "    </tr>\n",
       "    <tr>\n",
       "      <th>19577</th>\n",
       "      <td>21484</td>\n",
       "      <td>21484</td>\n",
       "      <td>7</td>\n",
       "      <td>7</td>\n",
       "      <td>2410.0</td>\n",
       "      <td>2030148</td>\n",
       "      <td>8315</td>\n",
       "      <td>10267</td>\n",
       "      <td>2.30</td>\n",
       "      <td>3.30</td>\n",
       "      <td>3.20</td>\n",
       "      <td>H</td>\n",
       "      <td>4-2-3-1</td>\n",
       "      <td>4-2-3-1</td>\n",
       "    </tr>\n",
       "    <tr>\n",
       "      <th>19578</th>\n",
       "      <td>21484</td>\n",
       "      <td>21484</td>\n",
       "      <td>7</td>\n",
       "      <td>7</td>\n",
       "      <td>2409.0</td>\n",
       "      <td>2030149</td>\n",
       "      <td>7878</td>\n",
       "      <td>9783</td>\n",
       "      <td>2.60</td>\n",
       "      <td>3.20</td>\n",
       "      <td>2.80</td>\n",
       "      <td>D</td>\n",
       "      <td>4-2-3-1</td>\n",
       "      <td>4-4-2</td>\n",
       "    </tr>\n",
       "    <tr>\n",
       "      <th>19579</th>\n",
       "      <td>21484</td>\n",
       "      <td>21484</td>\n",
       "      <td>7</td>\n",
       "      <td>7</td>\n",
       "      <td>2409.0</td>\n",
       "      <td>2030150</td>\n",
       "      <td>8558</td>\n",
       "      <td>9869</td>\n",
       "      <td>2.00</td>\n",
       "      <td>3.30</td>\n",
       "      <td>4.00</td>\n",
       "      <td>A</td>\n",
       "      <td>4-2-3-1</td>\n",
       "      <td>4-2-3-1</td>\n",
       "    </tr>\n",
       "    <tr>\n",
       "      <th>19580</th>\n",
       "      <td>21484</td>\n",
       "      <td>21484</td>\n",
       "      <td>7</td>\n",
       "      <td>7</td>\n",
       "      <td>2410.0</td>\n",
       "      <td>2030151</td>\n",
       "      <td>8370</td>\n",
       "      <td>8603</td>\n",
       "      <td>2.20</td>\n",
       "      <td>3.50</td>\n",
       "      <td>3.20</td>\n",
       "      <td>A</td>\n",
       "      <td>4-2-3-1</td>\n",
       "      <td>4-4-2</td>\n",
       "    </tr>\n",
       "    <tr>\n",
       "      <th>19581</th>\n",
       "      <td>21484</td>\n",
       "      <td>21484</td>\n",
       "      <td>7</td>\n",
       "      <td>8</td>\n",
       "      <td>2423.0</td>\n",
       "      <td>2030152</td>\n",
       "      <td>8634</td>\n",
       "      <td>8370</td>\n",
       "      <td>1.14</td>\n",
       "      <td>9.00</td>\n",
       "      <td>15.00</td>\n",
       "      <td>H</td>\n",
       "      <td>4-3-3</td>\n",
       "      <td>4-2-3-1</td>\n",
       "    </tr>\n",
       "    <tr>\n",
       "      <th>19582</th>\n",
       "      <td>21484</td>\n",
       "      <td>21484</td>\n",
       "      <td>7</td>\n",
       "      <td>8</td>\n",
       "      <td>2423.0</td>\n",
       "      <td>2030153</td>\n",
       "      <td>8372</td>\n",
       "      <td>8302</td>\n",
       "      <td>3.60</td>\n",
       "      <td>3.40</td>\n",
       "      <td>2.10</td>\n",
       "      <td>D</td>\n",
       "      <td>4-2-3-1</td>\n",
       "      <td>4-2-3-1</td>\n",
       "    </tr>\n",
       "    <tr>\n",
       "      <th>19583</th>\n",
       "      <td>21484</td>\n",
       "      <td>21484</td>\n",
       "      <td>7</td>\n",
       "      <td>8</td>\n",
       "      <td>2424.0</td>\n",
       "      <td>2030155</td>\n",
       "      <td>10205</td>\n",
       "      <td>9910</td>\n",
       "      <td>2.00</td>\n",
       "      <td>3.50</td>\n",
       "      <td>3.75</td>\n",
       "      <td>A</td>\n",
       "      <td>4-4-2</td>\n",
       "      <td>4-3-3</td>\n",
       "    </tr>\n",
       "    <tr>\n",
       "      <th>19584</th>\n",
       "      <td>21484</td>\n",
       "      <td>21484</td>\n",
       "      <td>7</td>\n",
       "      <td>8</td>\n",
       "      <td>2423.0</td>\n",
       "      <td>2030156</td>\n",
       "      <td>8633</td>\n",
       "      <td>8581</td>\n",
       "      <td>1.08</td>\n",
       "      <td>12.00</td>\n",
       "      <td>23.00</td>\n",
       "      <td>H</td>\n",
       "      <td>4-3-3</td>\n",
       "      <td>5-3-2</td>\n",
       "    </tr>\n",
       "    <tr>\n",
       "      <th>19585</th>\n",
       "      <td>21484</td>\n",
       "      <td>21484</td>\n",
       "      <td>7</td>\n",
       "      <td>8</td>\n",
       "      <td>2424.0</td>\n",
       "      <td>2030157</td>\n",
       "      <td>8560</td>\n",
       "      <td>9906</td>\n",
       "      <td>4.00</td>\n",
       "      <td>3.20</td>\n",
       "      <td>2.05</td>\n",
       "      <td>A</td>\n",
       "      <td>4-2-3-1</td>\n",
       "      <td>4-4-2</td>\n",
       "    </tr>\n",
       "    <tr>\n",
       "      <th>19586</th>\n",
       "      <td>21484</td>\n",
       "      <td>21484</td>\n",
       "      <td>7</td>\n",
       "      <td>8</td>\n",
       "      <td>2423.0</td>\n",
       "      <td>2030158</td>\n",
       "      <td>10267</td>\n",
       "      <td>9864</td>\n",
       "      <td>1.62</td>\n",
       "      <td>3.75</td>\n",
       "      <td>6.00</td>\n",
       "      <td>H</td>\n",
       "      <td>4-2-3-1</td>\n",
       "      <td>4-2-3-1</td>\n",
       "    </tr>\n",
       "    <tr>\n",
       "      <th>19587</th>\n",
       "      <td>21484</td>\n",
       "      <td>21484</td>\n",
       "      <td>7</td>\n",
       "      <td>8</td>\n",
       "      <td>2424.0</td>\n",
       "      <td>2030159</td>\n",
       "      <td>9783</td>\n",
       "      <td>8315</td>\n",
       "      <td>2.70</td>\n",
       "      <td>3.10</td>\n",
       "      <td>2.80</td>\n",
       "      <td>D</td>\n",
       "      <td>4-4-2</td>\n",
       "      <td>4-2-3-1</td>\n",
       "    </tr>\n",
       "    <tr>\n",
       "      <th>19588</th>\n",
       "      <td>21484</td>\n",
       "      <td>21484</td>\n",
       "      <td>7</td>\n",
       "      <td>8</td>\n",
       "      <td>2425.0</td>\n",
       "      <td>2030160</td>\n",
       "      <td>9869</td>\n",
       "      <td>7878</td>\n",
       "      <td>2.00</td>\n",
       "      <td>3.20</td>\n",
       "      <td>4.20</td>\n",
       "      <td>D</td>\n",
       "      <td>4-2-3-1</td>\n",
       "      <td>4-1-4-1</td>\n",
       "    </tr>\n",
       "    <tr>\n",
       "      <th>19589</th>\n",
       "      <td>21484</td>\n",
       "      <td>21484</td>\n",
       "      <td>7</td>\n",
       "      <td>8</td>\n",
       "      <td>2423.0</td>\n",
       "      <td>2030161</td>\n",
       "      <td>8603</td>\n",
       "      <td>8558</td>\n",
       "      <td>2.00</td>\n",
       "      <td>3.30</td>\n",
       "      <td>4.00</td>\n",
       "      <td>A</td>\n",
       "      <td>4-2-3-1</td>\n",
       "      <td>4-2-3-1</td>\n",
       "    </tr>\n",
       "    <tr>\n",
       "      <th>19590</th>\n",
       "      <td>21484</td>\n",
       "      <td>21484</td>\n",
       "      <td>7</td>\n",
       "      <td>9</td>\n",
       "      <td>2431.0</td>\n",
       "      <td>2030162</td>\n",
       "      <td>8634</td>\n",
       "      <td>8372</td>\n",
       "      <td>1.11</td>\n",
       "      <td>10.00</td>\n",
       "      <td>19.00</td>\n",
       "      <td>H</td>\n",
       "      <td>4-3-3</td>\n",
       "      <td>4-2-3-1</td>\n",
       "    </tr>\n",
       "    <tr>\n",
       "      <th>19591</th>\n",
       "      <td>21484</td>\n",
       "      <td>21484</td>\n",
       "      <td>7</td>\n",
       "      <td>9</td>\n",
       "      <td>2430.0</td>\n",
       "      <td>2030163</td>\n",
       "      <td>8302</td>\n",
       "      <td>8305</td>\n",
       "      <td>1.44</td>\n",
       "      <td>4.33</td>\n",
       "      <td>8.00</td>\n",
       "      <td>H</td>\n",
       "      <td>4-2-3-1</td>\n",
       "      <td>4-2-3-1</td>\n",
       "    </tr>\n",
       "    <tr>\n",
       "      <th>19592</th>\n",
       "      <td>21484</td>\n",
       "      <td>21484</td>\n",
       "      <td>7</td>\n",
       "      <td>9</td>\n",
       "      <td>2431.0</td>\n",
       "      <td>2030164</td>\n",
       "      <td>8306</td>\n",
       "      <td>10205</td>\n",
       "      <td>3.50</td>\n",
       "      <td>3.25</td>\n",
       "      <td>2.20</td>\n",
       "      <td>D</td>\n",
       "      <td>4-2-3-1</td>\n",
       "      <td>4-4-2</td>\n",
       "    </tr>\n",
       "    <tr>\n",
       "      <th>19593</th>\n",
       "      <td>21484</td>\n",
       "      <td>21484</td>\n",
       "      <td>7</td>\n",
       "      <td>9</td>\n",
       "      <td>2430.0</td>\n",
       "      <td>2030165</td>\n",
       "      <td>9910</td>\n",
       "      <td>8633</td>\n",
       "      <td>3.80</td>\n",
       "      <td>3.80</td>\n",
       "      <td>1.91</td>\n",
       "      <td>A</td>\n",
       "      <td>4-3-3</td>\n",
       "      <td>4-3-3</td>\n",
       "    </tr>\n",
       "    <tr>\n",
       "      <th>19594</th>\n",
       "      <td>21484</td>\n",
       "      <td>21484</td>\n",
       "      <td>7</td>\n",
       "      <td>9</td>\n",
       "      <td>2431.0</td>\n",
       "      <td>2030166</td>\n",
       "      <td>8581</td>\n",
       "      <td>8560</td>\n",
       "      <td>2.63</td>\n",
       "      <td>3.20</td>\n",
       "      <td>2.80</td>\n",
       "      <td>A</td>\n",
       "      <td>5-3-2</td>\n",
       "      <td>4-2-3-1</td>\n",
       "    </tr>\n",
       "    <tr>\n",
       "      <th>19595</th>\n",
       "      <td>21484</td>\n",
       "      <td>21484</td>\n",
       "      <td>7</td>\n",
       "      <td>9</td>\n",
       "      <td>2431.0</td>\n",
       "      <td>2030167</td>\n",
       "      <td>9906</td>\n",
       "      <td>10267</td>\n",
       "      <td>1.57</td>\n",
       "      <td>3.80</td>\n",
       "      <td>6.50</td>\n",
       "      <td>H</td>\n",
       "      <td>4-3-3</td>\n",
       "      <td>4-4-2</td>\n",
       "    </tr>\n",
       "    <tr>\n",
       "      <th>19596</th>\n",
       "      <td>21484</td>\n",
       "      <td>21484</td>\n",
       "      <td>7</td>\n",
       "      <td>9</td>\n",
       "      <td>2430.0</td>\n",
       "      <td>2030168</td>\n",
       "      <td>9864</td>\n",
       "      <td>9783</td>\n",
       "      <td>2.25</td>\n",
       "      <td>3.25</td>\n",
       "      <td>3.40</td>\n",
       "      <td>H</td>\n",
       "      <td>4-2-3-1</td>\n",
       "      <td>4-4-2</td>\n",
       "    </tr>\n",
       "    <tr>\n",
       "      <th>19597</th>\n",
       "      <td>21484</td>\n",
       "      <td>21484</td>\n",
       "      <td>7</td>\n",
       "      <td>9</td>\n",
       "      <td>2432.0</td>\n",
       "      <td>2030169</td>\n",
       "      <td>8315</td>\n",
       "      <td>9869</td>\n",
       "      <td>1.53</td>\n",
       "      <td>4.00</td>\n",
       "      <td>7.00</td>\n",
       "      <td>H</td>\n",
       "      <td>4-2-3-1</td>\n",
       "      <td>4-3-3</td>\n",
       "    </tr>\n",
       "    <tr>\n",
       "      <th>19598</th>\n",
       "      <td>21484</td>\n",
       "      <td>21484</td>\n",
       "      <td>7</td>\n",
       "      <td>9</td>\n",
       "      <td>2430.0</td>\n",
       "      <td>2030170</td>\n",
       "      <td>7878</td>\n",
       "      <td>8603</td>\n",
       "      <td>2.30</td>\n",
       "      <td>3.25</td>\n",
       "      <td>3.25</td>\n",
       "      <td>D</td>\n",
       "      <td>4-3-3</td>\n",
       "      <td>4-4-2</td>\n",
       "    </tr>\n",
       "    <tr>\n",
       "      <th>19599</th>\n",
       "      <td>21484</td>\n",
       "      <td>21484</td>\n",
       "      <td>7</td>\n",
       "      <td>9</td>\n",
       "      <td>2429.0</td>\n",
       "      <td>2030171</td>\n",
       "      <td>8370</td>\n",
       "      <td>8558</td>\n",
       "      <td>2.20</td>\n",
       "      <td>3.40</td>\n",
       "      <td>3.20</td>\n",
       "      <td>H</td>\n",
       "      <td>4-2-3-1</td>\n",
       "      <td>4-2-3-1</td>\n",
       "    </tr>\n",
       "  </tbody>\n",
       "</table>\n",
       "<p>19600 rows × 14 columns</p>\n",
       "</div>"
      ],
      "text/plain": [
       "       country_id  league_id  season  stage    date  match_api_id  \\\n",
       "0               1          1       0     24     0.0        493017   \n",
       "1               1          1       0     25     9.0        493025   \n",
       "2               1          1       0     25     8.0        493027   \n",
       "3               1          1       0     26    14.0        493034   \n",
       "4               1          1       0     26    15.0        493040   \n",
       "5               1          1       0     27    23.0        493045   \n",
       "6               1          1       0     27    22.0        493048   \n",
       "7               1          1       0     29    44.0        493061   \n",
       "8               1          1       0     29    42.0        493062   \n",
       "9               1          1       0     31    58.0        493082   \n",
       "10              1          1       0     32    64.0        493089   \n",
       "11              1          1       0     32    64.0        493092   \n",
       "12              1          1       0     32    64.0        493094   \n",
       "13              1          1       0     33    71.0        493097   \n",
       "14              1          1       0     33    71.0        493103   \n",
       "15              1          1       0     33    71.0        493105   \n",
       "16              1          1       0     34    78.0        493106   \n",
       "17              1          1       0     34    78.0        493107   \n",
       "18              1          1       1      1   156.0        665321   \n",
       "19              1          1       1      1   155.0        665322   \n",
       "20              1          1       1      1   155.0        665323   \n",
       "21              1          1       1     10   219.0        665411   \n",
       "22              1          1       1     10   218.0        665417   \n",
       "23              1          1       1     10   218.0        665421   \n",
       "24              1          1       1     11   233.0        665425   \n",
       "25              1          1       1     11   233.0        665427   \n",
       "26              1          1       1     11   232.0        665429   \n",
       "27              1          1       1     11   232.0        665430   \n",
       "28              1          1       1     11   232.0        665435   \n",
       "29              1          1       1     12   239.0        665438   \n",
       "...           ...        ...     ...    ...     ...           ...   \n",
       "19570       21484      21484       7      6  2403.0       2030140   \n",
       "19571       21484      21484       7      6  2403.0       2030141   \n",
       "19572       21484      21484       7      7  2409.0       2030142   \n",
       "19573       21484      21484       7      7  2408.0       2030144   \n",
       "19574       21484      21484       7      7  2410.0       2030145   \n",
       "19575       21484      21484       7      7  2410.0       2030146   \n",
       "19576       21484      21484       7      7  2409.0       2030147   \n",
       "19577       21484      21484       7      7  2410.0       2030148   \n",
       "19578       21484      21484       7      7  2409.0       2030149   \n",
       "19579       21484      21484       7      7  2409.0       2030150   \n",
       "19580       21484      21484       7      7  2410.0       2030151   \n",
       "19581       21484      21484       7      8  2423.0       2030152   \n",
       "19582       21484      21484       7      8  2423.0       2030153   \n",
       "19583       21484      21484       7      8  2424.0       2030155   \n",
       "19584       21484      21484       7      8  2423.0       2030156   \n",
       "19585       21484      21484       7      8  2424.0       2030157   \n",
       "19586       21484      21484       7      8  2423.0       2030158   \n",
       "19587       21484      21484       7      8  2424.0       2030159   \n",
       "19588       21484      21484       7      8  2425.0       2030160   \n",
       "19589       21484      21484       7      8  2423.0       2030161   \n",
       "19590       21484      21484       7      9  2431.0       2030162   \n",
       "19591       21484      21484       7      9  2430.0       2030163   \n",
       "19592       21484      21484       7      9  2431.0       2030164   \n",
       "19593       21484      21484       7      9  2430.0       2030165   \n",
       "19594       21484      21484       7      9  2431.0       2030166   \n",
       "19595       21484      21484       7      9  2431.0       2030167   \n",
       "19596       21484      21484       7      9  2430.0       2030168   \n",
       "19597       21484      21484       7      9  2432.0       2030169   \n",
       "19598       21484      21484       7      9  2430.0       2030170   \n",
       "19599       21484      21484       7      9  2429.0       2030171   \n",
       "\n",
       "       home_team_api_id  away_team_api_id  B365H  B365D  B365A Output  \\\n",
       "0                  8203              9987   3.00   3.40   2.30      H   \n",
       "1                  9984              8342   2.80   3.20   2.37      A   \n",
       "2                  8635             10000   1.40   4.50   8.00      H   \n",
       "3                  8203              8635   4.50   3.60   1.75      H   \n",
       "4                 10000              9999   1.75   3.50   4.75      D   \n",
       "5                  9991             10000   1.65   3.60   4.75      H   \n",
       "6                  9999              8203   2.20   3.30   3.00      H   \n",
       "7                  8635              8342   1.67   3.50   5.00      H   \n",
       "8                  9999              9987   3.20   3.25   2.25      H   \n",
       "9                  9999              9991   3.20   3.30   2.10      A   \n",
       "10                10000              9985   5.50   3.60   1.57      D   \n",
       "11                 9991              9984   1.36   4.33   7.50      H   \n",
       "12                10001              9999   1.57   3.60   5.50      H   \n",
       "13                 9985              8342   1.44   4.33   7.00      H   \n",
       "14                 8635              9999   1.14   7.50  19.00      H   \n",
       "15                 9984             10001   2.62   3.30   2.62      H   \n",
       "16                 9987              8635   8.00   4.00   1.40      A   \n",
       "17                 9991              9985   4.33   3.80   1.67      A   \n",
       "18                 9984              9991   2.88   3.30   2.25      A   \n",
       "19                 9994             10000   2.30   3.30   2.88      D   \n",
       "20                 8571              8635   5.75   3.60   1.57      A   \n",
       "21                 8342              8635   2.50   3.25   2.60      H   \n",
       "22                 8203              9994   1.91   3.30   4.20      H   \n",
       "23                 9993             10001   1.73   3.50   5.00      H   \n",
       "24                 8342              9991   1.70   3.40   4.75      H   \n",
       "25                 9987              8203   1.85   3.30   4.00      A   \n",
       "26                10000              9993   1.91   3.30   3.80      H   \n",
       "27                 9994              9984   2.10   3.20   3.30      D   \n",
       "28                10001              9985   5.50   3.50   1.60      H   \n",
       "29                 9985             10000   1.50   4.00   7.00      D   \n",
       "...                 ...               ...    ...    ...    ...    ...   \n",
       "19570              9783              8558   2.10   3.30   3.75      H   \n",
       "19571              9869              8603   2.30   3.20   3.30      A   \n",
       "19572              8302              8634   4.00   3.60   1.91      H   \n",
       "19573              9910              8305   1.44   4.50   7.50      D   \n",
       "19574              8581             10205   4.33   3.40   1.91      H   \n",
       "19575              9906              8633   3.20   3.30   2.30      D   \n",
       "19576              9864              8560   2.38   3.10   3.30      H   \n",
       "19577              8315             10267   2.30   3.30   3.20      H   \n",
       "19578              7878              9783   2.60   3.20   2.80      D   \n",
       "19579              8558              9869   2.00   3.30   4.00      A   \n",
       "19580              8370              8603   2.20   3.50   3.20      A   \n",
       "19581              8634              8370   1.14   9.00  15.00      H   \n",
       "19582              8372              8302   3.60   3.40   2.10      D   \n",
       "19583             10205              9910   2.00   3.50   3.75      A   \n",
       "19584              8633              8581   1.08  12.00  23.00      H   \n",
       "19585              8560              9906   4.00   3.20   2.05      A   \n",
       "19586             10267              9864   1.62   3.75   6.00      H   \n",
       "19587              9783              8315   2.70   3.10   2.80      D   \n",
       "19588              9869              7878   2.00   3.20   4.20      D   \n",
       "19589              8603              8558   2.00   3.30   4.00      A   \n",
       "19590              8634              8372   1.11  10.00  19.00      H   \n",
       "19591              8302              8305   1.44   4.33   8.00      H   \n",
       "19592              8306             10205   3.50   3.25   2.20      D   \n",
       "19593              9910              8633   3.80   3.80   1.91      A   \n",
       "19594              8581              8560   2.63   3.20   2.80      A   \n",
       "19595              9906             10267   1.57   3.80   6.50      H   \n",
       "19596              9864              9783   2.25   3.25   3.40      H   \n",
       "19597              8315              9869   1.53   4.00   7.00      H   \n",
       "19598              7878              8603   2.30   3.25   3.25      D   \n",
       "19599              8370              8558   2.20   3.40   3.20      H   \n",
       "\n",
       "      formation_h formation_a  \n",
       "0           4-4-2       4-4-2  \n",
       "1           4-4-2       4-4-2  \n",
       "2           4-4-2       4-4-2  \n",
       "3           4-4-2       4-4-2  \n",
       "4           4-4-2       4-4-2  \n",
       "5           4-4-2       4-4-2  \n",
       "6           4-4-2       4-4-2  \n",
       "7           4-4-2       4-4-2  \n",
       "8           4-4-2       4-4-2  \n",
       "9           4-4-2       4-4-2  \n",
       "10          4-4-2       4-4-2  \n",
       "11          4-4-2       4-4-2  \n",
       "12          4-4-2       4-4-2  \n",
       "13          4-4-2       4-4-2  \n",
       "14          4-4-2       4-4-2  \n",
       "15          4-4-2       4-4-2  \n",
       "16          4-4-2       4-4-2  \n",
       "17          4-4-2       4-4-2  \n",
       "18          4-4-2       4-4-2  \n",
       "19          4-4-2       4-4-2  \n",
       "20          4-4-2       4-4-2  \n",
       "21          4-4-2       4-4-2  \n",
       "22          4-4-2       4-4-2  \n",
       "23          4-4-2       4-4-2  \n",
       "24          4-4-2       4-4-2  \n",
       "25          4-4-2       4-4-2  \n",
       "26          4-4-2       4-4-2  \n",
       "27          4-4-2       4-4-2  \n",
       "28          4-4-2       4-4-2  \n",
       "29          4-4-2       4-4-2  \n",
       "...           ...         ...  \n",
       "19570       4-4-2       4-4-2  \n",
       "19571       4-4-2     4-2-3-1  \n",
       "19572     4-2-3-1       4-3-3  \n",
       "19573       4-3-3     4-2-3-1  \n",
       "19574       5-3-2       4-4-2  \n",
       "19575       4-4-2       4-3-3  \n",
       "19576     4-2-3-1     4-2-3-1  \n",
       "19577     4-2-3-1     4-2-3-1  \n",
       "19578     4-2-3-1       4-4-2  \n",
       "19579     4-2-3-1     4-2-3-1  \n",
       "19580     4-2-3-1       4-4-2  \n",
       "19581       4-3-3     4-2-3-1  \n",
       "19582     4-2-3-1     4-2-3-1  \n",
       "19583       4-4-2       4-3-3  \n",
       "19584       4-3-3       5-3-2  \n",
       "19585     4-2-3-1       4-4-2  \n",
       "19586     4-2-3-1     4-2-3-1  \n",
       "19587       4-4-2     4-2-3-1  \n",
       "19588     4-2-3-1     4-1-4-1  \n",
       "19589     4-2-3-1     4-2-3-1  \n",
       "19590       4-3-3     4-2-3-1  \n",
       "19591     4-2-3-1     4-2-3-1  \n",
       "19592     4-2-3-1       4-4-2  \n",
       "19593       4-3-3       4-3-3  \n",
       "19594       5-3-2     4-2-3-1  \n",
       "19595       4-3-3       4-4-2  \n",
       "19596     4-2-3-1       4-4-2  \n",
       "19597     4-2-3-1       4-3-3  \n",
       "19598       4-3-3       4-4-2  \n",
       "19599     4-2-3-1     4-2-3-1  \n",
       "\n",
       "[19600 rows x 14 columns]"
      ]
     },
     "execution_count": 40,
     "metadata": {},
     "output_type": "execute_result"
    }
   ],
   "source": [
    "def ExtractGoalTendency(values):\n",
    "    #data = values.to_dataframe()\n",
    "    values.sort_values(by=['league_id','season','stage'])\n",
    "    return values\n",
    "    \n",
    "    \n",
    "    \n",
    "\n",
    "data_goals = ExtractGoalTendency(data.to_dataframe())\n",
    "data_goals"
   ]
  }
 ],
 "metadata": {
  "anaconda-cloud": {},
  "kernelspec": {
   "display_name": "Python [conda env:gl-env]",
   "language": "python",
   "name": "conda-env-gl-env-py"
  },
  "language_info": {
   "codemirror_mode": {
    "name": "ipython",
    "version": 2
   },
   "file_extension": ".py",
   "mimetype": "text/x-python",
   "name": "python",
   "nbconvert_exporter": "python",
   "pygments_lexer": "ipython2",
   "version": "2.7.12"
  }
 },
 "nbformat": 4,
 "nbformat_minor": 1
}
